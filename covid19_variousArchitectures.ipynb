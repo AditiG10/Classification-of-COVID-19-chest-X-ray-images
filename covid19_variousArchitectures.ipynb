{
  "nbformat": 4,
  "nbformat_minor": 0,
  "metadata": {
    "colab": {
      "name": "covid19_variousArchitectures.ipynb",
      "provenance": [],
      "collapsed_sections": [],
      "authorship_tag": "ABX9TyP1+6SWWOtP6BIfn756jR7M",
      "include_colab_link": true
    },
    "kernelspec": {
      "name": "python3",
      "display_name": "Python 3"
    }
  },
  "cells": [
    {
      "cell_type": "markdown",
      "metadata": {
        "id": "view-in-github",
        "colab_type": "text"
      },
      "source": [
        "<a href=\"https://colab.research.google.com/github/AditiG10/Classification-of-COVID-19-chest-X-ray-images/blob/master/covid19_variousArchitectures.ipynb\" target=\"_parent\"><img src=\"https://colab.research.google.com/assets/colab-badge.svg\" alt=\"Open In Colab\"/></a>"
      ]
    },
    {
      "cell_type": "code",
      "metadata": {
        "id": "NPJ1XQDoaiGy",
        "colab_type": "code",
        "colab": {}
      },
      "source": [
        "# import the necessary packages\n",
        "from tensorflow.keras.preprocessing.image import ImageDataGenerator\n",
        "from tensorflow.keras.applications import VGG16\n",
        "from tensorflow.keras.layers import AveragePooling2D\n",
        "from tensorflow.keras.layers import Dropout\n",
        "from tensorflow.keras.layers import Flatten\n",
        "from tensorflow.keras.layers import Dense\n",
        "from tensorflow.keras.layers import Input\n",
        "from tensorflow.keras.models import Model\n",
        "from tensorflow.keras.optimizers import Adam\n",
        "from tensorflow.keras.utils import to_categorical\n",
        "from sklearn.preprocessing import LabelBinarizer\n",
        "from sklearn.model_selection import train_test_split\n",
        "from sklearn.metrics import classification_report\n",
        "from sklearn.metrics import confusion_matrix\n",
        "from imutils import paths\n",
        "import matplotlib.pyplot as plt\n",
        "import numpy as np\n",
        "import argparse\n",
        "import cv2\n",
        "import os\n",
        "from keras.applications.resnet50 import ResNet50\n",
        "from keras.preprocessing import image\n",
        "from keras.applications.resnet50 import preprocess_input, decode_predictions\n",
        "import numpy as np\n"
      ],
      "execution_count": 25,
      "outputs": []
    },
    {
      "cell_type": "code",
      "metadata": {
        "id": "mutQd94iascM",
        "colab_type": "code",
        "colab": {}
      },
      "source": [
        "import os\n",
        "import numpy as np\n",
        "import pandas as pd\n",
        "import seaborn as sns\n",
        "import matplotlib.pyplot as plt\n",
        "import matplotlib.image as mpimg\n",
        "import seaborn as sns\n",
        "from PIL import Image\n",
        "from tensorflow.keras.preprocessing import image\n",
        "from tensorflow.keras.preprocessing.image import load_img, img_to_array\n",
        "from tensorflow.keras.applications.vgg16 import preprocess_input\n",
        "from tensorflow.keras.utils import to_categorical\n",
        "from tensorflow.keras.callbacks import ModelCheckpoint, EarlyStopping\n",
        "from tensorflow.keras.models import Sequential\n",
        "from tensorflow.keras.layers import Dense, Dropout, BatchNormalization, Conv2D, MaxPool2D, Flatten\n",
        "from sklearn.metrics import classification_report, confusion_matrix, accuracy_score"
      ],
      "execution_count": 26,
      "outputs": []
    },
    {
      "cell_type": "code",
      "metadata": {
        "id": "25WvEq0javWE",
        "colab_type": "code",
        "colab": {
          "base_uri": "https://localhost:8080/",
          "height": 162
        },
        "outputId": "873cffd1-2a3f-4767-d4ff-812e45fb4a9c"
      },
      "source": [
        "!git clone https://github.com/vaibhavG321/Classification-of-COVID-19-chest-X-ray-images"
      ],
      "execution_count": 27,
      "outputs": [
        {
          "output_type": "stream",
          "text": [
            "Cloning into 'Classification-of-COVID-19-chest-X-ray-images'...\n",
            "remote: Enumerating objects: 8, done.\u001b[K\n",
            "remote: Counting objects:  12% (1/8)\u001b[K\rremote: Counting objects:  25% (2/8)\u001b[K\rremote: Counting objects:  37% (3/8)\u001b[K\rremote: Counting objects:  50% (4/8)\u001b[K\rremote: Counting objects:  62% (5/8)\u001b[K\rremote: Counting objects:  75% (6/8)\u001b[K\rremote: Counting objects:  87% (7/8)\u001b[K\rremote: Counting objects: 100% (8/8)\u001b[K\rremote: Counting objects: 100% (8/8), done.\u001b[K\n",
            "remote: Compressing objects: 100% (8/8), done.\u001b[K\n",
            "remote: Total 664 (delta 1), reused 2 (delta 0), pack-reused 656\u001b[K\n",
            "Receiving objects: 100% (664/664), 222.69 MiB | 35.61 MiB/s, done.\n",
            "Resolving deltas: 100% (29/29), done.\n",
            "Checking out files: 100% (698/698), done.\n"
          ],
          "name": "stdout"
        }
      ]
    },
    {
      "cell_type": "code",
      "metadata": {
        "id": "i8UMNvw3axRL",
        "colab_type": "code",
        "colab": {
          "base_uri": "https://localhost:8080/",
          "height": 35
        },
        "outputId": "13564360-aeaf-4f43-9ad1-2a31ddd17f8b"
      },
      "source": [
        "cd Classification-of-COVID-19-chest-X-ray-images "
      ],
      "execution_count": 28,
      "outputs": [
        {
          "output_type": "stream",
          "text": [
            "/content/Classification-of-COVID-19-chest-X-ray-images/dataset/training/Classification-of-COVID-19-chest-X-ray-images\n"
          ],
          "name": "stdout"
        }
      ]
    },
    {
      "cell_type": "code",
      "metadata": {
        "id": "h6j25RrIa00b",
        "colab_type": "code",
        "colab": {
          "base_uri": "https://localhost:8080/",
          "height": 35
        },
        "outputId": "88e7f388-ef0f-4834-b0a3-08c1d36a5698"
      },
      "source": [
        "cd dataset"
      ],
      "execution_count": 29,
      "outputs": [
        {
          "output_type": "stream",
          "text": [
            "/content/Classification-of-COVID-19-chest-X-ray-images/dataset/training/Classification-of-COVID-19-chest-X-ray-images/dataset\n"
          ],
          "name": "stdout"
        }
      ]
    },
    {
      "cell_type": "code",
      "metadata": {
        "id": "6PSuvf2ja4rA",
        "colab_type": "code",
        "colab": {
          "base_uri": "https://localhost:8080/",
          "height": 35
        },
        "outputId": "328f06f0-ffd7-4992-d33a-e31a7b6d50ed"
      },
      "source": [
        "cd training"
      ],
      "execution_count": 30,
      "outputs": [
        {
          "output_type": "stream",
          "text": [
            "/content/Classification-of-COVID-19-chest-X-ray-images/dataset/training/Classification-of-COVID-19-chest-X-ray-images/dataset/training\n"
          ],
          "name": "stdout"
        }
      ]
    },
    {
      "cell_type": "code",
      "metadata": {
        "id": "IOu1jAMva6w9",
        "colab_type": "code",
        "colab": {
          "base_uri": "https://localhost:8080/",
          "height": 35
        },
        "outputId": "e870a185-b6fa-4c18-ca52-ddbcfdc4c71d"
      },
      "source": [
        "!ls"
      ],
      "execution_count": 31,
      "outputs": [
        {
          "output_type": "stream",
          "text": [
            "infected  normal\n"
          ],
          "name": "stdout"
        }
      ]
    },
    {
      "cell_type": "code",
      "metadata": {
        "id": "hJHmhk6Ca7lU",
        "colab_type": "code",
        "colab": {}
      },
      "source": [
        "train_normal_path='/content/Classification-of-COVID-19-chest-X-ray-images/dataset/training/normal'\n",
        "train_infected_path='/content/Classification-of-COVID-19-chest-X-ray-images/dataset/training/infected'\n",
        "test_normal_path='/content/Classification-of-COVID-19-chest-X-ray-images/dataset/testing/normal'\n",
        "test_infected_path='/content/Classification-of-COVID-19-chest-X-ray-images/dataset/testing/infected'\n",
        "evaluate_normal_path='/content/Classification-of-COVID-19-chest-X-ray-images/dataset/evaluation/normal'\n",
        "evaluate_infected_path='/content/Classification-of-COVID-19-chest-X-ray-images/dataset/evaluation/infected'"
      ],
      "execution_count": 32,
      "outputs": []
    },
    {
      "cell_type": "code",
      "metadata": {
        "id": "rBXx-1LQa-ej",
        "colab_type": "code",
        "colab": {
          "base_uri": "https://localhost:8080/",
          "height": 126
        },
        "outputId": "a859b674-9359-4697-bb75-1b9f533aa2d1"
      },
      "source": [
        "print('train_normal cases ',len(os.listdir('/content/Classification-of-COVID-19-chest-X-ray-images/dataset/training/normal')))\n",
        "print('train_infected cases ',len(os.listdir('/content/Classification-of-COVID-19-chest-X-ray-images/dataset/training/infected')))\n",
        "print('test_normal cases ',len(os.listdir('/content/Classification-of-COVID-19-chest-X-ray-images/dataset/testing/normal')))\n",
        "print('test_infected cases ',len(os.listdir('/content/Classification-of-COVID-19-chest-X-ray-images/dataset/testing/infected')))\n",
        "print('evaluate_normal cases ',len(os.listdir('/content/Classification-of-COVID-19-chest-X-ray-images/dataset/evaluation/normal')))\n",
        "print('evaluate_infected cases ',len(os.listdir('/content/Classification-of-COVID-19-chest-X-ray-images/dataset/evaluation/infected')))"
      ],
      "execution_count": 33,
      "outputs": [
        {
          "output_type": "stream",
          "text": [
            "train_normal cases  297\n",
            "train_infected cases  296\n",
            "test_normal cases  69\n",
            "test_infected cases  25\n",
            "evaluate_normal cases  1\n",
            "evaluate_infected cases  1\n"
          ],
          "name": "stdout"
        }
      ]
    },
    {
      "cell_type": "code",
      "metadata": {
        "id": "ES48QyxJbB6D",
        "colab_type": "code",
        "colab": {}
      },
      "source": [
        "IMAGE_SIZE = (224,224)\n",
        "DIR_NAME = '/content/Classification-of-COVID-19-chest-X-ray-images/dataset/'\n",
        "IMAGE_DIR = DIR_NAME + 'normal/'\n",
        "imagePaths=[]\n",
        "for dirname, _, filenames in os.walk(DIR_NAME):\n",
        "    for filename in filenames:\n",
        "      imagePaths.append(os.path.join(dirname, filename))"
      ],
      "execution_count": 34,
      "outputs": []
    },
    {
      "cell_type": "code",
      "metadata": {
        "id": "aJVuCpy5bD8X",
        "colab_type": "code",
        "colab": {
          "base_uri": "https://localhost:8080/",
          "height": 1000
        },
        "outputId": "20685b4f-2f1c-43f5-a50e-1facf16c0ec9"
      },
      "source": [
        "imagePaths"
      ],
      "execution_count": 35,
      "outputs": [
        {
          "output_type": "execute_result",
          "data": {
            "text/plain": [
              "['/content/Classification-of-COVID-19-chest-X-ray-images/dataset/testing/normal/NORMAL2-IM-0336-0001.jpeg',\n",
              " '/content/Classification-of-COVID-19-chest-X-ray-images/dataset/testing/normal/NORMAL2-IM-0279-0001.jpeg',\n",
              " '/content/Classification-of-COVID-19-chest-X-ray-images/dataset/testing/normal/NORMAL2-IM-0325-0001.jpeg',\n",
              " '/content/Classification-of-COVID-19-chest-X-ray-images/dataset/testing/normal/NORMAL2-IM-0210-0001.jpeg',\n",
              " '/content/Classification-of-COVID-19-chest-X-ray-images/dataset/testing/normal/NORMAL2-IM-0246-0001-0002.jpeg',\n",
              " '/content/Classification-of-COVID-19-chest-X-ray-images/dataset/testing/normal/NORMAL2-IM-0362-0001.jpeg',\n",
              " '/content/Classification-of-COVID-19-chest-X-ray-images/dataset/testing/normal/NORMAL2-IM-0173-0001-0001.jpeg',\n",
              " '/content/Classification-of-COVID-19-chest-X-ray-images/dataset/testing/normal/NORMAL2-IM-0378-0001.jpeg',\n",
              " '/content/Classification-of-COVID-19-chest-X-ray-images/dataset/testing/normal/NORMAL2-IM-0272-0001.jpeg',\n",
              " '/content/Classification-of-COVID-19-chest-X-ray-images/dataset/testing/normal/NORMAL2-IM-0354-0001.jpeg',\n",
              " '/content/Classification-of-COVID-19-chest-X-ray-images/dataset/testing/normal/NORMAL2-IM-0150-0001.jpeg',\n",
              " '/content/Classification-of-COVID-19-chest-X-ray-images/dataset/testing/normal/NORMAL2-IM-0315-0001.jpeg',\n",
              " '/content/Classification-of-COVID-19-chest-X-ray-images/dataset/testing/normal/NORMAL2-IM-0376-0001.jpeg',\n",
              " '/content/Classification-of-COVID-19-chest-X-ray-images/dataset/testing/normal/NORMAL2-IM-0249-0001.jpeg',\n",
              " '/content/Classification-of-COVID-19-chest-X-ray-images/dataset/testing/normal/NORMAL2-IM-0041-0001.jpeg',\n",
              " '/content/Classification-of-COVID-19-chest-X-ray-images/dataset/testing/normal/NORMAL2-IM-0246-0001-0001.jpeg',\n",
              " '/content/Classification-of-COVID-19-chest-X-ray-images/dataset/testing/normal/NORMAL2-IM-0171-0001.jpeg',\n",
              " '/content/Classification-of-COVID-19-chest-X-ray-images/dataset/testing/normal/NORMAL2-IM-0045-0001.jpeg',\n",
              " '/content/Classification-of-COVID-19-chest-X-ray-images/dataset/testing/normal/NORMAL2-IM-0294-0001.jpeg',\n",
              " '/content/Classification-of-COVID-19-chest-X-ray-images/dataset/testing/normal/NORMAL2-IM-0303-0001.jpeg',\n",
              " '/content/Classification-of-COVID-19-chest-X-ray-images/dataset/testing/normal/NORMAL2-IM-0346-0001.jpeg',\n",
              " '/content/Classification-of-COVID-19-chest-X-ray-images/dataset/testing/normal/NORMAL2-IM-0123-0001.jpeg',\n",
              " '/content/Classification-of-COVID-19-chest-X-ray-images/dataset/testing/normal/NORMAL2-IM-0252-0001.jpeg',\n",
              " '/content/Classification-of-COVID-19-chest-X-ray-images/dataset/testing/normal/NORMAL2-IM-0173-0001-0002.jpeg',\n",
              " '/content/Classification-of-COVID-19-chest-X-ray-images/dataset/testing/normal/NORMAL2-IM-0313-0001.jpeg',\n",
              " '/content/Classification-of-COVID-19-chest-X-ray-images/dataset/testing/normal/NORMAL2-IM-0326-0001.jpeg',\n",
              " '/content/Classification-of-COVID-19-chest-X-ray-images/dataset/testing/normal/NORMAL2-IM-0366-0001.jpeg',\n",
              " '/content/Classification-of-COVID-19-chest-X-ray-images/dataset/testing/normal/NORMAL2-IM-0238-0001.jpeg',\n",
              " '/content/Classification-of-COVID-19-chest-X-ray-images/dataset/testing/normal/NORMAL2-IM-0098-0001.jpeg',\n",
              " '/content/Classification-of-COVID-19-chest-X-ray-images/dataset/testing/normal/NORMAL2-IM-0364-0001.jpeg',\n",
              " '/content/Classification-of-COVID-19-chest-X-ray-images/dataset/testing/normal/NORMAL2-IM-0316-0001.jpeg',\n",
              " '/content/Classification-of-COVID-19-chest-X-ray-images/dataset/testing/normal/1.jpeg',\n",
              " '/content/Classification-of-COVID-19-chest-X-ray-images/dataset/testing/normal/NORMAL2-IM-0256-0001.jpeg',\n",
              " '/content/Classification-of-COVID-19-chest-X-ray-images/dataset/testing/normal/NORMAL2-IM-0373-0001.jpeg',\n",
              " '/content/Classification-of-COVID-19-chest-X-ray-images/dataset/testing/normal/NORMAL2-IM-0335-0001.jpeg',\n",
              " '/content/Classification-of-COVID-19-chest-X-ray-images/dataset/testing/normal/NORMAL2-IM-0322-0001.jpeg',\n",
              " '/content/Classification-of-COVID-19-chest-X-ray-images/dataset/testing/normal/NORMAL2-IM-0338-0001.jpeg',\n",
              " '/content/Classification-of-COVID-19-chest-X-ray-images/dataset/testing/normal/NORMAL2-IM-0237-0001.jpeg',\n",
              " '/content/Classification-of-COVID-19-chest-X-ray-images/dataset/testing/normal/NORMAL2-IM-0280-0001.jpeg',\n",
              " '/content/Classification-of-COVID-19-chest-X-ray-images/dataset/testing/normal/NORMAL2-IM-0219-0001.jpeg',\n",
              " '/content/Classification-of-COVID-19-chest-X-ray-images/dataset/testing/normal/NORMAL2-IM-0131-0001.jpeg',\n",
              " '/content/Classification-of-COVID-19-chest-X-ray-images/dataset/testing/normal/NORMAL2-IM-0233-0001.jpeg',\n",
              " '/content/Classification-of-COVID-19-chest-X-ray-images/dataset/testing/normal/NORMAL2-IM-0232-0001.jpeg',\n",
              " '/content/Classification-of-COVID-19-chest-X-ray-images/dataset/testing/normal/NORMAL2-IM-0369-0001.jpeg',\n",
              " '/content/Classification-of-COVID-19-chest-X-ray-images/dataset/testing/normal/NORMAL2-IM-0330-0001.jpeg',\n",
              " '/content/Classification-of-COVID-19-chest-X-ray-images/dataset/testing/normal/NORMAL2-IM-0288-0001.jpeg',\n",
              " '/content/Classification-of-COVID-19-chest-X-ray-images/dataset/testing/normal/NORMAL2-IM-0328-0001.jpeg',\n",
              " '/content/Classification-of-COVID-19-chest-X-ray-images/dataset/testing/normal/NORMAL2-IM-0340-0001.jpeg',\n",
              " '/content/Classification-of-COVID-19-chest-X-ray-images/dataset/testing/normal/NORMAL2-IM-0229-0001.jpeg',\n",
              " '/content/Classification-of-COVID-19-chest-X-ray-images/dataset/testing/normal/NORMAL2-IM-0222-0001.jpeg',\n",
              " '/content/Classification-of-COVID-19-chest-X-ray-images/dataset/testing/normal/NORMAL2-IM-0146-0001.jpeg',\n",
              " '/content/Classification-of-COVID-19-chest-X-ray-images/dataset/testing/normal/NORMAL2-IM-0267-0001.jpeg',\n",
              " '/content/Classification-of-COVID-19-chest-X-ray-images/dataset/testing/normal/NORMAL2-IM-0139-0001.jpeg',\n",
              " '/content/Classification-of-COVID-19-chest-X-ray-images/dataset/testing/normal/NORMAL2-IM-0290-0001.jpeg',\n",
              " '/content/Classification-of-COVID-19-chest-X-ray-images/dataset/testing/normal/NORMAL2-IM-0221-0001.jpeg',\n",
              " '/content/Classification-of-COVID-19-chest-X-ray-images/dataset/testing/normal/NORMAL2-IM-0349-0001.jpeg',\n",
              " '/content/Classification-of-COVID-19-chest-X-ray-images/dataset/testing/normal/NORMAL2-IM-0246-0001.jpeg',\n",
              " '/content/Classification-of-COVID-19-chest-X-ray-images/dataset/testing/normal/NORMAL2-IM-0360-0001.jpeg',\n",
              " '/content/Classification-of-COVID-19-chest-X-ray-images/dataset/testing/normal/NORMAL2-IM-0327-0001.jpeg',\n",
              " '/content/Classification-of-COVID-19-chest-X-ray-images/dataset/testing/normal/NORMAL2-IM-0199-0001.jpeg',\n",
              " '/content/Classification-of-COVID-19-chest-X-ray-images/dataset/testing/normal/NORMAL2-IM-0195-0001.jpeg',\n",
              " '/content/Classification-of-COVID-19-chest-X-ray-images/dataset/testing/normal/NORMAL2-IM-0206-0001.jpeg',\n",
              " '/content/Classification-of-COVID-19-chest-X-ray-images/dataset/testing/normal/NORMAL2-IM-0217-0001.jpeg',\n",
              " '/content/Classification-of-COVID-19-chest-X-ray-images/dataset/testing/normal/NORMAL2-IM-0351-0001.jpeg',\n",
              " '/content/Classification-of-COVID-19-chest-X-ray-images/dataset/testing/normal/NORMAL2-IM-0374-0001-0002.jpeg',\n",
              " '/content/Classification-of-COVID-19-chest-X-ray-images/dataset/testing/normal/NORMAL2-IM-0304-0001.jpeg',\n",
              " '/content/Classification-of-COVID-19-chest-X-ray-images/dataset/testing/normal/NORMAL2-IM-0285-0001.jpeg',\n",
              " '/content/Classification-of-COVID-19-chest-X-ray-images/dataset/testing/normal/NORMAL2-IM-0241-0001.jpeg',\n",
              " '/content/Classification-of-COVID-19-chest-X-ray-images/dataset/testing/normal/NORMAL2-IM-0283-0001.jpeg',\n",
              " '/content/Classification-of-COVID-19-chest-X-ray-images/dataset/testing/infected/all14238-fig-0001-m-b.jpg',\n",
              " '/content/Classification-of-COVID-19-chest-X-ray-images/dataset/testing/infected/covid-19-pneumonia-8.jpg',\n",
              " '/content/Classification-of-COVID-19-chest-X-ray-images/dataset/testing/infected/1-s2.0-S1684118220300608-main.pdf-002.jpg',\n",
              " '/content/Classification-of-COVID-19-chest-X-ray-images/dataset/testing/infected/nCoV-radiol.2020200269.fig1-day7.jpeg',\n",
              " '/content/Classification-of-COVID-19-chest-X-ray-images/dataset/testing/infected/kjr-21-e24-g002-l-a.jpg',\n",
              " '/content/Classification-of-COVID-19-chest-X-ray-images/dataset/testing/infected/covid-19-pneumonia-evolution-over-a-week-1-day0-PA.jpg',\n",
              " '/content/Classification-of-COVID-19-chest-X-ray-images/dataset/testing/infected/kjr-21-e24-g001-l-a.jpg',\n",
              " '/content/Classification-of-COVID-19-chest-X-ray-images/dataset/testing/infected/covid-19-pneumonia-20-pa-on-admission.jpg',\n",
              " '/content/Classification-of-COVID-19-chest-X-ray-images/dataset/testing/infected/41591_2020_819_Fig1_HTML.webp-day5.png',\n",
              " '/content/Classification-of-COVID-19-chest-X-ray-images/dataset/testing/infected/covid-19-pneumonia-53.jpg',\n",
              " '/content/Classification-of-COVID-19-chest-X-ray-images/dataset/testing/infected/58cb9263f16e94305c730685358e4e_jumbo.jpeg',\n",
              " '/content/Classification-of-COVID-19-chest-X-ray-images/dataset/testing/infected/31BA3780-2323-493F-8AED-62081B9C383B.jpeg',\n",
              " '/content/Classification-of-COVID-19-chest-X-ray-images/dataset/testing/infected/gr1_lrg-b.jpg',\n",
              " '/content/Classification-of-COVID-19-chest-X-ray-images/dataset/testing/infected/covid-19-pneumonia-67.jpeg',\n",
              " '/content/Classification-of-COVID-19-chest-X-ray-images/dataset/testing/infected/covid-19-pneumonia-44-day-0.jpeg',\n",
              " '/content/Classification-of-COVID-19-chest-X-ray-images/dataset/testing/infected/kjr-21-e24-g003-l-a.jpg',\n",
              " '/content/Classification-of-COVID-19-chest-X-ray-images/dataset/testing/infected/4e43e48d52c9e2d4c6c1fb9bc1544f_jumbo.jpeg',\n",
              " '/content/Classification-of-COVID-19-chest-X-ray-images/dataset/testing/infected/covid-19-pneumonia-mild.JPG',\n",
              " '/content/Classification-of-COVID-19-chest-X-ray-images/dataset/testing/infected/kjr-21-e25-g001-l-a.jpg',\n",
              " '/content/Classification-of-COVID-19-chest-X-ray-images/dataset/testing/infected/all14238-fig-0001-m-c.jpg',\n",
              " '/content/Classification-of-COVID-19-chest-X-ray-images/dataset/testing/infected/F2DE909F-E19C-4900-92F5-8F435B031AC6.jpeg',\n",
              " '/content/Classification-of-COVID-19-chest-X-ray-images/dataset/testing/infected/1.jpg',\n",
              " '/content/Classification-of-COVID-19-chest-X-ray-images/dataset/testing/infected/80446565-E090-4187-A031-9D3CEAA586C8.jpeg',\n",
              " '/content/Classification-of-COVID-19-chest-X-ray-images/dataset/testing/infected/gr1_lrg-a.jpg',\n",
              " '/content/Classification-of-COVID-19-chest-X-ray-images/dataset/testing/infected/41591_2020_819_Fig1_HTML.webp-day10.png',\n",
              " '/content/Classification-of-COVID-19-chest-X-ray-images/dataset/training/best_mod.h5',\n",
              " '/content/Classification-of-COVID-19-chest-X-ray-images/dataset/training/normal/NORMAL2-IM-0201-0001.jpeg',\n",
              " '/content/Classification-of-COVID-19-chest-X-ray-images/dataset/training/normal/NORMAL2-IM-0079-0001.jpeg',\n",
              " '/content/Classification-of-COVID-19-chest-X-ray-images/dataset/training/normal/NORMAL2-IM-0275-0001.jpeg',\n",
              " '/content/Classification-of-COVID-19-chest-X-ray-images/dataset/training/normal/NORMAL2 (80).jpeg',\n",
              " '/content/Classification-of-COVID-19-chest-X-ray-images/dataset/training/normal/NORMAL2 (14).jpeg',\n",
              " '/content/Classification-of-COVID-19-chest-X-ray-images/dataset/training/normal/NORMAL2-IM-0012-0001.jpeg',\n",
              " '/content/Classification-of-COVID-19-chest-X-ray-images/dataset/training/normal/NORMAL2 (122).jpeg',\n",
              " '/content/Classification-of-COVID-19-chest-X-ray-images/dataset/training/normal/NORMAL2 (33).jpeg',\n",
              " '/content/Classification-of-COVID-19-chest-X-ray-images/dataset/training/normal/NORMAL2 (13).jpeg',\n",
              " '/content/Classification-of-COVID-19-chest-X-ray-images/dataset/training/normal/NORMAL2 (72).jpeg',\n",
              " '/content/Classification-of-COVID-19-chest-X-ray-images/dataset/training/normal/NORMAL2 (43).jpeg',\n",
              " '/content/Classification-of-COVID-19-chest-X-ray-images/dataset/training/normal/NORMAL2 (37).jpeg',\n",
              " '/content/Classification-of-COVID-19-chest-X-ray-images/dataset/training/normal/NORMAL2-IM-0309-0001.jpeg',\n",
              " '/content/Classification-of-COVID-19-chest-X-ray-images/dataset/training/normal/NORMAL2 (8).jpeg',\n",
              " '/content/Classification-of-COVID-19-chest-X-ray-images/dataset/training/normal/NORMAL2 (157).jpeg',\n",
              " '/content/Classification-of-COVID-19-chest-X-ray-images/dataset/training/normal/NORMAL2 (120).jpeg',\n",
              " '/content/Classification-of-COVID-19-chest-X-ray-images/dataset/training/normal/NORMAL2 (34).jpeg',\n",
              " '/content/Classification-of-COVID-19-chest-X-ray-images/dataset/training/normal/NORMAL2 (50).jpeg',\n",
              " '/content/Classification-of-COVID-19-chest-X-ray-images/dataset/training/normal/NORMAL2 (96).jpeg',\n",
              " '/content/Classification-of-COVID-19-chest-X-ray-images/dataset/training/normal/NORMAL2-IM-0023-0001.jpeg',\n",
              " '/content/Classification-of-COVID-19-chest-X-ray-images/dataset/training/normal/NORMAL2 (101).jpeg',\n",
              " '/content/Classification-of-COVID-19-chest-X-ray-images/dataset/training/normal/NORMAL2 (173).jpeg',\n",
              " '/content/Classification-of-COVID-19-chest-X-ray-images/dataset/training/normal/NORMAL2-IM-0374-0001-0001.jpeg',\n",
              " '/content/Classification-of-COVID-19-chest-X-ray-images/dataset/training/normal/NORMAL2-IM-0374-0001.jpeg',\n",
              " '/content/Classification-of-COVID-19-chest-X-ray-images/dataset/training/normal/NORMAL2 (67).jpeg',\n",
              " '/content/Classification-of-COVID-19-chest-X-ray-images/dataset/training/normal/NORMAL2 (148).jpeg',\n",
              " '/content/Classification-of-COVID-19-chest-X-ray-images/dataset/training/normal/NORMAL2 (55).jpeg',\n",
              " '/content/Classification-of-COVID-19-chest-X-ray-images/dataset/training/normal/NORMAL2-IM-0135-0001.jpeg',\n",
              " '/content/Classification-of-COVID-19-chest-X-ray-images/dataset/training/normal/NORMAL2-IM-0321-0001.jpeg',\n",
              " '/content/Classification-of-COVID-19-chest-X-ray-images/dataset/training/normal/NORMAL2 (41).jpeg',\n",
              " '/content/Classification-of-COVID-19-chest-X-ray-images/dataset/training/normal/NORMAL2-IM-0368-0001.jpeg',\n",
              " '/content/Classification-of-COVID-19-chest-X-ray-images/dataset/training/normal/NORMAL2 (138).jpeg',\n",
              " '/content/Classification-of-COVID-19-chest-X-ray-images/dataset/training/normal/NORMAL2 (176).jpeg',\n",
              " '/content/Classification-of-COVID-19-chest-X-ray-images/dataset/training/normal/NORMAL2 (141).jpeg',\n",
              " '/content/Classification-of-COVID-19-chest-X-ray-images/dataset/training/normal/NORMAL2 (177).jpeg',\n",
              " '/content/Classification-of-COVID-19-chest-X-ray-images/dataset/training/normal/NORMAL2 (95).jpeg',\n",
              " '/content/Classification-of-COVID-19-chest-X-ray-images/dataset/training/normal/NORMAL2-IM-0278-0001.jpeg',\n",
              " '/content/Classification-of-COVID-19-chest-X-ray-images/dataset/training/normal/NORMAL2 (183).jpeg',\n",
              " '/content/Classification-of-COVID-19-chest-X-ray-images/dataset/training/normal/NORMAL2-IM-0345-0001.jpeg',\n",
              " '/content/Classification-of-COVID-19-chest-X-ray-images/dataset/training/normal/NORMAL2 (32).jpeg',\n",
              " '/content/Classification-of-COVID-19-chest-X-ray-images/dataset/training/normal/NORMAL2-IM-0019-0001.jpeg',\n",
              " '/content/Classification-of-COVID-19-chest-X-ray-images/dataset/training/normal/NORMAL2-IM-0352-0001.jpeg',\n",
              " '/content/Classification-of-COVID-19-chest-X-ray-images/dataset/training/normal/NORMAL2 (172).jpeg',\n",
              " '/content/Classification-of-COVID-19-chest-X-ray-images/dataset/training/normal/NORMAL2-IM-0297-0001.jpeg',\n",
              " '/content/Classification-of-COVID-19-chest-X-ray-images/dataset/training/normal/NORMAL2 (136).jpeg',\n",
              " '/content/Classification-of-COVID-19-chest-X-ray-images/dataset/training/normal/NORMAL2 (106).jpeg',\n",
              " '/content/Classification-of-COVID-19-chest-X-ray-images/dataset/training/normal/NORMAL2 (69).jpeg',\n",
              " '/content/Classification-of-COVID-19-chest-X-ray-images/dataset/training/normal/NORMAL2 (132).jpeg',\n",
              " '/content/Classification-of-COVID-19-chest-X-ray-images/dataset/training/normal/NORMAL2 (180).jpeg',\n",
              " '/content/Classification-of-COVID-19-chest-X-ray-images/dataset/training/normal/NORMAL2 (48).jpeg',\n",
              " '/content/Classification-of-COVID-19-chest-X-ray-images/dataset/training/normal/NORMAL2 (60).jpeg',\n",
              " '/content/Classification-of-COVID-19-chest-X-ray-images/dataset/training/normal/NORMAL2 (38).jpeg',\n",
              " '/content/Classification-of-COVID-19-chest-X-ray-images/dataset/training/normal/NORMAL2 (42).jpeg',\n",
              " '/content/Classification-of-COVID-19-chest-X-ray-images/dataset/training/normal/NORMAL2-IM-0027-0001.jpeg',\n",
              " '/content/Classification-of-COVID-19-chest-X-ray-images/dataset/training/normal/NORMAL2 (107).jpeg',\n",
              " '/content/Classification-of-COVID-19-chest-X-ray-images/dataset/training/normal/NORMAL2 (133).jpeg',\n",
              " '/content/Classification-of-COVID-19-chest-X-ray-images/dataset/training/normal/NORMAL2-IM-0251-0001.jpeg',\n",
              " '/content/Classification-of-COVID-19-chest-X-ray-images/dataset/training/normal/NORMAL2-IM-0370-0001.jpeg',\n",
              " '/content/Classification-of-COVID-19-chest-X-ray-images/dataset/training/normal/NORMAL2 (166).jpeg',\n",
              " '/content/Classification-of-COVID-19-chest-X-ray-images/dataset/training/normal/NORMAL2 (74).jpeg',\n",
              " '/content/Classification-of-COVID-19-chest-X-ray-images/dataset/training/normal/NORMAL2 (112).jpeg',\n",
              " '/content/Classification-of-COVID-19-chest-X-ray-images/dataset/training/normal/NORMAL2-IM-0207-0001.jpeg',\n",
              " '/content/Classification-of-COVID-19-chest-X-ray-images/dataset/training/normal/NORMAL2 (143).jpeg',\n",
              " '/content/Classification-of-COVID-19-chest-X-ray-images/dataset/training/normal/NORMAL2-IM-0030-0001.jpeg',\n",
              " '/content/Classification-of-COVID-19-chest-X-ray-images/dataset/training/normal/NORMAL2 (98).jpeg',\n",
              " '/content/Classification-of-COVID-19-chest-X-ray-images/dataset/training/normal/NORMAL2 (61).jpeg',\n",
              " '/content/Classification-of-COVID-19-chest-X-ray-images/dataset/training/normal/NORMAL2-IM-0107-0001.jpeg',\n",
              " '/content/Classification-of-COVID-19-chest-X-ray-images/dataset/training/normal/NORMAL2-IM-0271-0001.jpeg',\n",
              " '/content/Classification-of-COVID-19-chest-X-ray-images/dataset/training/normal/NORMAL2-IM-0117-0001.jpeg',\n",
              " '/content/Classification-of-COVID-19-chest-X-ray-images/dataset/training/normal/NORMAL2-IM-0339-0001.jpeg',\n",
              " '/content/Classification-of-COVID-19-chest-X-ray-images/dataset/training/normal/NORMAL2 (194).jpeg',\n",
              " '/content/Classification-of-COVID-19-chest-X-ray-images/dataset/training/normal/NORMAL2-IM-0281-0001.jpeg',\n",
              " '/content/Classification-of-COVID-19-chest-X-ray-images/dataset/training/normal/NORMAL2 (35).jpeg',\n",
              " '/content/Classification-of-COVID-19-chest-X-ray-images/dataset/training/normal/NORMAL2 (10).jpeg',\n",
              " '/content/Classification-of-COVID-19-chest-X-ray-images/dataset/training/normal/NORMAL2-IM-0052-0001.jpeg',\n",
              " '/content/Classification-of-COVID-19-chest-X-ray-images/dataset/training/normal/NORMAL2 (184).jpeg',\n",
              " '/content/Classification-of-COVID-19-chest-X-ray-images/dataset/training/normal/NORMAL2 (51).jpeg',\n",
              " '/content/Classification-of-COVID-19-chest-X-ray-images/dataset/training/normal/NORMAL2 (140).jpeg',\n",
              " '/content/Classification-of-COVID-19-chest-X-ray-images/dataset/training/normal/NORMAL2-IM-0311-0001.jpeg',\n",
              " '/content/Classification-of-COVID-19-chest-X-ray-images/dataset/training/normal/NORMAL2-IM-0300-0001.jpeg',\n",
              " '/content/Classification-of-COVID-19-chest-X-ray-images/dataset/training/normal/NORMAL2 (118).jpeg',\n",
              " '/content/Classification-of-COVID-19-chest-X-ray-images/dataset/training/normal/NORMAL2-IM-0380-0001.jpeg',\n",
              " '/content/Classification-of-COVID-19-chest-X-ray-images/dataset/training/normal/NORMAL2 (111).jpeg',\n",
              " '/content/Classification-of-COVID-19-chest-X-ray-images/dataset/training/normal/NORMAL2 (18).jpeg',\n",
              " '/content/Classification-of-COVID-19-chest-X-ray-images/dataset/training/normal/NORMAL2-IM-0341-0001.jpeg',\n",
              " '/content/Classification-of-COVID-19-chest-X-ray-images/dataset/training/normal/NORMAL2-IM-0141-0001.jpeg',\n",
              " '/content/Classification-of-COVID-19-chest-X-ray-images/dataset/training/normal/NORMAL2-IM-0132-0001.jpeg',\n",
              " '/content/Classification-of-COVID-19-chest-X-ray-images/dataset/training/normal/NORMAL2 (155).jpeg',\n",
              " '/content/Classification-of-COVID-19-chest-X-ray-images/dataset/training/normal/NORMAL2 (2).jpeg',\n",
              " '/content/Classification-of-COVID-19-chest-X-ray-images/dataset/training/normal/NORMAL2-IM-0372-0001.jpeg',\n",
              " '/content/Classification-of-COVID-19-chest-X-ray-images/dataset/training/normal/NORMAL2 (44).jpeg',\n",
              " '/content/Classification-of-COVID-19-chest-X-ray-images/dataset/training/normal/NORMAL2-IM-0060-0001.jpeg',\n",
              " '/content/Classification-of-COVID-19-chest-X-ray-images/dataset/training/normal/NORMAL2 (152).jpeg',\n",
              " '/content/Classification-of-COVID-19-chest-X-ray-images/dataset/training/normal/NORMAL2-IM-0051-0001.jpeg',\n",
              " '/content/Classification-of-COVID-19-chest-X-ray-images/dataset/training/normal/NORMAL2 (88).jpeg',\n",
              " '/content/Classification-of-COVID-19-chest-X-ray-images/dataset/training/normal/NORMAL2 (129).jpeg',\n",
              " '/content/Classification-of-COVID-19-chest-X-ray-images/dataset/training/normal/NORMAL2 (168).jpeg',\n",
              " '/content/Classification-of-COVID-19-chest-X-ray-images/dataset/training/normal/NORMAL2 (91).jpeg',\n",
              " '/content/Classification-of-COVID-19-chest-X-ray-images/dataset/training/normal/NORMAL2 (185).jpeg',\n",
              " '/content/Classification-of-COVID-19-chest-X-ray-images/dataset/training/normal/NORMAL2 (114).jpeg',\n",
              " '/content/Classification-of-COVID-19-chest-X-ray-images/dataset/training/normal/NORMAL2 (63).jpeg',\n",
              " '/content/Classification-of-COVID-19-chest-X-ray-images/dataset/training/normal/NORMAL2 (117).jpeg',\n",
              " '/content/Classification-of-COVID-19-chest-X-ray-images/dataset/training/normal/NORMAL2 (189).jpeg',\n",
              " '/content/Classification-of-COVID-19-chest-X-ray-images/dataset/training/normal/NORMAL2 (125).jpeg',\n",
              " '/content/Classification-of-COVID-19-chest-X-ray-images/dataset/training/normal/NORMAL2-IM-0310-0001.jpeg',\n",
              " '/content/Classification-of-COVID-19-chest-X-ray-images/dataset/training/normal/NORMAL2 (159).jpeg',\n",
              " '/content/Classification-of-COVID-19-chest-X-ray-images/dataset/training/normal/NORMAL2 (178).jpeg',\n",
              " '/content/Classification-of-COVID-19-chest-X-ray-images/dataset/training/normal/NORMAL2-IM-0289-0001.jpeg',\n",
              " '/content/Classification-of-COVID-19-chest-X-ray-images/dataset/training/normal/NORMAL2 (75).jpeg',\n",
              " '/content/Classification-of-COVID-19-chest-X-ray-images/dataset/training/normal/NORMAL2-IM-0292-0001.jpeg',\n",
              " '/content/Classification-of-COVID-19-chest-X-ray-images/dataset/training/normal/NORMAL2-IM-0329-0001.jpeg',\n",
              " '/content/Classification-of-COVID-19-chest-X-ray-images/dataset/training/normal/NORMAL2 (197).jpeg',\n",
              " '/content/Classification-of-COVID-19-chest-X-ray-images/dataset/training/normal/NORMAL2 (71).jpeg',\n",
              " '/content/Classification-of-COVID-19-chest-X-ray-images/dataset/training/normal/NORMAL2 (181).jpeg',\n",
              " '/content/Classification-of-COVID-19-chest-X-ray-images/dataset/training/normal/NORMAL2 (9).jpeg',\n",
              " '/content/Classification-of-COVID-19-chest-X-ray-images/dataset/training/normal/NORMAL2-IM-0029-0001.jpeg',\n",
              " '/content/Classification-of-COVID-19-chest-X-ray-images/dataset/training/normal/NORMAL2-IM-0112-0001.jpeg',\n",
              " '/content/Classification-of-COVID-19-chest-X-ray-images/dataset/training/normal/NORMAL2 (103).jpeg',\n",
              " '/content/Classification-of-COVID-19-chest-X-ray-images/dataset/training/normal/NORMAL2 (123).jpeg',\n",
              " '/content/Classification-of-COVID-19-chest-X-ray-images/dataset/training/normal/NORMAL2 (56).jpeg',\n",
              " '/content/Classification-of-COVID-19-chest-X-ray-images/dataset/training/normal/NORMAL2 (161).jpeg',\n",
              " '/content/Classification-of-COVID-19-chest-X-ray-images/dataset/training/normal/NORMAL2-IM-0323-0001.jpeg',\n",
              " '/content/Classification-of-COVID-19-chest-X-ray-images/dataset/training/normal/NORMAL2-IM-0102-0001.jpeg',\n",
              " '/content/Classification-of-COVID-19-chest-X-ray-images/dataset/training/normal/1.jpeg',\n",
              " '/content/Classification-of-COVID-19-chest-X-ray-images/dataset/training/normal/NORMAL2 (82).jpeg',\n",
              " '/content/Classification-of-COVID-19-chest-X-ray-images/dataset/training/normal/NORMAL2 (154).jpeg',\n",
              " '/content/Classification-of-COVID-19-chest-X-ray-images/dataset/training/normal/NORMAL2 (171).jpeg',\n",
              " '/content/Classification-of-COVID-19-chest-X-ray-images/dataset/training/normal/NORMAL2 (108).jpeg',\n",
              " '/content/Classification-of-COVID-19-chest-X-ray-images/dataset/training/normal/NORMAL2 (109).jpeg',\n",
              " '/content/Classification-of-COVID-19-chest-X-ray-images/dataset/training/normal/NORMAL2 (52).jpeg',\n",
              " '/content/Classification-of-COVID-19-chest-X-ray-images/dataset/training/normal/NORMAL2 (175).jpeg',\n",
              " '/content/Classification-of-COVID-19-chest-X-ray-images/dataset/training/normal/NORMAL2 (164).jpeg',\n",
              " '/content/Classification-of-COVID-19-chest-X-ray-images/dataset/training/normal/NORMAL2 (104).jpeg',\n",
              " '/content/Classification-of-COVID-19-chest-X-ray-images/dataset/training/normal/NORMAL2 (22).jpeg',\n",
              " '/content/Classification-of-COVID-19-chest-X-ray-images/dataset/training/normal/NORMAL2-IM-0353-0001.jpeg',\n",
              " '/content/Classification-of-COVID-19-chest-X-ray-images/dataset/training/normal/NORMAL2-IM-0350-0001.jpeg',\n",
              " '/content/Classification-of-COVID-19-chest-X-ray-images/dataset/training/normal/NORMAL2 (199).jpeg',\n",
              " '/content/Classification-of-COVID-19-chest-X-ray-images/dataset/training/normal/NORMAL2 (99).jpeg',\n",
              " '/content/Classification-of-COVID-19-chest-X-ray-images/dataset/training/normal/NORMAL2 (90).jpeg',\n",
              " '/content/Classification-of-COVID-19-chest-X-ray-images/dataset/training/normal/NORMAL2 (49).jpeg',\n",
              " '/content/Classification-of-COVID-19-chest-X-ray-images/dataset/training/normal/NORMAL2 (3).jpeg',\n",
              " '/content/Classification-of-COVID-19-chest-X-ray-images/dataset/training/normal/NORMAL2-IM-0198-0001.jpeg',\n",
              " '/content/Classification-of-COVID-19-chest-X-ray-images/dataset/training/normal/NORMAL2-IM-0274-0001.jpeg',\n",
              " '/content/Classification-of-COVID-19-chest-X-ray-images/dataset/training/normal/NORMAL2 (29).jpeg',\n",
              " '/content/Classification-of-COVID-19-chest-X-ray-images/dataset/training/normal/NORMAL2 (110).jpeg',\n",
              " '/content/Classification-of-COVID-19-chest-X-ray-images/dataset/training/normal/NORMAL2 (124).jpeg',\n",
              " '/content/Classification-of-COVID-19-chest-X-ray-images/dataset/training/normal/NORMAL2 (65).jpeg',\n",
              " '/content/Classification-of-COVID-19-chest-X-ray-images/dataset/training/normal/NORMAL2 (23).jpeg',\n",
              " '/content/Classification-of-COVID-19-chest-X-ray-images/dataset/training/normal/NORMAL2 (174).jpeg',\n",
              " '/content/Classification-of-COVID-19-chest-X-ray-images/dataset/training/normal/NORMAL2 (86).jpeg',\n",
              " '/content/Classification-of-COVID-19-chest-X-ray-images/dataset/training/normal/NORMAL2 (179).jpeg',\n",
              " '/content/Classification-of-COVID-19-chest-X-ray-images/dataset/training/normal/NORMAL2-IM-0110-0001.jpeg',\n",
              " '/content/Classification-of-COVID-19-chest-X-ray-images/dataset/training/normal/NORMAL2 (142).jpeg',\n",
              " '/content/Classification-of-COVID-19-chest-X-ray-images/dataset/training/normal/NORMAL2 (115).jpeg',\n",
              " '/content/Classification-of-COVID-19-chest-X-ray-images/dataset/training/normal/NORMAL2 (73).jpeg',\n",
              " '/content/Classification-of-COVID-19-chest-X-ray-images/dataset/training/normal/NORMAL2 (76).jpeg',\n",
              " '/content/Classification-of-COVID-19-chest-X-ray-images/dataset/training/normal/NORMAL2-IM-0357-0001.jpeg',\n",
              " '/content/Classification-of-COVID-19-chest-X-ray-images/dataset/training/normal/NORMAL2 (47).jpeg',\n",
              " '/content/Classification-of-COVID-19-chest-X-ray-images/dataset/training/normal/NORMAL2 (31).jpeg',\n",
              " '/content/Classification-of-COVID-19-chest-X-ray-images/dataset/training/normal/NORMAL2 (169).jpeg',\n",
              " '/content/Classification-of-COVID-19-chest-X-ray-images/dataset/training/normal/NORMAL2 (156).jpeg',\n",
              " '/content/Classification-of-COVID-19-chest-X-ray-images/dataset/training/normal/NORMAL2 (188).jpeg',\n",
              " '/content/Classification-of-COVID-19-chest-X-ray-images/dataset/training/normal/NORMAL2-IM-0347-0001.jpeg',\n",
              " '/content/Classification-of-COVID-19-chest-X-ray-images/dataset/training/normal/NORMAL2 (79).jpeg',\n",
              " '/content/Classification-of-COVID-19-chest-X-ray-images/dataset/training/normal/NORMAL2-IM-0273-0001.jpeg',\n",
              " '/content/Classification-of-COVID-19-chest-X-ray-images/dataset/training/normal/NORMAL2 (16).jpeg',\n",
              " '/content/Classification-of-COVID-19-chest-X-ray-images/dataset/training/normal/NORMAL2 (190).jpeg',\n",
              " '/content/Classification-of-COVID-19-chest-X-ray-images/dataset/training/normal/NORMAL2 (121).jpeg',\n",
              " '/content/Classification-of-COVID-19-chest-X-ray-images/dataset/training/normal/NORMAL2 (128).jpeg',\n",
              " '/content/Classification-of-COVID-19-chest-X-ray-images/dataset/training/normal/NORMAL2-IM-0130-0001.jpeg',\n",
              " '/content/Classification-of-COVID-19-chest-X-ray-images/dataset/training/normal/NORMAL2-IM-0081-0001.jpeg',\n",
              " '/content/Classification-of-COVID-19-chest-X-ray-images/dataset/training/normal/NORMAL2-IM-0072-0001.jpeg',\n",
              " '/content/Classification-of-COVID-19-chest-X-ray-images/dataset/training/normal/NORMAL2 (186).jpeg',\n",
              " '/content/Classification-of-COVID-19-chest-X-ray-images/dataset/training/normal/NORMAL2-IM-0033-0001.jpeg',\n",
              " '/content/Classification-of-COVID-19-chest-X-ray-images/dataset/training/normal/NORMAL2 (54).jpeg',\n",
              " '/content/Classification-of-COVID-19-chest-X-ray-images/dataset/training/normal/NORMAL2-IM-0058-0001.jpeg',\n",
              " '/content/Classification-of-COVID-19-chest-X-ray-images/dataset/training/normal/NORMAL2 (30).jpeg',\n",
              " '/content/Classification-of-COVID-19-chest-X-ray-images/dataset/training/normal/NORMAL2 (137).jpeg',\n",
              " '/content/Classification-of-COVID-19-chest-X-ray-images/dataset/training/normal/NORMAL2 (62).jpeg',\n",
              " '/content/Classification-of-COVID-19-chest-X-ray-images/dataset/training/normal/NORMAL2-IM-0059-0001.jpeg',\n",
              " '/content/Classification-of-COVID-19-chest-X-ray-images/dataset/training/normal/NORMAL2 (126).jpeg',\n",
              " '/content/Classification-of-COVID-19-chest-X-ray-images/dataset/training/normal/NORMAL2 (92).jpeg',\n",
              " '/content/Classification-of-COVID-19-chest-X-ray-images/dataset/training/normal/NORMAL2 (135).jpeg',\n",
              " '/content/Classification-of-COVID-19-chest-X-ray-images/dataset/training/normal/NORMAL2-IM-0129-0001.jpeg',\n",
              " '/content/Classification-of-COVID-19-chest-X-ray-images/dataset/training/normal/NORMAL2 (193).jpeg',\n",
              " '/content/Classification-of-COVID-19-chest-X-ray-images/dataset/training/normal/NORMAL2 (4).jpeg',\n",
              " '/content/Classification-of-COVID-19-chest-X-ray-images/dataset/training/normal/NORMAL2 (147).jpeg',\n",
              " '/content/Classification-of-COVID-19-chest-X-ray-images/dataset/training/normal/NORMAL2 (85).jpeg',\n",
              " '/content/Classification-of-COVID-19-chest-X-ray-images/dataset/training/normal/NORMAL2 (146).jpeg',\n",
              " '/content/Classification-of-COVID-19-chest-X-ray-images/dataset/training/normal/NORMAL2 (158).jpeg',\n",
              " '/content/Classification-of-COVID-19-chest-X-ray-images/dataset/training/normal/NORMAL2-IM-0095-0001.jpeg',\n",
              " '/content/Classification-of-COVID-19-chest-X-ray-images/dataset/training/normal/NORMAL2 (12).jpeg',\n",
              " '/content/Classification-of-COVID-19-chest-X-ray-images/dataset/training/normal/NORMAL2 (182).jpeg',\n",
              " '/content/Classification-of-COVID-19-chest-X-ray-images/dataset/training/normal/NORMAL2 (144).jpeg',\n",
              " '/content/Classification-of-COVID-19-chest-X-ray-images/dataset/training/normal/NORMAL2 (27).jpeg',\n",
              " '/content/Classification-of-COVID-19-chest-X-ray-images/dataset/training/normal/NORMAL2-IM-0007-0001.jpeg',\n",
              " '/content/Classification-of-COVID-19-chest-X-ray-images/dataset/training/normal/NORMAL2 (145).jpeg',\n",
              " '/content/Classification-of-COVID-19-chest-X-ray-images/dataset/training/normal/NORMAL2-IM-0319-0001.jpeg',\n",
              " '/content/Classification-of-COVID-19-chest-X-ray-images/dataset/training/normal/NORMAL2-IM-0333-0001.jpeg',\n",
              " '/content/Classification-of-COVID-19-chest-X-ray-images/dataset/training/normal/NORMAL2 (94).jpeg',\n",
              " '/content/Classification-of-COVID-19-chest-X-ray-images/dataset/training/normal/NORMAL2 (116).jpeg',\n",
              " '/content/Classification-of-COVID-19-chest-X-ray-images/dataset/training/normal/NORMAL2 (6).jpeg',\n",
              " '/content/Classification-of-COVID-19-chest-X-ray-images/dataset/training/normal/NORMAL2-IM-0276-0001.jpeg',\n",
              " '/content/Classification-of-COVID-19-chest-X-ray-images/dataset/training/normal/NORMAL2-IM-0145-0001.jpeg',\n",
              " '/content/Classification-of-COVID-19-chest-X-ray-images/dataset/training/normal/NORMAL2-IM-0337-0001.jpeg',\n",
              " '/content/Classification-of-COVID-19-chest-X-ray-images/dataset/training/normal/NORMAL2 (64).jpeg',\n",
              " '/content/Classification-of-COVID-19-chest-X-ray-images/dataset/training/normal/NORMAL2 (28).jpeg',\n",
              " '/content/Classification-of-COVID-19-chest-X-ray-images/dataset/training/normal/NORMAL2-IM-0381-0001.jpeg',\n",
              " '/content/Classification-of-COVID-19-chest-X-ray-images/dataset/training/normal/NORMAL2-IM-0120-0001.jpeg',\n",
              " '/content/Classification-of-COVID-19-chest-X-ray-images/dataset/training/normal/NORMAL2 (200).jpeg',\n",
              " '/content/Classification-of-COVID-19-chest-X-ray-images/dataset/training/normal/NORMAL2-IM-0302-0001.jpeg',\n",
              " '/content/Classification-of-COVID-19-chest-X-ray-images/dataset/training/normal/NORMAL2 (59).jpeg',\n",
              " '/content/Classification-of-COVID-19-chest-X-ray-images/dataset/training/normal/NORMAL2 (196).jpeg',\n",
              " '/content/Classification-of-COVID-19-chest-X-ray-images/dataset/training/normal/NORMAL2-IM-0301-0001.jpeg',\n",
              " '/content/Classification-of-COVID-19-chest-X-ray-images/dataset/training/normal/NORMAL2 (187).jpeg',\n",
              " '/content/Classification-of-COVID-19-chest-X-ray-images/dataset/training/normal/NORMAL2-IM-0312-0001.jpeg',\n",
              " '/content/Classification-of-COVID-19-chest-X-ray-images/dataset/training/normal/NORMAL2 (40).jpeg',\n",
              " '/content/Classification-of-COVID-19-chest-X-ray-images/dataset/training/normal/NORMAL2 (1).jpeg',\n",
              " '/content/Classification-of-COVID-19-chest-X-ray-images/dataset/training/normal/NORMAL2 (81).jpeg',\n",
              " '/content/Classification-of-COVID-19-chest-X-ray-images/dataset/training/normal/NORMAL2-IM-0259-0001.jpeg',\n",
              " '/content/Classification-of-COVID-19-chest-X-ray-images/dataset/training/normal/NORMAL2 (167).jpeg',\n",
              " '/content/Classification-of-COVID-19-chest-X-ray-images/dataset/training/normal/NORMAL2 (102).jpeg',\n",
              " '/content/Classification-of-COVID-19-chest-X-ray-images/dataset/training/normal/NORMAL2 (21).jpeg',\n",
              " '/content/Classification-of-COVID-19-chest-X-ray-images/dataset/training/normal/NORMAL2 (45).jpeg',\n",
              " '/content/Classification-of-COVID-19-chest-X-ray-images/dataset/training/normal/NORMAL2-IM-0277-0001.jpeg',\n",
              " '/content/Classification-of-COVID-19-chest-X-ray-images/dataset/training/normal/NORMAL2 (25).jpeg',\n",
              " '/content/Classification-of-COVID-19-chest-X-ray-images/dataset/training/normal/NORMAL2 (191).jpeg',\n",
              " '/content/Classification-of-COVID-19-chest-X-ray-images/dataset/training/normal/NORMAL2 (78).jpeg',\n",
              " '/content/Classification-of-COVID-19-chest-X-ray-images/dataset/training/normal/NORMAL2 (5).jpeg',\n",
              " '/content/Classification-of-COVID-19-chest-X-ray-images/dataset/training/normal/NORMAL2-IM-0086-0001.jpeg',\n",
              " '/content/Classification-of-COVID-19-chest-X-ray-images/dataset/training/normal/NORMAL2 (127).jpeg',\n",
              " '/content/Classification-of-COVID-19-chest-X-ray-images/dataset/training/normal/NORMAL2 (93).jpeg',\n",
              " '/content/Classification-of-COVID-19-chest-X-ray-images/dataset/training/normal/NORMAL2-IM-0331-0001.jpeg',\n",
              " '/content/Classification-of-COVID-19-chest-X-ray-images/dataset/training/normal/NORMAL2-IM-0105-0001.jpeg',\n",
              " '/content/Classification-of-COVID-19-chest-X-ray-images/dataset/training/normal/NORMAL2 (57).jpeg',\n",
              " '/content/Classification-of-COVID-19-chest-X-ray-images/dataset/training/normal/NORMAL2 (70).jpeg',\n",
              " '/content/Classification-of-COVID-19-chest-X-ray-images/dataset/training/normal/NORMAL2 (113).jpeg',\n",
              " '/content/Classification-of-COVID-19-chest-X-ray-images/dataset/training/normal/NORMAL2 (83).jpeg',\n",
              " '/content/Classification-of-COVID-19-chest-X-ray-images/dataset/training/normal/NORMAL2 (192).jpeg',\n",
              " '/content/Classification-of-COVID-19-chest-X-ray-images/dataset/training/normal/NORMAL2-IM-0348-0001.jpeg',\n",
              " '/content/Classification-of-COVID-19-chest-X-ray-images/dataset/training/normal/NORMAL2-IM-0343-0001.jpeg',\n",
              " '/content/Classification-of-COVID-19-chest-X-ray-images/dataset/training/normal/NORMAL2-IM-0287-0001.jpeg',\n",
              " '/content/Classification-of-COVID-19-chest-X-ray-images/dataset/training/normal/NORMAL2-IM-0013-0001.jpeg',\n",
              " '/content/Classification-of-COVID-19-chest-X-ray-images/dataset/training/normal/NORMAL2 (170).jpeg',\n",
              " '/content/Classification-of-COVID-19-chest-X-ray-images/dataset/training/normal/NORMAL2 (119).jpeg',\n",
              " '/content/Classification-of-COVID-19-chest-X-ray-images/dataset/training/normal/NORMAL2-IM-0092-0001.jpeg',\n",
              " '/content/Classification-of-COVID-19-chest-X-ray-images/dataset/training/normal/NORMAL2-IM-0332-0001.jpeg',\n",
              " '/content/Classification-of-COVID-19-chest-X-ray-images/dataset/training/normal/NORMAL2-IM-0213-0001.jpeg',\n",
              " '/content/Classification-of-COVID-19-chest-X-ray-images/dataset/training/normal/NORMAL2 (160).jpeg',\n",
              " '/content/Classification-of-COVID-19-chest-X-ray-images/dataset/training/normal/NORMAL2-IM-0282-0001.jpeg',\n",
              " '/content/Classification-of-COVID-19-chest-X-ray-images/dataset/training/normal/NORMAL2 (131).jpeg',\n",
              " '/content/Classification-of-COVID-19-chest-X-ray-images/dataset/training/normal/NORMAL2 (11).jpeg',\n",
              " '/content/Classification-of-COVID-19-chest-X-ray-images/dataset/training/normal/NORMAL2-IM-0028-0001.jpeg',\n",
              " '/content/Classification-of-COVID-19-chest-X-ray-images/dataset/training/normal/NORMAL2-IM-0196-0001.jpeg',\n",
              " '/content/Classification-of-COVID-19-chest-X-ray-images/dataset/training/normal/NORMAL2 (105).jpeg',\n",
              " '/content/Classification-of-COVID-19-chest-X-ray-images/dataset/training/normal/NORMAL2 (68).jpeg',\n",
              " '/content/Classification-of-COVID-19-chest-X-ray-images/dataset/training/normal/NORMAL2 (20).jpeg',\n",
              " '/content/Classification-of-COVID-19-chest-X-ray-images/dataset/training/normal/NORMAL2-IM-0305-0001.jpeg',\n",
              " '/content/Classification-of-COVID-19-chest-X-ray-images/dataset/training/normal/NORMAL2 (15).jpeg',\n",
              " '/content/Classification-of-COVID-19-chest-X-ray-images/dataset/training/normal/NORMAL2 (77).jpeg',\n",
              " '/content/Classification-of-COVID-19-chest-X-ray-images/dataset/training/normal/NORMAL2 (195).jpeg',\n",
              " '/content/Classification-of-COVID-19-chest-X-ray-images/dataset/training/normal/NORMAL2-IM-0359-0001.jpeg',\n",
              " '/content/Classification-of-COVID-19-chest-X-ray-images/dataset/training/normal/NORMAL2 (151).jpeg',\n",
              " '/content/Classification-of-COVID-19-chest-X-ray-images/dataset/training/normal/NORMAL2 (39).jpeg',\n",
              " '/content/Classification-of-COVID-19-chest-X-ray-images/dataset/training/normal/NORMAL2-IM-0286-0001.jpeg',\n",
              " '/content/Classification-of-COVID-19-chest-X-ray-images/dataset/training/normal/NORMAL2 (150).jpeg',\n",
              " '/content/Classification-of-COVID-19-chest-X-ray-images/dataset/training/normal/NORMAL2 (130).jpeg',\n",
              " '/content/Classification-of-COVID-19-chest-X-ray-images/dataset/training/normal/NORMAL2 (198).jpeg',\n",
              " '/content/Classification-of-COVID-19-chest-X-ray-images/dataset/training/normal/NORMAL2 (53).jpeg',\n",
              " '/content/Classification-of-COVID-19-chest-X-ray-images/dataset/training/normal/NORMAL2 (7).jpeg',\n",
              " '/content/Classification-of-COVID-19-chest-X-ray-images/dataset/training/normal/NORMAL2 (153).jpeg',\n",
              " '/content/Classification-of-COVID-19-chest-X-ray-images/dataset/training/normal/NORMAL2 (46).jpeg',\n",
              " '/content/Classification-of-COVID-19-chest-X-ray-images/dataset/training/normal/NORMAL2 (97).jpeg',\n",
              " '/content/Classification-of-COVID-19-chest-X-ray-images/dataset/training/normal/NORMAL2 (87).jpeg',\n",
              " '/content/Classification-of-COVID-19-chest-X-ray-images/dataset/training/normal/NORMAL2-IM-0317-0001.jpeg',\n",
              " '/content/Classification-of-COVID-19-chest-X-ray-images/dataset/training/normal/NORMAL2-IM-0111-0001.jpeg',\n",
              " '/content/Classification-of-COVID-19-chest-X-ray-images/dataset/training/normal/NORMAL2 (66).jpeg',\n",
              " '/content/Classification-of-COVID-19-chest-X-ray-images/dataset/training/normal/NORMAL2 (84).jpeg',\n",
              " '/content/Classification-of-COVID-19-chest-X-ray-images/dataset/training/normal/NORMAL2 (89).jpeg',\n",
              " '/content/Classification-of-COVID-19-chest-X-ray-images/dataset/training/normal/NORMAL2 (149).jpeg',\n",
              " '/content/Classification-of-COVID-19-chest-X-ray-images/dataset/training/normal/NORMAL2 (24).jpeg',\n",
              " '/content/Classification-of-COVID-19-chest-X-ray-images/dataset/training/normal/NORMAL2 (163).jpeg',\n",
              " '/content/Classification-of-COVID-19-chest-X-ray-images/dataset/training/normal/NORMAL2 (26).jpeg',\n",
              " '/content/Classification-of-COVID-19-chest-X-ray-images/dataset/training/normal/NORMAL2 (19).jpeg',\n",
              " '/content/Classification-of-COVID-19-chest-X-ray-images/dataset/training/normal/NORMAL2 (36).jpeg',\n",
              " '/content/Classification-of-COVID-19-chest-X-ray-images/dataset/training/normal/NORMAL2 (100).jpeg',\n",
              " '/content/Classification-of-COVID-19-chest-X-ray-images/dataset/training/normal/NORMAL2 (58).jpeg',\n",
              " '/content/Classification-of-COVID-19-chest-X-ray-images/dataset/training/normal/NORMAL2-IM-0307-0001.jpeg',\n",
              " '/content/Classification-of-COVID-19-chest-X-ray-images/dataset/training/normal/NORMAL2 (134).jpeg',\n",
              " '/content/Classification-of-COVID-19-chest-X-ray-images/dataset/training/normal/NORMAL2-IM-0361-0001.jpeg',\n",
              " '/content/Classification-of-COVID-19-chest-X-ray-images/dataset/training/normal/NORMAL2-IM-0066-0001.jpeg',\n",
              " '/content/Classification-of-COVID-19-chest-X-ray-images/dataset/training/normal/NORMAL2 (139).jpeg',\n",
              " '/content/Classification-of-COVID-19-chest-X-ray-images/dataset/training/normal/NORMAL2-IM-0096-0001.jpeg',\n",
              " '/content/Classification-of-COVID-19-chest-X-ray-images/dataset/training/normal/NORMAL2 (165).jpeg',\n",
              " '/content/Classification-of-COVID-19-chest-X-ray-images/dataset/training/normal/NORMAL2 (162).jpeg',\n",
              " '/content/Classification-of-COVID-19-chest-X-ray-images/dataset/training/normal/NORMAL2-IM-0073-0001.jpeg',\n",
              " '/content/Classification-of-COVID-19-chest-X-ray-images/dataset/training/normal/NORMAL2 (17).jpeg',\n",
              " '/content/Classification-of-COVID-19-chest-X-ray-images/dataset/training/Classification-of-COVID-19-chest-X-ray-images/vaibhav-model.py',\n",
              " '/content/Classification-of-COVID-19-chest-X-ray-images/dataset/training/Classification-of-COVID-19-chest-X-ray-images/README.md',\n",
              " '/content/Classification-of-COVID-19-chest-X-ray-images/dataset/training/Classification-of-COVID-19-chest-X-ray-images/covid_VGG16.ipynb',\n",
              " '/content/Classification-of-COVID-19-chest-X-ray-images/dataset/training/Classification-of-COVID-19-chest-X-ray-images/aditi-verma-model.py',\n",
              " '/content/Classification-of-COVID-19-chest-X-ray-images/dataset/training/Classification-of-COVID-19-chest-X-ray-images/test1.ipynb',\n",
              " '/content/Classification-of-COVID-19-chest-X-ray-images/dataset/training/Classification-of-COVID-19-chest-X-ray-images/aditya-gurnani-model.py',\n",
              " '/content/Classification-of-COVID-19-chest-X-ray-images/dataset/training/Classification-of-COVID-19-chest-X-ray-images/aditya-babar-model.py',\n",
              " '/content/Classification-of-COVID-19-chest-X-ray-images/dataset/training/Classification-of-COVID-19-chest-X-ray-images/augmentation.ipynb',\n",
              " '/content/Classification-of-COVID-19-chest-X-ray-images/dataset/training/Classification-of-COVID-19-chest-X-ray-images/aditi-godbole-model.py',\n",
              " '/content/Classification-of-COVID-19-chest-X-ray-images/dataset/training/Classification-of-COVID-19-chest-X-ray-images/.git/description',\n",
              " '/content/Classification-of-COVID-19-chest-X-ray-images/dataset/training/Classification-of-COVID-19-chest-X-ray-images/.git/index',\n",
              " '/content/Classification-of-COVID-19-chest-X-ray-images/dataset/training/Classification-of-COVID-19-chest-X-ray-images/.git/config',\n",
              " '/content/Classification-of-COVID-19-chest-X-ray-images/dataset/training/Classification-of-COVID-19-chest-X-ray-images/.git/packed-refs',\n",
              " '/content/Classification-of-COVID-19-chest-X-ray-images/dataset/training/Classification-of-COVID-19-chest-X-ray-images/.git/HEAD',\n",
              " '/content/Classification-of-COVID-19-chest-X-ray-images/dataset/training/Classification-of-COVID-19-chest-X-ray-images/.git/hooks/post-update.sample',\n",
              " '/content/Classification-of-COVID-19-chest-X-ray-images/dataset/training/Classification-of-COVID-19-chest-X-ray-images/.git/hooks/pre-commit.sample',\n",
              " '/content/Classification-of-COVID-19-chest-X-ray-images/dataset/training/Classification-of-COVID-19-chest-X-ray-images/.git/hooks/commit-msg.sample',\n",
              " '/content/Classification-of-COVID-19-chest-X-ray-images/dataset/training/Classification-of-COVID-19-chest-X-ray-images/.git/hooks/fsmonitor-watchman.sample',\n",
              " '/content/Classification-of-COVID-19-chest-X-ray-images/dataset/training/Classification-of-COVID-19-chest-X-ray-images/.git/hooks/applypatch-msg.sample',\n",
              " '/content/Classification-of-COVID-19-chest-X-ray-images/dataset/training/Classification-of-COVID-19-chest-X-ray-images/.git/hooks/prepare-commit-msg.sample',\n",
              " '/content/Classification-of-COVID-19-chest-X-ray-images/dataset/training/Classification-of-COVID-19-chest-X-ray-images/.git/hooks/pre-applypatch.sample',\n",
              " '/content/Classification-of-COVID-19-chest-X-ray-images/dataset/training/Classification-of-COVID-19-chest-X-ray-images/.git/hooks/update.sample',\n",
              " '/content/Classification-of-COVID-19-chest-X-ray-images/dataset/training/Classification-of-COVID-19-chest-X-ray-images/.git/hooks/pre-push.sample',\n",
              " '/content/Classification-of-COVID-19-chest-X-ray-images/dataset/training/Classification-of-COVID-19-chest-X-ray-images/.git/hooks/pre-receive.sample',\n",
              " '/content/Classification-of-COVID-19-chest-X-ray-images/dataset/training/Classification-of-COVID-19-chest-X-ray-images/.git/hooks/pre-rebase.sample',\n",
              " '/content/Classification-of-COVID-19-chest-X-ray-images/dataset/training/Classification-of-COVID-19-chest-X-ray-images/.git/objects/pack/pack-c0024eaa1c6a8e350475575db2b070d9020d0af4.idx',\n",
              " '/content/Classification-of-COVID-19-chest-X-ray-images/dataset/training/Classification-of-COVID-19-chest-X-ray-images/.git/objects/pack/pack-c0024eaa1c6a8e350475575db2b070d9020d0af4.pack',\n",
              " '/content/Classification-of-COVID-19-chest-X-ray-images/dataset/training/Classification-of-COVID-19-chest-X-ray-images/.git/logs/HEAD',\n",
              " '/content/Classification-of-COVID-19-chest-X-ray-images/dataset/training/Classification-of-COVID-19-chest-X-ray-images/.git/logs/refs/heads/master',\n",
              " '/content/Classification-of-COVID-19-chest-X-ray-images/dataset/training/Classification-of-COVID-19-chest-X-ray-images/.git/logs/refs/remotes/origin/HEAD',\n",
              " '/content/Classification-of-COVID-19-chest-X-ray-images/dataset/training/Classification-of-COVID-19-chest-X-ray-images/.git/refs/heads/master',\n",
              " '/content/Classification-of-COVID-19-chest-X-ray-images/dataset/training/Classification-of-COVID-19-chest-X-ray-images/.git/refs/remotes/origin/HEAD',\n",
              " '/content/Classification-of-COVID-19-chest-X-ray-images/dataset/training/Classification-of-COVID-19-chest-X-ray-images/.git/info/exclude',\n",
              " '/content/Classification-of-COVID-19-chest-X-ray-images/dataset/training/Classification-of-COVID-19-chest-X-ray-images/dataset/testing/normal/NORMAL2-IM-0336-0001.jpeg',\n",
              " '/content/Classification-of-COVID-19-chest-X-ray-images/dataset/training/Classification-of-COVID-19-chest-X-ray-images/dataset/testing/normal/NORMAL2-IM-0279-0001.jpeg',\n",
              " '/content/Classification-of-COVID-19-chest-X-ray-images/dataset/training/Classification-of-COVID-19-chest-X-ray-images/dataset/testing/normal/NORMAL2-IM-0325-0001.jpeg',\n",
              " '/content/Classification-of-COVID-19-chest-X-ray-images/dataset/training/Classification-of-COVID-19-chest-X-ray-images/dataset/testing/normal/NORMAL2-IM-0210-0001.jpeg',\n",
              " '/content/Classification-of-COVID-19-chest-X-ray-images/dataset/training/Classification-of-COVID-19-chest-X-ray-images/dataset/testing/normal/NORMAL2-IM-0246-0001-0002.jpeg',\n",
              " '/content/Classification-of-COVID-19-chest-X-ray-images/dataset/training/Classification-of-COVID-19-chest-X-ray-images/dataset/testing/normal/NORMAL2-IM-0362-0001.jpeg',\n",
              " '/content/Classification-of-COVID-19-chest-X-ray-images/dataset/training/Classification-of-COVID-19-chest-X-ray-images/dataset/testing/normal/NORMAL2-IM-0173-0001-0001.jpeg',\n",
              " '/content/Classification-of-COVID-19-chest-X-ray-images/dataset/training/Classification-of-COVID-19-chest-X-ray-images/dataset/testing/normal/NORMAL2-IM-0378-0001.jpeg',\n",
              " '/content/Classification-of-COVID-19-chest-X-ray-images/dataset/training/Classification-of-COVID-19-chest-X-ray-images/dataset/testing/normal/NORMAL2-IM-0272-0001.jpeg',\n",
              " '/content/Classification-of-COVID-19-chest-X-ray-images/dataset/training/Classification-of-COVID-19-chest-X-ray-images/dataset/testing/normal/NORMAL2-IM-0354-0001.jpeg',\n",
              " '/content/Classification-of-COVID-19-chest-X-ray-images/dataset/training/Classification-of-COVID-19-chest-X-ray-images/dataset/testing/normal/NORMAL2-IM-0150-0001.jpeg',\n",
              " '/content/Classification-of-COVID-19-chest-X-ray-images/dataset/training/Classification-of-COVID-19-chest-X-ray-images/dataset/testing/normal/NORMAL2-IM-0315-0001.jpeg',\n",
              " '/content/Classification-of-COVID-19-chest-X-ray-images/dataset/training/Classification-of-COVID-19-chest-X-ray-images/dataset/testing/normal/NORMAL2-IM-0376-0001.jpeg',\n",
              " '/content/Classification-of-COVID-19-chest-X-ray-images/dataset/training/Classification-of-COVID-19-chest-X-ray-images/dataset/testing/normal/NORMAL2-IM-0249-0001.jpeg',\n",
              " '/content/Classification-of-COVID-19-chest-X-ray-images/dataset/training/Classification-of-COVID-19-chest-X-ray-images/dataset/testing/normal/NORMAL2-IM-0041-0001.jpeg',\n",
              " '/content/Classification-of-COVID-19-chest-X-ray-images/dataset/training/Classification-of-COVID-19-chest-X-ray-images/dataset/testing/normal/NORMAL2-IM-0246-0001-0001.jpeg',\n",
              " '/content/Classification-of-COVID-19-chest-X-ray-images/dataset/training/Classification-of-COVID-19-chest-X-ray-images/dataset/testing/normal/NORMAL2-IM-0171-0001.jpeg',\n",
              " '/content/Classification-of-COVID-19-chest-X-ray-images/dataset/training/Classification-of-COVID-19-chest-X-ray-images/dataset/testing/normal/NORMAL2-IM-0045-0001.jpeg',\n",
              " '/content/Classification-of-COVID-19-chest-X-ray-images/dataset/training/Classification-of-COVID-19-chest-X-ray-images/dataset/testing/normal/NORMAL2-IM-0294-0001.jpeg',\n",
              " '/content/Classification-of-COVID-19-chest-X-ray-images/dataset/training/Classification-of-COVID-19-chest-X-ray-images/dataset/testing/normal/NORMAL2-IM-0303-0001.jpeg',\n",
              " '/content/Classification-of-COVID-19-chest-X-ray-images/dataset/training/Classification-of-COVID-19-chest-X-ray-images/dataset/testing/normal/NORMAL2-IM-0346-0001.jpeg',\n",
              " '/content/Classification-of-COVID-19-chest-X-ray-images/dataset/training/Classification-of-COVID-19-chest-X-ray-images/dataset/testing/normal/NORMAL2-IM-0123-0001.jpeg',\n",
              " '/content/Classification-of-COVID-19-chest-X-ray-images/dataset/training/Classification-of-COVID-19-chest-X-ray-images/dataset/testing/normal/NORMAL2-IM-0252-0001.jpeg',\n",
              " '/content/Classification-of-COVID-19-chest-X-ray-images/dataset/training/Classification-of-COVID-19-chest-X-ray-images/dataset/testing/normal/NORMAL2-IM-0173-0001-0002.jpeg',\n",
              " '/content/Classification-of-COVID-19-chest-X-ray-images/dataset/training/Classification-of-COVID-19-chest-X-ray-images/dataset/testing/normal/NORMAL2-IM-0313-0001.jpeg',\n",
              " '/content/Classification-of-COVID-19-chest-X-ray-images/dataset/training/Classification-of-COVID-19-chest-X-ray-images/dataset/testing/normal/NORMAL2-IM-0326-0001.jpeg',\n",
              " '/content/Classification-of-COVID-19-chest-X-ray-images/dataset/training/Classification-of-COVID-19-chest-X-ray-images/dataset/testing/normal/NORMAL2-IM-0366-0001.jpeg',\n",
              " '/content/Classification-of-COVID-19-chest-X-ray-images/dataset/training/Classification-of-COVID-19-chest-X-ray-images/dataset/testing/normal/NORMAL2-IM-0238-0001.jpeg',\n",
              " '/content/Classification-of-COVID-19-chest-X-ray-images/dataset/training/Classification-of-COVID-19-chest-X-ray-images/dataset/testing/normal/NORMAL2-IM-0098-0001.jpeg',\n",
              " '/content/Classification-of-COVID-19-chest-X-ray-images/dataset/training/Classification-of-COVID-19-chest-X-ray-images/dataset/testing/normal/NORMAL2-IM-0364-0001.jpeg',\n",
              " '/content/Classification-of-COVID-19-chest-X-ray-images/dataset/training/Classification-of-COVID-19-chest-X-ray-images/dataset/testing/normal/NORMAL2-IM-0316-0001.jpeg',\n",
              " '/content/Classification-of-COVID-19-chest-X-ray-images/dataset/training/Classification-of-COVID-19-chest-X-ray-images/dataset/testing/normal/1.jpeg',\n",
              " '/content/Classification-of-COVID-19-chest-X-ray-images/dataset/training/Classification-of-COVID-19-chest-X-ray-images/dataset/testing/normal/NORMAL2-IM-0256-0001.jpeg',\n",
              " '/content/Classification-of-COVID-19-chest-X-ray-images/dataset/training/Classification-of-COVID-19-chest-X-ray-images/dataset/testing/normal/NORMAL2-IM-0373-0001.jpeg',\n",
              " '/content/Classification-of-COVID-19-chest-X-ray-images/dataset/training/Classification-of-COVID-19-chest-X-ray-images/dataset/testing/normal/NORMAL2-IM-0335-0001.jpeg',\n",
              " '/content/Classification-of-COVID-19-chest-X-ray-images/dataset/training/Classification-of-COVID-19-chest-X-ray-images/dataset/testing/normal/NORMAL2-IM-0322-0001.jpeg',\n",
              " '/content/Classification-of-COVID-19-chest-X-ray-images/dataset/training/Classification-of-COVID-19-chest-X-ray-images/dataset/testing/normal/NORMAL2-IM-0338-0001.jpeg',\n",
              " '/content/Classification-of-COVID-19-chest-X-ray-images/dataset/training/Classification-of-COVID-19-chest-X-ray-images/dataset/testing/normal/NORMAL2-IM-0237-0001.jpeg',\n",
              " '/content/Classification-of-COVID-19-chest-X-ray-images/dataset/training/Classification-of-COVID-19-chest-X-ray-images/dataset/testing/normal/NORMAL2-IM-0280-0001.jpeg',\n",
              " '/content/Classification-of-COVID-19-chest-X-ray-images/dataset/training/Classification-of-COVID-19-chest-X-ray-images/dataset/testing/normal/NORMAL2-IM-0219-0001.jpeg',\n",
              " '/content/Classification-of-COVID-19-chest-X-ray-images/dataset/training/Classification-of-COVID-19-chest-X-ray-images/dataset/testing/normal/NORMAL2-IM-0131-0001.jpeg',\n",
              " '/content/Classification-of-COVID-19-chest-X-ray-images/dataset/training/Classification-of-COVID-19-chest-X-ray-images/dataset/testing/normal/NORMAL2-IM-0233-0001.jpeg',\n",
              " '/content/Classification-of-COVID-19-chest-X-ray-images/dataset/training/Classification-of-COVID-19-chest-X-ray-images/dataset/testing/normal/NORMAL2-IM-0232-0001.jpeg',\n",
              " '/content/Classification-of-COVID-19-chest-X-ray-images/dataset/training/Classification-of-COVID-19-chest-X-ray-images/dataset/testing/normal/NORMAL2-IM-0369-0001.jpeg',\n",
              " '/content/Classification-of-COVID-19-chest-X-ray-images/dataset/training/Classification-of-COVID-19-chest-X-ray-images/dataset/testing/normal/NORMAL2-IM-0330-0001.jpeg',\n",
              " '/content/Classification-of-COVID-19-chest-X-ray-images/dataset/training/Classification-of-COVID-19-chest-X-ray-images/dataset/testing/normal/NORMAL2-IM-0288-0001.jpeg',\n",
              " '/content/Classification-of-COVID-19-chest-X-ray-images/dataset/training/Classification-of-COVID-19-chest-X-ray-images/dataset/testing/normal/NORMAL2-IM-0328-0001.jpeg',\n",
              " '/content/Classification-of-COVID-19-chest-X-ray-images/dataset/training/Classification-of-COVID-19-chest-X-ray-images/dataset/testing/normal/NORMAL2-IM-0340-0001.jpeg',\n",
              " '/content/Classification-of-COVID-19-chest-X-ray-images/dataset/training/Classification-of-COVID-19-chest-X-ray-images/dataset/testing/normal/NORMAL2-IM-0229-0001.jpeg',\n",
              " '/content/Classification-of-COVID-19-chest-X-ray-images/dataset/training/Classification-of-COVID-19-chest-X-ray-images/dataset/testing/normal/NORMAL2-IM-0222-0001.jpeg',\n",
              " '/content/Classification-of-COVID-19-chest-X-ray-images/dataset/training/Classification-of-COVID-19-chest-X-ray-images/dataset/testing/normal/NORMAL2-IM-0146-0001.jpeg',\n",
              " '/content/Classification-of-COVID-19-chest-X-ray-images/dataset/training/Classification-of-COVID-19-chest-X-ray-images/dataset/testing/normal/NORMAL2-IM-0267-0001.jpeg',\n",
              " '/content/Classification-of-COVID-19-chest-X-ray-images/dataset/training/Classification-of-COVID-19-chest-X-ray-images/dataset/testing/normal/NORMAL2-IM-0139-0001.jpeg',\n",
              " '/content/Classification-of-COVID-19-chest-X-ray-images/dataset/training/Classification-of-COVID-19-chest-X-ray-images/dataset/testing/normal/NORMAL2-IM-0290-0001.jpeg',\n",
              " '/content/Classification-of-COVID-19-chest-X-ray-images/dataset/training/Classification-of-COVID-19-chest-X-ray-images/dataset/testing/normal/NORMAL2-IM-0221-0001.jpeg',\n",
              " '/content/Classification-of-COVID-19-chest-X-ray-images/dataset/training/Classification-of-COVID-19-chest-X-ray-images/dataset/testing/normal/NORMAL2-IM-0349-0001.jpeg',\n",
              " '/content/Classification-of-COVID-19-chest-X-ray-images/dataset/training/Classification-of-COVID-19-chest-X-ray-images/dataset/testing/normal/NORMAL2-IM-0246-0001.jpeg',\n",
              " '/content/Classification-of-COVID-19-chest-X-ray-images/dataset/training/Classification-of-COVID-19-chest-X-ray-images/dataset/testing/normal/NORMAL2-IM-0360-0001.jpeg',\n",
              " '/content/Classification-of-COVID-19-chest-X-ray-images/dataset/training/Classification-of-COVID-19-chest-X-ray-images/dataset/testing/normal/NORMAL2-IM-0327-0001.jpeg',\n",
              " '/content/Classification-of-COVID-19-chest-X-ray-images/dataset/training/Classification-of-COVID-19-chest-X-ray-images/dataset/testing/normal/NORMAL2-IM-0199-0001.jpeg',\n",
              " '/content/Classification-of-COVID-19-chest-X-ray-images/dataset/training/Classification-of-COVID-19-chest-X-ray-images/dataset/testing/normal/NORMAL2-IM-0195-0001.jpeg',\n",
              " '/content/Classification-of-COVID-19-chest-X-ray-images/dataset/training/Classification-of-COVID-19-chest-X-ray-images/dataset/testing/normal/NORMAL2-IM-0206-0001.jpeg',\n",
              " '/content/Classification-of-COVID-19-chest-X-ray-images/dataset/training/Classification-of-COVID-19-chest-X-ray-images/dataset/testing/normal/NORMAL2-IM-0217-0001.jpeg',\n",
              " '/content/Classification-of-COVID-19-chest-X-ray-images/dataset/training/Classification-of-COVID-19-chest-X-ray-images/dataset/testing/normal/NORMAL2-IM-0351-0001.jpeg',\n",
              " '/content/Classification-of-COVID-19-chest-X-ray-images/dataset/training/Classification-of-COVID-19-chest-X-ray-images/dataset/testing/normal/NORMAL2-IM-0374-0001-0002.jpeg',\n",
              " '/content/Classification-of-COVID-19-chest-X-ray-images/dataset/training/Classification-of-COVID-19-chest-X-ray-images/dataset/testing/normal/NORMAL2-IM-0304-0001.jpeg',\n",
              " '/content/Classification-of-COVID-19-chest-X-ray-images/dataset/training/Classification-of-COVID-19-chest-X-ray-images/dataset/testing/normal/NORMAL2-IM-0285-0001.jpeg',\n",
              " '/content/Classification-of-COVID-19-chest-X-ray-images/dataset/training/Classification-of-COVID-19-chest-X-ray-images/dataset/testing/normal/NORMAL2-IM-0241-0001.jpeg',\n",
              " '/content/Classification-of-COVID-19-chest-X-ray-images/dataset/training/Classification-of-COVID-19-chest-X-ray-images/dataset/testing/normal/NORMAL2-IM-0283-0001.jpeg',\n",
              " '/content/Classification-of-COVID-19-chest-X-ray-images/dataset/training/Classification-of-COVID-19-chest-X-ray-images/dataset/testing/infected/all14238-fig-0001-m-b.jpg',\n",
              " '/content/Classification-of-COVID-19-chest-X-ray-images/dataset/training/Classification-of-COVID-19-chest-X-ray-images/dataset/testing/infected/covid-19-pneumonia-8.jpg',\n",
              " '/content/Classification-of-COVID-19-chest-X-ray-images/dataset/training/Classification-of-COVID-19-chest-X-ray-images/dataset/testing/infected/1-s2.0-S1684118220300608-main.pdf-002.jpg',\n",
              " '/content/Classification-of-COVID-19-chest-X-ray-images/dataset/training/Classification-of-COVID-19-chest-X-ray-images/dataset/testing/infected/nCoV-radiol.2020200269.fig1-day7.jpeg',\n",
              " '/content/Classification-of-COVID-19-chest-X-ray-images/dataset/training/Classification-of-COVID-19-chest-X-ray-images/dataset/testing/infected/kjr-21-e24-g002-l-a.jpg',\n",
              " '/content/Classification-of-COVID-19-chest-X-ray-images/dataset/training/Classification-of-COVID-19-chest-X-ray-images/dataset/testing/infected/covid-19-pneumonia-evolution-over-a-week-1-day0-PA.jpg',\n",
              " '/content/Classification-of-COVID-19-chest-X-ray-images/dataset/training/Classification-of-COVID-19-chest-X-ray-images/dataset/testing/infected/kjr-21-e24-g001-l-a.jpg',\n",
              " '/content/Classification-of-COVID-19-chest-X-ray-images/dataset/training/Classification-of-COVID-19-chest-X-ray-images/dataset/testing/infected/covid-19-pneumonia-20-pa-on-admission.jpg',\n",
              " '/content/Classification-of-COVID-19-chest-X-ray-images/dataset/training/Classification-of-COVID-19-chest-X-ray-images/dataset/testing/infected/41591_2020_819_Fig1_HTML.webp-day5.png',\n",
              " '/content/Classification-of-COVID-19-chest-X-ray-images/dataset/training/Classification-of-COVID-19-chest-X-ray-images/dataset/testing/infected/covid-19-pneumonia-53.jpg',\n",
              " '/content/Classification-of-COVID-19-chest-X-ray-images/dataset/training/Classification-of-COVID-19-chest-X-ray-images/dataset/testing/infected/58cb9263f16e94305c730685358e4e_jumbo.jpeg',\n",
              " '/content/Classification-of-COVID-19-chest-X-ray-images/dataset/training/Classification-of-COVID-19-chest-X-ray-images/dataset/testing/infected/31BA3780-2323-493F-8AED-62081B9C383B.jpeg',\n",
              " '/content/Classification-of-COVID-19-chest-X-ray-images/dataset/training/Classification-of-COVID-19-chest-X-ray-images/dataset/testing/infected/gr1_lrg-b.jpg',\n",
              " '/content/Classification-of-COVID-19-chest-X-ray-images/dataset/training/Classification-of-COVID-19-chest-X-ray-images/dataset/testing/infected/covid-19-pneumonia-67.jpeg',\n",
              " '/content/Classification-of-COVID-19-chest-X-ray-images/dataset/training/Classification-of-COVID-19-chest-X-ray-images/dataset/testing/infected/covid-19-pneumonia-44-day-0.jpeg',\n",
              " '/content/Classification-of-COVID-19-chest-X-ray-images/dataset/training/Classification-of-COVID-19-chest-X-ray-images/dataset/testing/infected/kjr-21-e24-g003-l-a.jpg',\n",
              " '/content/Classification-of-COVID-19-chest-X-ray-images/dataset/training/Classification-of-COVID-19-chest-X-ray-images/dataset/testing/infected/4e43e48d52c9e2d4c6c1fb9bc1544f_jumbo.jpeg',\n",
              " '/content/Classification-of-COVID-19-chest-X-ray-images/dataset/training/Classification-of-COVID-19-chest-X-ray-images/dataset/testing/infected/covid-19-pneumonia-mild.JPG',\n",
              " '/content/Classification-of-COVID-19-chest-X-ray-images/dataset/training/Classification-of-COVID-19-chest-X-ray-images/dataset/testing/infected/kjr-21-e25-g001-l-a.jpg',\n",
              " '/content/Classification-of-COVID-19-chest-X-ray-images/dataset/training/Classification-of-COVID-19-chest-X-ray-images/dataset/testing/infected/all14238-fig-0001-m-c.jpg',\n",
              " '/content/Classification-of-COVID-19-chest-X-ray-images/dataset/training/Classification-of-COVID-19-chest-X-ray-images/dataset/testing/infected/F2DE909F-E19C-4900-92F5-8F435B031AC6.jpeg',\n",
              " '/content/Classification-of-COVID-19-chest-X-ray-images/dataset/training/Classification-of-COVID-19-chest-X-ray-images/dataset/testing/infected/1.jpg',\n",
              " '/content/Classification-of-COVID-19-chest-X-ray-images/dataset/training/Classification-of-COVID-19-chest-X-ray-images/dataset/testing/infected/80446565-E090-4187-A031-9D3CEAA586C8.jpeg',\n",
              " '/content/Classification-of-COVID-19-chest-X-ray-images/dataset/training/Classification-of-COVID-19-chest-X-ray-images/dataset/testing/infected/gr1_lrg-a.jpg',\n",
              " '/content/Classification-of-COVID-19-chest-X-ray-images/dataset/training/Classification-of-COVID-19-chest-X-ray-images/dataset/testing/infected/41591_2020_819_Fig1_HTML.webp-day10.png',\n",
              " '/content/Classification-of-COVID-19-chest-X-ray-images/dataset/training/Classification-of-COVID-19-chest-X-ray-images/dataset/training/normal/NORMAL2-IM-0201-0001.jpeg',\n",
              " '/content/Classification-of-COVID-19-chest-X-ray-images/dataset/training/Classification-of-COVID-19-chest-X-ray-images/dataset/training/normal/NORMAL2-IM-0079-0001.jpeg',\n",
              " '/content/Classification-of-COVID-19-chest-X-ray-images/dataset/training/Classification-of-COVID-19-chest-X-ray-images/dataset/training/normal/NORMAL2-IM-0275-0001.jpeg',\n",
              " '/content/Classification-of-COVID-19-chest-X-ray-images/dataset/training/Classification-of-COVID-19-chest-X-ray-images/dataset/training/normal/NORMAL2 (80).jpeg',\n",
              " '/content/Classification-of-COVID-19-chest-X-ray-images/dataset/training/Classification-of-COVID-19-chest-X-ray-images/dataset/training/normal/NORMAL2 (14).jpeg',\n",
              " '/content/Classification-of-COVID-19-chest-X-ray-images/dataset/training/Classification-of-COVID-19-chest-X-ray-images/dataset/training/normal/NORMAL2-IM-0012-0001.jpeg',\n",
              " '/content/Classification-of-COVID-19-chest-X-ray-images/dataset/training/Classification-of-COVID-19-chest-X-ray-images/dataset/training/normal/NORMAL2 (122).jpeg',\n",
              " '/content/Classification-of-COVID-19-chest-X-ray-images/dataset/training/Classification-of-COVID-19-chest-X-ray-images/dataset/training/normal/NORMAL2 (33).jpeg',\n",
              " '/content/Classification-of-COVID-19-chest-X-ray-images/dataset/training/Classification-of-COVID-19-chest-X-ray-images/dataset/training/normal/NORMAL2 (13).jpeg',\n",
              " '/content/Classification-of-COVID-19-chest-X-ray-images/dataset/training/Classification-of-COVID-19-chest-X-ray-images/dataset/training/normal/NORMAL2 (72).jpeg',\n",
              " '/content/Classification-of-COVID-19-chest-X-ray-images/dataset/training/Classification-of-COVID-19-chest-X-ray-images/dataset/training/normal/NORMAL2 (43).jpeg',\n",
              " '/content/Classification-of-COVID-19-chest-X-ray-images/dataset/training/Classification-of-COVID-19-chest-X-ray-images/dataset/training/normal/NORMAL2 (37).jpeg',\n",
              " '/content/Classification-of-COVID-19-chest-X-ray-images/dataset/training/Classification-of-COVID-19-chest-X-ray-images/dataset/training/normal/NORMAL2-IM-0309-0001.jpeg',\n",
              " '/content/Classification-of-COVID-19-chest-X-ray-images/dataset/training/Classification-of-COVID-19-chest-X-ray-images/dataset/training/normal/NORMAL2 (8).jpeg',\n",
              " '/content/Classification-of-COVID-19-chest-X-ray-images/dataset/training/Classification-of-COVID-19-chest-X-ray-images/dataset/training/normal/NORMAL2 (157).jpeg',\n",
              " '/content/Classification-of-COVID-19-chest-X-ray-images/dataset/training/Classification-of-COVID-19-chest-X-ray-images/dataset/training/normal/NORMAL2 (120).jpeg',\n",
              " '/content/Classification-of-COVID-19-chest-X-ray-images/dataset/training/Classification-of-COVID-19-chest-X-ray-images/dataset/training/normal/NORMAL2 (34).jpeg',\n",
              " '/content/Classification-of-COVID-19-chest-X-ray-images/dataset/training/Classification-of-COVID-19-chest-X-ray-images/dataset/training/normal/NORMAL2 (50).jpeg',\n",
              " '/content/Classification-of-COVID-19-chest-X-ray-images/dataset/training/Classification-of-COVID-19-chest-X-ray-images/dataset/training/normal/NORMAL2 (96).jpeg',\n",
              " '/content/Classification-of-COVID-19-chest-X-ray-images/dataset/training/Classification-of-COVID-19-chest-X-ray-images/dataset/training/normal/NORMAL2-IM-0023-0001.jpeg',\n",
              " '/content/Classification-of-COVID-19-chest-X-ray-images/dataset/training/Classification-of-COVID-19-chest-X-ray-images/dataset/training/normal/NORMAL2 (101).jpeg',\n",
              " '/content/Classification-of-COVID-19-chest-X-ray-images/dataset/training/Classification-of-COVID-19-chest-X-ray-images/dataset/training/normal/NORMAL2 (173).jpeg',\n",
              " '/content/Classification-of-COVID-19-chest-X-ray-images/dataset/training/Classification-of-COVID-19-chest-X-ray-images/dataset/training/normal/NORMAL2-IM-0374-0001-0001.jpeg',\n",
              " '/content/Classification-of-COVID-19-chest-X-ray-images/dataset/training/Classification-of-COVID-19-chest-X-ray-images/dataset/training/normal/NORMAL2-IM-0374-0001.jpeg',\n",
              " '/content/Classification-of-COVID-19-chest-X-ray-images/dataset/training/Classification-of-COVID-19-chest-X-ray-images/dataset/training/normal/NORMAL2 (67).jpeg',\n",
              " '/content/Classification-of-COVID-19-chest-X-ray-images/dataset/training/Classification-of-COVID-19-chest-X-ray-images/dataset/training/normal/NORMAL2 (148).jpeg',\n",
              " '/content/Classification-of-COVID-19-chest-X-ray-images/dataset/training/Classification-of-COVID-19-chest-X-ray-images/dataset/training/normal/NORMAL2 (55).jpeg',\n",
              " '/content/Classification-of-COVID-19-chest-X-ray-images/dataset/training/Classification-of-COVID-19-chest-X-ray-images/dataset/training/normal/NORMAL2-IM-0135-0001.jpeg',\n",
              " '/content/Classification-of-COVID-19-chest-X-ray-images/dataset/training/Classification-of-COVID-19-chest-X-ray-images/dataset/training/normal/NORMAL2-IM-0321-0001.jpeg',\n",
              " '/content/Classification-of-COVID-19-chest-X-ray-images/dataset/training/Classification-of-COVID-19-chest-X-ray-images/dataset/training/normal/NORMAL2 (41).jpeg',\n",
              " '/content/Classification-of-COVID-19-chest-X-ray-images/dataset/training/Classification-of-COVID-19-chest-X-ray-images/dataset/training/normal/NORMAL2-IM-0368-0001.jpeg',\n",
              " '/content/Classification-of-COVID-19-chest-X-ray-images/dataset/training/Classification-of-COVID-19-chest-X-ray-images/dataset/training/normal/NORMAL2 (138).jpeg',\n",
              " '/content/Classification-of-COVID-19-chest-X-ray-images/dataset/training/Classification-of-COVID-19-chest-X-ray-images/dataset/training/normal/NORMAL2 (176).jpeg',\n",
              " '/content/Classification-of-COVID-19-chest-X-ray-images/dataset/training/Classification-of-COVID-19-chest-X-ray-images/dataset/training/normal/NORMAL2 (141).jpeg',\n",
              " '/content/Classification-of-COVID-19-chest-X-ray-images/dataset/training/Classification-of-COVID-19-chest-X-ray-images/dataset/training/normal/NORMAL2 (177).jpeg',\n",
              " '/content/Classification-of-COVID-19-chest-X-ray-images/dataset/training/Classification-of-COVID-19-chest-X-ray-images/dataset/training/normal/NORMAL2 (95).jpeg',\n",
              " '/content/Classification-of-COVID-19-chest-X-ray-images/dataset/training/Classification-of-COVID-19-chest-X-ray-images/dataset/training/normal/NORMAL2-IM-0278-0001.jpeg',\n",
              " '/content/Classification-of-COVID-19-chest-X-ray-images/dataset/training/Classification-of-COVID-19-chest-X-ray-images/dataset/training/normal/NORMAL2 (183).jpeg',\n",
              " '/content/Classification-of-COVID-19-chest-X-ray-images/dataset/training/Classification-of-COVID-19-chest-X-ray-images/dataset/training/normal/NORMAL2-IM-0345-0001.jpeg',\n",
              " '/content/Classification-of-COVID-19-chest-X-ray-images/dataset/training/Classification-of-COVID-19-chest-X-ray-images/dataset/training/normal/NORMAL2 (32).jpeg',\n",
              " '/content/Classification-of-COVID-19-chest-X-ray-images/dataset/training/Classification-of-COVID-19-chest-X-ray-images/dataset/training/normal/NORMAL2-IM-0019-0001.jpeg',\n",
              " '/content/Classification-of-COVID-19-chest-X-ray-images/dataset/training/Classification-of-COVID-19-chest-X-ray-images/dataset/training/normal/NORMAL2-IM-0352-0001.jpeg',\n",
              " '/content/Classification-of-COVID-19-chest-X-ray-images/dataset/training/Classification-of-COVID-19-chest-X-ray-images/dataset/training/normal/NORMAL2 (172).jpeg',\n",
              " '/content/Classification-of-COVID-19-chest-X-ray-images/dataset/training/Classification-of-COVID-19-chest-X-ray-images/dataset/training/normal/NORMAL2-IM-0297-0001.jpeg',\n",
              " '/content/Classification-of-COVID-19-chest-X-ray-images/dataset/training/Classification-of-COVID-19-chest-X-ray-images/dataset/training/normal/NORMAL2 (136).jpeg',\n",
              " '/content/Classification-of-COVID-19-chest-X-ray-images/dataset/training/Classification-of-COVID-19-chest-X-ray-images/dataset/training/normal/NORMAL2 (106).jpeg',\n",
              " '/content/Classification-of-COVID-19-chest-X-ray-images/dataset/training/Classification-of-COVID-19-chest-X-ray-images/dataset/training/normal/NORMAL2 (69).jpeg',\n",
              " '/content/Classification-of-COVID-19-chest-X-ray-images/dataset/training/Classification-of-COVID-19-chest-X-ray-images/dataset/training/normal/NORMAL2 (132).jpeg',\n",
              " '/content/Classification-of-COVID-19-chest-X-ray-images/dataset/training/Classification-of-COVID-19-chest-X-ray-images/dataset/training/normal/NORMAL2 (180).jpeg',\n",
              " '/content/Classification-of-COVID-19-chest-X-ray-images/dataset/training/Classification-of-COVID-19-chest-X-ray-images/dataset/training/normal/NORMAL2 (48).jpeg',\n",
              " '/content/Classification-of-COVID-19-chest-X-ray-images/dataset/training/Classification-of-COVID-19-chest-X-ray-images/dataset/training/normal/NORMAL2 (60).jpeg',\n",
              " '/content/Classification-of-COVID-19-chest-X-ray-images/dataset/training/Classification-of-COVID-19-chest-X-ray-images/dataset/training/normal/NORMAL2 (38).jpeg',\n",
              " '/content/Classification-of-COVID-19-chest-X-ray-images/dataset/training/Classification-of-COVID-19-chest-X-ray-images/dataset/training/normal/NORMAL2 (42).jpeg',\n",
              " '/content/Classification-of-COVID-19-chest-X-ray-images/dataset/training/Classification-of-COVID-19-chest-X-ray-images/dataset/training/normal/NORMAL2-IM-0027-0001.jpeg',\n",
              " '/content/Classification-of-COVID-19-chest-X-ray-images/dataset/training/Classification-of-COVID-19-chest-X-ray-images/dataset/training/normal/NORMAL2 (107).jpeg',\n",
              " '/content/Classification-of-COVID-19-chest-X-ray-images/dataset/training/Classification-of-COVID-19-chest-X-ray-images/dataset/training/normal/NORMAL2 (133).jpeg',\n",
              " '/content/Classification-of-COVID-19-chest-X-ray-images/dataset/training/Classification-of-COVID-19-chest-X-ray-images/dataset/training/normal/NORMAL2-IM-0251-0001.jpeg',\n",
              " '/content/Classification-of-COVID-19-chest-X-ray-images/dataset/training/Classification-of-COVID-19-chest-X-ray-images/dataset/training/normal/NORMAL2-IM-0370-0001.jpeg',\n",
              " '/content/Classification-of-COVID-19-chest-X-ray-images/dataset/training/Classification-of-COVID-19-chest-X-ray-images/dataset/training/normal/NORMAL2 (166).jpeg',\n",
              " '/content/Classification-of-COVID-19-chest-X-ray-images/dataset/training/Classification-of-COVID-19-chest-X-ray-images/dataset/training/normal/NORMAL2 (74).jpeg',\n",
              " '/content/Classification-of-COVID-19-chest-X-ray-images/dataset/training/Classification-of-COVID-19-chest-X-ray-images/dataset/training/normal/NORMAL2 (112).jpeg',\n",
              " '/content/Classification-of-COVID-19-chest-X-ray-images/dataset/training/Classification-of-COVID-19-chest-X-ray-images/dataset/training/normal/NORMAL2-IM-0207-0001.jpeg',\n",
              " '/content/Classification-of-COVID-19-chest-X-ray-images/dataset/training/Classification-of-COVID-19-chest-X-ray-images/dataset/training/normal/NORMAL2 (143).jpeg',\n",
              " '/content/Classification-of-COVID-19-chest-X-ray-images/dataset/training/Classification-of-COVID-19-chest-X-ray-images/dataset/training/normal/NORMAL2-IM-0030-0001.jpeg',\n",
              " '/content/Classification-of-COVID-19-chest-X-ray-images/dataset/training/Classification-of-COVID-19-chest-X-ray-images/dataset/training/normal/NORMAL2 (98).jpeg',\n",
              " '/content/Classification-of-COVID-19-chest-X-ray-images/dataset/training/Classification-of-COVID-19-chest-X-ray-images/dataset/training/normal/NORMAL2 (61).jpeg',\n",
              " '/content/Classification-of-COVID-19-chest-X-ray-images/dataset/training/Classification-of-COVID-19-chest-X-ray-images/dataset/training/normal/NORMAL2-IM-0107-0001.jpeg',\n",
              " '/content/Classification-of-COVID-19-chest-X-ray-images/dataset/training/Classification-of-COVID-19-chest-X-ray-images/dataset/training/normal/NORMAL2-IM-0271-0001.jpeg',\n",
              " '/content/Classification-of-COVID-19-chest-X-ray-images/dataset/training/Classification-of-COVID-19-chest-X-ray-images/dataset/training/normal/NORMAL2-IM-0117-0001.jpeg',\n",
              " '/content/Classification-of-COVID-19-chest-X-ray-images/dataset/training/Classification-of-COVID-19-chest-X-ray-images/dataset/training/normal/NORMAL2-IM-0339-0001.jpeg',\n",
              " '/content/Classification-of-COVID-19-chest-X-ray-images/dataset/training/Classification-of-COVID-19-chest-X-ray-images/dataset/training/normal/NORMAL2 (194).jpeg',\n",
              " '/content/Classification-of-COVID-19-chest-X-ray-images/dataset/training/Classification-of-COVID-19-chest-X-ray-images/dataset/training/normal/NORMAL2-IM-0281-0001.jpeg',\n",
              " '/content/Classification-of-COVID-19-chest-X-ray-images/dataset/training/Classification-of-COVID-19-chest-X-ray-images/dataset/training/normal/NORMAL2 (35).jpeg',\n",
              " '/content/Classification-of-COVID-19-chest-X-ray-images/dataset/training/Classification-of-COVID-19-chest-X-ray-images/dataset/training/normal/NORMAL2 (10).jpeg',\n",
              " '/content/Classification-of-COVID-19-chest-X-ray-images/dataset/training/Classification-of-COVID-19-chest-X-ray-images/dataset/training/normal/NORMAL2-IM-0052-0001.jpeg',\n",
              " '/content/Classification-of-COVID-19-chest-X-ray-images/dataset/training/Classification-of-COVID-19-chest-X-ray-images/dataset/training/normal/NORMAL2 (184).jpeg',\n",
              " '/content/Classification-of-COVID-19-chest-X-ray-images/dataset/training/Classification-of-COVID-19-chest-X-ray-images/dataset/training/normal/NORMAL2 (51).jpeg',\n",
              " '/content/Classification-of-COVID-19-chest-X-ray-images/dataset/training/Classification-of-COVID-19-chest-X-ray-images/dataset/training/normal/NORMAL2 (140).jpeg',\n",
              " '/content/Classification-of-COVID-19-chest-X-ray-images/dataset/training/Classification-of-COVID-19-chest-X-ray-images/dataset/training/normal/NORMAL2-IM-0311-0001.jpeg',\n",
              " '/content/Classification-of-COVID-19-chest-X-ray-images/dataset/training/Classification-of-COVID-19-chest-X-ray-images/dataset/training/normal/NORMAL2-IM-0300-0001.jpeg',\n",
              " '/content/Classification-of-COVID-19-chest-X-ray-images/dataset/training/Classification-of-COVID-19-chest-X-ray-images/dataset/training/normal/NORMAL2 (118).jpeg',\n",
              " '/content/Classification-of-COVID-19-chest-X-ray-images/dataset/training/Classification-of-COVID-19-chest-X-ray-images/dataset/training/normal/NORMAL2-IM-0380-0001.jpeg',\n",
              " '/content/Classification-of-COVID-19-chest-X-ray-images/dataset/training/Classification-of-COVID-19-chest-X-ray-images/dataset/training/normal/NORMAL2 (111).jpeg',\n",
              " '/content/Classification-of-COVID-19-chest-X-ray-images/dataset/training/Classification-of-COVID-19-chest-X-ray-images/dataset/training/normal/NORMAL2 (18).jpeg',\n",
              " '/content/Classification-of-COVID-19-chest-X-ray-images/dataset/training/Classification-of-COVID-19-chest-X-ray-images/dataset/training/normal/NORMAL2-IM-0341-0001.jpeg',\n",
              " '/content/Classification-of-COVID-19-chest-X-ray-images/dataset/training/Classification-of-COVID-19-chest-X-ray-images/dataset/training/normal/NORMAL2-IM-0141-0001.jpeg',\n",
              " '/content/Classification-of-COVID-19-chest-X-ray-images/dataset/training/Classification-of-COVID-19-chest-X-ray-images/dataset/training/normal/NORMAL2-IM-0132-0001.jpeg',\n",
              " '/content/Classification-of-COVID-19-chest-X-ray-images/dataset/training/Classification-of-COVID-19-chest-X-ray-images/dataset/training/normal/NORMAL2 (155).jpeg',\n",
              " '/content/Classification-of-COVID-19-chest-X-ray-images/dataset/training/Classification-of-COVID-19-chest-X-ray-images/dataset/training/normal/NORMAL2 (2).jpeg',\n",
              " '/content/Classification-of-COVID-19-chest-X-ray-images/dataset/training/Classification-of-COVID-19-chest-X-ray-images/dataset/training/normal/NORMAL2-IM-0372-0001.jpeg',\n",
              " '/content/Classification-of-COVID-19-chest-X-ray-images/dataset/training/Classification-of-COVID-19-chest-X-ray-images/dataset/training/normal/NORMAL2 (44).jpeg',\n",
              " '/content/Classification-of-COVID-19-chest-X-ray-images/dataset/training/Classification-of-COVID-19-chest-X-ray-images/dataset/training/normal/NORMAL2-IM-0060-0001.jpeg',\n",
              " '/content/Classification-of-COVID-19-chest-X-ray-images/dataset/training/Classification-of-COVID-19-chest-X-ray-images/dataset/training/normal/NORMAL2 (152).jpeg',\n",
              " '/content/Classification-of-COVID-19-chest-X-ray-images/dataset/training/Classification-of-COVID-19-chest-X-ray-images/dataset/training/normal/NORMAL2-IM-0051-0001.jpeg',\n",
              " '/content/Classification-of-COVID-19-chest-X-ray-images/dataset/training/Classification-of-COVID-19-chest-X-ray-images/dataset/training/normal/NORMAL2 (88).jpeg',\n",
              " '/content/Classification-of-COVID-19-chest-X-ray-images/dataset/training/Classification-of-COVID-19-chest-X-ray-images/dataset/training/normal/NORMAL2 (129).jpeg',\n",
              " '/content/Classification-of-COVID-19-chest-X-ray-images/dataset/training/Classification-of-COVID-19-chest-X-ray-images/dataset/training/normal/NORMAL2 (168).jpeg',\n",
              " '/content/Classification-of-COVID-19-chest-X-ray-images/dataset/training/Classification-of-COVID-19-chest-X-ray-images/dataset/training/normal/NORMAL2 (91).jpeg',\n",
              " '/content/Classification-of-COVID-19-chest-X-ray-images/dataset/training/Classification-of-COVID-19-chest-X-ray-images/dataset/training/normal/NORMAL2 (185).jpeg',\n",
              " '/content/Classification-of-COVID-19-chest-X-ray-images/dataset/training/Classification-of-COVID-19-chest-X-ray-images/dataset/training/normal/NORMAL2 (114).jpeg',\n",
              " '/content/Classification-of-COVID-19-chest-X-ray-images/dataset/training/Classification-of-COVID-19-chest-X-ray-images/dataset/training/normal/NORMAL2 (63).jpeg',\n",
              " '/content/Classification-of-COVID-19-chest-X-ray-images/dataset/training/Classification-of-COVID-19-chest-X-ray-images/dataset/training/normal/NORMAL2 (117).jpeg',\n",
              " '/content/Classification-of-COVID-19-chest-X-ray-images/dataset/training/Classification-of-COVID-19-chest-X-ray-images/dataset/training/normal/NORMAL2 (189).jpeg',\n",
              " '/content/Classification-of-COVID-19-chest-X-ray-images/dataset/training/Classification-of-COVID-19-chest-X-ray-images/dataset/training/normal/NORMAL2 (125).jpeg',\n",
              " '/content/Classification-of-COVID-19-chest-X-ray-images/dataset/training/Classification-of-COVID-19-chest-X-ray-images/dataset/training/normal/NORMAL2-IM-0310-0001.jpeg',\n",
              " '/content/Classification-of-COVID-19-chest-X-ray-images/dataset/training/Classification-of-COVID-19-chest-X-ray-images/dataset/training/normal/NORMAL2 (159).jpeg',\n",
              " '/content/Classification-of-COVID-19-chest-X-ray-images/dataset/training/Classification-of-COVID-19-chest-X-ray-images/dataset/training/normal/NORMAL2 (178).jpeg',\n",
              " '/content/Classification-of-COVID-19-chest-X-ray-images/dataset/training/Classification-of-COVID-19-chest-X-ray-images/dataset/training/normal/NORMAL2-IM-0289-0001.jpeg',\n",
              " '/content/Classification-of-COVID-19-chest-X-ray-images/dataset/training/Classification-of-COVID-19-chest-X-ray-images/dataset/training/normal/NORMAL2 (75).jpeg',\n",
              " '/content/Classification-of-COVID-19-chest-X-ray-images/dataset/training/Classification-of-COVID-19-chest-X-ray-images/dataset/training/normal/NORMAL2-IM-0292-0001.jpeg',\n",
              " '/content/Classification-of-COVID-19-chest-X-ray-images/dataset/training/Classification-of-COVID-19-chest-X-ray-images/dataset/training/normal/NORMAL2-IM-0329-0001.jpeg',\n",
              " '/content/Classification-of-COVID-19-chest-X-ray-images/dataset/training/Classification-of-COVID-19-chest-X-ray-images/dataset/training/normal/NORMAL2 (197).jpeg',\n",
              " '/content/Classification-of-COVID-19-chest-X-ray-images/dataset/training/Classification-of-COVID-19-chest-X-ray-images/dataset/training/normal/NORMAL2 (71).jpeg',\n",
              " '/content/Classification-of-COVID-19-chest-X-ray-images/dataset/training/Classification-of-COVID-19-chest-X-ray-images/dataset/training/normal/NORMAL2 (181).jpeg',\n",
              " '/content/Classification-of-COVID-19-chest-X-ray-images/dataset/training/Classification-of-COVID-19-chest-X-ray-images/dataset/training/normal/NORMAL2 (9).jpeg',\n",
              " '/content/Classification-of-COVID-19-chest-X-ray-images/dataset/training/Classification-of-COVID-19-chest-X-ray-images/dataset/training/normal/NORMAL2-IM-0029-0001.jpeg',\n",
              " '/content/Classification-of-COVID-19-chest-X-ray-images/dataset/training/Classification-of-COVID-19-chest-X-ray-images/dataset/training/normal/NORMAL2-IM-0112-0001.jpeg',\n",
              " '/content/Classification-of-COVID-19-chest-X-ray-images/dataset/training/Classification-of-COVID-19-chest-X-ray-images/dataset/training/normal/NORMAL2 (103).jpeg',\n",
              " '/content/Classification-of-COVID-19-chest-X-ray-images/dataset/training/Classification-of-COVID-19-chest-X-ray-images/dataset/training/normal/NORMAL2 (123).jpeg',\n",
              " '/content/Classification-of-COVID-19-chest-X-ray-images/dataset/training/Classification-of-COVID-19-chest-X-ray-images/dataset/training/normal/NORMAL2 (56).jpeg',\n",
              " '/content/Classification-of-COVID-19-chest-X-ray-images/dataset/training/Classification-of-COVID-19-chest-X-ray-images/dataset/training/normal/NORMAL2 (161).jpeg',\n",
              " '/content/Classification-of-COVID-19-chest-X-ray-images/dataset/training/Classification-of-COVID-19-chest-X-ray-images/dataset/training/normal/NORMAL2-IM-0323-0001.jpeg',\n",
              " '/content/Classification-of-COVID-19-chest-X-ray-images/dataset/training/Classification-of-COVID-19-chest-X-ray-images/dataset/training/normal/NORMAL2-IM-0102-0001.jpeg',\n",
              " '/content/Classification-of-COVID-19-chest-X-ray-images/dataset/training/Classification-of-COVID-19-chest-X-ray-images/dataset/training/normal/1.jpeg',\n",
              " '/content/Classification-of-COVID-19-chest-X-ray-images/dataset/training/Classification-of-COVID-19-chest-X-ray-images/dataset/training/normal/NORMAL2 (82).jpeg',\n",
              " '/content/Classification-of-COVID-19-chest-X-ray-images/dataset/training/Classification-of-COVID-19-chest-X-ray-images/dataset/training/normal/NORMAL2 (154).jpeg',\n",
              " '/content/Classification-of-COVID-19-chest-X-ray-images/dataset/training/Classification-of-COVID-19-chest-X-ray-images/dataset/training/normal/NORMAL2 (171).jpeg',\n",
              " '/content/Classification-of-COVID-19-chest-X-ray-images/dataset/training/Classification-of-COVID-19-chest-X-ray-images/dataset/training/normal/NORMAL2 (108).jpeg',\n",
              " '/content/Classification-of-COVID-19-chest-X-ray-images/dataset/training/Classification-of-COVID-19-chest-X-ray-images/dataset/training/normal/NORMAL2 (109).jpeg',\n",
              " '/content/Classification-of-COVID-19-chest-X-ray-images/dataset/training/Classification-of-COVID-19-chest-X-ray-images/dataset/training/normal/NORMAL2 (52).jpeg',\n",
              " '/content/Classification-of-COVID-19-chest-X-ray-images/dataset/training/Classification-of-COVID-19-chest-X-ray-images/dataset/training/normal/NORMAL2 (175).jpeg',\n",
              " '/content/Classification-of-COVID-19-chest-X-ray-images/dataset/training/Classification-of-COVID-19-chest-X-ray-images/dataset/training/normal/NORMAL2 (164).jpeg',\n",
              " '/content/Classification-of-COVID-19-chest-X-ray-images/dataset/training/Classification-of-COVID-19-chest-X-ray-images/dataset/training/normal/NORMAL2 (104).jpeg',\n",
              " '/content/Classification-of-COVID-19-chest-X-ray-images/dataset/training/Classification-of-COVID-19-chest-X-ray-images/dataset/training/normal/NORMAL2 (22).jpeg',\n",
              " '/content/Classification-of-COVID-19-chest-X-ray-images/dataset/training/Classification-of-COVID-19-chest-X-ray-images/dataset/training/normal/NORMAL2-IM-0353-0001.jpeg',\n",
              " '/content/Classification-of-COVID-19-chest-X-ray-images/dataset/training/Classification-of-COVID-19-chest-X-ray-images/dataset/training/normal/NORMAL2-IM-0350-0001.jpeg',\n",
              " '/content/Classification-of-COVID-19-chest-X-ray-images/dataset/training/Classification-of-COVID-19-chest-X-ray-images/dataset/training/normal/NORMAL2 (199).jpeg',\n",
              " '/content/Classification-of-COVID-19-chest-X-ray-images/dataset/training/Classification-of-COVID-19-chest-X-ray-images/dataset/training/normal/NORMAL2 (99).jpeg',\n",
              " '/content/Classification-of-COVID-19-chest-X-ray-images/dataset/training/Classification-of-COVID-19-chest-X-ray-images/dataset/training/normal/NORMAL2 (90).jpeg',\n",
              " '/content/Classification-of-COVID-19-chest-X-ray-images/dataset/training/Classification-of-COVID-19-chest-X-ray-images/dataset/training/normal/NORMAL2 (49).jpeg',\n",
              " '/content/Classification-of-COVID-19-chest-X-ray-images/dataset/training/Classification-of-COVID-19-chest-X-ray-images/dataset/training/normal/NORMAL2 (3).jpeg',\n",
              " '/content/Classification-of-COVID-19-chest-X-ray-images/dataset/training/Classification-of-COVID-19-chest-X-ray-images/dataset/training/normal/NORMAL2-IM-0198-0001.jpeg',\n",
              " '/content/Classification-of-COVID-19-chest-X-ray-images/dataset/training/Classification-of-COVID-19-chest-X-ray-images/dataset/training/normal/NORMAL2-IM-0274-0001.jpeg',\n",
              " '/content/Classification-of-COVID-19-chest-X-ray-images/dataset/training/Classification-of-COVID-19-chest-X-ray-images/dataset/training/normal/NORMAL2 (29).jpeg',\n",
              " '/content/Classification-of-COVID-19-chest-X-ray-images/dataset/training/Classification-of-COVID-19-chest-X-ray-images/dataset/training/normal/NORMAL2 (110).jpeg',\n",
              " '/content/Classification-of-COVID-19-chest-X-ray-images/dataset/training/Classification-of-COVID-19-chest-X-ray-images/dataset/training/normal/NORMAL2 (124).jpeg',\n",
              " '/content/Classification-of-COVID-19-chest-X-ray-images/dataset/training/Classification-of-COVID-19-chest-X-ray-images/dataset/training/normal/NORMAL2 (65).jpeg',\n",
              " '/content/Classification-of-COVID-19-chest-X-ray-images/dataset/training/Classification-of-COVID-19-chest-X-ray-images/dataset/training/normal/NORMAL2 (23).jpeg',\n",
              " '/content/Classification-of-COVID-19-chest-X-ray-images/dataset/training/Classification-of-COVID-19-chest-X-ray-images/dataset/training/normal/NORMAL2 (174).jpeg',\n",
              " '/content/Classification-of-COVID-19-chest-X-ray-images/dataset/training/Classification-of-COVID-19-chest-X-ray-images/dataset/training/normal/NORMAL2 (86).jpeg',\n",
              " '/content/Classification-of-COVID-19-chest-X-ray-images/dataset/training/Classification-of-COVID-19-chest-X-ray-images/dataset/training/normal/NORMAL2 (179).jpeg',\n",
              " '/content/Classification-of-COVID-19-chest-X-ray-images/dataset/training/Classification-of-COVID-19-chest-X-ray-images/dataset/training/normal/NORMAL2-IM-0110-0001.jpeg',\n",
              " '/content/Classification-of-COVID-19-chest-X-ray-images/dataset/training/Classification-of-COVID-19-chest-X-ray-images/dataset/training/normal/NORMAL2 (142).jpeg',\n",
              " '/content/Classification-of-COVID-19-chest-X-ray-images/dataset/training/Classification-of-COVID-19-chest-X-ray-images/dataset/training/normal/NORMAL2 (115).jpeg',\n",
              " '/content/Classification-of-COVID-19-chest-X-ray-images/dataset/training/Classification-of-COVID-19-chest-X-ray-images/dataset/training/normal/NORMAL2 (73).jpeg',\n",
              " '/content/Classification-of-COVID-19-chest-X-ray-images/dataset/training/Classification-of-COVID-19-chest-X-ray-images/dataset/training/normal/NORMAL2 (76).jpeg',\n",
              " '/content/Classification-of-COVID-19-chest-X-ray-images/dataset/training/Classification-of-COVID-19-chest-X-ray-images/dataset/training/normal/NORMAL2-IM-0357-0001.jpeg',\n",
              " '/content/Classification-of-COVID-19-chest-X-ray-images/dataset/training/Classification-of-COVID-19-chest-X-ray-images/dataset/training/normal/NORMAL2 (47).jpeg',\n",
              " '/content/Classification-of-COVID-19-chest-X-ray-images/dataset/training/Classification-of-COVID-19-chest-X-ray-images/dataset/training/normal/NORMAL2 (31).jpeg',\n",
              " '/content/Classification-of-COVID-19-chest-X-ray-images/dataset/training/Classification-of-COVID-19-chest-X-ray-images/dataset/training/normal/NORMAL2 (169).jpeg',\n",
              " '/content/Classification-of-COVID-19-chest-X-ray-images/dataset/training/Classification-of-COVID-19-chest-X-ray-images/dataset/training/normal/NORMAL2 (156).jpeg',\n",
              " '/content/Classification-of-COVID-19-chest-X-ray-images/dataset/training/Classification-of-COVID-19-chest-X-ray-images/dataset/training/normal/NORMAL2 (188).jpeg',\n",
              " '/content/Classification-of-COVID-19-chest-X-ray-images/dataset/training/Classification-of-COVID-19-chest-X-ray-images/dataset/training/normal/NORMAL2-IM-0347-0001.jpeg',\n",
              " '/content/Classification-of-COVID-19-chest-X-ray-images/dataset/training/Classification-of-COVID-19-chest-X-ray-images/dataset/training/normal/NORMAL2 (79).jpeg',\n",
              " '/content/Classification-of-COVID-19-chest-X-ray-images/dataset/training/Classification-of-COVID-19-chest-X-ray-images/dataset/training/normal/NORMAL2-IM-0273-0001.jpeg',\n",
              " '/content/Classification-of-COVID-19-chest-X-ray-images/dataset/training/Classification-of-COVID-19-chest-X-ray-images/dataset/training/normal/NORMAL2 (16).jpeg',\n",
              " '/content/Classification-of-COVID-19-chest-X-ray-images/dataset/training/Classification-of-COVID-19-chest-X-ray-images/dataset/training/normal/NORMAL2 (190).jpeg',\n",
              " '/content/Classification-of-COVID-19-chest-X-ray-images/dataset/training/Classification-of-COVID-19-chest-X-ray-images/dataset/training/normal/NORMAL2 (121).jpeg',\n",
              " '/content/Classification-of-COVID-19-chest-X-ray-images/dataset/training/Classification-of-COVID-19-chest-X-ray-images/dataset/training/normal/NORMAL2 (128).jpeg',\n",
              " '/content/Classification-of-COVID-19-chest-X-ray-images/dataset/training/Classification-of-COVID-19-chest-X-ray-images/dataset/training/normal/NORMAL2-IM-0130-0001.jpeg',\n",
              " '/content/Classification-of-COVID-19-chest-X-ray-images/dataset/training/Classification-of-COVID-19-chest-X-ray-images/dataset/training/normal/NORMAL2-IM-0081-0001.jpeg',\n",
              " '/content/Classification-of-COVID-19-chest-X-ray-images/dataset/training/Classification-of-COVID-19-chest-X-ray-images/dataset/training/normal/NORMAL2-IM-0072-0001.jpeg',\n",
              " '/content/Classification-of-COVID-19-chest-X-ray-images/dataset/training/Classification-of-COVID-19-chest-X-ray-images/dataset/training/normal/NORMAL2 (186).jpeg',\n",
              " '/content/Classification-of-COVID-19-chest-X-ray-images/dataset/training/Classification-of-COVID-19-chest-X-ray-images/dataset/training/normal/NORMAL2-IM-0033-0001.jpeg',\n",
              " '/content/Classification-of-COVID-19-chest-X-ray-images/dataset/training/Classification-of-COVID-19-chest-X-ray-images/dataset/training/normal/NORMAL2 (54).jpeg',\n",
              " '/content/Classification-of-COVID-19-chest-X-ray-images/dataset/training/Classification-of-COVID-19-chest-X-ray-images/dataset/training/normal/NORMAL2-IM-0058-0001.jpeg',\n",
              " '/content/Classification-of-COVID-19-chest-X-ray-images/dataset/training/Classification-of-COVID-19-chest-X-ray-images/dataset/training/normal/NORMAL2 (30).jpeg',\n",
              " '/content/Classification-of-COVID-19-chest-X-ray-images/dataset/training/Classification-of-COVID-19-chest-X-ray-images/dataset/training/normal/NORMAL2 (137).jpeg',\n",
              " '/content/Classification-of-COVID-19-chest-X-ray-images/dataset/training/Classification-of-COVID-19-chest-X-ray-images/dataset/training/normal/NORMAL2 (62).jpeg',\n",
              " '/content/Classification-of-COVID-19-chest-X-ray-images/dataset/training/Classification-of-COVID-19-chest-X-ray-images/dataset/training/normal/NORMAL2-IM-0059-0001.jpeg',\n",
              " '/content/Classification-of-COVID-19-chest-X-ray-images/dataset/training/Classification-of-COVID-19-chest-X-ray-images/dataset/training/normal/NORMAL2 (126).jpeg',\n",
              " '/content/Classification-of-COVID-19-chest-X-ray-images/dataset/training/Classification-of-COVID-19-chest-X-ray-images/dataset/training/normal/NORMAL2 (92).jpeg',\n",
              " '/content/Classification-of-COVID-19-chest-X-ray-images/dataset/training/Classification-of-COVID-19-chest-X-ray-images/dataset/training/normal/NORMAL2 (135).jpeg',\n",
              " '/content/Classification-of-COVID-19-chest-X-ray-images/dataset/training/Classification-of-COVID-19-chest-X-ray-images/dataset/training/normal/NORMAL2-IM-0129-0001.jpeg',\n",
              " '/content/Classification-of-COVID-19-chest-X-ray-images/dataset/training/Classification-of-COVID-19-chest-X-ray-images/dataset/training/normal/NORMAL2 (193).jpeg',\n",
              " '/content/Classification-of-COVID-19-chest-X-ray-images/dataset/training/Classification-of-COVID-19-chest-X-ray-images/dataset/training/normal/NORMAL2 (4).jpeg',\n",
              " '/content/Classification-of-COVID-19-chest-X-ray-images/dataset/training/Classification-of-COVID-19-chest-X-ray-images/dataset/training/normal/NORMAL2 (147).jpeg',\n",
              " '/content/Classification-of-COVID-19-chest-X-ray-images/dataset/training/Classification-of-COVID-19-chest-X-ray-images/dataset/training/normal/NORMAL2 (85).jpeg',\n",
              " '/content/Classification-of-COVID-19-chest-X-ray-images/dataset/training/Classification-of-COVID-19-chest-X-ray-images/dataset/training/normal/NORMAL2 (146).jpeg',\n",
              " '/content/Classification-of-COVID-19-chest-X-ray-images/dataset/training/Classification-of-COVID-19-chest-X-ray-images/dataset/training/normal/NORMAL2 (158).jpeg',\n",
              " '/content/Classification-of-COVID-19-chest-X-ray-images/dataset/training/Classification-of-COVID-19-chest-X-ray-images/dataset/training/normal/NORMAL2-IM-0095-0001.jpeg',\n",
              " '/content/Classification-of-COVID-19-chest-X-ray-images/dataset/training/Classification-of-COVID-19-chest-X-ray-images/dataset/training/normal/NORMAL2 (12).jpeg',\n",
              " '/content/Classification-of-COVID-19-chest-X-ray-images/dataset/training/Classification-of-COVID-19-chest-X-ray-images/dataset/training/normal/NORMAL2 (182).jpeg',\n",
              " '/content/Classification-of-COVID-19-chest-X-ray-images/dataset/training/Classification-of-COVID-19-chest-X-ray-images/dataset/training/normal/NORMAL2 (144).jpeg',\n",
              " '/content/Classification-of-COVID-19-chest-X-ray-images/dataset/training/Classification-of-COVID-19-chest-X-ray-images/dataset/training/normal/NORMAL2 (27).jpeg',\n",
              " '/content/Classification-of-COVID-19-chest-X-ray-images/dataset/training/Classification-of-COVID-19-chest-X-ray-images/dataset/training/normal/NORMAL2-IM-0007-0001.jpeg',\n",
              " '/content/Classification-of-COVID-19-chest-X-ray-images/dataset/training/Classification-of-COVID-19-chest-X-ray-images/dataset/training/normal/NORMAL2 (145).jpeg',\n",
              " '/content/Classification-of-COVID-19-chest-X-ray-images/dataset/training/Classification-of-COVID-19-chest-X-ray-images/dataset/training/normal/NORMAL2-IM-0319-0001.jpeg',\n",
              " '/content/Classification-of-COVID-19-chest-X-ray-images/dataset/training/Classification-of-COVID-19-chest-X-ray-images/dataset/training/normal/NORMAL2-IM-0333-0001.jpeg',\n",
              " '/content/Classification-of-COVID-19-chest-X-ray-images/dataset/training/Classification-of-COVID-19-chest-X-ray-images/dataset/training/normal/NORMAL2 (94).jpeg',\n",
              " '/content/Classification-of-COVID-19-chest-X-ray-images/dataset/training/Classification-of-COVID-19-chest-X-ray-images/dataset/training/normal/NORMAL2 (116).jpeg',\n",
              " '/content/Classification-of-COVID-19-chest-X-ray-images/dataset/training/Classification-of-COVID-19-chest-X-ray-images/dataset/training/normal/NORMAL2 (6).jpeg',\n",
              " '/content/Classification-of-COVID-19-chest-X-ray-images/dataset/training/Classification-of-COVID-19-chest-X-ray-images/dataset/training/normal/NORMAL2-IM-0276-0001.jpeg',\n",
              " '/content/Classification-of-COVID-19-chest-X-ray-images/dataset/training/Classification-of-COVID-19-chest-X-ray-images/dataset/training/normal/NORMAL2-IM-0145-0001.jpeg',\n",
              " '/content/Classification-of-COVID-19-chest-X-ray-images/dataset/training/Classification-of-COVID-19-chest-X-ray-images/dataset/training/normal/NORMAL2-IM-0337-0001.jpeg',\n",
              " '/content/Classification-of-COVID-19-chest-X-ray-images/dataset/training/Classification-of-COVID-19-chest-X-ray-images/dataset/training/normal/NORMAL2 (64).jpeg',\n",
              " '/content/Classification-of-COVID-19-chest-X-ray-images/dataset/training/Classification-of-COVID-19-chest-X-ray-images/dataset/training/normal/NORMAL2 (28).jpeg',\n",
              " '/content/Classification-of-COVID-19-chest-X-ray-images/dataset/training/Classification-of-COVID-19-chest-X-ray-images/dataset/training/normal/NORMAL2-IM-0381-0001.jpeg',\n",
              " '/content/Classification-of-COVID-19-chest-X-ray-images/dataset/training/Classification-of-COVID-19-chest-X-ray-images/dataset/training/normal/NORMAL2-IM-0120-0001.jpeg',\n",
              " '/content/Classification-of-COVID-19-chest-X-ray-images/dataset/training/Classification-of-COVID-19-chest-X-ray-images/dataset/training/normal/NORMAL2 (200).jpeg',\n",
              " '/content/Classification-of-COVID-19-chest-X-ray-images/dataset/training/Classification-of-COVID-19-chest-X-ray-images/dataset/training/normal/NORMAL2-IM-0302-0001.jpeg',\n",
              " '/content/Classification-of-COVID-19-chest-X-ray-images/dataset/training/Classification-of-COVID-19-chest-X-ray-images/dataset/training/normal/NORMAL2 (59).jpeg',\n",
              " '/content/Classification-of-COVID-19-chest-X-ray-images/dataset/training/Classification-of-COVID-19-chest-X-ray-images/dataset/training/normal/NORMAL2 (196).jpeg',\n",
              " '/content/Classification-of-COVID-19-chest-X-ray-images/dataset/training/Classification-of-COVID-19-chest-X-ray-images/dataset/training/normal/NORMAL2-IM-0301-0001.jpeg',\n",
              " '/content/Classification-of-COVID-19-chest-X-ray-images/dataset/training/Classification-of-COVID-19-chest-X-ray-images/dataset/training/normal/NORMAL2 (187).jpeg',\n",
              " '/content/Classification-of-COVID-19-chest-X-ray-images/dataset/training/Classification-of-COVID-19-chest-X-ray-images/dataset/training/normal/NORMAL2-IM-0312-0001.jpeg',\n",
              " '/content/Classification-of-COVID-19-chest-X-ray-images/dataset/training/Classification-of-COVID-19-chest-X-ray-images/dataset/training/normal/NORMAL2 (40).jpeg',\n",
              " '/content/Classification-of-COVID-19-chest-X-ray-images/dataset/training/Classification-of-COVID-19-chest-X-ray-images/dataset/training/normal/NORMAL2 (1).jpeg',\n",
              " '/content/Classification-of-COVID-19-chest-X-ray-images/dataset/training/Classification-of-COVID-19-chest-X-ray-images/dataset/training/normal/NORMAL2 (81).jpeg',\n",
              " '/content/Classification-of-COVID-19-chest-X-ray-images/dataset/training/Classification-of-COVID-19-chest-X-ray-images/dataset/training/normal/NORMAL2-IM-0259-0001.jpeg',\n",
              " '/content/Classification-of-COVID-19-chest-X-ray-images/dataset/training/Classification-of-COVID-19-chest-X-ray-images/dataset/training/normal/NORMAL2 (167).jpeg',\n",
              " '/content/Classification-of-COVID-19-chest-X-ray-images/dataset/training/Classification-of-COVID-19-chest-X-ray-images/dataset/training/normal/NORMAL2 (102).jpeg',\n",
              " '/content/Classification-of-COVID-19-chest-X-ray-images/dataset/training/Classification-of-COVID-19-chest-X-ray-images/dataset/training/normal/NORMAL2 (21).jpeg',\n",
              " '/content/Classification-of-COVID-19-chest-X-ray-images/dataset/training/Classification-of-COVID-19-chest-X-ray-images/dataset/training/normal/NORMAL2 (45).jpeg',\n",
              " '/content/Classification-of-COVID-19-chest-X-ray-images/dataset/training/Classification-of-COVID-19-chest-X-ray-images/dataset/training/normal/NORMAL2-IM-0277-0001.jpeg',\n",
              " '/content/Classification-of-COVID-19-chest-X-ray-images/dataset/training/Classification-of-COVID-19-chest-X-ray-images/dataset/training/normal/NORMAL2 (25).jpeg',\n",
              " '/content/Classification-of-COVID-19-chest-X-ray-images/dataset/training/Classification-of-COVID-19-chest-X-ray-images/dataset/training/normal/NORMAL2 (191).jpeg',\n",
              " '/content/Classification-of-COVID-19-chest-X-ray-images/dataset/training/Classification-of-COVID-19-chest-X-ray-images/dataset/training/normal/NORMAL2 (78).jpeg',\n",
              " '/content/Classification-of-COVID-19-chest-X-ray-images/dataset/training/Classification-of-COVID-19-chest-X-ray-images/dataset/training/normal/NORMAL2 (5).jpeg',\n",
              " '/content/Classification-of-COVID-19-chest-X-ray-images/dataset/training/Classification-of-COVID-19-chest-X-ray-images/dataset/training/normal/NORMAL2-IM-0086-0001.jpeg',\n",
              " '/content/Classification-of-COVID-19-chest-X-ray-images/dataset/training/Classification-of-COVID-19-chest-X-ray-images/dataset/training/normal/NORMAL2 (127).jpeg',\n",
              " '/content/Classification-of-COVID-19-chest-X-ray-images/dataset/training/Classification-of-COVID-19-chest-X-ray-images/dataset/training/normal/NORMAL2 (93).jpeg',\n",
              " '/content/Classification-of-COVID-19-chest-X-ray-images/dataset/training/Classification-of-COVID-19-chest-X-ray-images/dataset/training/normal/NORMAL2-IM-0331-0001.jpeg',\n",
              " '/content/Classification-of-COVID-19-chest-X-ray-images/dataset/training/Classification-of-COVID-19-chest-X-ray-images/dataset/training/normal/NORMAL2-IM-0105-0001.jpeg',\n",
              " '/content/Classification-of-COVID-19-chest-X-ray-images/dataset/training/Classification-of-COVID-19-chest-X-ray-images/dataset/training/normal/NORMAL2 (57).jpeg',\n",
              " '/content/Classification-of-COVID-19-chest-X-ray-images/dataset/training/Classification-of-COVID-19-chest-X-ray-images/dataset/training/normal/NORMAL2 (70).jpeg',\n",
              " '/content/Classification-of-COVID-19-chest-X-ray-images/dataset/training/Classification-of-COVID-19-chest-X-ray-images/dataset/training/normal/NORMAL2 (113).jpeg',\n",
              " '/content/Classification-of-COVID-19-chest-X-ray-images/dataset/training/Classification-of-COVID-19-chest-X-ray-images/dataset/training/normal/NORMAL2 (83).jpeg',\n",
              " '/content/Classification-of-COVID-19-chest-X-ray-images/dataset/training/Classification-of-COVID-19-chest-X-ray-images/dataset/training/normal/NORMAL2 (192).jpeg',\n",
              " '/content/Classification-of-COVID-19-chest-X-ray-images/dataset/training/Classification-of-COVID-19-chest-X-ray-images/dataset/training/normal/NORMAL2-IM-0348-0001.jpeg',\n",
              " '/content/Classification-of-COVID-19-chest-X-ray-images/dataset/training/Classification-of-COVID-19-chest-X-ray-images/dataset/training/normal/NORMAL2-IM-0343-0001.jpeg',\n",
              " '/content/Classification-of-COVID-19-chest-X-ray-images/dataset/training/Classification-of-COVID-19-chest-X-ray-images/dataset/training/normal/NORMAL2-IM-0287-0001.jpeg',\n",
              " '/content/Classification-of-COVID-19-chest-X-ray-images/dataset/training/Classification-of-COVID-19-chest-X-ray-images/dataset/training/normal/NORMAL2-IM-0013-0001.jpeg',\n",
              " '/content/Classification-of-COVID-19-chest-X-ray-images/dataset/training/Classification-of-COVID-19-chest-X-ray-images/dataset/training/normal/NORMAL2 (170).jpeg',\n",
              " '/content/Classification-of-COVID-19-chest-X-ray-images/dataset/training/Classification-of-COVID-19-chest-X-ray-images/dataset/training/normal/NORMAL2 (119).jpeg',\n",
              " '/content/Classification-of-COVID-19-chest-X-ray-images/dataset/training/Classification-of-COVID-19-chest-X-ray-images/dataset/training/normal/NORMAL2-IM-0092-0001.jpeg',\n",
              " '/content/Classification-of-COVID-19-chest-X-ray-images/dataset/training/Classification-of-COVID-19-chest-X-ray-images/dataset/training/normal/NORMAL2-IM-0332-0001.jpeg',\n",
              " '/content/Classification-of-COVID-19-chest-X-ray-images/dataset/training/Classification-of-COVID-19-chest-X-ray-images/dataset/training/normal/NORMAL2-IM-0213-0001.jpeg',\n",
              " '/content/Classification-of-COVID-19-chest-X-ray-images/dataset/training/Classification-of-COVID-19-chest-X-ray-images/dataset/training/normal/NORMAL2 (160).jpeg',\n",
              " '/content/Classification-of-COVID-19-chest-X-ray-images/dataset/training/Classification-of-COVID-19-chest-X-ray-images/dataset/training/normal/NORMAL2-IM-0282-0001.jpeg',\n",
              " '/content/Classification-of-COVID-19-chest-X-ray-images/dataset/training/Classification-of-COVID-19-chest-X-ray-images/dataset/training/normal/NORMAL2 (131).jpeg',\n",
              " '/content/Classification-of-COVID-19-chest-X-ray-images/dataset/training/Classification-of-COVID-19-chest-X-ray-images/dataset/training/normal/NORMAL2 (11).jpeg',\n",
              " '/content/Classification-of-COVID-19-chest-X-ray-images/dataset/training/Classification-of-COVID-19-chest-X-ray-images/dataset/training/normal/NORMAL2-IM-0028-0001.jpeg',\n",
              " '/content/Classification-of-COVID-19-chest-X-ray-images/dataset/training/Classification-of-COVID-19-chest-X-ray-images/dataset/training/normal/NORMAL2-IM-0196-0001.jpeg',\n",
              " '/content/Classification-of-COVID-19-chest-X-ray-images/dataset/training/Classification-of-COVID-19-chest-X-ray-images/dataset/training/normal/NORMAL2 (105).jpeg',\n",
              " '/content/Classification-of-COVID-19-chest-X-ray-images/dataset/training/Classification-of-COVID-19-chest-X-ray-images/dataset/training/normal/NORMAL2 (68).jpeg',\n",
              " '/content/Classification-of-COVID-19-chest-X-ray-images/dataset/training/Classification-of-COVID-19-chest-X-ray-images/dataset/training/normal/NORMAL2 (20).jpeg',\n",
              " '/content/Classification-of-COVID-19-chest-X-ray-images/dataset/training/Classification-of-COVID-19-chest-X-ray-images/dataset/training/normal/NORMAL2-IM-0305-0001.jpeg',\n",
              " '/content/Classification-of-COVID-19-chest-X-ray-images/dataset/training/Classification-of-COVID-19-chest-X-ray-images/dataset/training/normal/NORMAL2 (15).jpeg',\n",
              " '/content/Classification-of-COVID-19-chest-X-ray-images/dataset/training/Classification-of-COVID-19-chest-X-ray-images/dataset/training/normal/NORMAL2 (77).jpeg',\n",
              " '/content/Classification-of-COVID-19-chest-X-ray-images/dataset/training/Classification-of-COVID-19-chest-X-ray-images/dataset/training/normal/NORMAL2 (195).jpeg',\n",
              " '/content/Classification-of-COVID-19-chest-X-ray-images/dataset/training/Classification-of-COVID-19-chest-X-ray-images/dataset/training/normal/NORMAL2-IM-0359-0001.jpeg',\n",
              " '/content/Classification-of-COVID-19-chest-X-ray-images/dataset/training/Classification-of-COVID-19-chest-X-ray-images/dataset/training/normal/NORMAL2 (151).jpeg',\n",
              " '/content/Classification-of-COVID-19-chest-X-ray-images/dataset/training/Classification-of-COVID-19-chest-X-ray-images/dataset/training/normal/NORMAL2 (39).jpeg',\n",
              " '/content/Classification-of-COVID-19-chest-X-ray-images/dataset/training/Classification-of-COVID-19-chest-X-ray-images/dataset/training/normal/NORMAL2-IM-0286-0001.jpeg',\n",
              " '/content/Classification-of-COVID-19-chest-X-ray-images/dataset/training/Classification-of-COVID-19-chest-X-ray-images/dataset/training/normal/NORMAL2 (150).jpeg',\n",
              " '/content/Classification-of-COVID-19-chest-X-ray-images/dataset/training/Classification-of-COVID-19-chest-X-ray-images/dataset/training/normal/NORMAL2 (130).jpeg',\n",
              " '/content/Classification-of-COVID-19-chest-X-ray-images/dataset/training/Classification-of-COVID-19-chest-X-ray-images/dataset/training/normal/NORMAL2 (198).jpeg',\n",
              " '/content/Classification-of-COVID-19-chest-X-ray-images/dataset/training/Classification-of-COVID-19-chest-X-ray-images/dataset/training/normal/NORMAL2 (53).jpeg',\n",
              " '/content/Classification-of-COVID-19-chest-X-ray-images/dataset/training/Classification-of-COVID-19-chest-X-ray-images/dataset/training/normal/NORMAL2 (7).jpeg',\n",
              " '/content/Classification-of-COVID-19-chest-X-ray-images/dataset/training/Classification-of-COVID-19-chest-X-ray-images/dataset/training/normal/NORMAL2 (153).jpeg',\n",
              " '/content/Classification-of-COVID-19-chest-X-ray-images/dataset/training/Classification-of-COVID-19-chest-X-ray-images/dataset/training/normal/NORMAL2 (46).jpeg',\n",
              " '/content/Classification-of-COVID-19-chest-X-ray-images/dataset/training/Classification-of-COVID-19-chest-X-ray-images/dataset/training/normal/NORMAL2 (97).jpeg',\n",
              " '/content/Classification-of-COVID-19-chest-X-ray-images/dataset/training/Classification-of-COVID-19-chest-X-ray-images/dataset/training/normal/NORMAL2 (87).jpeg',\n",
              " '/content/Classification-of-COVID-19-chest-X-ray-images/dataset/training/Classification-of-COVID-19-chest-X-ray-images/dataset/training/normal/NORMAL2-IM-0317-0001.jpeg',\n",
              " '/content/Classification-of-COVID-19-chest-X-ray-images/dataset/training/Classification-of-COVID-19-chest-X-ray-images/dataset/training/normal/NORMAL2-IM-0111-0001.jpeg',\n",
              " '/content/Classification-of-COVID-19-chest-X-ray-images/dataset/training/Classification-of-COVID-19-chest-X-ray-images/dataset/training/normal/NORMAL2 (66).jpeg',\n",
              " '/content/Classification-of-COVID-19-chest-X-ray-images/dataset/training/Classification-of-COVID-19-chest-X-ray-images/dataset/training/normal/NORMAL2 (84).jpeg',\n",
              " '/content/Classification-of-COVID-19-chest-X-ray-images/dataset/training/Classification-of-COVID-19-chest-X-ray-images/dataset/training/normal/NORMAL2 (89).jpeg',\n",
              " '/content/Classification-of-COVID-19-chest-X-ray-images/dataset/training/Classification-of-COVID-19-chest-X-ray-images/dataset/training/normal/NORMAL2 (149).jpeg',\n",
              " '/content/Classification-of-COVID-19-chest-X-ray-images/dataset/training/Classification-of-COVID-19-chest-X-ray-images/dataset/training/normal/NORMAL2 (24).jpeg',\n",
              " '/content/Classification-of-COVID-19-chest-X-ray-images/dataset/training/Classification-of-COVID-19-chest-X-ray-images/dataset/training/normal/NORMAL2 (163).jpeg',\n",
              " '/content/Classification-of-COVID-19-chest-X-ray-images/dataset/training/Classification-of-COVID-19-chest-X-ray-images/dataset/training/normal/NORMAL2 (26).jpeg',\n",
              " '/content/Classification-of-COVID-19-chest-X-ray-images/dataset/training/Classification-of-COVID-19-chest-X-ray-images/dataset/training/normal/NORMAL2 (19).jpeg',\n",
              " '/content/Classification-of-COVID-19-chest-X-ray-images/dataset/training/Classification-of-COVID-19-chest-X-ray-images/dataset/training/normal/NORMAL2 (36).jpeg',\n",
              " '/content/Classification-of-COVID-19-chest-X-ray-images/dataset/training/Classification-of-COVID-19-chest-X-ray-images/dataset/training/normal/NORMAL2 (100).jpeg',\n",
              " '/content/Classification-of-COVID-19-chest-X-ray-images/dataset/training/Classification-of-COVID-19-chest-X-ray-images/dataset/training/normal/NORMAL2 (58).jpeg',\n",
              " '/content/Classification-of-COVID-19-chest-X-ray-images/dataset/training/Classification-of-COVID-19-chest-X-ray-images/dataset/training/normal/NORMAL2-IM-0307-0001.jpeg',\n",
              " '/content/Classification-of-COVID-19-chest-X-ray-images/dataset/training/Classification-of-COVID-19-chest-X-ray-images/dataset/training/normal/NORMAL2 (134).jpeg',\n",
              " '/content/Classification-of-COVID-19-chest-X-ray-images/dataset/training/Classification-of-COVID-19-chest-X-ray-images/dataset/training/normal/NORMAL2-IM-0361-0001.jpeg',\n",
              " '/content/Classification-of-COVID-19-chest-X-ray-images/dataset/training/Classification-of-COVID-19-chest-X-ray-images/dataset/training/normal/NORMAL2-IM-0066-0001.jpeg',\n",
              " '/content/Classification-of-COVID-19-chest-X-ray-images/dataset/training/Classification-of-COVID-19-chest-X-ray-images/dataset/training/normal/NORMAL2 (139).jpeg',\n",
              " '/content/Classification-of-COVID-19-chest-X-ray-images/dataset/training/Classification-of-COVID-19-chest-X-ray-images/dataset/training/normal/NORMAL2-IM-0096-0001.jpeg',\n",
              " '/content/Classification-of-COVID-19-chest-X-ray-images/dataset/training/Classification-of-COVID-19-chest-X-ray-images/dataset/training/normal/NORMAL2 (165).jpeg',\n",
              " '/content/Classification-of-COVID-19-chest-X-ray-images/dataset/training/Classification-of-COVID-19-chest-X-ray-images/dataset/training/normal/NORMAL2 (162).jpeg',\n",
              " '/content/Classification-of-COVID-19-chest-X-ray-images/dataset/training/Classification-of-COVID-19-chest-X-ray-images/dataset/training/normal/NORMAL2-IM-0073-0001.jpeg',\n",
              " '/content/Classification-of-COVID-19-chest-X-ray-images/dataset/training/Classification-of-COVID-19-chest-X-ray-images/dataset/training/normal/NORMAL2 (17).jpeg',\n",
              " '/content/Classification-of-COVID-19-chest-X-ray-images/dataset/training/Classification-of-COVID-19-chest-X-ray-images/dataset/training/infected/covid_train (27).jpeg',\n",
              " '/content/Classification-of-COVID-19-chest-X-ray-images/dataset/training/Classification-of-COVID-19-chest-X-ray-images/dataset/training/infected/covid_train (1).png',\n",
              " '/content/Classification-of-COVID-19-chest-X-ray-images/dataset/training/Classification-of-COVID-19-chest-X-ray-images/dataset/training/infected/covid_train87.jpeg',\n",
              " '/content/Classification-of-COVID-19-chest-X-ray-images/dataset/training/Classification-of-COVID-19-chest-X-ray-images/dataset/training/infected/covid_train (1).jpg',\n",
              " '/content/Classification-of-COVID-19-chest-X-ray-images/dataset/training/Classification-of-COVID-19-chest-X-ray-images/dataset/training/infected/covid_train47.png',\n",
              " '/content/Classification-of-COVID-19-chest-X-ray-images/dataset/training/Classification-of-COVID-19-chest-X-ray-images/dataset/training/infected/covid_train (105).jpg',\n",
              " '/content/Classification-of-COVID-19-chest-X-ray-images/dataset/training/Classification-of-COVID-19-chest-X-ray-images/dataset/training/infected/covid_train70.jpg',\n",
              " '/content/Classification-of-COVID-19-chest-X-ray-images/dataset/training/Classification-of-COVID-19-chest-X-ray-images/dataset/training/infected/covid_train23.jpeg',\n",
              " '/content/Classification-of-COVID-19-chest-X-ray-images/dataset/training/Classification-of-COVID-19-chest-X-ray-images/dataset/training/infected/covid_train (8).jpg',\n",
              " '/content/Classification-of-COVID-19-chest-X-ray-images/dataset/training/Classification-of-COVID-19-chest-X-ray-images/dataset/training/infected/covid_train (11).jpg',\n",
              " '/content/Classification-of-COVID-19-chest-X-ray-images/dataset/training/Classification-of-COVID-19-chest-X-ray-images/dataset/training/infected/covid_train (101).jpg',\n",
              " '/content/Classification-of-COVID-19-chest-X-ray-images/dataset/training/Classification-of-COVID-19-chest-X-ray-images/dataset/training/infected/covid_train (44).png',\n",
              " '/content/Classification-of-COVID-19-chest-X-ray-images/dataset/training/Classification-of-COVID-19-chest-X-ray-images/dataset/training/infected/covid_train25.jpeg',\n",
              " '/content/Classification-of-COVID-19-chest-X-ray-images/dataset/training/Classification-of-COVID-19-chest-X-ray-images/dataset/training/infected/covid_train (31).jpeg',\n",
              " '/content/Classification-of-COVID-19-chest-X-ray-images/dataset/training/Classification-of-COVID-19-chest-X-ray-images/dataset/training/infected/covid_train67.jpg',\n",
              " '/content/Classification-of-COVID-19-chest-X-ray-images/dataset/training/Classification-of-COVID-19-chest-X-ray-images/dataset/training/infected/covid_train19.jpeg',\n",
              " '/content/Classification-of-COVID-19-chest-X-ray-images/dataset/training/Classification-of-COVID-19-chest-X-ray-images/dataset/training/infected/covid_train (10).jpg',\n",
              " '/content/Classification-of-COVID-19-chest-X-ray-images/dataset/training/Classification-of-COVID-19-chest-X-ray-images/dataset/training/infected/covid_train (9).jpg',\n",
              " '/content/Classification-of-COVID-19-chest-X-ray-images/dataset/training/Classification-of-COVID-19-chest-X-ray-images/dataset/training/infected/covid_train (25).jpg',\n",
              " '/content/Classification-of-COVID-19-chest-X-ray-images/dataset/training/Classification-of-COVID-19-chest-X-ray-images/dataset/training/infected/covid_train22.jpeg',\n",
              " '/content/Classification-of-COVID-19-chest-X-ray-images/dataset/training/Classification-of-COVID-19-chest-X-ray-images/dataset/training/infected/covid_train (34).png',\n",
              " '/content/Classification-of-COVID-19-chest-X-ray-images/dataset/training/Classification-of-COVID-19-chest-X-ray-images/dataset/training/infected/covid_train56.jpg',\n",
              " '/content/Classification-of-COVID-19-chest-X-ray-images/dataset/training/Classification-of-COVID-19-chest-X-ray-images/dataset/training/infected/covid_train (26).png',\n",
              " '/content/Classification-of-COVID-19-chest-X-ray-images/dataset/training/Classification-of-COVID-19-chest-X-ray-images/dataset/training/infected/covid_train (44).jpg',\n",
              " '/content/Classification-of-COVID-19-chest-X-ray-images/dataset/training/Classification-of-COVID-19-chest-X-ray-images/dataset/training/infected/covid_train82.jpeg',\n",
              " '/content/Classification-of-COVID-19-chest-X-ray-images/dataset/training/Classification-of-COVID-19-chest-X-ray-images/dataset/training/infected/covid_train (23).jpeg',\n",
              " '/content/Classification-of-COVID-19-chest-X-ray-images/dataset/training/Classification-of-COVID-19-chest-X-ray-images/dataset/training/infected/covid_train (14).jpeg',\n",
              " '/content/Classification-of-COVID-19-chest-X-ray-images/dataset/training/Classification-of-COVID-19-chest-X-ray-images/dataset/training/infected/covid_train74.jpeg',\n",
              " '/content/Classification-of-COVID-19-chest-X-ray-images/dataset/training/Classification-of-COVID-19-chest-X-ray-images/dataset/training/infected/covid_train (72).jpg',\n",
              " '/content/Classification-of-COVID-19-chest-X-ray-images/dataset/training/Classification-of-COVID-19-chest-X-ray-images/dataset/training/infected/covid_train77.jpeg',\n",
              " '/content/Classification-of-COVID-19-chest-X-ray-images/dataset/training/Classification-of-COVID-19-chest-X-ray-images/dataset/training/infected/covid_train13.png',\n",
              " '/content/Classification-of-COVID-19-chest-X-ray-images/dataset/training/Classification-of-COVID-19-chest-X-ray-images/dataset/training/infected/covid_train14.png',\n",
              " '/content/Classification-of-COVID-19-chest-X-ray-images/dataset/training/Classification-of-COVID-19-chest-X-ray-images/dataset/training/infected/covid_train (18).jpg',\n",
              " '/content/Classification-of-COVID-19-chest-X-ray-images/dataset/training/Classification-of-COVID-19-chest-X-ray-images/dataset/training/infected/covid_train (79).jpg',\n",
              " '/content/Classification-of-COVID-19-chest-X-ray-images/dataset/training/Classification-of-COVID-19-chest-X-ray-images/dataset/training/infected/covid_train (13).jpeg',\n",
              " '/content/Classification-of-COVID-19-chest-X-ray-images/dataset/training/Classification-of-COVID-19-chest-X-ray-images/dataset/training/infected/covid_train60.png',\n",
              " '/content/Classification-of-COVID-19-chest-X-ray-images/dataset/training/Classification-of-COVID-19-chest-X-ray-images/dataset/training/infected/covid_train (41).jpeg',\n",
              " '/content/Classification-of-COVID-19-chest-X-ray-images/dataset/training/Classification-of-COVID-19-chest-X-ray-images/dataset/training/infected/covid_train (35).jpg',\n",
              " '/content/Classification-of-COVID-19-chest-X-ray-images/dataset/training/Classification-of-COVID-19-chest-X-ray-images/dataset/training/infected/covid_train (53).jpg',\n",
              " '/content/Classification-of-COVID-19-chest-X-ray-images/dataset/training/Classification-of-COVID-19-chest-X-ray-images/dataset/training/infected/covid_train (99).jpg',\n",
              " '/content/Classification-of-COVID-19-chest-X-ray-images/dataset/training/Classification-of-COVID-19-chest-X-ray-images/dataset/training/infected/covid_train (76).jpg',\n",
              " '/content/Classification-of-COVID-19-chest-X-ray-images/dataset/training/Classification-of-COVID-19-chest-X-ray-images/dataset/training/infected/covid_train (40).png',\n",
              " '/content/Classification-of-COVID-19-chest-X-ray-images/dataset/training/Classification-of-COVID-19-chest-X-ray-images/dataset/training/infected/covid_train (52).jpg',\n",
              " '/content/Classification-of-COVID-19-chest-X-ray-images/dataset/training/Classification-of-COVID-19-chest-X-ray-images/dataset/training/infected/covid_train (70).jpg',\n",
              " '/content/Classification-of-COVID-19-chest-X-ray-images/dataset/training/Classification-of-COVID-19-chest-X-ray-images/dataset/training/infected/covid_train (6).jpg',\n",
              " '/content/Classification-of-COVID-19-chest-X-ray-images/dataset/training/Classification-of-COVID-19-chest-X-ray-images/dataset/training/infected/covid_train89.jpeg',\n",
              " '/content/Classification-of-COVID-19-chest-X-ray-images/dataset/training/Classification-of-COVID-19-chest-X-ray-images/dataset/training/infected/covid_train (17).png',\n",
              " '/content/Classification-of-COVID-19-chest-X-ray-images/dataset/training/Classification-of-COVID-19-chest-X-ray-images/dataset/training/infected/covid_train (24).jpeg',\n",
              " '/content/Classification-of-COVID-19-chest-X-ray-images/dataset/training/Classification-of-COVID-19-chest-X-ray-images/dataset/training/infected/covid_train (26).jpg',\n",
              " '/content/Classification-of-COVID-19-chest-X-ray-images/dataset/training/Classification-of-COVID-19-chest-X-ray-images/dataset/training/infected/covid_train (9).jpeg',\n",
              " '/content/Classification-of-COVID-19-chest-X-ray-images/dataset/training/Classification-of-COVID-19-chest-X-ray-images/dataset/training/infected/covid_train69.jpg',\n",
              " '/content/Classification-of-COVID-19-chest-X-ray-images/dataset/training/Classification-of-COVID-19-chest-X-ray-images/dataset/training/infected/covid_train (14).jpg',\n",
              " '/content/Classification-of-COVID-19-chest-X-ray-images/dataset/training/Classification-of-COVID-19-chest-X-ray-images/dataset/training/infected/covid_train40.jpeg',\n",
              " '/content/Classification-of-COVID-19-chest-X-ray-images/dataset/training/Classification-of-COVID-19-chest-X-ray-images/dataset/training/infected/covid_train (33).png',\n",
              " '/content/Classification-of-COVID-19-chest-X-ray-images/dataset/training/Classification-of-COVID-19-chest-X-ray-images/dataset/training/infected/covid_train88.jpeg',\n",
              " '/content/Classification-of-COVID-19-chest-X-ray-images/dataset/training/Classification-of-COVID-19-chest-X-ray-images/dataset/training/infected/covid_train30.jpeg',\n",
              " '/content/Classification-of-COVID-19-chest-X-ray-images/dataset/training/Classification-of-COVID-19-chest-X-ray-images/dataset/training/infected/covid_train (28).jpeg',\n",
              " '/content/Classification-of-COVID-19-chest-X-ray-images/dataset/training/Classification-of-COVID-19-chest-X-ray-images/dataset/training/infected/covid_train (84).jpg',\n",
              " '/content/Classification-of-COVID-19-chest-X-ray-images/dataset/training/Classification-of-COVID-19-chest-X-ray-images/dataset/training/infected/covid_train (47).png',\n",
              " '/content/Classification-of-COVID-19-chest-X-ray-images/dataset/training/Classification-of-COVID-19-chest-X-ray-images/dataset/training/infected/covid_train (28).png',\n",
              " '/content/Classification-of-COVID-19-chest-X-ray-images/dataset/training/Classification-of-COVID-19-chest-X-ray-images/dataset/training/infected/covid_train66.jpg',\n",
              " '/content/Classification-of-COVID-19-chest-X-ray-images/dataset/training/Classification-of-COVID-19-chest-X-ray-images/dataset/training/infected/covid_train (34).jpeg',\n",
              " '/content/Classification-of-COVID-19-chest-X-ray-images/dataset/training/Classification-of-COVID-19-chest-X-ray-images/dataset/training/infected/covid_train (38).jpeg',\n",
              " '/content/Classification-of-COVID-19-chest-X-ray-images/dataset/training/Classification-of-COVID-19-chest-X-ray-images/dataset/training/infected/covid_train (97).jpg',\n",
              " '/content/Classification-of-COVID-19-chest-X-ray-images/dataset/training/Classification-of-COVID-19-chest-X-ray-images/dataset/training/infected/covid_train (52).jpeg',\n",
              " '/content/Classification-of-COVID-19-chest-X-ray-images/dataset/training/Classification-of-COVID-19-chest-X-ray-images/dataset/training/infected/covid_train83.png',\n",
              " '/content/Classification-of-COVID-19-chest-X-ray-images/dataset/training/Classification-of-COVID-19-chest-X-ray-images/dataset/training/infected/covid_train43.jpeg',\n",
              " '/content/Classification-of-COVID-19-chest-X-ray-images/dataset/training/Classification-of-COVID-19-chest-X-ray-images/dataset/training/infected/covid_train (26).jpeg',\n",
              " '/content/Classification-of-COVID-19-chest-X-ray-images/dataset/training/Classification-of-COVID-19-chest-X-ray-images/dataset/training/infected/covid_train (46).png',\n",
              " '/content/Classification-of-COVID-19-chest-X-ray-images/dataset/training/Classification-of-COVID-19-chest-X-ray-images/dataset/training/infected/covid_train9.png',\n",
              " '/content/Classification-of-COVID-19-chest-X-ray-images/dataset/training/Classification-of-COVID-19-chest-X-ray-images/dataset/training/infected/covid_train (37).png',\n",
              " '/content/Classification-of-COVID-19-chest-X-ray-images/dataset/training/Classification-of-COVID-19-chest-X-ray-images/dataset/training/infected/covid_train81.jpeg',\n",
              " '/content/Classification-of-COVID-19-chest-X-ray-images/dataset/training/Classification-of-COVID-19-chest-X-ray-images/dataset/training/infected/covid_train (15).jpg',\n",
              " '/content/Classification-of-COVID-19-chest-X-ray-images/dataset/training/Classification-of-COVID-19-chest-X-ray-images/dataset/training/infected/covid_train (42).jpeg',\n",
              " '/content/Classification-of-COVID-19-chest-X-ray-images/dataset/training/Classification-of-COVID-19-chest-X-ray-images/dataset/training/infected/covid_train50.png',\n",
              " '/content/Classification-of-COVID-19-chest-X-ray-images/dataset/training/Classification-of-COVID-19-chest-X-ray-images/dataset/training/infected/covid_train (94).jpg',\n",
              " '/content/Classification-of-COVID-19-chest-X-ray-images/dataset/training/Classification-of-COVID-19-chest-X-ray-images/dataset/training/infected/covid_train (50).jpg',\n",
              " '/content/Classification-of-COVID-19-chest-X-ray-images/dataset/training/Classification-of-COVID-19-chest-X-ray-images/dataset/training/infected/covid_train21.png',\n",
              " '/content/Classification-of-COVID-19-chest-X-ray-images/dataset/training/Classification-of-COVID-19-chest-X-ray-images/dataset/training/infected/covid_train4.jpg',\n",
              " '/content/Classification-of-COVID-19-chest-X-ray-images/dataset/training/Classification-of-COVID-19-chest-X-ray-images/dataset/training/infected/covid_train55.jpg',\n",
              " '/content/Classification-of-COVID-19-chest-X-ray-images/dataset/training/Classification-of-COVID-19-chest-X-ray-images/dataset/training/infected/covid_train (34).jpg',\n",
              " '/content/Classification-of-COVID-19-chest-X-ray-images/dataset/training/Classification-of-COVID-19-chest-X-ray-images/dataset/training/infected/covid_train (4).jpg',\n",
              " '/content/Classification-of-COVID-19-chest-X-ray-images/dataset/training/Classification-of-COVID-19-chest-X-ray-images/dataset/training/infected/covid_train (77).jpg',\n",
              " '/content/Classification-of-COVID-19-chest-X-ray-images/dataset/training/Classification-of-COVID-19-chest-X-ray-images/dataset/training/infected/covid_train (41).jpg',\n",
              " '/content/Classification-of-COVID-19-chest-X-ray-images/dataset/training/Classification-of-COVID-19-chest-X-ray-images/dataset/training/infected/covid_train (83).jpg',\n",
              " '/content/Classification-of-COVID-19-chest-X-ray-images/dataset/training/Classification-of-COVID-19-chest-X-ray-images/dataset/training/infected/covid_train (43).jpeg',\n",
              " '/content/Classification-of-COVID-19-chest-X-ray-images/dataset/training/Classification-of-COVID-19-chest-X-ray-images/dataset/training/infected/covid_train (69).jpg',\n",
              " '/content/Classification-of-COVID-19-chest-X-ray-images/dataset/training/Classification-of-COVID-19-chest-X-ray-images/dataset/training/infected/covid_train65.jpg',\n",
              " '/content/Classification-of-COVID-19-chest-X-ray-images/dataset/training/Classification-of-COVID-19-chest-X-ray-images/dataset/training/infected/covid_train (32).jpeg',\n",
              " '/content/Classification-of-COVID-19-chest-X-ray-images/dataset/training/Classification-of-COVID-19-chest-X-ray-images/dataset/training/infected/covid_train16.png',\n",
              " '/content/Classification-of-COVID-19-chest-X-ray-images/dataset/training/Classification-of-COVID-19-chest-X-ray-images/dataset/training/infected/covid_train (42).png',\n",
              " '/content/Classification-of-COVID-19-chest-X-ray-images/dataset/training/Classification-of-COVID-19-chest-X-ray-images/dataset/training/infected/covid_train (71).jpg',\n",
              " '/content/Classification-of-COVID-19-chest-X-ray-images/dataset/training/Classification-of-COVID-19-chest-X-ray-images/dataset/training/infected/covid_train (39).jpg',\n",
              " '/content/Classification-of-COVID-19-chest-X-ray-images/dataset/training/Classification-of-COVID-19-chest-X-ray-images/dataset/training/infected/covid_train (27).jpg',\n",
              " '/content/Classification-of-COVID-19-chest-X-ray-images/dataset/training/Classification-of-COVID-19-chest-X-ray-images/dataset/training/infected/covid_train (45).jpeg',\n",
              " '/content/Classification-of-COVID-19-chest-X-ray-images/dataset/training/Classification-of-COVID-19-chest-X-ray-images/dataset/training/infected/covid_train (41).png',\n",
              " '/content/Classification-of-COVID-19-chest-X-ray-images/dataset/training/Classification-of-COVID-19-chest-X-ray-images/dataset/training/infected/covid_train (7).png',\n",
              " '/content/Classification-of-COVID-19-chest-X-ray-images/dataset/training/Classification-of-COVID-19-chest-X-ray-images/dataset/training/infected/covid_train (36).jpeg',\n",
              " '/content/Classification-of-COVID-19-chest-X-ray-images/dataset/training/Classification-of-COVID-19-chest-X-ray-images/dataset/training/infected/covid_train (56).jpg',\n",
              " '/content/Classification-of-COVID-19-chest-X-ray-images/dataset/training/Classification-of-COVID-19-chest-X-ray-images/dataset/training/infected/covid_train (1).jpeg',\n",
              " '/content/Classification-of-COVID-19-chest-X-ray-images/dataset/training/Classification-of-COVID-19-chest-X-ray-images/dataset/training/infected/covid_train (67).jpg',\n",
              " '/content/Classification-of-COVID-19-chest-X-ray-images/dataset/training/Classification-of-COVID-19-chest-X-ray-images/dataset/training/infected/covid_train28.jpeg',\n",
              " '/content/Classification-of-COVID-19-chest-X-ray-images/dataset/training/Classification-of-COVID-19-chest-X-ray-images/dataset/training/infected/covid_train (38).png',\n",
              " '/content/Classification-of-COVID-19-chest-X-ray-images/dataset/training/Classification-of-COVID-19-chest-X-ray-images/dataset/training/infected/covid_train (50).jpeg',\n",
              " '/content/Classification-of-COVID-19-chest-X-ray-images/dataset/training/Classification-of-COVID-19-chest-X-ray-images/dataset/training/infected/covid_train (54).jpg',\n",
              " '/content/Classification-of-COVID-19-chest-X-ray-images/dataset/training/Classification-of-COVID-19-chest-X-ray-images/dataset/training/infected/covid_train (7).jpg',\n",
              " '/content/Classification-of-COVID-19-chest-X-ray-images/dataset/training/Classification-of-COVID-19-chest-X-ray-images/dataset/training/infected/covid_train (35).png',\n",
              " '/content/Classification-of-COVID-19-chest-X-ray-images/dataset/training/Classification-of-COVID-19-chest-X-ray-images/dataset/training/infected/covid_train (15).png',\n",
              " '/content/Classification-of-COVID-19-chest-X-ray-images/dataset/training/Classification-of-COVID-19-chest-X-ray-images/dataset/training/infected/1.jpeg',\n",
              " '/content/Classification-of-COVID-19-chest-X-ray-images/dataset/training/Classification-of-COVID-19-chest-X-ray-images/dataset/training/infected/covid_train52.jpg',\n",
              " '/content/Classification-of-COVID-19-chest-X-ray-images/dataset/training/Classification-of-COVID-19-chest-X-ray-images/dataset/training/infected/covid_train (55).jpg',\n",
              " '/content/Classification-of-COVID-19-chest-X-ray-images/dataset/training/Classification-of-COVID-19-chest-X-ray-images/dataset/training/infected/covid_train29.jpeg',\n",
              " '/content/Classification-of-COVID-19-chest-X-ray-images/dataset/training/Classification-of-COVID-19-chest-X-ray-images/dataset/training/infected/covid_train15.png',\n",
              " '/content/Classification-of-COVID-19-chest-X-ray-images/dataset/training/Classification-of-COVID-19-chest-X-ray-images/dataset/training/infected/covid_train (2).jpg',\n",
              " '/content/Classification-of-COVID-19-chest-X-ray-images/dataset/training/Classification-of-COVID-19-chest-X-ray-images/dataset/training/infected/covid_train (23).jpg',\n",
              " '/content/Classification-of-COVID-19-chest-X-ray-images/dataset/training/Classification-of-COVID-19-chest-X-ray-images/dataset/training/infected/covid_train (21).jpg',\n",
              " '/content/Classification-of-COVID-19-chest-X-ray-images/dataset/training/Classification-of-COVID-19-chest-X-ray-images/dataset/training/infected/covid_train36.jpeg',\n",
              " '/content/Classification-of-COVID-19-chest-X-ray-images/dataset/training/Classification-of-COVID-19-chest-X-ray-images/dataset/training/infected/covid_train (19).jpeg',\n",
              " '/content/Classification-of-COVID-19-chest-X-ray-images/dataset/training/Classification-of-COVID-19-chest-X-ray-images/dataset/training/infected/covid_train7.jpg',\n",
              " '/content/Classification-of-COVID-19-chest-X-ray-images/dataset/training/Classification-of-COVID-19-chest-X-ray-images/dataset/training/infected/covid_train (102).jpg',\n",
              " '/content/Classification-of-COVID-19-chest-X-ray-images/dataset/training/Classification-of-COVID-19-chest-X-ray-images/dataset/training/infected/covid_train8.png',\n",
              " '/content/Classification-of-COVID-19-chest-X-ray-images/dataset/training/Classification-of-COVID-19-chest-X-ray-images/dataset/training/infected/covid_train (20).jpeg',\n",
              " '/content/Classification-of-COVID-19-chest-X-ray-images/dataset/training/Classification-of-COVID-19-chest-X-ray-images/dataset/training/infected/covid_train (38).jpg',\n",
              " '/content/Classification-of-COVID-19-chest-X-ray-images/dataset/training/Classification-of-COVID-19-chest-X-ray-images/dataset/training/infected/covid_train (16).jpg',\n",
              " '/content/Classification-of-COVID-19-chest-X-ray-images/dataset/training/Classification-of-COVID-19-chest-X-ray-images/dataset/training/infected/covid_train (16).png',\n",
              " '/content/Classification-of-COVID-19-chest-X-ray-images/dataset/training/Classification-of-COVID-19-chest-X-ray-images/dataset/training/infected/covid_train (23).png',\n",
              " '/content/Classification-of-COVID-19-chest-X-ray-images/dataset/training/Classification-of-COVID-19-chest-X-ray-images/dataset/training/infected/covid_train (45).png',\n",
              " '/content/Classification-of-COVID-19-chest-X-ray-images/dataset/training/Classification-of-COVID-19-chest-X-ray-images/dataset/training/infected/covid_train72.png',\n",
              " '/content/Classification-of-COVID-19-chest-X-ray-images/dataset/training/Classification-of-COVID-19-chest-X-ray-images/dataset/training/infected/covid_train (27).png',\n",
              " '/content/Classification-of-COVID-19-chest-X-ray-images/dataset/training/Classification-of-COVID-19-chest-X-ray-images/dataset/training/infected/covid_train (100).jpg',\n",
              " '/content/Classification-of-COVID-19-chest-X-ray-images/dataset/training/Classification-of-COVID-19-chest-X-ray-images/dataset/training/infected/covid_train38.jpeg',\n",
              " '/content/Classification-of-COVID-19-chest-X-ray-images/dataset/training/Classification-of-COVID-19-chest-X-ray-images/dataset/training/infected/covid_train (3).jpeg',\n",
              " '/content/Classification-of-COVID-19-chest-X-ray-images/dataset/training/Classification-of-COVID-19-chest-X-ray-images/dataset/training/infected/covid_train (31).jpg',\n",
              " '/content/Classification-of-COVID-19-chest-X-ray-images/dataset/training/Classification-of-COVID-19-chest-X-ray-images/dataset/training/infected/covid_train (37).jpg',\n",
              " '/content/Classification-of-COVID-19-chest-X-ray-images/dataset/training/Classification-of-COVID-19-chest-X-ray-images/dataset/training/infected/covid_train76.jpg',\n",
              " '/content/Classification-of-COVID-19-chest-X-ray-images/dataset/training/Classification-of-COVID-19-chest-X-ray-images/dataset/training/infected/covid_train (40).jpg',\n",
              " '/content/Classification-of-COVID-19-chest-X-ray-images/dataset/training/Classification-of-COVID-19-chest-X-ray-images/dataset/training/infected/covid_train (21).jpeg',\n",
              " '/content/Classification-of-COVID-19-chest-X-ray-images/dataset/training/Classification-of-COVID-19-chest-X-ray-images/dataset/training/infected/covid_train (7).jpeg',\n",
              " '/content/Classification-of-COVID-19-chest-X-ray-images/dataset/training/Classification-of-COVID-19-chest-X-ray-images/dataset/training/infected/covid_train45.jpeg',\n",
              " '/content/Classification-of-COVID-19-chest-X-ray-images/dataset/training/Classification-of-COVID-19-chest-X-ray-images/dataset/training/infected/covid_train (86).jpg',\n",
              " '/content/Classification-of-COVID-19-chest-X-ray-images/dataset/training/Classification-of-COVID-19-chest-X-ray-images/dataset/training/infected/covid_train17.png',\n",
              " '/content/Classification-of-COVID-19-chest-X-ray-images/dataset/training/Classification-of-COVID-19-chest-X-ray-images/dataset/training/infected/covid_train2.jpeg',\n",
              " '/content/Classification-of-COVID-19-chest-X-ray-images/dataset/training/Classification-of-COVID-19-chest-X-ray-images/dataset/training/infected/covid_train32.jpeg',\n",
              " '/content/Classification-of-COVID-19-chest-X-ray-images/dataset/training/Classification-of-COVID-19-chest-X-ray-images/dataset/training/infected/covid_train20.jpeg',\n",
              " '/content/Classification-of-COVID-19-chest-X-ray-images/dataset/training/Classification-of-COVID-19-chest-X-ray-images/dataset/training/infected/covid_train (61).jpg',\n",
              " '/content/Classification-of-COVID-19-chest-X-ray-images/dataset/training/Classification-of-COVID-19-chest-X-ray-images/dataset/training/infected/covid_train (43).png',\n",
              " '/content/Classification-of-COVID-19-chest-X-ray-images/dataset/training/Classification-of-COVID-19-chest-X-ray-images/dataset/training/infected/covid_train (68).jpg',\n",
              " '/content/Classification-of-COVID-19-chest-X-ray-images/dataset/training/Classification-of-COVID-19-chest-X-ray-images/dataset/training/infected/covid_train58.png',\n",
              " '/content/Classification-of-COVID-19-chest-X-ray-images/dataset/training/Classification-of-COVID-19-chest-X-ray-images/dataset/training/infected/covid_train (33).jpg',\n",
              " '/content/Classification-of-COVID-19-chest-X-ray-images/dataset/training/Classification-of-COVID-19-chest-X-ray-images/dataset/training/infected/covid_train (51).jpeg',\n",
              " '/content/Classification-of-COVID-19-chest-X-ray-images/dataset/training/Classification-of-COVID-19-chest-X-ray-images/dataset/training/infected/covid_train62.png',\n",
              " '/content/Classification-of-COVID-19-chest-X-ray-images/dataset/training/Classification-of-COVID-19-chest-X-ray-images/dataset/training/infected/covid_train (33).jpeg',\n",
              " '/content/Classification-of-COVID-19-chest-X-ray-images/dataset/training/Classification-of-COVID-19-chest-X-ray-images/dataset/training/infected/covid_train (60).jpg',\n",
              " '/content/Classification-of-COVID-19-chest-X-ray-images/dataset/training/Classification-of-COVID-19-chest-X-ray-images/dataset/training/infected/covid_train (91).jpg',\n",
              " '/content/Classification-of-COVID-19-chest-X-ray-images/dataset/training/Classification-of-COVID-19-chest-X-ray-images/dataset/training/infected/covid_train (5).jpg',\n",
              " '/content/Classification-of-COVID-19-chest-X-ray-images/dataset/training/Classification-of-COVID-19-chest-X-ray-images/dataset/training/infected/covid_train (14).png',\n",
              " '/content/Classification-of-COVID-19-chest-X-ray-images/dataset/training/Classification-of-COVID-19-chest-X-ray-images/dataset/training/infected/covid_train (3).png',\n",
              " '/content/Classification-of-COVID-19-chest-X-ray-images/dataset/training/Classification-of-COVID-19-chest-X-ray-images/dataset/training/infected/covid_train79.jpeg',\n",
              " '/content/Classification-of-COVID-19-chest-X-ray-images/dataset/training/Classification-of-COVID-19-chest-X-ray-images/dataset/training/infected/covid_train (31).png',\n",
              " '/content/Classification-of-COVID-19-chest-X-ray-images/dataset/training/Classification-of-COVID-19-chest-X-ray-images/dataset/training/infected/covid_train (29).jpeg',\n",
              " '/content/Classification-of-COVID-19-chest-X-ray-images/dataset/training/Classification-of-COVID-19-chest-X-ray-images/dataset/training/infected/covid_train (37).jpeg',\n",
              " '/content/Classification-of-COVID-19-chest-X-ray-images/dataset/training/Classification-of-COVID-19-chest-X-ray-images/dataset/training/infected/covid_train46.png',\n",
              " '/content/Classification-of-COVID-19-chest-X-ray-images/dataset/training/Classification-of-COVID-19-chest-X-ray-images/dataset/training/infected/covid_train51.png',\n",
              " '/content/Classification-of-COVID-19-chest-X-ray-images/dataset/training/Classification-of-COVID-19-chest-X-ray-images/dataset/training/infected/covid_train6.jpg',\n",
              " '/content/Classification-of-COVID-19-chest-X-ray-images/dataset/training/Classification-of-COVID-19-chest-X-ray-images/dataset/training/infected/covid_train (57).jpg',\n",
              " '/content/Classification-of-COVID-19-chest-X-ray-images/dataset/training/Classification-of-COVID-19-chest-X-ray-images/dataset/training/infected/covid_train (65).jpg',\n",
              " '/content/Classification-of-COVID-19-chest-X-ray-images/dataset/training/Classification-of-COVID-19-chest-X-ray-images/dataset/training/infected/covid_train (39).png',\n",
              " '/content/Classification-of-COVID-19-chest-X-ray-images/dataset/training/Classification-of-COVID-19-chest-X-ray-images/dataset/training/infected/covid_train (98).jpg',\n",
              " '/content/Classification-of-COVID-19-chest-X-ray-images/dataset/training/Classification-of-COVID-19-chest-X-ray-images/dataset/training/infected/covid_train57.jpg',\n",
              " '/content/Classification-of-COVID-19-chest-X-ray-images/dataset/training/Classification-of-COVID-19-chest-X-ray-images/dataset/training/infected/covid_train34.jpeg',\n",
              " '/content/Classification-of-COVID-19-chest-X-ray-images/dataset/training/Classification-of-COVID-19-chest-X-ray-images/dataset/training/infected/covid_train68.jpg',\n",
              " '/content/Classification-of-COVID-19-chest-X-ray-images/dataset/training/Classification-of-COVID-19-chest-X-ray-images/dataset/training/infected/covid_train (49).jpeg',\n",
              " '/content/Classification-of-COVID-19-chest-X-ray-images/dataset/training/Classification-of-COVID-19-chest-X-ray-images/dataset/training/infected/covid_train (59).jpg',\n",
              " '/content/Classification-of-COVID-19-chest-X-ray-images/dataset/training/Classification-of-COVID-19-chest-X-ray-images/dataset/training/infected/covid_train (18).jpeg',\n",
              " '/content/Classification-of-COVID-19-chest-X-ray-images/dataset/training/Classification-of-COVID-19-chest-X-ray-images/dataset/training/infected/covid_train (85).jpg',\n",
              " '/content/Classification-of-COVID-19-chest-X-ray-images/dataset/training/Classification-of-COVID-19-chest-X-ray-images/dataset/training/infected/covid_train (95).jpg',\n",
              " '/content/Classification-of-COVID-19-chest-X-ray-images/dataset/training/Classification-of-COVID-19-chest-X-ray-images/dataset/training/infected/covid_train10.png',\n",
              " '/content/Classification-of-COVID-19-chest-X-ray-images/dataset/training/Classification-of-COVID-19-chest-X-ray-images/dataset/training/infected/covid_train (17).jpeg',\n",
              " '/content/Classification-of-COVID-19-chest-X-ray-images/dataset/training/Classification-of-COVID-19-chest-X-ray-images/dataset/training/infected/covid_train37.jpeg',\n",
              " '/content/Classification-of-COVID-19-chest-X-ray-images/dataset/training/Classification-of-COVID-19-chest-X-ray-images/dataset/training/infected/covid_train (4).jpeg',\n",
              " '/content/Classification-of-COVID-19-chest-X-ray-images/dataset/training/Classification-of-COVID-19-chest-X-ray-images/dataset/training/infected/covid_train (11).jpeg',\n",
              " '/content/Classification-of-COVID-19-chest-X-ray-images/dataset/training/Classification-of-COVID-19-chest-X-ray-images/dataset/training/infected/covid_train (15).jpeg',\n",
              " '/content/Classification-of-COVID-19-chest-X-ray-images/dataset/training/Classification-of-COVID-19-chest-X-ray-images/dataset/training/infected/covid_train (22).png',\n",
              " '/content/Classification-of-COVID-19-chest-X-ray-images/dataset/training/Classification-of-COVID-19-chest-X-ray-images/dataset/training/infected/covid_train (2).jpeg',\n",
              " ...]"
            ]
          },
          "metadata": {
            "tags": []
          },
          "execution_count": 35
        }
      ]
    },
    {
      "cell_type": "code",
      "metadata": {
        "id": "AulPEUO9bGAU",
        "colab_type": "code",
        "colab": {
          "base_uri": "https://localhost:8080/",
          "height": 243
        },
        "outputId": "cb523910-22f6-4f5a-f9e5-ef57271bb30c"
      },
      "source": [
        "data = []\n",
        "labels = []\n",
        "# loop over the image paths\n",
        "for imagePath in imagePaths:\n",
        "\t# extract the class label from the filename\n",
        "\tlabel = imagePath.split(os.path.sep)[-2]\n",
        "\t# load the image, swap color channels, and resize it to be a fixed\n",
        "\t# 224x224 pixels while ignoring aspect ratio\n",
        "\timage = cv2.imread(imagePath)\n",
        "\timage = cv2.cvtColor(image, cv2.COLOR_BGR2RGB)\n",
        "\timage = cv2.resize(image, (224, 224))\n",
        "\t# update the data and labels lists, respectively\n",
        "\tdata.append(image)\n",
        "\tlabels.append(label)\n",
        "# convert the data and labels to NumPy arrays while scaling the pixel\n",
        "# intensities to the range [0, 1]\n",
        "data = np.array(data) / 255.0\n",
        "labels = np.array(labels)"
      ],
      "execution_count": 36,
      "outputs": [
        {
          "output_type": "error",
          "ename": "error",
          "evalue": "ignored",
          "traceback": [
            "\u001b[0;31m---------------------------------------------------------------------------\u001b[0m",
            "\u001b[0;31merror\u001b[0m                                     Traceback (most recent call last)",
            "\u001b[0;32m<ipython-input-36-2750e85c290e>\u001b[0m in \u001b[0;36m<module>\u001b[0;34m()\u001b[0m\n\u001b[1;32m      8\u001b[0m         \u001b[0;31m# 224x224 pixels while ignoring aspect ratio\u001b[0m\u001b[0;34m\u001b[0m\u001b[0;34m\u001b[0m\u001b[0;34m\u001b[0m\u001b[0m\n\u001b[1;32m      9\u001b[0m         \u001b[0mimage\u001b[0m \u001b[0;34m=\u001b[0m \u001b[0mcv2\u001b[0m\u001b[0;34m.\u001b[0m\u001b[0mimread\u001b[0m\u001b[0;34m(\u001b[0m\u001b[0mimagePath\u001b[0m\u001b[0;34m)\u001b[0m\u001b[0;34m\u001b[0m\u001b[0;34m\u001b[0m\u001b[0m\n\u001b[0;32m---> 10\u001b[0;31m         \u001b[0mimage\u001b[0m \u001b[0;34m=\u001b[0m \u001b[0mcv2\u001b[0m\u001b[0;34m.\u001b[0m\u001b[0mcvtColor\u001b[0m\u001b[0;34m(\u001b[0m\u001b[0mimage\u001b[0m\u001b[0;34m,\u001b[0m \u001b[0mcv2\u001b[0m\u001b[0;34m.\u001b[0m\u001b[0mCOLOR_BGR2RGB\u001b[0m\u001b[0;34m)\u001b[0m\u001b[0;34m\u001b[0m\u001b[0;34m\u001b[0m\u001b[0m\n\u001b[0m\u001b[1;32m     11\u001b[0m         \u001b[0mimage\u001b[0m \u001b[0;34m=\u001b[0m \u001b[0mcv2\u001b[0m\u001b[0;34m.\u001b[0m\u001b[0mresize\u001b[0m\u001b[0;34m(\u001b[0m\u001b[0mimage\u001b[0m\u001b[0;34m,\u001b[0m \u001b[0;34m(\u001b[0m\u001b[0;36m224\u001b[0m\u001b[0;34m,\u001b[0m \u001b[0;36m224\u001b[0m\u001b[0;34m)\u001b[0m\u001b[0;34m)\u001b[0m\u001b[0;34m\u001b[0m\u001b[0;34m\u001b[0m\u001b[0m\n\u001b[1;32m     12\u001b[0m         \u001b[0;31m# update the data and labels lists, respectively\u001b[0m\u001b[0;34m\u001b[0m\u001b[0;34m\u001b[0m\u001b[0;34m\u001b[0m\u001b[0m\n",
            "\u001b[0;31merror\u001b[0m: OpenCV(4.1.2) /io/opencv/modules/imgproc/src/color.cpp:182: error: (-215:Assertion failed) !_src.empty() in function 'cvtColor'\n"
          ]
        }
      ]
    },
    {
      "cell_type": "code",
      "metadata": {
        "id": "sIP_Kw0MbJDS",
        "colab_type": "code",
        "colab": {}
      },
      "source": [
        "data.shape"
      ],
      "execution_count": null,
      "outputs": []
    },
    {
      "cell_type": "code",
      "metadata": {
        "id": "_W-VW_8GbMrZ",
        "colab_type": "code",
        "colab": {}
      },
      "source": [
        "labels"
      ],
      "execution_count": null,
      "outputs": []
    },
    {
      "cell_type": "code",
      "metadata": {
        "id": "D_JFHXtGbQeI",
        "colab_type": "code",
        "colab": {}
      },
      "source": [
        "# perform one-hot encoding on the labels\n",
        "lb = LabelBinarizer()\n",
        "labels = lb.fit_transform(labels)\n",
        "labels = to_categorical(labels)\n",
        "# partition the data into training and testing splits using 80% of\n",
        "# the data for training and the remaining 20% for testing\n",
        "(trainX, testX, trainY, testY) = train_test_split(data, labels,\n",
        "\ttest_size=0.20, stratify=labels, random_state=42)\n",
        "# initialize the training data augmentation object\n",
        "trainAug = ImageDataGenerator(shear_range=0.2,\n",
        "    zoom_range=0.2,\n",
        "    horizontal_flip=True,\trotation_range=15,\n",
        "\tfill_mode=\"nearest\")"
      ],
      "execution_count": null,
      "outputs": []
    },
    {
      "cell_type": "code",
      "metadata": {
        "id": "ipvcfHJHbTHY",
        "colab_type": "code",
        "colab": {}
      },
      "source": [
        "\n",
        "trainAug"
      ],
      "execution_count": null,
      "outputs": []
    },
    {
      "cell_type": "code",
      "metadata": {
        "id": "UtRgHh6EbVPV",
        "colab_type": "code",
        "colab": {}
      },
      "source": [
        "trainX.shape,testX.shape,trainY.shape,testY.shape"
      ],
      "execution_count": null,
      "outputs": []
    },
    {
      "cell_type": "code",
      "metadata": {
        "id": "7ZRkljm9bXdP",
        "colab_type": "code",
        "colab": {}
      },
      "source": [
        ""
      ],
      "execution_count": null,
      "outputs": []
    },
    {
      "cell_type": "markdown",
      "metadata": {
        "id": "AijNerj9df-m",
        "colab_type": "text"
      },
      "source": [
        "**VGG-16**"
      ]
    },
    {
      "cell_type": "code",
      "metadata": {
        "id": "LQi2a7lehgej",
        "colab_type": "code",
        "colab": {}
      },
      "source": [
        "baseModel = VGG16(weights=\"imagenet\", include_top=False,\n",
        "\tinput_tensor=Input(shape=(224, 224, 3)))\n",
        "# construct the head of the model that will be placed on top of the\n",
        "# the base model\n",
        "headModel = baseModel.output\n",
        "headModel = AveragePooling2D(pool_size=(4, 4))(headModel)\n",
        "headModel = Flatten(name=\"flatten\")(headModel)\n",
        "headModel = Dense(64, activation=\"relu\")(headModel)\n",
        "headModel = Dropout(0.5)(headModel)\n",
        "headModel = Dense(2, activation=\"softmax\")(headModel)\n",
        "# place the head FC model on top of the base model (this will become\n",
        "# the actual model we will train)\n",
        "model = Model(inputs=baseModel.input, outputs=headModel)\n",
        "# loop over all layers in the base model and freeze them so they will\n",
        "# *not* be updated during the first training process\n",
        "for layer in baseModel.layers:\n",
        "\tlayer.trainable = False"
      ],
      "execution_count": null,
      "outputs": []
    },
    {
      "cell_type": "code",
      "metadata": {
        "id": "-_ZvgPzbjBHq",
        "colab_type": "code",
        "colab": {}
      },
      "source": [
        "model_chkpt = ModelCheckpoint('best_mod.h5', save_best_only=True, monitor='accuracy')\n",
        "early_stopping = EarlyStopping(monitor='loss', restore_best_weights=False, patience=10)"
      ],
      "execution_count": null,
      "outputs": []
    },
    {
      "cell_type": "code",
      "metadata": {
        "id": "ffjxLokyjFmA",
        "colab_type": "code",
        "colab": {
          "base_uri": "https://localhost:8080/",
          "height": 1000
        },
        "outputId": "05970086-11b0-4ed2-f249-262ffa7563bf"
      },
      "source": [
        "# initialize the initial learning rate, number of epochs to train for,\n",
        "# and batch size\n",
        "INIT_LR = 1e-4\n",
        "EPOCHS = 30\n",
        "BS = 10\n",
        "# compile our model\n",
        "print(\"[INFO] compiling model...\")\n",
        "opt = Adam(lr=INIT_LR, decay=INIT_LR / EPOCHS)\n",
        "model.compile(loss=\"binary_crossentropy\", optimizer=opt,\n",
        "\tmetrics=[\"accuracy\"])\n",
        "# train the head of the network\n",
        "print(\"[INFO] training head...\")\n",
        "H = model.fit_generator(\n",
        "\ttrainAug.flow(trainX, trainY, batch_size=BS),\n",
        "\tsteps_per_epoch=len(trainX) // BS,\n",
        "\tvalidation_data=(testX, testY),\n",
        "\tvalidation_steps=len(testX) // BS,\n",
        "\tepochs=EPOCHS,callbacks=[early_stopping,model_chkpt])"
      ],
      "execution_count": 20,
      "outputs": [
        {
          "output_type": "stream",
          "text": [
            "[INFO] compiling model...\n",
            "[INFO] training head...\n",
            "WARNING:tensorflow:From <ipython-input-20-397b3049ec52>:18: Model.fit_generator (from tensorflow.python.keras.engine.training) is deprecated and will be removed in a future version.\n",
            "Instructions for updating:\n",
            "Please use Model.fit, which supports generators.\n",
            "Epoch 1/30\n",
            "55/55 [==============================] - 335s 6s/step - loss: 0.8829 - accuracy: 0.5213 - val_loss: 0.6879 - val_accuracy: 0.5725\n",
            "Epoch 2/30\n",
            "55/55 [==============================] - 333s 6s/step - loss: 0.8047 - accuracy: 0.5176 - val_loss: 0.6410 - val_accuracy: 0.6449\n",
            "Epoch 3/30\n",
            "55/55 [==============================] - 336s 6s/step - loss: 0.7335 - accuracy: 0.5490 - val_loss: 0.5971 - val_accuracy: 0.8116\n",
            "Epoch 4/30\n",
            "55/55 [==============================] - 333s 6s/step - loss: 0.7056 - accuracy: 0.5693 - val_loss: 0.5570 - val_accuracy: 0.8333\n",
            "Epoch 5/30\n",
            "55/55 [==============================] - 337s 6s/step - loss: 0.6197 - accuracy: 0.6543 - val_loss: 0.5183 - val_accuracy: 0.8478\n",
            "Epoch 6/30\n",
            "55/55 [==============================] - 333s 6s/step - loss: 0.5689 - accuracy: 0.7190 - val_loss: 0.4831 - val_accuracy: 0.8913\n",
            "Epoch 7/30\n",
            "55/55 [==============================] - 335s 6s/step - loss: 0.5514 - accuracy: 0.7301 - val_loss: 0.4508 - val_accuracy: 0.8768\n",
            "Epoch 8/30\n",
            "55/55 [==============================] - 334s 6s/step - loss: 0.5074 - accuracy: 0.7874 - val_loss: 0.4288 - val_accuracy: 0.8551\n",
            "Epoch 9/30\n",
            "55/55 [==============================] - 332s 6s/step - loss: 0.4965 - accuracy: 0.7874 - val_loss: 0.4013 - val_accuracy: 0.9130\n",
            "Epoch 10/30\n",
            "55/55 [==============================] - 334s 6s/step - loss: 0.4695 - accuracy: 0.8244 - val_loss: 0.3813 - val_accuracy: 0.9130\n",
            "Epoch 11/30\n",
            "55/55 [==============================] - 334s 6s/step - loss: 0.4431 - accuracy: 0.8262 - val_loss: 0.3621 - val_accuracy: 0.9130\n",
            "Epoch 12/30\n",
            "55/55 [==============================] - 337s 6s/step - loss: 0.4294 - accuracy: 0.8429 - val_loss: 0.3431 - val_accuracy: 0.9130\n",
            "Epoch 13/30\n",
            "55/55 [==============================] - 334s 6s/step - loss: 0.4042 - accuracy: 0.8614 - val_loss: 0.3276 - val_accuracy: 0.9203\n",
            "Epoch 14/30\n",
            "55/55 [==============================] - 341s 6s/step - loss: 0.3928 - accuracy: 0.8636 - val_loss: 0.3118 - val_accuracy: 0.9493\n",
            "Epoch 15/30\n",
            "55/55 [==============================] - 332s 6s/step - loss: 0.3869 - accuracy: 0.8466 - val_loss: 0.2996 - val_accuracy: 0.9348\n",
            "Epoch 16/30\n",
            "55/55 [==============================] - 336s 6s/step - loss: 0.3766 - accuracy: 0.8429 - val_loss: 0.2868 - val_accuracy: 0.9493\n",
            "Epoch 17/30\n",
            "55/55 [==============================] - 336s 6s/step - loss: 0.3581 - accuracy: 0.8725 - val_loss: 0.2753 - val_accuracy: 0.9420\n",
            "Epoch 18/30\n",
            "55/55 [==============================] - 333s 6s/step - loss: 0.3467 - accuracy: 0.8909 - val_loss: 0.2649 - val_accuracy: 0.9493\n",
            "Epoch 19/30\n",
            "55/55 [==============================] - 337s 6s/step - loss: 0.3213 - accuracy: 0.8983 - val_loss: 0.2550 - val_accuracy: 0.9420\n",
            "Epoch 20/30\n",
            "55/55 [==============================] - 333s 6s/step - loss: 0.3098 - accuracy: 0.9094 - val_loss: 0.2452 - val_accuracy: 0.9420\n",
            "Epoch 21/30\n",
            "55/55 [==============================] - 336s 6s/step - loss: 0.3188 - accuracy: 0.8762 - val_loss: 0.2383 - val_accuracy: 0.9493\n",
            "Epoch 22/30\n",
            "55/55 [==============================] - 334s 6s/step - loss: 0.2890 - accuracy: 0.8872 - val_loss: 0.2303 - val_accuracy: 0.9420\n",
            "Epoch 23/30\n",
            "55/55 [==============================] - 340s 6s/step - loss: 0.2945 - accuracy: 0.9091 - val_loss: 0.2227 - val_accuracy: 0.9420\n",
            "Epoch 24/30\n",
            "55/55 [==============================] - 332s 6s/step - loss: 0.2789 - accuracy: 0.9076 - val_loss: 0.2160 - val_accuracy: 0.9420\n",
            "Epoch 25/30\n",
            "55/55 [==============================] - 334s 6s/step - loss: 0.2870 - accuracy: 0.8891 - val_loss: 0.2120 - val_accuracy: 0.9420\n",
            "Epoch 26/30\n",
            "55/55 [==============================] - 334s 6s/step - loss: 0.2587 - accuracy: 0.9187 - val_loss: 0.2061 - val_accuracy: 0.9420\n",
            "Epoch 27/30\n",
            "55/55 [==============================] - 332s 6s/step - loss: 0.2636 - accuracy: 0.9076 - val_loss: 0.2012 - val_accuracy: 0.9420\n",
            "Epoch 28/30\n",
            "55/55 [==============================] - 336s 6s/step - loss: 0.2443 - accuracy: 0.9076 - val_loss: 0.1959 - val_accuracy: 0.9493\n",
            "Epoch 29/30\n",
            "55/55 [==============================] - 333s 6s/step - loss: 0.2472 - accuracy: 0.9242 - val_loss: 0.1915 - val_accuracy: 0.9493\n",
            "Epoch 30/30\n",
            "55/55 [==============================] - 336s 6s/step - loss: 0.2327 - accuracy: 0.9390 - val_loss: 0.1874 - val_accuracy: 0.9493\n"
          ],
          "name": "stdout"
        }
      ]
    },
    {
      "cell_type": "code",
      "metadata": {
        "id": "8-zsbTpejIsA",
        "colab_type": "code",
        "colab": {
          "base_uri": "https://localhost:8080/",
          "height": 199
        },
        "outputId": "590b3db1-e345-4bf0-cbd4-14ee24c447d8"
      },
      "source": [
        "# make predictions on the testing set\n",
        "print(\"[INFO] evaluating network...\")\n",
        "predIdxs = model.predict(testX, batch_size=BS)\n",
        "# for each image in the testing set we need to find the index of the\n",
        "# label with corresponding largest predicted probability\n",
        "predIdxs = np.argmax(predIdxs, axis=1)\n",
        "# show a nicely formatted classification report\n",
        "print(classification_report(testY.argmax(axis=1), predIdxs,\n",
        "\ttarget_names=lb.classes_))"
      ],
      "execution_count": 21,
      "outputs": [
        {
          "output_type": "stream",
          "text": [
            "[INFO] evaluating network...\n",
            "              precision    recall  f1-score   support\n",
            "\n",
            "    infected       0.93      0.97      0.95        64\n",
            "      normal       0.97      0.93      0.95        74\n",
            "\n",
            "    accuracy                           0.95       138\n",
            "   macro avg       0.95      0.95      0.95       138\n",
            "weighted avg       0.95      0.95      0.95       138\n",
            "\n"
          ],
          "name": "stdout"
        }
      ]
    },
    {
      "cell_type": "code",
      "metadata": {
        "id": "khYgM0NUnfQf",
        "colab_type": "code",
        "colab": {
          "base_uri": "https://localhost:8080/",
          "height": 108
        },
        "outputId": "3798a85d-a7cf-4cca-ef45-ddb2bac92848"
      },
      "source": [
        "# compute the confusion matrix and and use it to derive the raw\n",
        "# accuracy, sensitivity, and specificity\n",
        "cm = confusion_matrix(testY.argmax(axis=1), predIdxs)\n",
        "total = sum(sum(cm))\n",
        "acc = (cm[0, 0] + cm[1, 1]) / total\n",
        "sensitivity = cm[0, 0] / (cm[0, 0] + cm[0, 1])\n",
        "specificity = cm[1, 1] / (cm[1, 0] + cm[1, 1])\n",
        "# show the confusion matrix, accuracy, sensitivity, and specificity\n",
        "print(cm)\n",
        "print(\"acc: {:.4f}\".format(acc))\n",
        "print(\"sensitivity: {:.4f}\".format(sensitivity))\n",
        "print(\"specificity: {:.4f}\".format(specificity))"
      ],
      "execution_count": 22,
      "outputs": [
        {
          "output_type": "stream",
          "text": [
            "[[62  2]\n",
            " [ 5 69]]\n",
            "acc: 0.9493\n",
            "sensitivity: 0.9688\n",
            "specificity: 0.9324\n"
          ],
          "name": "stdout"
        }
      ]
    },
    {
      "cell_type": "code",
      "metadata": {
        "id": "Xtpt8X4Mnjy5",
        "colab_type": "code",
        "colab": {
          "base_uri": "https://localhost:8080/",
          "height": 317
        },
        "outputId": "a12e6af0-83c9-4e7a-d2bb-c0ea1bb0039d"
      },
      "source": [
        "# plot the training loss and accuracy\n",
        "N = EPOCHS\n",
        "plt.style.use(\"ggplot\")\n",
        "plt.figure()\n",
        "plt.plot(np.arange(0, EPOCHS), H.history[\"loss\"], label=\"train_loss\")\n",
        "plt.plot(np.arange(0, EPOCHS), H.history[\"val_loss\"], label=\"val_loss\")\n",
        "plt.plot(np.arange(0, EPOCHS), H.history[\"accuracy\"], label=\"train_acc\")\n",
        "plt.plot(np.arange(0, EPOCHS), H.history[\"val_accuracy\"], label=\"val_acc\")\n",
        "plt.title(\"Training Loss and Accuracy on COVID-19 Dataset\")\n",
        "plt.xlabel(\"Epoch #\")\n",
        "plt.ylabel(\"Loss/Accuracy\")\n",
        "plt.legend(loc=\"lower left\")\n",
        "#plt.savefig(args[\"plot\"])"
      ],
      "execution_count": 23,
      "outputs": [
        {
          "output_type": "execute_result",
          "data": {
            "text/plain": [
              "<matplotlib.legend.Legend at 0x7f5d59428358>"
            ]
          },
          "metadata": {
            "tags": []
          },
          "execution_count": 23
        },
        {
          "output_type": "display_data",
          "data": {
            "image/png": "[encoded data removed]",
            "text/plain": [
              "<Figure size 432x288 with 1 Axes>"
            ]
          },
          "metadata": {
            "tags": []
          }
        }
      ]
    },
    {
      "cell_type": "code",
      "metadata": {
        "id": "JguesZDKvatX",
        "colab_type": "code",
        "colab": {
          "base_uri": "https://localhost:8080/",
          "height": 144
        },
        "outputId": "8119fcd5-8553-4c5b-d7bd-621e4166ae2c"
      },
      "source": [
        "predIdxs"
      ],
      "execution_count": 24,
      "outputs": [
        {
          "output_type": "execute_result",
          "data": {
            "text/plain": [
              "array([0, 0, 0, 1, 1, 0, 0, 0, 0, 1, 0, 0, 0, 1, 0, 0, 0, 0, 1, 0, 0, 0,\n",
              "       0, 1, 1, 0, 0, 0, 1, 0, 0, 0, 0, 0, 1, 0, 0, 0, 1, 1, 1, 1, 1, 0,\n",
              "       1, 1, 0, 0, 1, 1, 1, 1, 0, 0, 0, 0, 0, 1, 1, 0, 0, 1, 1, 0, 1, 1,\n",
              "       1, 0, 1, 1, 1, 1, 1, 1, 1, 1, 1, 0, 0, 1, 1, 0, 0, 1, 1, 1, 1, 1,\n",
              "       0, 1, 0, 1, 0, 0, 0, 1, 1, 1, 1, 1, 1, 0, 1, 1, 0, 0, 1, 0, 1, 1,\n",
              "       0, 1, 1, 0, 1, 1, 0, 1, 0, 0, 1, 0, 1, 1, 0, 1, 0, 0, 0, 1, 0, 1,\n",
              "       1, 0, 0, 1, 1, 1])"
            ]
          },
          "metadata": {
            "tags": []
          },
          "execution_count": 24
        }
      ]
    },
    {
      "cell_type": "code",
      "metadata": {
        "id": "KsOwTiC6vfGo",
        "colab_type": "code",
        "colab": {
          "base_uri": "https://localhost:8080/",
          "height": 253
        },
        "outputId": "ef9ebfd8-8422-47c6-d0fa-1547082da98c"
      },
      "source": [
        "predict_imagePaths=['/content/Classification-of-COVID-19-chest-X-ray-images/dataset/training/normal/NORMAL2 (32).jpeg',\n",
        " '/content/Classification-of-COVID-19-chest-X-ray-images/dataset/training/normal/NORMAL2 (42).jpeg',\n",
        " '/content/Classification-of-COVID-19-chest-X-ray-images/dataset/training/normal/NORMAL2 (180).jpeg',\n",
        " '/content/Classification-of-COVID-19-chest-X-ray-images/dataset/training/normal/NORMAL2-IM-0339-0001.jpeg',\n",
        " '/content/Classification-of-COVID-19-chest-X-ray-images/dataset/training/normal/NORMAL2-IM-0019-0001.jpeg',\n",
        " '/content/Classification-of-COVID-19-chest-X-ray-images/dataset/training/normal/NORMAL2-IM-0323-0001.jpeg',\n",
        " '/content/Classification-of-COVID-19-chest-X-ray-images/dataset/training/normal/NORMAL2-IM-0370-0001.jpeg',\n",
        " '/content/Classification-of-COVID-19-chest-X-ray-images/dataset/training/infected/covid_train (79).jpg',\n",
        " '/content/Classification-of-COVID-19-chest-X-ray-images/dataset/training/infected/covid_train (28).jpeg',\n",
        " '/content/Classification-of-COVID-19-chest-X-ray-images/dataset/training/infected/covid_train (71).jpg',\n",
        " '/content/Classification-of-COVID-19-chest-X-ray-images/dataset/training/infected/covid_train11.png',\n",
        " '/content/Classification-of-COVID-19-chest-X-ray-images/dataset/training/infected/covid_train (43).jpg',\n",
        " '/content/Classification-of-COVID-19-chest-X-ray-images/dataset/training/infected/covid_train (30).jpeg']\n",
        "# loop over the image paths\n",
        "for imagePath in predict_imagePaths:\n",
        "\t# extract the class label from the filename\n",
        "#\tlabel = imagePath.split(os.path.sep)[-2]\n",
        "\t# load the image, swap color channels, and resize it to be a fixed\n",
        "\t# 224x224 pixels while ignoring aspect ratio\n",
        "  image = cv2.imread(imagePath)\n",
        "  image = cv2.cvtColor(image, cv2.COLOR_BGR2RGB)\n",
        "  image = cv2.resize(image, (224, 224))\n",
        "  img = np.array(image) / 255.0\n",
        "  img=np.reshape(img,(1,224,224,3))\n",
        "  print(model.predict(img).argmax(axis=1))"
      ],
      "execution_count": 37,
      "outputs": [
        {
          "output_type": "stream",
          "text": [
            "[1]\n",
            "[1]\n",
            "[1]\n",
            "[1]\n",
            "[1]\n",
            "[1]\n",
            "[1]\n",
            "[0]\n",
            "[0]\n",
            "[0]\n",
            "[0]\n",
            "[0]\n",
            "[0]\n"
          ],
          "name": "stdout"
        }
      ]
    },
    {
      "cell_type": "markdown",
      "metadata": {
        "id": "e9up3JzMnyAh",
        "colab_type": "text"
      },
      "source": [
        "**Inception-V3**"
      ]
    },
    {
      "cell_type": "code",
      "metadata": {
        "id": "tU7YfKiWoMp8",
        "colab_type": "code",
        "colab": {}
      },
      "source": [
        "from tensorflow.keras.preprocessing.image import ImageDataGenerator\n",
        "from tensorflow.keras.applications import VGG16,InceptionV3\n",
        "from tensorflow.keras.layers import AveragePooling2D\n",
        "from tensorflow.keras.layers import Dropout\n",
        "from tensorflow.keras.layers import Flatten\n",
        "from tensorflow.keras.layers import Dense\n",
        "from tensorflow.keras.layers import Input\n",
        "from tensorflow.keras.models import Model\n",
        "from tensorflow.keras.optimizers import Adam\n",
        "from tensorflow.keras.utils import to_categorical\n",
        "from sklearn.preprocessing import LabelBinarizer\n",
        "from sklearn.model_selection import train_test_split"
      ],
      "execution_count": 38,
      "outputs": []
    },
    {
      "cell_type": "code",
      "metadata": {
        "id": "_vv47Dr22ZQj",
        "colab_type": "code",
        "colab": {
          "base_uri": "https://localhost:8080/",
          "height": 53
        },
        "outputId": "e01514d3-3d6a-45fc-db9a-532da5927a5b"
      },
      "source": [
        "baseModel = InceptionV3(weights=\"imagenet\", include_top=False, input_tensor=Input(shape=(224, 224, 3)))\n",
        "#construct the head of the model that will be placed on top of the\n",
        "#the base model\n",
        "\n",
        "headModel = baseModel.output\n",
        "headModel = AveragePooling2D(pool_size=(4, 4))(headModel)\n",
        "headModel = Dropout(0.5)(headModel)\n",
        "headModel = Flatten(name=\"flatten\")(headModel)\n",
        "headModel = Dense(64, activation=\"relu\")(headModel)\n",
        "headModel = Dropout(0.5)(headModel)\n",
        "headModel = Dense(2, activation=\"softmax\")(headModel)\n",
        "\n",
        "\n",
        "model= Model(inputs=baseModel.input, outputs=headModel)\n",
        "\n",
        "for layer in baseModel.layers:\n",
        "    layer.trainable = False"
      ],
      "execution_count": 39,
      "outputs": [
        {
          "output_type": "stream",
          "text": [
            "Downloading data from https://storage.googleapis.com/tensorflow/keras-applications/inception_v3/inception_v3_weights_tf_dim_ordering_tf_kernels_notop.h5\n",
            "87916544/87910968 [==============================] - 1s 0us/step\n"
          ],
          "name": "stdout"
        }
      ]
    },
    {
      "cell_type": "code",
      "metadata": {
        "id": "egx8Dj5X2c8n",
        "colab_type": "code",
        "colab": {}
      },
      "source": [
        "model_chkpt = ModelCheckpoint('best_mod.h5', save_best_only=True, monitor='accuracy')\n",
        "early_stopping = EarlyStopping(monitor='loss', restore_best_weights=False, patience=10)"
      ],
      "execution_count": 40,
      "outputs": []
    },
    {
      "cell_type": "code",
      "metadata": {
        "id": "Ct0dPV2U2hnF",
        "colab_type": "code",
        "colab": {
          "base_uri": "https://localhost:8080/",
          "height": 1000
        },
        "outputId": "d2aa6863-bb83-4a40-f43f-2b58fa7e69ab"
      },
      "source": [
        "# initialize the initial learning rate, number of epochs to train for,\n",
        "# and batch size\n",
        "INIT_LR = 1e-4\n",
        "EPOCHS = 30\n",
        "BS = 10\n",
        "# compile our model\n",
        "print(\"[INFO] compiling model...\")\n",
        "opt = Adam(lr=INIT_LR, decay=INIT_LR / EPOCHS)\n",
        "model.compile(loss=\"binary_crossentropy\", optimizer=opt,\n",
        "\tmetrics=[\"accuracy\"])\n",
        "# train the head of the network\n",
        "print(\"[INFO] training head...\")\n",
        "H = model.fit_generator(\n",
        "\ttrainAug.flow(trainX, trainY, batch_size=BS),\n",
        "\tsteps_per_epoch=len(trainX) // BS,\n",
        "\tvalidation_data=(testX, testY),\n",
        "\tvalidation_steps=len(testX) // BS,\n",
        "\tepochs=EPOCHS,callbacks=[early_stopping,model_chkpt])"
      ],
      "execution_count": 41,
      "outputs": [
        {
          "output_type": "stream",
          "text": [
            "[INFO] compiling model...\n",
            "[INFO] training head...\n",
            "Epoch 1/30\n",
            "55/55 [==============================] - 74s 1s/step - loss: 0.8644 - accuracy: 0.6673 - val_loss: 0.2387 - val_accuracy: 0.9348\n",
            "Epoch 2/30\n",
            "55/55 [==============================] - 72s 1s/step - loss: 0.4224 - accuracy: 0.8004 - val_loss: 0.1605 - val_accuracy: 0.9493\n",
            "Epoch 3/30\n",
            "55/55 [==============================] - 73s 1s/step - loss: 0.3394 - accuracy: 0.8743 - val_loss: 0.1683 - val_accuracy: 0.9420\n",
            "Epoch 4/30\n",
            "55/55 [==============================] - 74s 1s/step - loss: 0.3082 - accuracy: 0.8817 - val_loss: 0.1559 - val_accuracy: 0.9420\n",
            "Epoch 5/30\n",
            "55/55 [==============================] - 73s 1s/step - loss: 0.2938 - accuracy: 0.8965 - val_loss: 0.1379 - val_accuracy: 0.9420\n",
            "Epoch 6/30\n",
            "55/55 [==============================] - 72s 1s/step - loss: 0.2036 - accuracy: 0.9168 - val_loss: 0.1214 - val_accuracy: 0.9420\n",
            "Epoch 7/30\n",
            "55/55 [==============================] - 72s 1s/step - loss: 0.2152 - accuracy: 0.9298 - val_loss: 0.1127 - val_accuracy: 0.9638\n",
            "Epoch 8/30\n",
            "55/55 [==============================] - 72s 1s/step - loss: 0.2398 - accuracy: 0.9205 - val_loss: 0.1160 - val_accuracy: 0.9565\n",
            "Epoch 9/30\n",
            "55/55 [==============================] - 72s 1s/step - loss: 0.2153 - accuracy: 0.9224 - val_loss: 0.1102 - val_accuracy: 0.9565\n",
            "Epoch 10/30\n",
            "55/55 [==============================] - 72s 1s/step - loss: 0.1827 - accuracy: 0.9445 - val_loss: 0.1067 - val_accuracy: 0.9493\n",
            "Epoch 11/30\n",
            "55/55 [==============================] - 72s 1s/step - loss: 0.1760 - accuracy: 0.9316 - val_loss: 0.1123 - val_accuracy: 0.9420\n",
            "Epoch 12/30\n",
            "55/55 [==============================] - 73s 1s/step - loss: 0.1693 - accuracy: 0.9316 - val_loss: 0.0957 - val_accuracy: 0.9638\n",
            "Epoch 13/30\n",
            "55/55 [==============================] - 72s 1s/step - loss: 0.1728 - accuracy: 0.9409 - val_loss: 0.0916 - val_accuracy: 0.9710\n",
            "Epoch 14/30\n",
            "55/55 [==============================] - 72s 1s/step - loss: 0.1807 - accuracy: 0.9390 - val_loss: 0.0873 - val_accuracy: 0.9783\n",
            "Epoch 15/30\n",
            "55/55 [==============================] - 73s 1s/step - loss: 0.1501 - accuracy: 0.9538 - val_loss: 0.0892 - val_accuracy: 0.9710\n",
            "Epoch 16/30\n",
            "55/55 [==============================] - 72s 1s/step - loss: 0.1503 - accuracy: 0.9445 - val_loss: 0.0881 - val_accuracy: 0.9710\n",
            "Epoch 17/30\n",
            "55/55 [==============================] - 72s 1s/step - loss: 0.1750 - accuracy: 0.9372 - val_loss: 0.0916 - val_accuracy: 0.9710\n",
            "Epoch 18/30\n",
            "55/55 [==============================] - 72s 1s/step - loss: 0.1502 - accuracy: 0.9501 - val_loss: 0.0799 - val_accuracy: 0.9783\n",
            "Epoch 19/30\n",
            "55/55 [==============================] - 73s 1s/step - loss: 0.1513 - accuracy: 0.9501 - val_loss: 0.0809 - val_accuracy: 0.9783\n",
            "Epoch 20/30\n",
            "55/55 [==============================] - 72s 1s/step - loss: 0.1459 - accuracy: 0.9464 - val_loss: 0.0746 - val_accuracy: 0.9783\n",
            "Epoch 21/30\n",
            "55/55 [==============================] - 74s 1s/step - loss: 0.1199 - accuracy: 0.9575 - val_loss: 0.0717 - val_accuracy: 0.9783\n",
            "Epoch 22/30\n",
            "55/55 [==============================] - 72s 1s/step - loss: 0.1495 - accuracy: 0.9538 - val_loss: 0.0714 - val_accuracy: 0.9783\n",
            "Epoch 23/30\n",
            "55/55 [==============================] - 72s 1s/step - loss: 0.1330 - accuracy: 0.9445 - val_loss: 0.0651 - val_accuracy: 0.9783\n",
            "Epoch 24/30\n",
            "55/55 [==============================] - 72s 1s/step - loss: 0.1252 - accuracy: 0.9501 - val_loss: 0.0660 - val_accuracy: 0.9855\n",
            "Epoch 25/30\n",
            "55/55 [==============================] - 72s 1s/step - loss: 0.1316 - accuracy: 0.9575 - val_loss: 0.0755 - val_accuracy: 0.9783\n",
            "Epoch 26/30\n",
            "55/55 [==============================] - 72s 1s/step - loss: 0.1209 - accuracy: 0.9538 - val_loss: 0.0687 - val_accuracy: 0.9783\n",
            "Epoch 27/30\n",
            "55/55 [==============================] - 72s 1s/step - loss: 0.0968 - accuracy: 0.9686 - val_loss: 0.0681 - val_accuracy: 0.9783\n",
            "Epoch 28/30\n",
            "55/55 [==============================] - 72s 1s/step - loss: 0.1253 - accuracy: 0.9593 - val_loss: 0.0672 - val_accuracy: 0.9783\n",
            "Epoch 29/30\n",
            "55/55 [==============================] - 74s 1s/step - loss: 0.1090 - accuracy: 0.9618 - val_loss: 0.0737 - val_accuracy: 0.9783\n",
            "Epoch 30/30\n",
            "55/55 [==============================] - 72s 1s/step - loss: 0.0964 - accuracy: 0.9667 - val_loss: 0.0642 - val_accuracy: 0.9783\n"
          ],
          "name": "stdout"
        }
      ]
    },
    {
      "cell_type": "code",
      "metadata": {
        "id": "t4n096fn2k_1",
        "colab_type": "code",
        "colab": {
          "base_uri": "https://localhost:8080/",
          "height": 199
        },
        "outputId": "1d6f18bf-b4db-4be5-9b4f-8ce17cffdfcd"
      },
      "source": [
        "# make predictions on the testing set\n",
        "print(\"[INFO] evaluating network...\")\n",
        "predIdxs = model.predict(testX, batch_size=BS)\n",
        "# for each image in the testing set we need to find the index of the\n",
        "# label with corresponding largest predicted probability\n",
        "predIdxs = np.argmax(predIdxs, axis=1)\n",
        "# show a nicely formatted classification report\n",
        "print(classification_report(testY.argmax(axis=1), predIdxs,\n",
        "\ttarget_names=lb.classes_))"
      ],
      "execution_count": 42,
      "outputs": [
        {
          "output_type": "stream",
          "text": [
            "[INFO] evaluating network...\n",
            "              precision    recall  f1-score   support\n",
            "\n",
            "    infected       0.96      1.00      0.98        64\n",
            "      normal       1.00      0.96      0.98        74\n",
            "\n",
            "    accuracy                           0.98       138\n",
            "   macro avg       0.98      0.98      0.98       138\n",
            "weighted avg       0.98      0.98      0.98       138\n",
            "\n"
          ],
          "name": "stdout"
        }
      ]
    },
    {
      "cell_type": "code",
      "metadata": {
        "id": "Cojfv4ml52QE",
        "colab_type": "code",
        "colab": {
          "base_uri": "https://localhost:8080/",
          "height": 108
        },
        "outputId": "57bdd740-3054-4ab9-89ef-8afcb0e58b53"
      },
      "source": [
        "# compute the confusion matrix and and use it to derive the raw\n",
        "# accuracy, sensitivity, and specificity\n",
        "cm = confusion_matrix(testY.argmax(axis=1), predIdxs)\n",
        "total = sum(sum(cm))\n",
        "acc = (cm[0, 0] + cm[1, 1]) / total\n",
        "sensitivity = cm[0, 0] / (cm[0, 0] + cm[0, 1])\n",
        "specificity = cm[1, 1] / (cm[1, 0] + cm[1, 1])\n",
        "# show the confusion matrix, accuracy, sensitivity, and specificity\n",
        "print(cm)\n",
        "print(\"acc: {:.4f}\".format(acc))\n",
        "print(\"sensitivity: {:.4f}\".format(sensitivity))\n",
        "print(\"specificity: {:.4f}\".format(specificity))"
      ],
      "execution_count": 43,
      "outputs": [
        {
          "output_type": "stream",
          "text": [
            "[[64  0]\n",
            " [ 3 71]]\n",
            "acc: 0.9783\n",
            "sensitivity: 1.0000\n",
            "specificity: 0.9595\n"
          ],
          "name": "stdout"
        }
      ]
    },
    {
      "cell_type": "code",
      "metadata": {
        "id": "IILb8vLG574_",
        "colab_type": "code",
        "colab": {
          "base_uri": "https://localhost:8080/",
          "height": 317
        },
        "outputId": "0d278f1d-0ab9-413a-e902-2354185428cb"
      },
      "source": [
        "# plot the training loss and accuracy\n",
        "N = EPOCHS\n",
        "plt.style.use(\"ggplot\")\n",
        "plt.figure()\n",
        "plt.plot(np.arange(0, EPOCHS), H.history[\"loss\"], label=\"train_loss\")\n",
        "plt.plot(np.arange(0, EPOCHS), H.history[\"val_loss\"], label=\"val_loss\")\n",
        "plt.plot(np.arange(0, EPOCHS), H.history[\"accuracy\"], label=\"train_acc\")\n",
        "plt.plot(np.arange(0, EPOCHS), H.history[\"val_accuracy\"], label=\"val_acc\")\n",
        "plt.title(\"Training Loss and Accuracy on COVID-19 Dataset\")\n",
        "plt.xlabel(\"Epoch #\")\n",
        "plt.ylabel(\"Loss/Accuracy\")\n",
        "plt.legend(loc=\"lower left\")\n",
        "#plt.savefig(args[\"plot\"])"
      ],
      "execution_count": 44,
      "outputs": [
        {
          "output_type": "execute_result",
          "data": {
            "text/plain": [
              "<matplotlib.legend.Legend at 0x7f5d5455cfd0>"
            ]
          },
          "metadata": {
            "tags": []
          },
          "execution_count": 44
        },
        {
          "output_type": "display_data",
          "data": {
            "image/png": "[encoded data removed]",
            "text/plain": [
              "<Figure size 432x288 with 1 Axes>"
            ]
          },
          "metadata": {
            "tags": []
          }
        }
      ]
    },
    {
      "cell_type": "markdown",
      "metadata": {
        "id": "j4d7b9e_6G2O",
        "colab_type": "text"
      },
      "source": [
        "**Xception**"
      ]
    },
    {
      "cell_type": "code",
      "metadata": {
        "id": "8er8aqbI6OMA",
        "colab_type": "code",
        "colab": {}
      },
      "source": [
        "from tensorflow.keras.applications.xception import Xception\n",
        "from tensorflow.keras.preprocessing import image\n",
        "#from tensorflow.keras.applications.resnet50 import preprocess_input, decode_predictions\n",
        "import numpy as np"
      ],
      "execution_count": null,
      "outputs": []
    },
    {
      "cell_type": "code",
      "metadata": {
        "id": "EanuM6Bt6dYr",
        "colab_type": "code",
        "colab": {}
      },
      "source": [
        "pip install tf-explain"
      ],
      "execution_count": null,
      "outputs": []
    },
    {
      "cell_type": "code",
      "metadata": {
        "id": "IIyGo2FW6qBa",
        "colab_type": "code",
        "colab": {}
      },
      "source": [
        "#import librariesimport numpy as np\n",
        "import tensorflow as tf\n",
        "import matplotlib.pyplot as plt\n",
        "from tf_explain.core.activations import ExtractActivations\n",
        "from tensorflow.keras.applications.xception import decode_predictions\n",
        "%matplotlib inline"
      ],
      "execution_count": null,
      "outputs": []
    },
    {
      "cell_type": "code",
      "metadata": {
        "id": "2_GXvHtJ6Qa6",
        "colab_type": "code",
        "colab": {}
      },
      "source": [
        "IMG_SHAPE = (224,224,3)\n",
        "\n",
        "# Create the base model from the pre-trained model Xception\n",
        "baseModel = tf.keras.applications.Xception(include_top=False,weights='imagenet',input_tensor=Input(shape=(224, 224, 3)))\n",
        "headModel = baseModel.output\n",
        "headModel = AveragePooling2D(pool_size=(4, 4))(headModel)\n",
        "headModel = Dropout(0.5)(headModel)\n",
        "headModel = Flatten(name=\"flatten\")(headModel)\n",
        "headModel = Dense(64, activation=\"relu\")(headModel)\n",
        "headModel = Dropout(0.5)(headModel)\n",
        "headModel = Dense(2, activation=\"softmax\")(headModel)\n",
        "\n",
        "\n",
        "Xception_model= Model(inputs=baseModel.input, outputs=headModel)\n",
        "\n",
        "for layer in baseModel.layers:\n",
        "    layer.trainable = False"
      ],
      "execution_count": null,
      "outputs": []
    },
    {
      "cell_type": "code",
      "metadata": {
        "id": "S0opaGD06Sk9",
        "colab_type": "code",
        "colab": {}
      },
      "source": [
        "model_chkpt = ModelCheckpoint('best_mod.h5', save_best_only=True, monitor='accuracy')\n",
        "early_stopping = EarlyStopping(monitor='loss', restore_best_weights=False, patience=10)\n",
        "\n",
        "# initialize the initial learning rate, number of epochs to train for,\n",
        "# and batch size\n",
        "INIT_LR = 1e-4\n",
        "EPOCHS = 30\n",
        "BS = 10\n",
        "# compile our model\n",
        "print(\"[INFO] compiling model...\")\n",
        "opt = Adam(lr=INIT_LR, decay=INIT_LR / EPOCHS)\n",
        "Xception_model.compile(loss=\"binary_crossentropy\", optimizer=opt,\n",
        "\tmetrics=[\"accuracy\"])\n",
        "# train the head of the network\n",
        "print(\"[INFO] training head...\")\n",
        "H = Xception_model.fit_generator(\n",
        "\ttrainAug.flow(trainX, trainY, batch_size=BS),\n",
        "\tsteps_per_epoch=len(trainX) // BS,\n",
        "\tvalidation_data=(testX, testY),\n",
        "\tvalidation_steps=len(testX) // BS,\n",
        "\tepochs=EPOCHS,callbacks=[early_stopping,model_chkpt])"
      ],
      "execution_count": null,
      "outputs": []
    },
    {
      "cell_type": "code",
      "metadata": {
        "id": "I2ZsvGQ06npv",
        "colab_type": "code",
        "colab": {
          "base_uri": "https://localhost:8080/",
          "height": 199
        },
        "outputId": "062b5449-4060-4e8e-ec14-c32c076484e1"
      },
      "source": [
        "# make predictions on the testing set\n",
        "print(\"[INFO] evaluating network...\")\n",
        "predIdxs = model.predict(testX, batch_size=BS)\n",
        "# for each image in the testing set we need to find the index of the\n",
        "# label with corresponding largest predicted probability\n",
        "predIdxs = np.argmax(predIdxs, axis=1)\n",
        "# show a nicely formatted classification report\n",
        "print(classification_report(testY.argmax(axis=1), predIdxs,\n",
        "\ttarget_names=lb.classes_))"
      ],
      "execution_count": null,
      "outputs": [
        {
          "output_type": "stream",
          "text": [
            "[INFO] evaluating network...\n",
            "              precision    recall  f1-score   support\n",
            "\n",
            "    infected       1.00      0.98      0.99        64\n",
            "      normal       0.99      1.00      0.99        74\n",
            "\n",
            "    accuracy                           0.99       138\n",
            "   macro avg       0.99      0.99      0.99       138\n",
            "weighted avg       0.99      0.99      0.99       138\n",
            "\n"
          ],
          "name": "stdout"
        }
      ]
    },
    {
      "cell_type": "code",
      "metadata": {
        "id": "HAtQ5FFm7Kv1",
        "colab_type": "code",
        "colab": {
          "base_uri": "https://localhost:8080/",
          "height": 108
        },
        "outputId": "32235a92-0eca-4d05-cd78-89b316ab9298"
      },
      "source": [
        "# compute the confusion matrix and and use it to derive the raw\n",
        "# accuracy, sensitivity, and specificity\n",
        "cm = confusion_matrix(testY.argmax(axis=1), predIdxs)\n",
        "total = sum(sum(cm))\n",
        "acc = (cm[0, 0] + cm[1, 1]) / total\n",
        "sensitivity = cm[0, 0] / (cm[0, 0] + cm[0, 1])\n",
        "specificity = cm[1, 1] / (cm[1, 0] + cm[1, 1])\n",
        "# show the confusion matrix, accuracy, sensitivity, and specificity\n",
        "print(cm)\n",
        "print(\"acc: {:.4f}\".format(acc))\n",
        "print(\"sensitivity: {:.4f}\".format(sensitivity))\n",
        "print(\"specificity: {:.4f}\".format(specificity))"
      ],
      "execution_count": null,
      "outputs": [
        {
          "output_type": "stream",
          "text": [
            "[[63  1]\n",
            " [ 0 74]]\n",
            "acc: 0.9928\n",
            "sensitivity: 0.9844\n",
            "specificity: 1.0000\n"
          ],
          "name": "stdout"
        }
      ]
    },
    {
      "cell_type": "code",
      "metadata": {
        "id": "c68c4AfR7QRJ",
        "colab_type": "code",
        "colab": {
          "base_uri": "https://localhost:8080/",
          "height": 317
        },
        "outputId": "f00a32d7-28c6-48a2-cd9b-47dcebe8f42f"
      },
      "source": [
        "# plot the training loss and accuracy\n",
        "N = EPOCHS\n",
        "plt.style.use(\"ggplot\")\n",
        "plt.figure()\n",
        "plt.plot(np.arange(0, EPOCHS), H.history[\"loss\"], label=\"train_loss\")\n",
        "plt.plot(np.arange(0, EPOCHS), H.history[\"val_loss\"], label=\"val_loss\")\n",
        "plt.plot(np.arange(0, EPOCHS), H.history[\"accuracy\"], label=\"train_acc\")\n",
        "plt.plot(np.arange(0, EPOCHS), H.history[\"val_accuracy\"], label=\"val_acc\")\n",
        "plt.title(\"Training Loss and Accuracy on COVID-19 Dataset\")\n",
        "plt.xlabel(\"Epoch #\")\n",
        "plt.ylabel(\"Loss/Accuracy\")\n",
        "plt.legend(loc=\"lower left\")\n",
        "#plt.savefig(args[\"plot\"])"
      ],
      "execution_count": null,
      "outputs": [
        {
          "output_type": "execute_result",
          "data": {
            "text/plain": [
              "<matplotlib.legend.Legend at 0x7fa4417b4cc0>"
            ]
          },
          "metadata": {
            "tags": []
          },
          "execution_count": 38
        },
        {
          "output_type": "display_data",
          "data": {
            "image/png": "[encoded data removed]",
            "text/plain": [
              "<Figure size 432x288 with 1 Axes>"
            ]
          },
          "metadata": {
            "tags": []
          }
        }
      ]
    },
    {
      "cell_type": "markdown",
      "metadata": {
        "id": "W-0YKijE7Zdm",
        "colab_type": "text"
      },
      "source": [
        "**InceptionResNet- V2**"
      ]
    },
    {
      "cell_type": "code",
      "metadata": {
        "id": "anmxBo8J7gG1",
        "colab_type": "code",
        "colab": {}
      },
      "source": [
        "from tensorflow.keras.preprocessing.image import ImageDataGenerator\n",
        "from tensorflow.keras.applications import VGG16,InceptionResNetV2\n",
        "from tensorflow.keras.layers import AveragePooling2D\n",
        "from tensorflow.keras.layers import Dropout\n",
        "from tensorflow.keras.layers import Flatten\n",
        "from tensorflow.keras.layers import Dense\n",
        "from tensorflow.keras.layers import Input\n",
        "from tensorflow.keras.models import Model\n",
        "from tensorflow.keras.optimizers import Adam\n",
        "from tensorflow.keras.utils import to_categorical\n",
        "from sklearn.preprocessing import LabelBinarizer\n",
        "from sklearn.model_selection import train_test_split"
      ],
      "execution_count": null,
      "outputs": []
    },
    {
      "cell_type": "code",
      "metadata": {
        "id": "ziR1m2RL8zdx",
        "colab_type": "code",
        "colab": {}
      },
      "source": [
        "baseModel = InceptionResNetV2(weights=\"imagenet\", include_top=False, input_tensor=Input(shape=(224, 224, 3)))\n",
        "#construct the head of the model that will be placed on top of the\n",
        "#the base model\n",
        "\n",
        "headModel = baseModel.output\n",
        "headModel = AveragePooling2D(pool_size=(4, 4))(headModel)\n",
        "headModel = Dropout(0.5)(headModel)\n",
        "headModel = Flatten(name=\"flatten\")(headModel)\n",
        "headModel = Dense(64, activation=\"relu\")(headModel)\n",
        "headModel = Dropout(0.5)(headModel)\n",
        "headModel = Dense(2, activation=\"softmax\")(headModel)\n",
        "\n",
        "\n",
        "model= Model(inputs=baseModel.input, outputs=headModel)\n",
        "\n",
        "for layer in baseModel.layers:\n",
        "    layer.trainable = False"
      ],
      "execution_count": null,
      "outputs": []
    },
    {
      "cell_type": "code",
      "metadata": {
        "id": "ezH1q_0v886s",
        "colab_type": "code",
        "colab": {}
      },
      "source": [
        "model_chkpt = ModelCheckpoint('best_mod.h5', save_best_only=True, monitor='accuracy')\n",
        "early_stopping = EarlyStopping(monitor='loss', restore_best_weights=False, patience=10)"
      ],
      "execution_count": null,
      "outputs": []
    },
    {
      "cell_type": "code",
      "metadata": {
        "id": "-hkPAFc88_sB",
        "colab_type": "code",
        "colab": {}
      },
      "source": [
        "# initialize the initial learning rate, number of epochs to train for,\n",
        "# and batch size\n",
        "INIT_LR = 3e-4\n",
        "EPOCHS = 25\n",
        "BS = 10\n",
        "# compile our model\n",
        "print(\"[INFO] compiling model...\")\n",
        "opt = Adam(lr=INIT_LR, decay=INIT_LR / EPOCHS)\n",
        "model.compile(loss=\"binary_crossentropy\", optimizer=opt,\n",
        "\tmetrics=[\"accuracy\"])\n",
        "# train the head of the network\n",
        "print(\"[INFO] training head...\")\n",
        "H = model.fit_generator(\n",
        "\ttrainAug.flow(trainX, trainY, batch_size=BS),\n",
        "\tsteps_per_epoch=len(trainX) // BS,\n",
        "\tvalidation_data=(testX, testY),\n",
        "\tvalidation_steps=len(testX) // BS,\n",
        "\tepochs=EPOCHS,callbacks=[early_stopping,model_chkpt])"
      ],
      "execution_count": null,
      "outputs": []
    },
    {
      "cell_type": "code",
      "metadata": {
        "id": "WmSavf7d9EZ0",
        "colab_type": "code",
        "colab": {}
      },
      "source": [
        "# make predictions on the testing set\n",
        "print(\"[INFO] evaluating network...\")\n",
        "predIdxs = model.predict(testX, batch_size=BS)\n",
        "# for each image in the testing set we need to find the index of the\n",
        "# label with corresponding largest predicted probability\n",
        "predIdxs = np.argmax(predIdxs, axis=1)\n",
        "# show a nicely formatted classification report\n",
        "print(classification_report(testY.argmax(axis=1), predIdxs,\n",
        "\ttarget_names=lb.classes_))"
      ],
      "execution_count": null,
      "outputs": []
    },
    {
      "cell_type": "code",
      "metadata": {
        "id": "SMd7ASdPCt-1",
        "colab_type": "code",
        "colab": {}
      },
      "source": [
        "# compute the confusion matrix and and use it to derive the raw\n",
        "# accuracy, sensitivity, and specificity\n",
        "cm = confusion_matrix(testY.argmax(axis=1), predIdxs)\n",
        "total = sum(sum(cm))\n",
        "acc = (cm[0, 0] + cm[1, 1]) / total\n",
        "sensitivity = cm[0, 0] / (cm[0, 0] + cm[0, 1])\n",
        "specificity = cm[1, 1] / (cm[1, 0] + cm[1, 1])\n",
        "# show the confusion matrix, accuracy, sensitivity, and specificity\n",
        "print(cm)\n",
        "print(\"acc: {:.4f}\".format(acc))\n",
        "print(\"sensitivity: {:.4f}\".format(sensitivity))\n",
        "print(\"specificity: {:.4f}\".format(specificity))"
      ],
      "execution_count": null,
      "outputs": []
    },
    {
      "cell_type": "code",
      "metadata": {
        "id": "m2ZyauljCyyR",
        "colab_type": "code",
        "colab": {}
      },
      "source": [
        "# plot the training loss and accuracy\n",
        "N = EPOCHS\n",
        "plt.style.use(\"ggplot\")\n",
        "plt.figure()\n",
        "plt.plot(np.arange(0, EPOCHS), H.history[\"loss\"], label=\"train_loss\")\n",
        "plt.plot(np.arange(0, EPOCHS), H.history[\"val_loss\"], label=\"val_loss\")\n",
        "plt.plot(np.arange(0, EPOCHS), H.history[\"accuracy\"], label=\"train_acc\")\n",
        "plt.plot(np.arange(0, EPOCHS), H.history[\"val_accuracy\"], label=\"val_acc\")\n",
        "plt.title(\"Training Loss and Accuracy on COVID-19 Dataset\")\n",
        "plt.xlabel(\"Epoch #\")\n",
        "plt.ylabel(\"Loss/Accuracy\")\n",
        "plt.legend(loc=\"lower left\")\n",
        "#plt.savefig(args[\"plot\"])"
      ],
      "execution_count": null,
      "outputs": []
    },
    {
      "cell_type": "markdown",
      "metadata": {
        "id": "Xu1_G0RXC3wx",
        "colab_type": "text"
      },
      "source": [
        "**NasNetLarge**"
      ]
    },
    {
      "cell_type": "code",
      "metadata": {
        "id": "F04WNA_8J9KV",
        "colab_type": "code",
        "colab": {}
      },
      "source": [
        "from tensorflow.keras.applications.nasnet import NASNetLarge\n"
      ],
      "execution_count": null,
      "outputs": []
    },
    {
      "cell_type": "code",
      "metadata": {
        "id": "GKHMsUlIJ9zL",
        "colab_type": "code",
        "colab": {}
      },
      "source": [
        "IMG_SHAPE = (224,224,3)\n",
        "\n",
        "# Create the base model from the pre-trained model MobileNet V2\n",
        "baseModel = tf.keras.applications.NASNetLarge(include_top=False,weights='imagenet',input_tensor=Input(shape=(224, 224, 3)))\n",
        "headModel = baseModel.output\n",
        "headModel = AveragePooling2D(pool_size=(4, 4))(headModel)\n",
        "headModel = Dropout(0.5)(headModel)\n",
        "headModel = Flatten(name=\"flatten\")(headModel)\n",
        "headModel = Dense(64, activation=\"relu\")(headModel)\n",
        "headModel = Dropout(0.5)(headModel)\n",
        "headModel = Dense(2, activation=\"softmax\")(headModel)\n",
        "\n",
        "\n",
        "model= Model(inputs=baseModel.input, outputs=headModel)\n",
        "\n",
        "for layer in baseModel.layers:\n",
        "    layer.trainable = False"
      ],
      "execution_count": null,
      "outputs": []
    },
    {
      "cell_type": "code",
      "metadata": {
        "id": "m-0k4YnEJ_-I",
        "colab_type": "code",
        "colab": {}
      },
      "source": [
        "model_chkpt = ModelCheckpoint('best_mod.h5', save_best_only=True, monitor='accuracy')\n",
        "early_stopping = EarlyStopping(monitor='loss', restore_best_weights=False, patience=10)\n",
        "\n",
        "# initialize the initial learning rate, number of epochs to train for,\n",
        "# and batch size\n",
        "INIT_LR = 3e-4\n",
        "EPOCHS = 25\n",
        "BS = 10\n",
        "# compile our model\n",
        "print(\"[INFO] compiling model...\")\n",
        "opt = Adam(lr=INIT_LR, decay=INIT_LR / EPOCHS)\n",
        "model.compile(loss=\"binary_crossentropy\", optimizer=opt,\n",
        "\tmetrics=[\"accuracy\"])\n",
        "# train the head of the network\n",
        "print(\"[INFO] training head...\")\n",
        "H = model.fit_generator(\n",
        "\ttrainAug.flow(trainX, trainY, batch_size=BS),\n",
        "\tsteps_per_epoch=len(trainX) // BS,\n",
        "\tvalidation_data=(testX, testY),\n",
        "\tvalidation_steps=len(testX) // BS,\n",
        "\tepochs=EPOCHS,callbacks=[early_stopping,model_chkpt])"
      ],
      "execution_count": null,
      "outputs": []
    },
    {
      "cell_type": "code",
      "metadata": {
        "id": "z8t8mgFaKHR4",
        "colab_type": "code",
        "colab": {}
      },
      "source": [
        "# make predictions on the testing set\n",
        "print(\"[INFO] evaluating network...\")\n",
        "predIdxs = model.predict(testX, batch_size=BS)\n",
        "# for each image in the testing set we need to find the index of the\n",
        "# label with corresponding largest predicted probability\n",
        "predIdxs = np.argmax(predIdxs, axis=1)\n",
        "# show a nicely formatted classification report\n",
        "print(classification_report(testY.argmax(axis=1), predIdxs,\n",
        "\ttarget_names=lb.classes_))\n"
      ],
      "execution_count": null,
      "outputs": []
    },
    {
      "cell_type": "code",
      "metadata": {
        "id": "NK3eDHkiKPU9",
        "colab_type": "code",
        "colab": {}
      },
      "source": [
        "# plot the training loss and accuracy\n",
        "N = EPOCHS\n",
        "plt.style.use(\"ggplot\")\n",
        "plt.figure()\n",
        "plt.plot(np.arange(0, EPOCHS), H.history[\"loss\"], label=\"train_loss\")\n",
        "plt.plot(np.arange(0, EPOCHS), H.history[\"val_loss\"], label=\"val_loss\")\n",
        "plt.plot(np.arange(0, EPOCHS), H.history[\"accuracy\"], label=\"train_acc\")\n",
        "plt.plot(np.arange(0, EPOCHS), H.history[\"val_accuracy\"], label=\"val_acc\")\n",
        "plt.title(\"Training Loss and Accuracy on COVID-19 Dataset\")\n",
        "plt.xlabel(\"Epoch #\")\n",
        "plt.ylabel(\"Loss/Accuracy\")\n",
        "plt.legend(loc=\"lower left\")\n",
        "#plt.savefig(args[\"plot\"])"
      ],
      "execution_count": null,
      "outputs": []
    },
    {
      "cell_type": "markdown",
      "metadata": {
        "id": "W0ngCk6qOkpL",
        "colab_type": "text"
      },
      "source": [
        "**MobileNet-V2**"
      ]
    },
    {
      "cell_type": "code",
      "metadata": {
        "id": "03T366FqO4-H",
        "colab_type": "code",
        "colab": {}
      },
      "source": [
        "import tensorflow as tf\n"
      ],
      "execution_count": null,
      "outputs": []
    },
    {
      "cell_type": "code",
      "metadata": {
        "id": "E3b3NGa4QMEr",
        "colab_type": "code",
        "colab": {}
      },
      "source": [
        "IMG_SHAPE = (224,224,3)\n",
        "\n",
        "# Create the base model from the pre-trained model MobileNet V2\n",
        "baseModel = tf.keras.applications.MobileNetV2(input_shape=IMG_SHAPE,\n",
        "                                               include_top=False,\n",
        "                                               weights='imagenet')\n",
        "headModel = baseModel.output\n",
        "headModel = AveragePooling2D(pool_size=(4, 4))(headModel)\n",
        "headModel = Dropout(0.5)(headModel)\n",
        "headModel = Flatten(name=\"flatten\")(headModel)\n",
        "headModel = Dense(64, activation=\"relu\")(headModel)\n",
        "headModel = Dropout(0.5)(headModel)\n",
        "headModel = Dense(2, activation=\"softmax\")(headModel)\n",
        "\n",
        "\n",
        "model= Model(inputs=baseModel.input, outputs=headModel)\n",
        "\n",
        "for layer in baseModel.layers:\n",
        "    layer.trainable = False"
      ],
      "execution_count": null,
      "outputs": []
    },
    {
      "cell_type": "code",
      "metadata": {
        "id": "AOcB_b0GQO1H",
        "colab_type": "code",
        "colab": {}
      },
      "source": [
        "model_chkpt = ModelCheckpoint('best_mod.h5', save_best_only=True, monitor='accuracy')\n",
        "early_stopping = EarlyStopping(monitor='loss', restore_best_weights=False, patience=10)"
      ],
      "execution_count": null,
      "outputs": []
    },
    {
      "cell_type": "code",
      "metadata": {
        "id": "yDvq9zQbQRcw",
        "colab_type": "code",
        "colab": {}
      },
      "source": [
        "# initialize the initial learning rate, number of epochs to train for,\n",
        "# and batch size\n",
        "INIT_LR = 3e-4\n",
        "EPOCHS = 25\n",
        "BS = 10\n",
        "# compile our model\n",
        "print(\"[INFO] compiling model...\")\n",
        "opt = Adam(lr=INIT_LR, decay=INIT_LR / EPOCHS)\n",
        "model.compile(loss=\"binary_crossentropy\", optimizer=opt,\n",
        "\tmetrics=[\"accuracy\"])\n",
        "# train the head of the network\n",
        "print(\"[INFO] training head...\")\n",
        "H = model.fit_generator(\n",
        "\ttrainAug.flow(trainX, trainY, batch_size=BS),\n",
        "\tsteps_per_epoch=len(trainX) // BS,\n",
        "\tvalidation_data=(testX, testY),\n",
        "\tvalidation_steps=len(testX) // BS,\n",
        "\tepochs=EPOCHS,callbacks=[early_stopping,model_chkpt])"
      ],
      "execution_count": null,
      "outputs": []
    },
    {
      "cell_type": "code",
      "metadata": {
        "id": "xqVy5MxJQlAN",
        "colab_type": "code",
        "colab": {}
      },
      "source": [
        "# make predictions on the testing set\n",
        "print(\"[INFO] evaluating network...\")\n",
        "predIdxs = model.predict(testX, batch_size=BS)\n",
        "# for each image in the testing set we need to find the index of the\n",
        "# label with corresponding largest predicted probability\n",
        "predIdxs = np.argmax(predIdxs, axis=1)\n",
        "# show a nicely formatted classification report\n",
        "print(classification_report(testY.argmax(axis=1), predIdxs,\n",
        "\ttarget_names=lb.classes_))\n"
      ],
      "execution_count": null,
      "outputs": []
    },
    {
      "cell_type": "code",
      "metadata": {
        "id": "ObzTEcNPQ0qu",
        "colab_type": "code",
        "colab": {}
      },
      "source": [
        "# compute the confusion matrix and and use it to derive the raw\n",
        "# accuracy, sensitivity, and specificity\n",
        "cm = confusion_matrix(testY.argmax(axis=1), predIdxs)\n",
        "total = sum(sum(cm))\n",
        "acc = (cm[0, 0] + cm[1, 1]) / total\n",
        "sensitivity = cm[0, 0] / (cm[0, 0] + cm[0, 1])\n",
        "specificity = cm[1, 1] / (cm[1, 0] + cm[1, 1])\n",
        "# show the confusion matrix, accuracy, sensitivity, and specificity\n",
        "print(cm)\n",
        "print(\"acc: {:.4f}\".format(acc))\n",
        "print(\"sensitivity: {:.4f}\".format(sensitivity))\n",
        "print(\"specificity: {:.4f}\".format(specificity))\n"
      ],
      "execution_count": null,
      "outputs": []
    },
    {
      "cell_type": "code",
      "metadata": {
        "id": "lm8lwgKNQ8vQ",
        "colab_type": "code",
        "colab": {}
      },
      "source": [
        "# plot the training loss and accuracy\n",
        "N = EPOCHS\n",
        "plt.style.use(\"ggplot\")\n",
        "plt.figure()\n",
        "plt.plot(np.arange(0, EPOCHS), H.history[\"loss\"], label=\"train_loss\")\n",
        "plt.plot(np.arange(0, EPOCHS), H.history[\"val_loss\"], label=\"val_loss\")\n",
        "plt.plot(np.arange(0, EPOCHS), H.history[\"accuracy\"], label=\"train_acc\")\n",
        "plt.plot(np.arange(0, EPOCHS), H.history[\"val_accuracy\"], label=\"val_acc\")\n",
        "plt.title(\"Training Loss and Accuracy on COVID-19 Dataset\")\n",
        "plt.xlabel(\"Epoch #\")\n",
        "plt.ylabel(\"Loss/Accuracy\")\n",
        "plt.legend(loc=\"lower left\")\n",
        "#plt.savefig(args[\"plot\"])"
      ],
      "execution_count": null,
      "outputs": []
    },
    {
      "cell_type": "markdown",
      "metadata": {
        "id": "ZqzmuR4-REX2",
        "colab_type": "text"
      },
      "source": [
        "**DenseNet201**"
      ]
    },
    {
      "cell_type": "code",
      "metadata": {
        "id": "DRRK47tQTtwF",
        "colab_type": "code",
        "colab": {}
      },
      "source": [
        "from tensorflow.keras.applications import DenseNet201"
      ],
      "execution_count": null,
      "outputs": []
    },
    {
      "cell_type": "code",
      "metadata": {
        "id": "WGGesatPTxBp",
        "colab_type": "code",
        "colab": {}
      },
      "source": [
        "IMG_SHAPE = (224,224,3)\n",
        "\n",
        "\n",
        "baseModel = tf.keras.applications.DenseNet201(include_top=False,weights='imagenet',input_tensor=Input(shape=(224, 224, 3)))\n",
        "headModel = baseModel.output\n",
        "headModel = AveragePooling2D(pool_size=(4, 4))(headModel)\n",
        "headModel = Dropout(0.5)(headModel)\n",
        "headModel = Flatten(name=\"flatten\")(headModel)\n",
        "headModel = Dense(64, activation=\"relu\")(headModel)\n",
        "headModel = Dropout(0.5)(headModel)\n",
        "headModel = Dense(2, activation=\"softmax\")(headModel)\n",
        "\n",
        "\n",
        "DenseNet201_model= Model(inputs=baseModel.input, outputs=headModel)\n",
        "\n",
        "for layer in baseModel.layers:\n",
        "    layer.trainable = False"
      ],
      "execution_count": null,
      "outputs": []
    },
    {
      "cell_type": "code",
      "metadata": {
        "id": "yHQyxlVIacnW",
        "colab_type": "code",
        "colab": {}
      },
      "source": [
        "model_chkpt = ModelCheckpoint('best_mod.h5', save_best_only=True, monitor='accuracy')\n",
        "early_stopping = EarlyStopping(monitor='loss', restore_best_weights=False, patience=10)\n",
        "\n",
        "# initialize the initial learning rate, number of epochs to train for,\n",
        "# and batch size\n",
        "INIT_LR = 3e-4\n",
        "EPOCHS = 25\n",
        "BS = 10\n",
        "# compile our model\n",
        "print(\"[INFO] compiling model...\")\n",
        "opt = Adam(lr=INIT_LR, decay=INIT_LR / EPOCHS)\n",
        "DenseNet201_model.compile(loss=\"binary_crossentropy\", optimizer=opt,\n",
        "\tmetrics=[\"accuracy\"])\n",
        "# train the head of the network\n",
        "print(\"[INFO] training head...\")\n",
        "H = DenseNet201_model.fit_generator(\n",
        "\ttrainAug.flow(trainX, trainY, batch_size=BS),\n",
        "\tsteps_per_epoch=len(trainX) // BS,\n",
        "\tvalidation_data=(testX, testY),\n",
        "\tvalidation_steps=len(testX) // BS,\n",
        "\tepochs=EPOCHS,callbacks=[early_stopping,model_chkpt])\n",
        "\n"
      ],
      "execution_count": null,
      "outputs": []
    },
    {
      "cell_type": "code",
      "metadata": {
        "id": "anOkpoYNUb5R",
        "colab_type": "code",
        "colab": {}
      },
      "source": [
        "# make predictions on the testing set\n",
        "print(\"[INFO] evaluating network...\")\n",
        "predIdxs = DenseNet201_model.predict(testX, batch_size=BS)\n",
        "# for each image in the testing set we need to find the index of the\n",
        "# label with corresponding largest predicted probability\n",
        "predIdxs = np.argmax(predIdxs, axis=1)\n",
        "# show a nicely formatted classification report\n",
        "print(classification_report(testY.argmax(axis=1), predIdxs,\n",
        "\ttarget_names=lb.classes_))\n",
        "\n",
        "\n"
      ],
      "execution_count": null,
      "outputs": []
    },
    {
      "cell_type": "code",
      "metadata": {
        "id": "bFZ7it1XUkab",
        "colab_type": "code",
        "colab": {}
      },
      "source": [
        "# compute the confusion matrix and and use it to derive the raw\n",
        "# accuracy, sensitivity, and specificity\n",
        "cm = confusion_matrix(testY.argmax(axis=1), predIdxs)\n",
        "total = sum(sum(cm))\n",
        "acc = (cm[0, 0] + cm[1, 1]) / total\n",
        "sensitivity = cm[0, 0] / (cm[0, 0] + cm[0, 1])\n",
        "specificity = cm[1, 1] / (cm[1, 0] + cm[1, 1])\n",
        "# show the confusion matrix, accuracy, sensitivity, and specificity\n",
        "print(cm)\n",
        "print(\"acc: {:.4f}\".format(acc))\n",
        "print(\"sensitivity: {:.4f}\".format(sensitivity))\n",
        "print(\"specificity: {:.4f}\".format(specificity))\n"
      ],
      "execution_count": null,
      "outputs": []
    },
    {
      "cell_type": "code",
      "metadata": {
        "id": "9d9lPgM1Unbp",
        "colab_type": "code",
        "colab": {}
      },
      "source": [
        "# plot the training loss and accuracy\n",
        "N = EPOCHS\n",
        "plt.style.use(\"ggplot\")\n",
        "plt.figure()\n",
        "plt.plot(np.arange(0, EPOCHS), H.history[\"loss\"], label=\"train_loss\")\n",
        "plt.plot(np.arange(0, EPOCHS), H.history[\"val_loss\"], label=\"val_loss\")\n",
        "plt.plot(np.arange(0, EPOCHS), H.history[\"accuracy\"], label=\"train_acc\")\n",
        "plt.plot(np.arange(0, EPOCHS), H.history[\"val_accuracy\"], label=\"val_acc\")\n",
        "plt.title(\"Training Loss and Accuracy on COVID-19 Dataset\")\n",
        "plt.xlabel(\"Epoch #\")\n",
        "plt.ylabel(\"Loss/Accuracy\")\n",
        "plt.legend(loc=\"lower left\")\n",
        "#plt.savefig(args[\"plot\"])"
      ],
      "execution_count": null,
      "outputs": []
    },
    {
      "cell_type": "markdown",
      "metadata": {
        "id": "KFWPGaDUZeYv",
        "colab_type": "text"
      },
      "source": [
        "**ResNet152-V2**"
      ]
    },
    {
      "cell_type": "code",
      "metadata": {
        "id": "3mvwa8uaiHks",
        "colab_type": "code",
        "colab": {}
      },
      "source": [
        "from tensorflow.keras.preprocessing.image import ImageDataGenerator\n",
        "from tensorflow.keras.applications import VGG16,ResNet152V2\n",
        "from tensorflow.keras.layers import AveragePooling2D\n",
        "from tensorflow.keras.layers import Dropout\n",
        "from tensorflow.keras.layers import Flatten\n",
        "from tensorflow.keras.layers import Dense\n",
        "from tensorflow.keras.layers import Input\n",
        "from tensorflow.keras.models import Model\n",
        "from tensorflow.keras.optimizers import Adam\n",
        "from tensorflow.keras.utils import to_categorical\n",
        "from sklearn.preprocessing import LabelBinarizer\n",
        "from sklearn.model_selection import train_test_split"
      ],
      "execution_count": null,
      "outputs": []
    },
    {
      "cell_type": "code",
      "metadata": {
        "id": "Q5SIXD0Lftbz",
        "colab_type": "code",
        "colab": {}
      },
      "source": [
        "res =ResNet152V2(weights=\"imagenet\", include_top=False, input_tensor=Input(shape=(224, 224, 3)))\n",
        "outputs = res.output\n",
        "outputs = Flatten(name=\"flatten\")(outputs)\n",
        "outputs = Dropout(0.5)(outputs)\n",
        "outputs = Dense(2, activation=\"softmax\")(outputs)\n",
        "model = Model(inputs=res.input, outputs=outputs)\n",
        "for layer in res.layers:\n",
        "  layer.trainable = False"
      ],
      "execution_count": null,
      "outputs": []
    },
    {
      "cell_type": "code",
      "metadata": {
        "id": "6o52W0CVf4KK",
        "colab_type": "code",
        "colab": {}
      },
      "source": [
        "# initialize the initial learning rate, number of epochs to train for,\n",
        "# and batch size\n",
        "INIT_LR = 3e-4\n",
        "EPOCHS = 25\n",
        "BS = 10\n",
        "# compile our model\n",
        "print(\"[INFO] compiling model...\")\n",
        "opt = Adam(lr=INIT_LR, decay=INIT_LR / EPOCHS)\n",
        "model.compile(loss=\"binary_crossentropy\", optimizer=opt,\n",
        "\tmetrics=[\"accuracy\"])\n",
        "# train the head of the network\n",
        "print(\"[INFO] training head...\")\n",
        "H = model.fit_generator(\n",
        "\ttrainAug.flow(trainX, trainY, batch_size=BS),\n",
        "\tsteps_per_epoch=len(trainX) // BS,\n",
        "\tvalidation_data=(testX, testY),\n",
        "\tvalidation_steps=len(testX) // BS,\n",
        "\tepochs=EPOCHS,callbacks=[early_stopping,model_chkpt])"
      ],
      "execution_count": null,
      "outputs": []
    },
    {
      "cell_type": "code",
      "metadata": {
        "id": "88MEng2jf-N9",
        "colab_type": "code",
        "colab": {}
      },
      "source": [
        "# make predictions on the testing set\n",
        "print(\"[INFO] evaluating network...\")\n",
        "predIdxs = DenseNet201_model.predict(testX, batch_size=BS)\n",
        "# for each image in the testing set we need to find the index of the\n",
        "# label with corresponding largest predicted probability\n",
        "predIdxs = np.argmax(predIdxs, axis=1)\n",
        "# show a nicely formatted classification report\n",
        "print(classification_report(testY.argmax(axis=1), predIdxs,\n",
        "\ttarget_names=lb.classes_))\n",
        "\n",
        "\n"
      ],
      "execution_count": null,
      "outputs": []
    },
    {
      "cell_type": "code",
      "metadata": {
        "id": "2CCaqhrtiYK6",
        "colab_type": "code",
        "colab": {}
      },
      "source": [
        "# compute the confusion matrix and and use it to derive the raw\n",
        "# accuracy, sensitivity, and specificity\n",
        "cm = confusion_matrix(testY.argmax(axis=1), predIdxs)\n",
        "total = sum(sum(cm))\n",
        "acc = (cm[0, 0] + cm[1, 1]) / total\n",
        "sensitivity = cm[0, 0] / (cm[0, 0] + cm[0, 1])\n",
        "specificity = cm[1, 1] / (cm[1, 0] + cm[1, 1])\n",
        "# show the confusion matrix, accuracy, sensitivity, and specificity\n",
        "print(cm)\n",
        "print(\"acc: {:.4f}\".format(acc))\n",
        "print(\"sensitivity: {:.4f}\".format(sensitivity))\n",
        "print(\"specificity: {:.4f}\".format(specificity))"
      ],
      "execution_count": null,
      "outputs": []
    },
    {
      "cell_type": "code",
      "metadata": {
        "id": "5Gmjydunic5C",
        "colab_type": "code",
        "colab": {}
      },
      "source": [
        "# plot the training loss and accuracy\n",
        "N = EPOCHS\n",
        "plt.style.use(\"ggplot\")\n",
        "plt.figure()\n",
        "plt.plot(np.arange(0, EPOCHS), H.history[\"loss\"], label=\"train_loss\")\n",
        "plt.plot(np.arange(0, EPOCHS), H.history[\"val_loss\"], label=\"val_loss\")\n",
        "plt.plot(np.arange(0, EPOCHS), H.history[\"accuracy\"], label=\"train_acc\")\n",
        "plt.plot(np.arange(0, EPOCHS), H.history[\"val_accuracy\"], label=\"val_acc\")\n",
        "plt.title(\"Training Loss and Accuracy on COVID-19 Dataset\")\n",
        "plt.xlabel(\"Epoch #\")\n",
        "plt.ylabel(\"Loss/Accuracy\")\n",
        "plt.legend(loc=\"lower left\")\n",
        "#plt.savefig(args[\"plot\"])"
      ],
      "execution_count": null,
      "outputs": []
    },
    {
      "cell_type": "code",
      "metadata": {
        "id": "gA6MHta3lMNt",
        "colab_type": "code",
        "colab": {}
      },
      "source": [
        ""
      ],
      "execution_count": null,
      "outputs": []
    }
  ]
}