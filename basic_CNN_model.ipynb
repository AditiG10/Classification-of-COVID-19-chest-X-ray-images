{
  "nbformat": 4,
  "nbformat_minor": 0,
  "metadata": {
    "colab": {
      "name": "basic_CNN model",
      "provenance": [],
      "authorship_tag": "ABX9TyMqr9rcXnOj/yi15+VLlAw6",
      "include_colab_link": true
    },
    "kernelspec": {
      "name": "python3",
      "display_name": "Python 3"
    }
  },
  "cells": [
    {
      "cell_type": "markdown",
      "metadata": {
        "id": "view-in-github",
        "colab_type": "text"
      },
      "source": [
        "<a href=\"https://colab.research.google.com/github/AditiG10/Classification-of-COVID-19-chest-X-ray-images/blob/master/basic_CNN_model.ipynb\" target=\"_parent\"><img src=\"https://colab.research.google.com/assets/colab-badge.svg\" alt=\"Open In Colab\"/></a>"
      ]
    },
    {
      "cell_type": "code",
      "metadata": {
        "id": "_MumFGMdeK9p",
        "colab_type": "code",
        "colab": {
          "base_uri": "https://localhost:8080/",
          "height": 35
        },
        "outputId": "ef4d5d82-6558-49f6-fe12-0e9ef74c13aa"
      },
      "source": [
        "# import the necessary packages\n",
        "from tensorflow.keras.preprocessing.image import ImageDataGenerator\n",
        "from tensorflow.keras.applications import VGG16\n",
        "from tensorflow.keras.layers import AveragePooling2D\n",
        "from tensorflow.keras.layers import Dropout\n",
        "from tensorflow.keras.layers import Flatten\n",
        "from tensorflow.keras.layers import Dense\n",
        "from tensorflow.keras.layers import Input\n",
        "from tensorflow.keras.models import Model\n",
        "from tensorflow.keras.optimizers import Adam\n",
        "from tensorflow.keras.utils import to_categorical\n",
        "from sklearn.preprocessing import LabelBinarizer\n",
        "from sklearn.model_selection import train_test_split\n",
        "from sklearn.metrics import classification_report\n",
        "from sklearn.metrics import confusion_matrix\n",
        "from imutils import paths\n",
        "import matplotlib.pyplot as plt\n",
        "import numpy as np\n",
        "import argparse\n",
        "import cv2\n",
        "import os\n",
        "from keras.applications.resnet50 import ResNet50\n",
        "from keras.preprocessing import image\n",
        "from keras.applications.resnet50 import preprocess_input, decode_predictions\n",
        "import numpy as np\n"
      ],
      "execution_count": 1,
      "outputs": [
        {
          "output_type": "stream",
          "text": [
            "Using TensorFlow backend.\n"
          ],
          "name": "stderr"
        }
      ]
    },
    {
      "cell_type": "code",
      "metadata": {
        "id": "gjLRNQLkeNfM",
        "colab_type": "code",
        "colab": {
          "base_uri": "https://localhost:8080/",
          "height": 73
        },
        "outputId": "d62fe8ed-efda-450e-d97d-a2288a07753c"
      },
      "source": [
        "import os\n",
        "import numpy as np\n",
        "import pandas as pd\n",
        "import seaborn as sns\n",
        "import matplotlib.pyplot as plt\n",
        "import matplotlib.image as mpimg\n",
        "import seaborn as sns\n",
        "from PIL import Image\n",
        "from tensorflow.keras.preprocessing import image\n",
        "from tensorflow.keras.preprocessing.image import load_img, img_to_array\n",
        "from tensorflow.keras.applications.vgg16 import preprocess_input\n",
        "from tensorflow.keras.utils import to_categorical\n",
        "from tensorflow.keras.callbacks import ModelCheckpoint, EarlyStopping\n",
        "from tensorflow.keras.models import Sequential\n",
        "from tensorflow.keras.layers import Dense, Dropout, BatchNormalization, Conv2D, MaxPool2D, Flatten\n",
        "from sklearn.metrics import classification_report, confusion_matrix, accuracy_score"
      ],
      "execution_count": 2,
      "outputs": [
        {
          "output_type": "stream",
          "text": [
            "/usr/local/lib/python3.6/dist-packages/statsmodels/tools/_testing.py:19: FutureWarning: pandas.util.testing is deprecated. Use the functions in the public API at pandas.testing instead.\n",
            "  import pandas.util.testing as tm\n"
          ],
          "name": "stderr"
        }
      ]
    },
    {
      "cell_type": "code",
      "metadata": {
        "id": "75uxZh2LePe2",
        "colab_type": "code",
        "colab": {
          "base_uri": "https://localhost:8080/",
          "height": 162
        },
        "outputId": "1036ebe9-fd9f-436f-93c2-6847593a9a6e"
      },
      "source": [
        "!git clone https://github.com/vaibhavG321/Classification-of-COVID-19-chest-X-ray-images"
      ],
      "execution_count": 3,
      "outputs": [
        {
          "output_type": "stream",
          "text": [
            "Cloning into 'Classification-of-COVID-19-chest-X-ray-images'...\n",
            "remote: Enumerating objects: 8, done.\u001b[K\n",
            "remote: Counting objects:  12% (1/8)\u001b[K\rremote: Counting objects:  25% (2/8)\u001b[K\rremote: Counting objects:  37% (3/8)\u001b[K\rremote: Counting objects:  50% (4/8)\u001b[K\rremote: Counting objects:  62% (5/8)\u001b[K\rremote: Counting objects:  75% (6/8)\u001b[K\rremote: Counting objects:  87% (7/8)\u001b[K\rremote: Counting objects: 100% (8/8)\u001b[K\rremote: Counting objects: 100% (8/8), done.\u001b[K\n",
            "remote: Compressing objects: 100% (8/8), done.\u001b[K\n",
            "remote: Total 664 (delta 1), reused 2 (delta 0), pack-reused 656\u001b[K\n",
            "Receiving objects: 100% (664/664), 222.69 MiB | 37.14 MiB/s, done.\n",
            "Resolving deltas: 100% (29/29), done.\n",
            "Checking out files: 100% (698/698), done.\n"
          ],
          "name": "stdout"
        }
      ]
    },
    {
      "cell_type": "code",
      "metadata": {
        "id": "VDxuFoooeYaJ",
        "colab_type": "code",
        "colab": {
          "base_uri": "https://localhost:8080/",
          "height": 35
        },
        "outputId": "1857fb0b-c182-406d-c7ef-f0cf2827facf"
      },
      "source": [
        "cd Classification-of-COVID-19-chest-X-ray-images "
      ],
      "execution_count": 4,
      "outputs": [
        {
          "output_type": "stream",
          "text": [
            "/content/Classification-of-COVID-19-chest-X-ray-images\n"
          ],
          "name": "stdout"
        }
      ]
    },
    {
      "cell_type": "code",
      "metadata": {
        "id": "u2ftHv0neadl",
        "colab_type": "code",
        "colab": {
          "base_uri": "https://localhost:8080/",
          "height": 35
        },
        "outputId": "f09c2e02-bec6-439e-c21d-8c8b9b6cf432"
      },
      "source": [
        "cd dataset"
      ],
      "execution_count": 5,
      "outputs": [
        {
          "output_type": "stream",
          "text": [
            "/content/Classification-of-COVID-19-chest-X-ray-images/dataset\n"
          ],
          "name": "stdout"
        }
      ]
    },
    {
      "cell_type": "code",
      "metadata": {
        "id": "ouNgeEPuec5C",
        "colab_type": "code",
        "colab": {
          "base_uri": "https://localhost:8080/",
          "height": 35
        },
        "outputId": "a3f74c1c-60d3-4b18-ac4a-34d9aa2bc59c"
      },
      "source": [
        "cd training"
      ],
      "execution_count": 6,
      "outputs": [
        {
          "output_type": "stream",
          "text": [
            "/content/Classification-of-COVID-19-chest-X-ray-images/dataset/training\n"
          ],
          "name": "stdout"
        }
      ]
    },
    {
      "cell_type": "code",
      "metadata": {
        "id": "b54Lc8R-eerW",
        "colab_type": "code",
        "colab": {
          "base_uri": "https://localhost:8080/",
          "height": 35
        },
        "outputId": "29fc506d-2ad2-4a6d-f657-88de000f8fbf"
      },
      "source": [
        "!ls"
      ],
      "execution_count": 7,
      "outputs": [
        {
          "output_type": "stream",
          "text": [
            "infected  normal\n"
          ],
          "name": "stdout"
        }
      ]
    },
    {
      "cell_type": "code",
      "metadata": {
        "id": "fhuOxDZCegUL",
        "colab_type": "code",
        "colab": {}
      },
      "source": [
        "train_normal_path='/content/Classification-of-COVID-19-chest-X-ray-images/dataset/training/normal'\n",
        "train_infected_path='/content/Classification-of-COVID-19-chest-X-ray-images/dataset/training/infected'\n",
        "test_normal_path='/content/Classification-of-COVID-19-chest-X-ray-images/dataset/testing/normal'\n",
        "test_infected_path='/content/Classification-of-COVID-19-chest-X-ray-images/dataset/testing/infected'\n",
        "evaluate_normal_path='/content/Classification-of-COVID-19-chest-X-ray-images/dataset/evaluation/normal'\n",
        "evaluate_infected_path='/content/Classification-of-COVID-19-chest-X-ray-images/dataset/evaluation/infected'"
      ],
      "execution_count": 8,
      "outputs": []
    },
    {
      "cell_type": "code",
      "metadata": {
        "id": "a8gaRYf5ejAs",
        "colab_type": "code",
        "colab": {
          "base_uri": "https://localhost:8080/",
          "height": 126
        },
        "outputId": "c3c0f11f-6d76-4040-9c12-73a789046ad2"
      },
      "source": [
        "print('train_normal cases ',len(os.listdir('/content/Classification-of-COVID-19-chest-X-ray-images/dataset/training/normal')))\n",
        "print('train_infected cases ',len(os.listdir('/content/Classification-of-COVID-19-chest-X-ray-images/dataset/training/infected')))\n",
        "print('test_normal cases ',len(os.listdir('/content/Classification-of-COVID-19-chest-X-ray-images/dataset/testing/normal')))\n",
        "print('test_infected cases ',len(os.listdir('/content/Classification-of-COVID-19-chest-X-ray-images/dataset/testing/infected')))\n",
        "print('evaluate_normal cases ',len(os.listdir('/content/Classification-of-COVID-19-chest-X-ray-images/dataset/evaluation/normal')))\n",
        "print('evaluate_infected cases ',len(os.listdir('/content/Classification-of-COVID-19-chest-X-ray-images/dataset/evaluation/infected')))"
      ],
      "execution_count": 9,
      "outputs": [
        {
          "output_type": "stream",
          "text": [
            "train_normal cases  297\n",
            "train_infected cases  296\n",
            "test_normal cases  69\n",
            "test_infected cases  25\n",
            "evaluate_normal cases  1\n",
            "evaluate_infected cases  1\n"
          ],
          "name": "stdout"
        }
      ]
    },
    {
      "cell_type": "code",
      "metadata": {
        "id": "23UYRSpqeoPf",
        "colab_type": "code",
        "colab": {}
      },
      "source": [
        "IMAGE_SIZE = (224,224)\n",
        "DIR_NAME1 = '/content/Classification-of-COVID-19-chest-X-ray-images/dataset/training/infected'\n",
        "DIR_NAME2 = '/content/Classification-of-COVID-19-chest-X-ray-images/dataset/training/normal'\n",
        "DIR_NAME3 = '/content/Classification-of-COVID-19-chest-X-ray-images/dataset/testing'\n",
        "DIR_NAME4 = '/content/Classification-of-COVID-19-chest-X-ray-images/dataset/evaluation'\n",
        "\n",
        "#IMAGE_DIR = DIR_NAME + 'normal/'\n",
        "imagePaths=[]\n",
        "for dirname, _, filenames in os.walk(DIR_NAME1):\n",
        "    for filename in filenames:\n",
        "      imagePaths.append(os.path.join(dirname, filename))\n",
        "for dirname, _, filenames in os.walk(DIR_NAME2):\n",
        "    for filename in filenames:\n",
        "      imagePaths.append(os.path.join(dirname, filename))\n",
        "for dirname, _, filenames in os.walk(DIR_NAME3):\n",
        "    for filename in filenames:\n",
        "      imagePaths.append(os.path.join(dirname, filename))\n",
        "for dirname, _, filenames in os.walk(DIR_NAME4):\n",
        "    for filename in filenames:\n",
        "      imagePaths.append(os.path.join(dirname, filename))"
      ],
      "execution_count": 10,
      "outputs": []
    },
    {
      "cell_type": "code",
      "metadata": {
        "id": "0S6U0KTiewJO",
        "colab_type": "code",
        "colab": {
          "base_uri": "https://localhost:8080/",
          "height": 1000
        },
        "outputId": "c8bd4f3a-8aaf-4079-b53a-cce906313cc2"
      },
      "source": [
        "imagePaths=imagePaths[:-3]\n",
        "imagePaths"
      ],
      "execution_count": 11,
      "outputs": [
        {
          "output_type": "execute_result",
          "data": {
            "text/plain": [
              "['/content/Classification-of-COVID-19-chest-X-ray-images/dataset/training/infected/covid_train (50).jpeg',\n",
              " '/content/Classification-of-COVID-19-chest-X-ray-images/dataset/training/infected/covid_train (10).jpg',\n",
              " '/content/Classification-of-COVID-19-chest-X-ray-images/dataset/training/infected/covid_train (28).jpg',\n",
              " '/content/Classification-of-COVID-19-chest-X-ray-images/dataset/training/infected/covid_train (37).jpg',\n",
              " '/content/Classification-of-COVID-19-chest-X-ray-images/dataset/training/infected/covid_train5.jpg',\n",
              " '/content/Classification-of-COVID-19-chest-X-ray-images/dataset/training/infected/covid_train43.jpeg',\n",
              " '/content/Classification-of-COVID-19-chest-X-ray-images/dataset/training/infected/covid_train (8).jpeg',\n",
              " '/content/Classification-of-COVID-19-chest-X-ray-images/dataset/training/infected/covid_train (25).jpg',\n",
              " '/content/Classification-of-COVID-19-chest-X-ray-images/dataset/training/infected/covid_train (103).jpg',\n",
              " '/content/Classification-of-COVID-19-chest-X-ray-images/dataset/training/infected/covid_train (86).jpg',\n",
              " '/content/Classification-of-COVID-19-chest-X-ray-images/dataset/training/infected/covid_train34.jpeg',\n",
              " '/content/Classification-of-COVID-19-chest-X-ray-images/dataset/training/infected/covid_train89.jpeg',\n",
              " '/content/Classification-of-COVID-19-chest-X-ray-images/dataset/training/infected/covid_train35.jpeg',\n",
              " '/content/Classification-of-COVID-19-chest-X-ray-images/dataset/training/infected/covid_train (40).jpeg',\n",
              " '/content/Classification-of-COVID-19-chest-X-ray-images/dataset/training/infected/covid_train (41).jpeg',\n",
              " '/content/Classification-of-COVID-19-chest-X-ray-images/dataset/training/infected/covid_train (1).png',\n",
              " '/content/Classification-of-COVID-19-chest-X-ray-images/dataset/training/infected/covid_train (5).jpg',\n",
              " '/content/Classification-of-COVID-19-chest-X-ray-images/dataset/training/infected/covid_train (49).jpeg',\n",
              " '/content/Classification-of-COVID-19-chest-X-ray-images/dataset/training/infected/covid_train (9).jpg',\n",
              " '/content/Classification-of-COVID-19-chest-X-ray-images/dataset/training/infected/covid_train (10).png',\n",
              " '/content/Classification-of-COVID-19-chest-X-ray-images/dataset/training/infected/covid_train (100).jpg',\n",
              " '/content/Classification-of-COVID-19-chest-X-ray-images/dataset/training/infected/covid_train (9).jpeg',\n",
              " '/content/Classification-of-COVID-19-chest-X-ray-images/dataset/training/infected/covid_train (34).jpeg',\n",
              " '/content/Classification-of-COVID-19-chest-X-ray-images/dataset/training/infected/covid_train (66).jpg',\n",
              " '/content/Classification-of-COVID-19-chest-X-ray-images/dataset/training/infected/covid_train12.png',\n",
              " '/content/Classification-of-COVID-19-chest-X-ray-images/dataset/training/infected/covid_train (46).png',\n",
              " '/content/Classification-of-COVID-19-chest-X-ray-images/dataset/training/infected/covid_train (83).jpg',\n",
              " '/content/Classification-of-COVID-19-chest-X-ray-images/dataset/training/infected/covid_train (26).jpg',\n",
              " '/content/Classification-of-COVID-19-chest-X-ray-images/dataset/training/infected/covid_train (30).jpeg',\n",
              " '/content/Classification-of-COVID-19-chest-X-ray-images/dataset/training/infected/covid_train (71).jpg',\n",
              " '/content/Classification-of-COVID-19-chest-X-ray-images/dataset/training/infected/covid_train59.png',\n",
              " '/content/Classification-of-COVID-19-chest-X-ray-images/dataset/training/infected/covid_train (68).jpg',\n",
              " '/content/Classification-of-COVID-19-chest-X-ray-images/dataset/training/infected/covid_train (24).jpeg',\n",
              " '/content/Classification-of-COVID-19-chest-X-ray-images/dataset/training/infected/covid_train (44).jpeg',\n",
              " '/content/Classification-of-COVID-19-chest-X-ray-images/dataset/training/infected/covid_train (79).jpg',\n",
              " '/content/Classification-of-COVID-19-chest-X-ray-images/dataset/training/infected/covid_train61.jpg',\n",
              " '/content/Classification-of-COVID-19-chest-X-ray-images/dataset/training/infected/covid_train (2).jpeg',\n",
              " '/content/Classification-of-COVID-19-chest-X-ray-images/dataset/training/infected/covid_train (3).png',\n",
              " '/content/Classification-of-COVID-19-chest-X-ray-images/dataset/training/infected/covid_train (106).jpg',\n",
              " '/content/Classification-of-COVID-19-chest-X-ray-images/dataset/training/infected/covid_train24.jpeg',\n",
              " '/content/Classification-of-COVID-19-chest-X-ray-images/dataset/training/infected/covid_train65.jpg',\n",
              " '/content/Classification-of-COVID-19-chest-X-ray-images/dataset/training/infected/covid_train45.jpeg',\n",
              " '/content/Classification-of-COVID-19-chest-X-ray-images/dataset/training/infected/covid_train18.png',\n",
              " '/content/Classification-of-COVID-19-chest-X-ray-images/dataset/training/infected/covid_train (25).png',\n",
              " '/content/Classification-of-COVID-19-chest-X-ray-images/dataset/training/infected/covid_train (96).jpg',\n",
              " '/content/Classification-of-COVID-19-chest-X-ray-images/dataset/training/infected/covid_train (95).jpg',\n",
              " '/content/Classification-of-COVID-19-chest-X-ray-images/dataset/training/infected/covid_train (31).png',\n",
              " '/content/Classification-of-COVID-19-chest-X-ray-images/dataset/training/infected/covid_train22.jpeg',\n",
              " '/content/Classification-of-COVID-19-chest-X-ray-images/dataset/training/infected/covid_train (47).jpeg',\n",
              " '/content/Classification-of-COVID-19-chest-X-ray-images/dataset/training/infected/covid_train (34).jpg',\n",
              " '/content/Classification-of-COVID-19-chest-X-ray-images/dataset/training/infected/covid_train37.jpeg',\n",
              " '/content/Classification-of-COVID-19-chest-X-ray-images/dataset/training/infected/covid_train (33).png',\n",
              " '/content/Classification-of-COVID-19-chest-X-ray-images/dataset/training/infected/covid_train (27).jpeg',\n",
              " '/content/Classification-of-COVID-19-chest-X-ray-images/dataset/training/infected/covid_train28.jpeg',\n",
              " '/content/Classification-of-COVID-19-chest-X-ray-images/dataset/training/infected/covid_train30.jpeg',\n",
              " '/content/Classification-of-COVID-19-chest-X-ray-images/dataset/training/infected/covid_train (29).jpeg',\n",
              " '/content/Classification-of-COVID-19-chest-X-ray-images/dataset/training/infected/covid_train42.jpeg',\n",
              " '/content/Classification-of-COVID-19-chest-X-ray-images/dataset/training/infected/covid_train (44).jpg',\n",
              " '/content/Classification-of-COVID-19-chest-X-ray-images/dataset/training/infected/covid_train (57).jpg',\n",
              " '/content/Classification-of-COVID-19-chest-X-ray-images/dataset/training/infected/covid_train82.jpeg',\n",
              " '/content/Classification-of-COVID-19-chest-X-ray-images/dataset/training/infected/covid_train (35).jpg',\n",
              " '/content/Classification-of-COVID-19-chest-X-ray-images/dataset/training/infected/covid_train81.jpeg',\n",
              " '/content/Classification-of-COVID-19-chest-X-ray-images/dataset/training/infected/covid_train68.jpg',\n",
              " '/content/Classification-of-COVID-19-chest-X-ray-images/dataset/training/infected/covid_train (40).png',\n",
              " '/content/Classification-of-COVID-19-chest-X-ray-images/dataset/training/infected/covid_train (90).jpg',\n",
              " '/content/Classification-of-COVID-19-chest-X-ray-images/dataset/training/infected/covid_train (12).jpg',\n",
              " '/content/Classification-of-COVID-19-chest-X-ray-images/dataset/training/infected/covid_train17.png',\n",
              " '/content/Classification-of-COVID-19-chest-X-ray-images/dataset/training/infected/covid_train (21).jpeg',\n",
              " '/content/Classification-of-COVID-19-chest-X-ray-images/dataset/training/infected/covid_train (2).png',\n",
              " '/content/Classification-of-COVID-19-chest-X-ray-images/dataset/training/infected/covid_train (49).jpg',\n",
              " '/content/Classification-of-COVID-19-chest-X-ray-images/dataset/training/infected/covid_train (13).jpg',\n",
              " '/content/Classification-of-COVID-19-chest-X-ray-images/dataset/training/infected/covid_train69.jpg',\n",
              " '/content/Classification-of-COVID-19-chest-X-ray-images/dataset/training/infected/covid_train72.png',\n",
              " '/content/Classification-of-COVID-19-chest-X-ray-images/dataset/training/infected/covid_train (62).jpg',\n",
              " '/content/Classification-of-COVID-19-chest-X-ray-images/dataset/training/infected/covid_train (11).jpeg',\n",
              " '/content/Classification-of-COVID-19-chest-X-ray-images/dataset/training/infected/covid_train (32).jpg',\n",
              " '/content/Classification-of-COVID-19-chest-X-ray-images/dataset/training/infected/covid_train41.jpeg',\n",
              " '/content/Classification-of-COVID-19-chest-X-ray-images/dataset/training/infected/covid_train48.png',\n",
              " '/content/Classification-of-COVID-19-chest-X-ray-images/dataset/training/infected/covid_train (67).jpg',\n",
              " '/content/Classification-of-COVID-19-chest-X-ray-images/dataset/training/infected/covid_train (9).png',\n",
              " '/content/Classification-of-COVID-19-chest-X-ray-images/dataset/training/infected/covid_train (98).jpg',\n",
              " '/content/Classification-of-COVID-19-chest-X-ray-images/dataset/training/infected/covid_train (2).jpg',\n",
              " '/content/Classification-of-COVID-19-chest-X-ray-images/dataset/training/infected/covid_train (31).jpg',\n",
              " '/content/Classification-of-COVID-19-chest-X-ray-images/dataset/training/infected/covid_train (15).png',\n",
              " '/content/Classification-of-COVID-19-chest-X-ray-images/dataset/training/infected/covid_train (46).jpg',\n",
              " '/content/Classification-of-COVID-19-chest-X-ray-images/dataset/training/infected/covid_train64.jpg',\n",
              " '/content/Classification-of-COVID-19-chest-X-ray-images/dataset/training/infected/covid_train (38).png',\n",
              " '/content/Classification-of-COVID-19-chest-X-ray-images/dataset/training/infected/covid_train (43).jpg',\n",
              " '/content/Classification-of-COVID-19-chest-X-ray-images/dataset/training/infected/covid_train7.jpg',\n",
              " '/content/Classification-of-COVID-19-chest-X-ray-images/dataset/training/infected/covid_train86.jpeg',\n",
              " '/content/Classification-of-COVID-19-chest-X-ray-images/dataset/training/infected/covid_train40.jpeg',\n",
              " '/content/Classification-of-COVID-19-chest-X-ray-images/dataset/training/infected/covid_train38.jpeg',\n",
              " '/content/Classification-of-COVID-19-chest-X-ray-images/dataset/training/infected/covid_train (17).png',\n",
              " '/content/Classification-of-COVID-19-chest-X-ray-images/dataset/training/infected/covid_train (6).jpeg',\n",
              " '/content/Classification-of-COVID-19-chest-X-ray-images/dataset/training/infected/covid_train (1).jpeg',\n",
              " '/content/Classification-of-COVID-19-chest-X-ray-images/dataset/training/infected/covid_train (32).jpeg',\n",
              " '/content/Classification-of-COVID-19-chest-X-ray-images/dataset/training/infected/covid_train84.jpeg',\n",
              " '/content/Classification-of-COVID-19-chest-X-ray-images/dataset/training/infected/covid_train88.jpeg',\n",
              " '/content/Classification-of-COVID-19-chest-X-ray-images/dataset/training/infected/covid_train (94).jpg',\n",
              " '/content/Classification-of-COVID-19-chest-X-ray-images/dataset/training/infected/covid_train (105).jpg',\n",
              " '/content/Classification-of-COVID-19-chest-X-ray-images/dataset/training/infected/covid_train32.jpeg',\n",
              " '/content/Classification-of-COVID-19-chest-X-ray-images/dataset/training/infected/covid_train51.png',\n",
              " '/content/Classification-of-COVID-19-chest-X-ray-images/dataset/training/infected/covid_train (13).jpeg',\n",
              " '/content/Classification-of-COVID-19-chest-X-ray-images/dataset/training/infected/covid_train (18).jpg',\n",
              " '/content/Classification-of-COVID-19-chest-X-ray-images/dataset/training/infected/covid_train (20).jpg',\n",
              " '/content/Classification-of-COVID-19-chest-X-ray-images/dataset/training/infected/covid_train (15).jpg',\n",
              " '/content/Classification-of-COVID-19-chest-X-ray-images/dataset/training/infected/covid_train (41).png',\n",
              " '/content/Classification-of-COVID-19-chest-X-ray-images/dataset/training/infected/covid_train1.jpeg',\n",
              " '/content/Classification-of-COVID-19-chest-X-ray-images/dataset/training/infected/covid_train9.png',\n",
              " '/content/Classification-of-COVID-19-chest-X-ray-images/dataset/training/infected/covid_train (84).jpg',\n",
              " '/content/Classification-of-COVID-19-chest-X-ray-images/dataset/training/infected/covid_train14.png',\n",
              " '/content/Classification-of-COVID-19-chest-X-ray-images/dataset/training/infected/covid_train (18).png',\n",
              " '/content/Classification-of-COVID-19-chest-X-ray-images/dataset/training/infected/covid_train (26).png',\n",
              " '/content/Classification-of-COVID-19-chest-X-ray-images/dataset/training/infected/covid_train (23).png',\n",
              " '/content/Classification-of-COVID-19-chest-X-ray-images/dataset/training/infected/covid_train (58).jpg',\n",
              " '/content/Classification-of-COVID-19-chest-X-ray-images/dataset/training/infected/covid_train (37).png',\n",
              " '/content/Classification-of-COVID-19-chest-X-ray-images/dataset/training/infected/covid_train (56).jpg',\n",
              " '/content/Classification-of-COVID-19-chest-X-ray-images/dataset/training/infected/covid_train (16).jpg',\n",
              " '/content/Classification-of-COVID-19-chest-X-ray-images/dataset/training/infected/covid_train74.jpeg',\n",
              " '/content/Classification-of-COVID-19-chest-X-ray-images/dataset/training/infected/covid_train71.jpg',\n",
              " '/content/Classification-of-COVID-19-chest-X-ray-images/dataset/training/infected/covid_train27.jpeg',\n",
              " '/content/Classification-of-COVID-19-chest-X-ray-images/dataset/training/infected/covid_train (77).jpg',\n",
              " '/content/Classification-of-COVID-19-chest-X-ray-images/dataset/training/infected/covid_train (22).jpg',\n",
              " '/content/Classification-of-COVID-19-chest-X-ray-images/dataset/training/infected/covid_train49.jpg',\n",
              " '/content/Classification-of-COVID-19-chest-X-ray-images/dataset/training/infected/covid_train (64).jpg',\n",
              " '/content/Classification-of-COVID-19-chest-X-ray-images/dataset/training/infected/covid_train6.jpg',\n",
              " '/content/Classification-of-COVID-19-chest-X-ray-images/dataset/training/infected/covid_train4.jpg',\n",
              " '/content/Classification-of-COVID-19-chest-X-ray-images/dataset/training/infected/covid_train15.png',\n",
              " '/content/Classification-of-COVID-19-chest-X-ray-images/dataset/training/infected/covid_train (38).jpg',\n",
              " '/content/Classification-of-COVID-19-chest-X-ray-images/dataset/training/infected/covid_train (91).jpg',\n",
              " '/content/Classification-of-COVID-19-chest-X-ray-images/dataset/training/infected/covid_train (60).jpg',\n",
              " '/content/Classification-of-COVID-19-chest-X-ray-images/dataset/training/infected/covid_train (55).jpg',\n",
              " '/content/Classification-of-COVID-19-chest-X-ray-images/dataset/training/infected/covid_train (11).png',\n",
              " '/content/Classification-of-COVID-19-chest-X-ray-images/dataset/training/infected/covid_train (33).jpeg',\n",
              " '/content/Classification-of-COVID-19-chest-X-ray-images/dataset/training/infected/covid_train (32).png',\n",
              " '/content/Classification-of-COVID-19-chest-X-ray-images/dataset/training/infected/covid_train60.png',\n",
              " '/content/Classification-of-COVID-19-chest-X-ray-images/dataset/training/infected/covid_train67.jpg',\n",
              " '/content/Classification-of-COVID-19-chest-X-ray-images/dataset/training/infected/covid_train (44).png',\n",
              " '/content/Classification-of-COVID-19-chest-X-ray-images/dataset/training/infected/covid_train (50).jpg',\n",
              " '/content/Classification-of-COVID-19-chest-X-ray-images/dataset/training/infected/covid_train (63).jpg',\n",
              " '/content/Classification-of-COVID-19-chest-X-ray-images/dataset/training/infected/covid_train (104).jpg',\n",
              " '/content/Classification-of-COVID-19-chest-X-ray-images/dataset/training/infected/covid_train (42).png',\n",
              " '/content/Classification-of-COVID-19-chest-X-ray-images/dataset/training/infected/covid_train (51).jpeg',\n",
              " '/content/Classification-of-COVID-19-chest-X-ray-images/dataset/training/infected/covid_train3.jpg',\n",
              " '/content/Classification-of-COVID-19-chest-X-ray-images/dataset/training/infected/covid_train (14).jpg',\n",
              " '/content/Classification-of-COVID-19-chest-X-ray-images/dataset/training/infected/covid_train36.jpeg',\n",
              " '/content/Classification-of-COVID-19-chest-X-ray-images/dataset/training/infected/covid_train (73).jpg',\n",
              " '/content/Classification-of-COVID-19-chest-X-ray-images/dataset/training/infected/covid_train (34).png',\n",
              " '/content/Classification-of-COVID-19-chest-X-ray-images/dataset/training/infected/covid_train (88).jpg',\n",
              " '/content/Classification-of-COVID-19-chest-X-ray-images/dataset/training/infected/covid_train (42).jpeg',\n",
              " '/content/Classification-of-COVID-19-chest-X-ray-images/dataset/training/infected/covid_train46.png',\n",
              " '/content/Classification-of-COVID-19-chest-X-ray-images/dataset/training/infected/covid_train (16).png',\n",
              " '/content/Classification-of-COVID-19-chest-X-ray-images/dataset/training/infected/covid_train20.jpeg',\n",
              " '/content/Classification-of-COVID-19-chest-X-ray-images/dataset/training/infected/covid_train (7).jpg',\n",
              " '/content/Classification-of-COVID-19-chest-X-ray-images/dataset/training/infected/covid_train (12).jpeg',\n",
              " '/content/Classification-of-COVID-19-chest-X-ray-images/dataset/training/infected/covid_train (12).png',\n",
              " '/content/Classification-of-COVID-19-chest-X-ray-images/dataset/training/infected/covid_train (19).jpg',\n",
              " '/content/Classification-of-COVID-19-chest-X-ray-images/dataset/training/infected/covid_train (52).jpeg',\n",
              " '/content/Classification-of-COVID-19-chest-X-ray-images/dataset/training/infected/covid_train (19).jpeg',\n",
              " '/content/Classification-of-COVID-19-chest-X-ray-images/dataset/training/infected/covid_train63.jpg',\n",
              " '/content/Classification-of-COVID-19-chest-X-ray-images/dataset/training/infected/covid_train (18).jpeg',\n",
              " '/content/Classification-of-COVID-19-chest-X-ray-images/dataset/training/infected/covid_train (4).jpeg',\n",
              " '/content/Classification-of-COVID-19-chest-X-ray-images/dataset/training/infected/covid_train25.jpeg',\n",
              " '/content/Classification-of-COVID-19-chest-X-ray-images/dataset/training/infected/covid_train (36).png',\n",
              " '/content/Classification-of-COVID-19-chest-X-ray-images/dataset/training/infected/covid_train (3).jpeg',\n",
              " '/content/Classification-of-COVID-19-chest-X-ray-images/dataset/training/infected/covid_train (101).jpg',\n",
              " '/content/Classification-of-COVID-19-chest-X-ray-images/dataset/training/infected/covid_train (59).jpg',\n",
              " '/content/Classification-of-COVID-19-chest-X-ray-images/dataset/training/infected/covid_train (37).jpeg',\n",
              " '/content/Classification-of-COVID-19-chest-X-ray-images/dataset/training/infected/covid_train53.png',\n",
              " '/content/Classification-of-COVID-19-chest-X-ray-images/dataset/training/infected/covid_train (92).jpg',\n",
              " '/content/Classification-of-COVID-19-chest-X-ray-images/dataset/training/infected/covid_train23.jpeg',\n",
              " '/content/Classification-of-COVID-19-chest-X-ray-images/dataset/training/infected/covid_train (20).jpeg',\n",
              " '/content/Classification-of-COVID-19-chest-X-ray-images/dataset/training/infected/covid_train87.jpeg',\n",
              " '/content/Classification-of-COVID-19-chest-X-ray-images/dataset/training/infected/covid_train (48).jpeg',\n",
              " '/content/Classification-of-COVID-19-chest-X-ray-images/dataset/training/infected/covid_train2.jpeg',\n",
              " '/content/Classification-of-COVID-19-chest-X-ray-images/dataset/training/infected/covid_train (31).jpeg',\n",
              " '/content/Classification-of-COVID-19-chest-X-ray-images/dataset/training/infected/covid_train (40).jpg',\n",
              " '/content/Classification-of-COVID-19-chest-X-ray-images/dataset/training/infected/covid_train54.jpg',\n",
              " '/content/Classification-of-COVID-19-chest-X-ray-images/dataset/training/infected/covid_train (29).jpg',\n",
              " '/content/Classification-of-COVID-19-chest-X-ray-images/dataset/training/infected/covid_train (41).jpg',\n",
              " '/content/Classification-of-COVID-19-chest-X-ray-images/dataset/training/infected/covid_train (7).jpeg',\n",
              " '/content/Classification-of-COVID-19-chest-X-ray-images/dataset/training/infected/covid_train (35).jpeg',\n",
              " '/content/Classification-of-COVID-19-chest-X-ray-images/dataset/training/infected/covid_train44.jpeg',\n",
              " '/content/Classification-of-COVID-19-chest-X-ray-images/dataset/training/infected/covid_train (15).jpeg',\n",
              " '/content/Classification-of-COVID-19-chest-X-ray-images/dataset/training/infected/covid_train (65).jpg',\n",
              " '/content/Classification-of-COVID-19-chest-X-ray-images/dataset/training/infected/covid_train47.png',\n",
              " '/content/Classification-of-COVID-19-chest-X-ray-images/dataset/training/infected/covid_train (21).png',\n",
              " '/content/Classification-of-COVID-19-chest-X-ray-images/dataset/training/infected/covid_train33.jpeg',\n",
              " '/content/Classification-of-COVID-19-chest-X-ray-images/dataset/training/infected/covid_train58.png',\n",
              " '/content/Classification-of-COVID-19-chest-X-ray-images/dataset/training/infected/covid_train (54).jpg',\n",
              " '/content/Classification-of-COVID-19-chest-X-ray-images/dataset/training/infected/covid_train31.jpeg',\n",
              " '/content/Classification-of-COVID-19-chest-X-ray-images/dataset/training/infected/covid_train (35).png',\n",
              " '/content/Classification-of-COVID-19-chest-X-ray-images/dataset/training/infected/covid_train (45).jpg',\n",
              " '/content/Classification-of-COVID-19-chest-X-ray-images/dataset/training/infected/covid_train (10).jpeg',\n",
              " '/content/Classification-of-COVID-19-chest-X-ray-images/dataset/training/infected/covid_train70.jpg',\n",
              " '/content/Classification-of-COVID-19-chest-X-ray-images/dataset/training/infected/covid_train (61).jpg',\n",
              " '/content/Classification-of-COVID-19-chest-X-ray-images/dataset/training/infected/covid_train (23).jpeg',\n",
              " '/content/Classification-of-COVID-19-chest-X-ray-images/dataset/training/infected/covid_train (26).jpeg',\n",
              " '/content/Classification-of-COVID-19-chest-X-ray-images/dataset/training/infected/covid_train (39).jpeg',\n",
              " '/content/Classification-of-COVID-19-chest-X-ray-images/dataset/training/infected/covid_train (30).jpg',\n",
              " '/content/Classification-of-COVID-19-chest-X-ray-images/dataset/training/infected/covid_train66.jpg',\n",
              " '/content/Classification-of-COVID-19-chest-X-ray-images/dataset/training/infected/covid_train11.png',\n",
              " '/content/Classification-of-COVID-19-chest-X-ray-images/dataset/training/infected/covid_train (42).jpg',\n",
              " '/content/Classification-of-COVID-19-chest-X-ray-images/dataset/training/infected/covid_train (48).jpg',\n",
              " '/content/Classification-of-COVID-19-chest-X-ray-images/dataset/training/infected/covid_train (5).png',\n",
              " '/content/Classification-of-COVID-19-chest-X-ray-images/dataset/training/infected/covid_train (6).png',\n",
              " '/content/Classification-of-COVID-19-chest-X-ray-images/dataset/training/infected/covid_train29.jpeg',\n",
              " '/content/Classification-of-COVID-19-chest-X-ray-images/dataset/training/infected/covid_train77.jpeg',\n",
              " '/content/Classification-of-COVID-19-chest-X-ray-images/dataset/training/infected/covid_train55.jpg',\n",
              " '/content/Classification-of-COVID-19-chest-X-ray-images/dataset/training/infected/covid_train (8).jpg',\n",
              " '/content/Classification-of-COVID-19-chest-X-ray-images/dataset/training/infected/covid_train26.jpeg',\n",
              " '/content/Classification-of-COVID-19-chest-X-ray-images/dataset/training/infected/covid_train80.jpeg',\n",
              " '/content/Classification-of-COVID-19-chest-X-ray-images/dataset/training/infected/covid_train57.jpg',\n",
              " '/content/Classification-of-COVID-19-chest-X-ray-images/dataset/training/infected/covid_train (17).jpeg',\n",
              " '/content/Classification-of-COVID-19-chest-X-ray-images/dataset/training/infected/covid_train (23).jpg',\n",
              " '/content/Classification-of-COVID-19-chest-X-ray-images/dataset/training/infected/covid_train (97).jpg',\n",
              " '/content/Classification-of-COVID-19-chest-X-ray-images/dataset/training/infected/covid_train (28).jpeg',\n",
              " '/content/Classification-of-COVID-19-chest-X-ray-images/dataset/training/infected/covid_train (52).jpg',\n",
              " '/content/Classification-of-COVID-19-chest-X-ray-images/dataset/training/infected/covid_train (16).jpeg',\n",
              " '/content/Classification-of-COVID-19-chest-X-ray-images/dataset/training/infected/1.jpeg',\n",
              " '/content/Classification-of-COVID-19-chest-X-ray-images/dataset/training/infected/covid_train78.jpeg',\n",
              " '/content/Classification-of-COVID-19-chest-X-ray-images/dataset/training/infected/covid_train (47).jpg',\n",
              " '/content/Classification-of-COVID-19-chest-X-ray-images/dataset/training/infected/covid_train (87).jpg',\n",
              " '/content/Classification-of-COVID-19-chest-X-ray-images/dataset/training/infected/covid_train (45).png',\n",
              " '/content/Classification-of-COVID-19-chest-X-ray-images/dataset/training/infected/covid_train (82).jpg',\n",
              " '/content/Classification-of-COVID-19-chest-X-ray-images/dataset/training/infected/covid_train (27).png',\n",
              " '/content/Classification-of-COVID-19-chest-X-ray-images/dataset/training/infected/covid_train (53).jpg',\n",
              " '/content/Classification-of-COVID-19-chest-X-ray-images/dataset/training/infected/covid_train (17).jpg',\n",
              " '/content/Classification-of-COVID-19-chest-X-ray-images/dataset/training/infected/covid_train73.jpeg',\n",
              " '/content/Classification-of-COVID-19-chest-X-ray-images/dataset/training/infected/covid_train (47).png',\n",
              " '/content/Classification-of-COVID-19-chest-X-ray-images/dataset/training/infected/covid_train10.png',\n",
              " '/content/Classification-of-COVID-19-chest-X-ray-images/dataset/training/infected/covid_train21.png',\n",
              " '/content/Classification-of-COVID-19-chest-X-ray-images/dataset/training/infected/covid_train (28).png',\n",
              " '/content/Classification-of-COVID-19-chest-X-ray-images/dataset/training/infected/covid_train (70).jpg',\n",
              " '/content/Classification-of-COVID-19-chest-X-ray-images/dataset/training/infected/covid_train (4).jpg',\n",
              " '/content/Classification-of-COVID-19-chest-X-ray-images/dataset/training/infected/covid_train (7).png',\n",
              " '/content/Classification-of-COVID-19-chest-X-ray-images/dataset/training/infected/covid_train39.jpeg',\n",
              " '/content/Classification-of-COVID-19-chest-X-ray-images/dataset/training/infected/covid_train (74).jpg',\n",
              " '/content/Classification-of-COVID-19-chest-X-ray-images/dataset/training/infected/covid_train (22).jpeg',\n",
              " '/content/Classification-of-COVID-19-chest-X-ray-images/dataset/training/infected/covid_train (85).jpg',\n",
              " '/content/Classification-of-COVID-19-chest-X-ray-images/dataset/training/infected/covid_train (80).JPG',\n",
              " '/content/Classification-of-COVID-19-chest-X-ray-images/dataset/training/infected/covid_train (5).jpeg',\n",
              " '/content/Classification-of-COVID-19-chest-X-ray-images/dataset/training/infected/covid_train (19).png',\n",
              " '/content/Classification-of-COVID-19-chest-X-ray-images/dataset/training/infected/covid_train (81).jpg',\n",
              " '/content/Classification-of-COVID-19-chest-X-ray-images/dataset/training/infected/covid_train8.png',\n",
              " '/content/Classification-of-COVID-19-chest-X-ray-images/dataset/training/infected/covid_train (24).jpg',\n",
              " '/content/Classification-of-COVID-19-chest-X-ray-images/dataset/training/infected/covid_train (89).jpg',\n",
              " '/content/Classification-of-COVID-19-chest-X-ray-images/dataset/training/infected/covid_train13.png',\n",
              " '/content/Classification-of-COVID-19-chest-X-ray-images/dataset/training/infected/covid_train (11).jpg',\n",
              " '/content/Classification-of-COVID-19-chest-X-ray-images/dataset/training/infected/covid_train (14).png',\n",
              " '/content/Classification-of-COVID-19-chest-X-ray-images/dataset/training/infected/covid_train (6).jpg',\n",
              " '/content/Classification-of-COVID-19-chest-X-ray-images/dataset/training/infected/covid_train (45).jpeg',\n",
              " '/content/Classification-of-COVID-19-chest-X-ray-images/dataset/training/infected/covid_train (20).png',\n",
              " '/content/Classification-of-COVID-19-chest-X-ray-images/dataset/training/infected/covid_train76.jpg',\n",
              " '/content/Classification-of-COVID-19-chest-X-ray-images/dataset/training/infected/covid_train (43).png',\n",
              " '/content/Classification-of-COVID-19-chest-X-ray-images/dataset/training/infected/covid_train (33).jpg',\n",
              " '/content/Classification-of-COVID-19-chest-X-ray-images/dataset/training/infected/covid_train (8).png',\n",
              " '/content/Classification-of-COVID-19-chest-X-ray-images/dataset/training/infected/covid_train50.png',\n",
              " '/content/Classification-of-COVID-19-chest-X-ray-images/dataset/training/infected/covid_train85.jpeg',\n",
              " '/content/Classification-of-COVID-19-chest-X-ray-images/dataset/training/infected/covid_train (30).png',\n",
              " '/content/Classification-of-COVID-19-chest-X-ray-images/dataset/training/infected/covid_train (24).png',\n",
              " '/content/Classification-of-COVID-19-chest-X-ray-images/dataset/training/infected/covid_train (36).jpeg',\n",
              " '/content/Classification-of-COVID-19-chest-X-ray-images/dataset/training/infected/covid_train (78).jpg',\n",
              " '/content/Classification-of-COVID-19-chest-X-ray-images/dataset/training/infected/covid_train79.jpeg',\n",
              " '/content/Classification-of-COVID-19-chest-X-ray-images/dataset/training/infected/covid_train (1).jpg',\n",
              " '/content/Classification-of-COVID-19-chest-X-ray-images/dataset/training/infected/covid_train (39).jpg',\n",
              " '/content/Classification-of-COVID-19-chest-X-ray-images/dataset/training/infected/covid_train83.png',\n",
              " '/content/Classification-of-COVID-19-chest-X-ray-images/dataset/training/infected/covid_train (48).png',\n",
              " '/content/Classification-of-COVID-19-chest-X-ray-images/dataset/training/infected/covid_train (21).jpg',\n",
              " '/content/Classification-of-COVID-19-chest-X-ray-images/dataset/training/infected/covid_train (43).jpeg',\n",
              " '/content/Classification-of-COVID-19-chest-X-ray-images/dataset/training/infected/covid_train (22).png',\n",
              " '/content/Classification-of-COVID-19-chest-X-ray-images/dataset/training/infected/covid_train56.jpg',\n",
              " '/content/Classification-of-COVID-19-chest-X-ray-images/dataset/training/infected/covid_train (27).jpg',\n",
              " '/content/Classification-of-COVID-19-chest-X-ray-images/dataset/training/infected/covid_train (46).jpeg',\n",
              " '/content/Classification-of-COVID-19-chest-X-ray-images/dataset/training/infected/covid_train (69).jpg',\n",
              " '/content/Classification-of-COVID-19-chest-X-ray-images/dataset/training/infected/covid_train (99).jpg',\n",
              " '/content/Classification-of-COVID-19-chest-X-ray-images/dataset/training/infected/covid_train (76).jpg',\n",
              " '/content/Classification-of-COVID-19-chest-X-ray-images/dataset/training/infected/covid_train (93).jpg',\n",
              " '/content/Classification-of-COVID-19-chest-X-ray-images/dataset/training/infected/covid_train (102).jpg',\n",
              " '/content/Classification-of-COVID-19-chest-X-ray-images/dataset/training/infected/covid_train (36).jpg',\n",
              " '/content/Classification-of-COVID-19-chest-X-ray-images/dataset/training/infected/covid_train75.jpg',\n",
              " '/content/Classification-of-COVID-19-chest-X-ray-images/dataset/training/infected/covid_train16.png',\n",
              " '/content/Classification-of-COVID-19-chest-X-ray-images/dataset/training/infected/covid_train19.jpeg',\n",
              " '/content/Classification-of-COVID-19-chest-X-ray-images/dataset/training/infected/covid_train (38).jpeg',\n",
              " '/content/Classification-of-COVID-19-chest-X-ray-images/dataset/training/infected/covid_train (25).jpeg',\n",
              " '/content/Classification-of-COVID-19-chest-X-ray-images/dataset/training/infected/covid_train (29).png',\n",
              " '/content/Classification-of-COVID-19-chest-X-ray-images/dataset/training/infected/covid_train (4).png',\n",
              " '/content/Classification-of-COVID-19-chest-X-ray-images/dataset/training/infected/covid_train (51).jpg',\n",
              " '/content/Classification-of-COVID-19-chest-X-ray-images/dataset/training/infected/covid_train52.jpg',\n",
              " '/content/Classification-of-COVID-19-chest-X-ray-images/dataset/training/infected/covid_train (75).jpg',\n",
              " '/content/Classification-of-COVID-19-chest-X-ray-images/dataset/training/infected/covid_train (3).jpg',\n",
              " '/content/Classification-of-COVID-19-chest-X-ray-images/dataset/training/infected/covid_train (13).png',\n",
              " '/content/Classification-of-COVID-19-chest-X-ray-images/dataset/training/infected/covid_train (39).png',\n",
              " '/content/Classification-of-COVID-19-chest-X-ray-images/dataset/training/infected/covid_train62.png',\n",
              " '/content/Classification-of-COVID-19-chest-X-ray-images/dataset/training/infected/covid_train (14).jpeg',\n",
              " '/content/Classification-of-COVID-19-chest-X-ray-images/dataset/training/infected/covid_train (72).jpg',\n",
              " '/content/Classification-of-COVID-19-chest-X-ray-images/dataset/training/normal/NORMAL2 (26).jpeg',\n",
              " '/content/Classification-of-COVID-19-chest-X-ray-images/dataset/training/normal/NORMAL2 (193).jpeg',\n",
              " '/content/Classification-of-COVID-19-chest-X-ray-images/dataset/training/normal/NORMAL2 (137).jpeg',\n",
              " '/content/Classification-of-COVID-19-chest-X-ray-images/dataset/training/normal/NORMAL2 (199).jpeg',\n",
              " '/content/Classification-of-COVID-19-chest-X-ray-images/dataset/training/normal/NORMAL2 (189).jpeg',\n",
              " '/content/Classification-of-COVID-19-chest-X-ray-images/dataset/training/normal/NORMAL2 (146).jpeg',\n",
              " '/content/Classification-of-COVID-19-chest-X-ray-images/dataset/training/normal/NORMAL2 (135).jpeg',\n",
              " '/content/Classification-of-COVID-19-chest-X-ray-images/dataset/training/normal/NORMAL2-IM-0321-0001.jpeg',\n",
              " '/content/Classification-of-COVID-19-chest-X-ray-images/dataset/training/normal/NORMAL2-IM-0339-0001.jpeg',\n",
              " '/content/Classification-of-COVID-19-chest-X-ray-images/dataset/training/normal/NORMAL2-IM-0353-0001.jpeg',\n",
              " '/content/Classification-of-COVID-19-chest-X-ray-images/dataset/training/normal/NORMAL2 (46).jpeg',\n",
              " '/content/Classification-of-COVID-19-chest-X-ray-images/dataset/training/normal/NORMAL2 (22).jpeg',\n",
              " '/content/Classification-of-COVID-19-chest-X-ray-images/dataset/training/normal/NORMAL2-IM-0051-0001.jpeg',\n",
              " '/content/Classification-of-COVID-19-chest-X-ray-images/dataset/training/normal/NORMAL2 (69).jpeg',\n",
              " '/content/Classification-of-COVID-19-chest-X-ray-images/dataset/training/normal/NORMAL2-IM-0096-0001.jpeg',\n",
              " '/content/Classification-of-COVID-19-chest-X-ray-images/dataset/training/normal/NORMAL2 (178).jpeg',\n",
              " '/content/Classification-of-COVID-19-chest-X-ray-images/dataset/training/normal/NORMAL2-IM-0374-0001.jpeg',\n",
              " '/content/Classification-of-COVID-19-chest-X-ray-images/dataset/training/normal/NORMAL2 (19).jpeg',\n",
              " '/content/Classification-of-COVID-19-chest-X-ray-images/dataset/training/normal/NORMAL2 (53).jpeg',\n",
              " '/content/Classification-of-COVID-19-chest-X-ray-images/dataset/training/normal/NORMAL2-IM-0345-0001.jpeg',\n",
              " '/content/Classification-of-COVID-19-chest-X-ray-images/dataset/training/normal/NORMAL2 (184).jpeg',\n",
              " '/content/Classification-of-COVID-19-chest-X-ray-images/dataset/training/normal/NORMAL2 (183).jpeg',\n",
              " '/content/Classification-of-COVID-19-chest-X-ray-images/dataset/training/normal/NORMAL2-IM-0030-0001.jpeg',\n",
              " '/content/Classification-of-COVID-19-chest-X-ray-images/dataset/training/normal/NORMAL2 (169).jpeg',\n",
              " '/content/Classification-of-COVID-19-chest-X-ray-images/dataset/training/normal/NORMAL2 (185).jpeg',\n",
              " '/content/Classification-of-COVID-19-chest-X-ray-images/dataset/training/normal/NORMAL2 (45).jpeg',\n",
              " '/content/Classification-of-COVID-19-chest-X-ray-images/dataset/training/normal/NORMAL2 (153).jpeg',\n",
              " '/content/Classification-of-COVID-19-chest-X-ray-images/dataset/training/normal/NORMAL2 (176).jpeg',\n",
              " '/content/Classification-of-COVID-19-chest-X-ray-images/dataset/training/normal/NORMAL2 (56).jpeg',\n",
              " '/content/Classification-of-COVID-19-chest-X-ray-images/dataset/training/normal/NORMAL2 (62).jpeg',\n",
              " '/content/Classification-of-COVID-19-chest-X-ray-images/dataset/training/normal/NORMAL2 (119).jpeg',\n",
              " '/content/Classification-of-COVID-19-chest-X-ray-images/dataset/training/normal/NORMAL2-IM-0331-0001.jpeg',\n",
              " '/content/Classification-of-COVID-19-chest-X-ray-images/dataset/training/normal/NORMAL2 (85).jpeg',\n",
              " '/content/Classification-of-COVID-19-chest-X-ray-images/dataset/training/normal/NORMAL2 (48).jpeg',\n",
              " '/content/Classification-of-COVID-19-chest-X-ray-images/dataset/training/normal/NORMAL2 (11).jpeg',\n",
              " '/content/Classification-of-COVID-19-chest-X-ray-images/dataset/training/normal/NORMAL2 (171).jpeg',\n",
              " '/content/Classification-of-COVID-19-chest-X-ray-images/dataset/training/normal/NORMAL2 (51).jpeg',\n",
              " '/content/Classification-of-COVID-19-chest-X-ray-images/dataset/training/normal/NORMAL2-IM-0079-0001.jpeg',\n",
              " '/content/Classification-of-COVID-19-chest-X-ray-images/dataset/training/normal/NORMAL2 (158).jpeg',\n",
              " '/content/Classification-of-COVID-19-chest-X-ray-images/dataset/training/normal/NORMAL2 (66).jpeg',\n",
              " '/content/Classification-of-COVID-19-chest-X-ray-images/dataset/training/normal/NORMAL2-IM-0023-0001.jpeg',\n",
              " '/content/Classification-of-COVID-19-chest-X-ray-images/dataset/training/normal/NORMAL2 (134).jpeg',\n",
              " '/content/Classification-of-COVID-19-chest-X-ray-images/dataset/training/normal/NORMAL2-IM-0072-0001.jpeg',\n",
              " '/content/Classification-of-COVID-19-chest-X-ray-images/dataset/training/normal/NORMAL2 (113).jpeg',\n",
              " '/content/Classification-of-COVID-19-chest-X-ray-images/dataset/training/normal/NORMAL2-IM-0081-0001.jpeg',\n",
              " '/content/Classification-of-COVID-19-chest-X-ray-images/dataset/training/normal/NORMAL2 (100).jpeg',\n",
              " '/content/Classification-of-COVID-19-chest-X-ray-images/dataset/training/normal/NORMAL2 (49).jpeg',\n",
              " '/content/Classification-of-COVID-19-chest-X-ray-images/dataset/training/normal/NORMAL2 (108).jpeg',\n",
              " '/content/Classification-of-COVID-19-chest-X-ray-images/dataset/training/normal/NORMAL2 (14).jpeg',\n",
              " '/content/Classification-of-COVID-19-chest-X-ray-images/dataset/training/normal/NORMAL2 (177).jpeg',\n",
              " '/content/Classification-of-COVID-19-chest-X-ray-images/dataset/training/normal/NORMAL2 (114).jpeg',\n",
              " '/content/Classification-of-COVID-19-chest-X-ray-images/dataset/training/normal/NORMAL2-IM-0287-0001.jpeg',\n",
              " '/content/Classification-of-COVID-19-chest-X-ray-images/dataset/training/normal/NORMAL2 (16).jpeg',\n",
              " '/content/Classification-of-COVID-19-chest-X-ray-images/dataset/training/normal/NORMAL2 (190).jpeg',\n",
              " '/content/Classification-of-COVID-19-chest-X-ray-images/dataset/training/normal/NORMAL2-IM-0361-0001.jpeg',\n",
              " '/content/Classification-of-COVID-19-chest-X-ray-images/dataset/training/normal/NORMAL2 (195).jpeg',\n",
              " '/content/Classification-of-COVID-19-chest-X-ray-images/dataset/training/normal/NORMAL2-IM-0323-0001.jpeg',\n",
              " '/content/Classification-of-COVID-19-chest-X-ray-images/dataset/training/normal/NORMAL2 (109).jpeg',\n",
              " '/content/Classification-of-COVID-19-chest-X-ray-images/dataset/training/normal/NORMAL2 (197).jpeg',\n",
              " '/content/Classification-of-COVID-19-chest-X-ray-images/dataset/training/normal/NORMAL2 (24).jpeg',\n",
              " '/content/Classification-of-COVID-19-chest-X-ray-images/dataset/training/normal/NORMAL2 (34).jpeg',\n",
              " '/content/Classification-of-COVID-19-chest-X-ray-images/dataset/training/normal/NORMAL2 (5).jpeg',\n",
              " '/content/Classification-of-COVID-19-chest-X-ray-images/dataset/training/normal/NORMAL2 (1).jpeg',\n",
              " '/content/Classification-of-COVID-19-chest-X-ray-images/dataset/training/normal/NORMAL2 (126).jpeg',\n",
              " '/content/Classification-of-COVID-19-chest-X-ray-images/dataset/training/normal/NORMAL2 (80).jpeg',\n",
              " '/content/Classification-of-COVID-19-chest-X-ray-images/dataset/training/normal/NORMAL2 (63).jpeg',\n",
              " '/content/Classification-of-COVID-19-chest-X-ray-images/dataset/training/normal/NORMAL2 (187).jpeg',\n",
              " '/content/Classification-of-COVID-19-chest-X-ray-images/dataset/training/normal/NORMAL2 (23).jpeg',\n",
              " '/content/Classification-of-COVID-19-chest-X-ray-images/dataset/training/normal/NORMAL2-IM-0271-0001.jpeg',\n",
              " '/content/Classification-of-COVID-19-chest-X-ray-images/dataset/training/normal/NORMAL2-IM-0301-0001.jpeg',\n",
              " '/content/Classification-of-COVID-19-chest-X-ray-images/dataset/training/normal/NORMAL2 (131).jpeg',\n",
              " '/content/Classification-of-COVID-19-chest-X-ray-images/dataset/training/normal/NORMAL2-IM-0007-0001.jpeg',\n",
              " '/content/Classification-of-COVID-19-chest-X-ray-images/dataset/training/normal/NORMAL2 (33).jpeg',\n",
              " '/content/Classification-of-COVID-19-chest-X-ray-images/dataset/training/normal/NORMAL2-IM-0092-0001.jpeg',\n",
              " '/content/Classification-of-COVID-19-chest-X-ray-images/dataset/training/normal/NORMAL2 (161).jpeg',\n",
              " '/content/Classification-of-COVID-19-chest-X-ray-images/dataset/training/normal/NORMAL2-IM-0281-0001.jpeg',\n",
              " '/content/Classification-of-COVID-19-chest-X-ray-images/dataset/training/normal/NORMAL2-IM-0357-0001.jpeg',\n",
              " '/content/Classification-of-COVID-19-chest-X-ray-images/dataset/training/normal/NORMAL2 (138).jpeg',\n",
              " '/content/Classification-of-COVID-19-chest-X-ray-images/dataset/training/normal/NORMAL2-IM-0368-0001.jpeg',\n",
              " '/content/Classification-of-COVID-19-chest-X-ray-images/dataset/training/normal/NORMAL2 (110).jpeg',\n",
              " '/content/Classification-of-COVID-19-chest-X-ray-images/dataset/training/normal/NORMAL2 (9).jpeg',\n",
              " '/content/Classification-of-COVID-19-chest-X-ray-images/dataset/training/normal/NORMAL2 (163).jpeg',\n",
              " '/content/Classification-of-COVID-19-chest-X-ray-images/dataset/training/normal/NORMAL2-IM-0352-0001.jpeg',\n",
              " '/content/Classification-of-COVID-19-chest-X-ray-images/dataset/training/normal/NORMAL2-IM-0019-0001.jpeg',\n",
              " '/content/Classification-of-COVID-19-chest-X-ray-images/dataset/training/normal/NORMAL2-IM-0309-0001.jpeg',\n",
              " '/content/Classification-of-COVID-19-chest-X-ray-images/dataset/training/normal/NORMAL2 (79).jpeg',\n",
              " '/content/Classification-of-COVID-19-chest-X-ray-images/dataset/training/normal/NORMAL2-IM-0058-0001.jpeg',\n",
              " '/content/Classification-of-COVID-19-chest-X-ray-images/dataset/training/normal/NORMAL2 (149).jpeg',\n",
              " '/content/Classification-of-COVID-19-chest-X-ray-images/dataset/training/normal/NORMAL2 (148).jpeg',\n",
              " '/content/Classification-of-COVID-19-chest-X-ray-images/dataset/training/normal/NORMAL2-IM-0013-0001.jpeg',\n",
              " '/content/Classification-of-COVID-19-chest-X-ray-images/dataset/training/normal/NORMAL2 (165).jpeg',\n",
              " '/content/Classification-of-COVID-19-chest-X-ray-images/dataset/training/normal/NORMAL2 (168).jpeg',\n",
              " '/content/Classification-of-COVID-19-chest-X-ray-images/dataset/training/normal/NORMAL2-IM-0141-0001.jpeg',\n",
              " '/content/Classification-of-COVID-19-chest-X-ray-images/dataset/training/normal/NORMAL2-IM-0282-0001.jpeg',\n",
              " '/content/Classification-of-COVID-19-chest-X-ray-images/dataset/training/normal/NORMAL2-IM-0347-0001.jpeg',\n",
              " '/content/Classification-of-COVID-19-chest-X-ray-images/dataset/training/normal/NORMAL2 (106).jpeg',\n",
              " '/content/Classification-of-COVID-19-chest-X-ray-images/dataset/training/normal/NORMAL2 (127).jpeg',\n",
              " '/content/Classification-of-COVID-19-chest-X-ray-images/dataset/training/normal/NORMAL2 (105).jpeg',\n",
              " '/content/Classification-of-COVID-19-chest-X-ray-images/dataset/training/normal/NORMAL2 (130).jpeg',\n",
              " '/content/Classification-of-COVID-19-chest-X-ray-images/dataset/training/normal/NORMAL2-IM-0380-0001.jpeg',\n",
              " '/content/Classification-of-COVID-19-chest-X-ray-images/dataset/training/normal/NORMAL2 (54).jpeg',\n",
              " '/content/Classification-of-COVID-19-chest-X-ray-images/dataset/training/normal/NORMAL2 (43).jpeg',\n",
              " '/content/Classification-of-COVID-19-chest-X-ray-images/dataset/training/normal/NORMAL2 (6).jpeg',\n",
              " '/content/Classification-of-COVID-19-chest-X-ray-images/dataset/training/normal/NORMAL2-IM-0110-0001.jpeg',\n",
              " '/content/Classification-of-COVID-19-chest-X-ray-images/dataset/training/normal/NORMAL2 (90).jpeg',\n",
              " '/content/Classification-of-COVID-19-chest-X-ray-images/dataset/training/normal/NORMAL2 (4).jpeg',\n",
              " '/content/Classification-of-COVID-19-chest-X-ray-images/dataset/training/normal/NORMAL2 (186).jpeg',\n",
              " '/content/Classification-of-COVID-19-chest-X-ray-images/dataset/training/normal/NORMAL2 (164).jpeg',\n",
              " '/content/Classification-of-COVID-19-chest-X-ray-images/dataset/training/normal/NORMAL2 (194).jpeg',\n",
              " '/content/Classification-of-COVID-19-chest-X-ray-images/dataset/training/normal/NORMAL2 (60).jpeg',\n",
              " '/content/Classification-of-COVID-19-chest-X-ray-images/dataset/training/normal/NORMAL2 (2).jpeg',\n",
              " '/content/Classification-of-COVID-19-chest-X-ray-images/dataset/training/normal/NORMAL2-IM-0027-0001.jpeg',\n",
              " '/content/Classification-of-COVID-19-chest-X-ray-images/dataset/training/normal/NORMAL2 (157).jpeg',\n",
              " '/content/Classification-of-COVID-19-chest-X-ray-images/dataset/training/normal/NORMAL2 (181).jpeg',\n",
              " '/content/Classification-of-COVID-19-chest-X-ray-images/dataset/training/normal/NORMAL2-IM-0305-0001.jpeg',\n",
              " '/content/Classification-of-COVID-19-chest-X-ray-images/dataset/training/normal/NORMAL2 (107).jpeg',\n",
              " '/content/Classification-of-COVID-19-chest-X-ray-images/dataset/training/normal/NORMAL2-IM-0117-0001.jpeg',\n",
              " '/content/Classification-of-COVID-19-chest-X-ray-images/dataset/training/normal/NORMAL2 (38).jpeg',\n",
              " '/content/Classification-of-COVID-19-chest-X-ray-images/dataset/training/normal/NORMAL2-IM-0132-0001.jpeg',\n",
              " '/content/Classification-of-COVID-19-chest-X-ray-images/dataset/training/normal/NORMAL2-IM-0130-0001.jpeg',\n",
              " '/content/Classification-of-COVID-19-chest-X-ray-images/dataset/training/normal/NORMAL2 (152).jpeg',\n",
              " '/content/Classification-of-COVID-19-chest-X-ray-images/dataset/training/normal/NORMAL2 (88).jpeg',\n",
              " '/content/Classification-of-COVID-19-chest-X-ray-images/dataset/training/normal/NORMAL2 (29).jpeg',\n",
              " '/content/Classification-of-COVID-19-chest-X-ray-images/dataset/training/normal/NORMAL2 (77).jpeg',\n",
              " '/content/Classification-of-COVID-19-chest-X-ray-images/dataset/training/normal/NORMAL2 (188).jpeg',\n",
              " '/content/Classification-of-COVID-19-chest-X-ray-images/dataset/training/normal/NORMAL2 (136).jpeg',\n",
              " '/content/Classification-of-COVID-19-chest-X-ray-images/dataset/training/normal/NORMAL2-IM-0060-0001.jpeg',\n",
              " '/content/Classification-of-COVID-19-chest-X-ray-images/dataset/training/normal/NORMAL2-IM-0033-0001.jpeg',\n",
              " '/content/Classification-of-COVID-19-chest-X-ray-images/dataset/training/normal/NORMAL2-IM-0107-0001.jpeg',\n",
              " '/content/Classification-of-COVID-19-chest-X-ray-images/dataset/training/normal/NORMAL2 (147).jpeg',\n",
              " '/content/Classification-of-COVID-19-chest-X-ray-images/dataset/training/normal/NORMAL2 (173).jpeg',\n",
              " '/content/Classification-of-COVID-19-chest-X-ray-images/dataset/training/normal/NORMAL2-IM-0359-0001.jpeg',\n",
              " '/content/Classification-of-COVID-19-chest-X-ray-images/dataset/training/normal/NORMAL2-IM-0348-0001.jpeg',\n",
              " '/content/Classification-of-COVID-19-chest-X-ray-images/dataset/training/normal/NORMAL2-IM-0073-0001.jpeg',\n",
              " '/content/Classification-of-COVID-19-chest-X-ray-images/dataset/training/normal/NORMAL2-IM-0289-0001.jpeg',\n",
              " '/content/Classification-of-COVID-19-chest-X-ray-images/dataset/training/normal/NORMAL2-IM-0251-0001.jpeg',\n",
              " '/content/Classification-of-COVID-19-chest-X-ray-images/dataset/training/normal/NORMAL2 (111).jpeg',\n",
              " '/content/Classification-of-COVID-19-chest-X-ray-images/dataset/training/normal/NORMAL2 (132).jpeg',\n",
              " '/content/Classification-of-COVID-19-chest-X-ray-images/dataset/training/normal/NORMAL2 (155).jpeg',\n",
              " '/content/Classification-of-COVID-19-chest-X-ray-images/dataset/training/normal/NORMAL2 (128).jpeg',\n",
              " '/content/Classification-of-COVID-19-chest-X-ray-images/dataset/training/normal/NORMAL2 (76).jpeg',\n",
              " '/content/Classification-of-COVID-19-chest-X-ray-images/dataset/training/normal/NORMAL2 (59).jpeg',\n",
              " '/content/Classification-of-COVID-19-chest-X-ray-images/dataset/training/normal/NORMAL2 (144).jpeg',\n",
              " '/content/Classification-of-COVID-19-chest-X-ray-images/dataset/training/normal/NORMAL2 (70).jpeg',\n",
              " '/content/Classification-of-COVID-19-chest-X-ray-images/dataset/training/normal/NORMAL2-IM-0372-0001.jpeg',\n",
              " '/content/Classification-of-COVID-19-chest-X-ray-images/dataset/training/normal/NORMAL2-IM-0129-0001.jpeg',\n",
              " '/content/Classification-of-COVID-19-chest-X-ray-images/dataset/training/normal/NORMAL2 (28).jpeg',\n",
              " '/content/Classification-of-COVID-19-chest-X-ray-images/dataset/training/normal/NORMAL2 (121).jpeg',\n",
              " '/content/Classification-of-COVID-19-chest-X-ray-images/dataset/training/normal/NORMAL2 (122).jpeg',\n",
              " '/content/Classification-of-COVID-19-chest-X-ray-images/dataset/training/normal/NORMAL2 (36).jpeg',\n",
              " '/content/Classification-of-COVID-19-chest-X-ray-images/dataset/training/normal/NORMAL2 (172).jpeg',\n",
              " '/content/Classification-of-COVID-19-chest-X-ray-images/dataset/training/normal/NORMAL2 (83).jpeg',\n",
              " '/content/Classification-of-COVID-19-chest-X-ray-images/dataset/training/normal/NORMAL2-IM-0059-0001.jpeg',\n",
              " '/content/Classification-of-COVID-19-chest-X-ray-images/dataset/training/normal/NORMAL2 (41).jpeg',\n",
              " '/content/Classification-of-COVID-19-chest-X-ray-images/dataset/training/normal/NORMAL2 (50).jpeg',\n",
              " '/content/Classification-of-COVID-19-chest-X-ray-images/dataset/training/normal/NORMAL2 (182).jpeg',\n",
              " '/content/Classification-of-COVID-19-chest-X-ray-images/dataset/training/normal/NORMAL2 (129).jpeg',\n",
              " '/content/Classification-of-COVID-19-chest-X-ray-images/dataset/training/normal/NORMAL2-IM-0381-0001.jpeg',\n",
              " '/content/Classification-of-COVID-19-chest-X-ray-images/dataset/training/normal/NORMAL2-IM-0052-0001.jpeg',\n",
              " '/content/Classification-of-COVID-19-chest-X-ray-images/dataset/training/normal/NORMAL2-IM-0105-0001.jpeg',\n",
              " '/content/Classification-of-COVID-19-chest-X-ray-images/dataset/training/normal/NORMAL2 (102).jpeg',\n",
              " '/content/Classification-of-COVID-19-chest-X-ray-images/dataset/training/normal/NORMAL2-IM-0343-0001.jpeg',\n",
              " '/content/Classification-of-COVID-19-chest-X-ray-images/dataset/training/normal/NORMAL2-IM-0319-0001.jpeg',\n",
              " '/content/Classification-of-COVID-19-chest-X-ray-images/dataset/training/normal/NORMAL2 (117).jpeg',\n",
              " '/content/Classification-of-COVID-19-chest-X-ray-images/dataset/training/normal/NORMAL2 (167).jpeg',\n",
              " '/content/Classification-of-COVID-19-chest-X-ray-images/dataset/training/normal/NORMAL2 (151).jpeg',\n",
              " '/content/Classification-of-COVID-19-chest-X-ray-images/dataset/training/normal/NORMAL2 (162).jpeg',\n",
              " '/content/Classification-of-COVID-19-chest-X-ray-images/dataset/training/normal/NORMAL2-IM-0277-0001.jpeg',\n",
              " '/content/Classification-of-COVID-19-chest-X-ray-images/dataset/training/normal/NORMAL2 (115).jpeg',\n",
              " '/content/Classification-of-COVID-19-chest-X-ray-images/dataset/training/normal/NORMAL2 (42).jpeg',\n",
              " '/content/Classification-of-COVID-19-chest-X-ray-images/dataset/training/normal/NORMAL2-IM-0329-0001.jpeg',\n",
              " '/content/Classification-of-COVID-19-chest-X-ray-images/dataset/training/normal/NORMAL2-IM-0028-0001.jpeg',\n",
              " '/content/Classification-of-COVID-19-chest-X-ray-images/dataset/training/normal/NORMAL2-IM-0317-0001.jpeg',\n",
              " '/content/Classification-of-COVID-19-chest-X-ray-images/dataset/training/normal/NORMAL2 (67).jpeg',\n",
              " '/content/Classification-of-COVID-19-chest-X-ray-images/dataset/training/normal/NORMAL2-IM-0120-0001.jpeg',\n",
              " '/content/Classification-of-COVID-19-chest-X-ray-images/dataset/training/normal/NORMAL2 (140).jpeg',\n",
              " '/content/Classification-of-COVID-19-chest-X-ray-images/dataset/training/normal/NORMAL2 (174).jpeg',\n",
              " '/content/Classification-of-COVID-19-chest-X-ray-images/dataset/training/normal/NORMAL2 (89).jpeg',\n",
              " '/content/Classification-of-COVID-19-chest-X-ray-images/dataset/training/normal/NORMAL2 (12).jpeg',\n",
              " '/content/Classification-of-COVID-19-chest-X-ray-images/dataset/training/normal/NORMAL2 (166).jpeg',\n",
              " '/content/Classification-of-COVID-19-chest-X-ray-images/dataset/training/normal/NORMAL2-IM-0370-0001.jpeg',\n",
              " '/content/Classification-of-COVID-19-chest-X-ray-images/dataset/training/normal/NORMAL2-IM-0307-0001.jpeg',\n",
              " '/content/Classification-of-COVID-19-chest-X-ray-images/dataset/training/normal/NORMAL2-IM-0273-0001.jpeg',\n",
              " '/content/Classification-of-COVID-19-chest-X-ray-images/dataset/training/normal/NORMAL2 (47).jpeg',\n",
              " '/content/Classification-of-COVID-19-chest-X-ray-images/dataset/training/normal/NORMAL2-IM-0274-0001.jpeg',\n",
              " '/content/Classification-of-COVID-19-chest-X-ray-images/dataset/training/normal/NORMAL2-IM-0112-0001.jpeg',\n",
              " '/content/Classification-of-COVID-19-chest-X-ray-images/dataset/training/normal/NORMAL2-IM-0310-0001.jpeg',\n",
              " '/content/Classification-of-COVID-19-chest-X-ray-images/dataset/training/normal/NORMAL2-IM-0201-0001.jpeg',\n",
              " '/content/Classification-of-COVID-19-chest-X-ray-images/dataset/training/normal/NORMAL2 (96).jpeg',\n",
              " '/content/Classification-of-COVID-19-chest-X-ray-images/dataset/training/normal/NORMAL2 (17).jpeg',\n",
              " '/content/Classification-of-COVID-19-chest-X-ray-images/dataset/training/normal/NORMAL2-IM-0333-0001.jpeg',\n",
              " '/content/Classification-of-COVID-19-chest-X-ray-images/dataset/training/normal/NORMAL2 (87).jpeg',\n",
              " '/content/Classification-of-COVID-19-chest-X-ray-images/dataset/training/normal/NORMAL2 (179).jpeg',\n",
              " '/content/Classification-of-COVID-19-chest-X-ray-images/dataset/training/normal/NORMAL2-IM-0337-0001.jpeg',\n",
              " '/content/Classification-of-COVID-19-chest-X-ray-images/dataset/training/normal/NORMAL2 (180).jpeg',\n",
              " '/content/Classification-of-COVID-19-chest-X-ray-images/dataset/training/normal/NORMAL2 (97).jpeg',\n",
              " '/content/Classification-of-COVID-19-chest-X-ray-images/dataset/training/normal/NORMAL2 (82).jpeg',\n",
              " '/content/Classification-of-COVID-19-chest-X-ray-images/dataset/training/normal/NORMAL2 (141).jpeg',\n",
              " '/content/Classification-of-COVID-19-chest-X-ray-images/dataset/training/normal/NORMAL2 (159).jpeg',\n",
              " '/content/Classification-of-COVID-19-chest-X-ray-images/dataset/training/normal/NORMAL2 (20).jpeg',\n",
              " '/content/Classification-of-COVID-19-chest-X-ray-images/dataset/training/normal/NORMAL2 (8).jpeg',\n",
              " '/content/Classification-of-COVID-19-chest-X-ray-images/dataset/training/normal/NORMAL2 (154).jpeg',\n",
              " '/content/Classification-of-COVID-19-chest-X-ray-images/dataset/training/normal/NORMAL2 (75).jpeg',\n",
              " '/content/Classification-of-COVID-19-chest-X-ray-images/dataset/training/normal/NORMAL2 (156).jpeg',\n",
              " '/content/Classification-of-COVID-19-chest-X-ray-images/dataset/training/normal/NORMAL2-IM-0135-0001.jpeg',\n",
              " '/content/Classification-of-COVID-19-chest-X-ray-images/dataset/training/normal/NORMAL2 (31).jpeg',\n",
              " '/content/Classification-of-COVID-19-chest-X-ray-images/dataset/training/normal/NORMAL2-IM-0196-0001.jpeg',\n",
              " '/content/Classification-of-COVID-19-chest-X-ray-images/dataset/training/normal/NORMAL2 (74).jpeg',\n",
              " '/content/Classification-of-COVID-19-chest-X-ray-images/dataset/training/normal/NORMAL2-IM-0311-0001.jpeg',\n",
              " '/content/Classification-of-COVID-19-chest-X-ray-images/dataset/training/normal/NORMAL2 (65).jpeg',\n",
              " '/content/Classification-of-COVID-19-chest-X-ray-images/dataset/training/normal/NORMAL2 (55).jpeg',\n",
              " '/content/Classification-of-COVID-19-chest-X-ray-images/dataset/training/normal/1.jpeg',\n",
              " '/content/Classification-of-COVID-19-chest-X-ray-images/dataset/training/normal/NORMAL2 (118).jpeg',\n",
              " '/content/Classification-of-COVID-19-chest-X-ray-images/dataset/training/normal/NORMAL2 (44).jpeg',\n",
              " '/content/Classification-of-COVID-19-chest-X-ray-images/dataset/training/normal/NORMAL2-IM-0012-0001.jpeg',\n",
              " '/content/Classification-of-COVID-19-chest-X-ray-images/dataset/training/normal/NORMAL2 (170).jpeg',\n",
              " '/content/Classification-of-COVID-19-chest-X-ray-images/dataset/training/normal/NORMAL2 (15).jpeg',\n",
              " '/content/Classification-of-COVID-19-chest-X-ray-images/dataset/training/normal/NORMAL2 (103).jpeg',\n",
              " '/content/Classification-of-COVID-19-chest-X-ray-images/dataset/training/normal/NORMAL2 (71).jpeg',\n",
              " '/content/Classification-of-COVID-19-chest-X-ray-images/dataset/training/normal/NORMAL2 (78).jpeg',\n",
              " '/content/Classification-of-COVID-19-chest-X-ray-images/dataset/training/normal/NORMAL2 (191).jpeg',\n",
              " '/content/Classification-of-COVID-19-chest-X-ray-images/dataset/training/normal/NORMAL2 (3).jpeg',\n",
              " '/content/Classification-of-COVID-19-chest-X-ray-images/dataset/training/normal/NORMAL2-IM-0102-0001.jpeg',\n",
              " '/content/Classification-of-COVID-19-chest-X-ray-images/dataset/training/normal/NORMAL2 (92).jpeg',\n",
              " '/content/Classification-of-COVID-19-chest-X-ray-images/dataset/training/normal/NORMAL2 (61).jpeg',\n",
              " '/content/Classification-of-COVID-19-chest-X-ray-images/dataset/training/normal/NORMAL2-IM-0111-0001.jpeg',\n",
              " '/content/Classification-of-COVID-19-chest-X-ray-images/dataset/training/normal/NORMAL2 (101).jpeg',\n",
              " '/content/Classification-of-COVID-19-chest-X-ray-images/dataset/training/normal/NORMAL2 (120).jpeg',\n",
              " '/content/Classification-of-COVID-19-chest-X-ray-images/dataset/training/normal/NORMAL2 (68).jpeg',\n",
              " '/content/Classification-of-COVID-19-chest-X-ray-images/dataset/training/normal/NORMAL2 (94).jpeg',\n",
              " '/content/Classification-of-COVID-19-chest-X-ray-images/dataset/training/normal/NORMAL2-IM-0066-0001.jpeg',\n",
              " '/content/Classification-of-COVID-19-chest-X-ray-images/dataset/training/normal/NORMAL2 (37).jpeg',\n",
              " '/content/Classification-of-COVID-19-chest-X-ray-images/dataset/training/normal/NORMAL2 (27).jpeg',\n",
              " '/content/Classification-of-COVID-19-chest-X-ray-images/dataset/training/normal/NORMAL2 (99).jpeg',\n",
              " '/content/Classification-of-COVID-19-chest-X-ray-images/dataset/training/normal/NORMAL2 (104).jpeg',\n",
              " '/content/Classification-of-COVID-19-chest-X-ray-images/dataset/training/normal/NORMAL2 (86).jpeg',\n",
              " '/content/Classification-of-COVID-19-chest-X-ray-images/dataset/training/normal/NORMAL2-IM-0332-0001.jpeg',\n",
              " '/content/Classification-of-COVID-19-chest-X-ray-images/dataset/training/normal/NORMAL2 (192).jpeg',\n",
              " '/content/Classification-of-COVID-19-chest-X-ray-images/dataset/training/normal/NORMAL2 (64).jpeg',\n",
              " '/content/Classification-of-COVID-19-chest-X-ray-images/dataset/training/normal/NORMAL2 (175).jpeg',\n",
              " '/content/Classification-of-COVID-19-chest-X-ray-images/dataset/training/normal/NORMAL2 (143).jpeg',\n",
              " '/content/Classification-of-COVID-19-chest-X-ray-images/dataset/training/normal/NORMAL2-IM-0207-0001.jpeg',\n",
              " '/content/Classification-of-COVID-19-chest-X-ray-images/dataset/training/normal/NORMAL2 (150).jpeg',\n",
              " '/content/Classification-of-COVID-19-chest-X-ray-images/dataset/training/normal/NORMAL2-IM-0029-0001.jpeg',\n",
              " '/content/Classification-of-COVID-19-chest-X-ray-images/dataset/training/normal/NORMAL2 (10).jpeg',\n",
              " '/content/Classification-of-COVID-19-chest-X-ray-images/dataset/training/normal/NORMAL2 (81).jpeg',\n",
              " '/content/Classification-of-COVID-19-chest-X-ray-images/dataset/training/normal/NORMAL2-IM-0297-0001.jpeg',\n",
              " '/content/Classification-of-COVID-19-chest-X-ray-images/dataset/training/normal/NORMAL2-IM-0350-0001.jpeg',\n",
              " '/content/Classification-of-COVID-19-chest-X-ray-images/dataset/training/normal/NORMAL2 (84).jpeg',\n",
              " '/content/Classification-of-COVID-19-chest-X-ray-images/dataset/training/normal/NORMAL2 (21).jpeg',\n",
              " '/content/Classification-of-COVID-19-chest-X-ray-images/dataset/training/normal/NORMAL2 (7).jpeg',\n",
              " '/content/Classification-of-COVID-19-chest-X-ray-images/dataset/training/normal/NORMAL2-IM-0302-0001.jpeg',\n",
              " '/content/Classification-of-COVID-19-chest-X-ray-images/dataset/training/normal/NORMAL2 (98).jpeg',\n",
              " '/content/Classification-of-COVID-19-chest-X-ray-images/dataset/training/normal/NORMAL2 (52).jpeg',\n",
              " '/content/Classification-of-COVID-19-chest-X-ray-images/dataset/training/normal/NORMAL2 (142).jpeg',\n",
              " '/content/Classification-of-COVID-19-chest-X-ray-images/dataset/training/normal/NORMAL2-IM-0213-0001.jpeg',\n",
              " '/content/Classification-of-COVID-19-chest-X-ray-images/dataset/training/normal/NORMAL2 (116).jpeg',\n",
              " '/content/Classification-of-COVID-19-chest-X-ray-images/dataset/training/normal/NORMAL2 (139).jpeg',\n",
              " '/content/Classification-of-COVID-19-chest-X-ray-images/dataset/training/normal/NORMAL2 (123).jpeg',\n",
              " '/content/Classification-of-COVID-19-chest-X-ray-images/dataset/training/normal/NORMAL2 (93).jpeg',\n",
              " '/content/Classification-of-COVID-19-chest-X-ray-images/dataset/training/normal/NORMAL2 (58).jpeg',\n",
              " '/content/Classification-of-COVID-19-chest-X-ray-images/dataset/training/normal/NORMAL2 (133).jpeg',\n",
              " '/content/Classification-of-COVID-19-chest-X-ray-images/dataset/training/normal/NORMAL2-IM-0095-0001.jpeg',\n",
              " '/content/Classification-of-COVID-19-chest-X-ray-images/dataset/training/normal/NORMAL2 (57).jpeg',\n",
              " '/content/Classification-of-COVID-19-chest-X-ray-images/dataset/training/normal/NORMAL2 (25).jpeg',\n",
              " '/content/Classification-of-COVID-19-chest-X-ray-images/dataset/training/normal/NORMAL2 (200).jpeg',\n",
              " '/content/Classification-of-COVID-19-chest-X-ray-images/dataset/training/normal/NORMAL2 (39).jpeg',\n",
              " '/content/Classification-of-COVID-19-chest-X-ray-images/dataset/training/normal/NORMAL2-IM-0275-0001.jpeg',\n",
              " '/content/Classification-of-COVID-19-chest-X-ray-images/dataset/training/normal/NORMAL2-IM-0312-0001.jpeg',\n",
              " '/content/Classification-of-COVID-19-chest-X-ray-images/dataset/training/normal/NORMAL2 (18).jpeg',\n",
              " '/content/Classification-of-COVID-19-chest-X-ray-images/dataset/training/normal/NORMAL2-IM-0341-0001.jpeg',\n",
              " '/content/Classification-of-COVID-19-chest-X-ray-images/dataset/training/normal/NORMAL2 (40).jpeg',\n",
              " '/content/Classification-of-COVID-19-chest-X-ray-images/dataset/training/normal/NORMAL2-IM-0145-0001.jpeg',\n",
              " '/content/Classification-of-COVID-19-chest-X-ray-images/dataset/training/normal/NORMAL2 (91).jpeg',\n",
              " '/content/Classification-of-COVID-19-chest-X-ray-images/dataset/training/normal/NORMAL2-IM-0259-0001.jpeg',\n",
              " '/content/Classification-of-COVID-19-chest-X-ray-images/dataset/training/normal/NORMAL2-IM-0300-0001.jpeg',\n",
              " '/content/Classification-of-COVID-19-chest-X-ray-images/dataset/training/normal/NORMAL2-IM-0286-0001.jpeg',\n",
              " '/content/Classification-of-COVID-19-chest-X-ray-images/dataset/training/normal/NORMAL2 (13).jpeg',\n",
              " '/content/Classification-of-COVID-19-chest-X-ray-images/dataset/training/normal/NORMAL2 (124).jpeg',\n",
              " '/content/Classification-of-COVID-19-chest-X-ray-images/dataset/training/normal/NORMAL2-IM-0292-0001.jpeg',\n",
              " '/content/Classification-of-COVID-19-chest-X-ray-images/dataset/training/normal/NORMAL2 (145).jpeg',\n",
              " '/content/Classification-of-COVID-19-chest-X-ray-images/dataset/training/normal/NORMAL2 (198).jpeg',\n",
              " '/content/Classification-of-COVID-19-chest-X-ray-images/dataset/training/normal/NORMAL2-IM-0198-0001.jpeg',\n",
              " '/content/Classification-of-COVID-19-chest-X-ray-images/dataset/training/normal/NORMAL2 (95).jpeg',\n",
              " '/content/Classification-of-COVID-19-chest-X-ray-images/dataset/training/normal/NORMAL2-IM-0278-0001.jpeg',\n",
              " '/content/Classification-of-COVID-19-chest-X-ray-images/dataset/training/normal/NORMAL2 (35).jpeg',\n",
              " '/content/Classification-of-COVID-19-chest-X-ray-images/dataset/training/normal/NORMAL2 (125).jpeg',\n",
              " '/content/Classification-of-COVID-19-chest-X-ray-images/dataset/training/normal/NORMAL2-IM-0086-0001.jpeg',\n",
              " '/content/Classification-of-COVID-19-chest-X-ray-images/dataset/training/normal/NORMAL2 (196).jpeg',\n",
              " '/content/Classification-of-COVID-19-chest-X-ray-images/dataset/training/normal/NORMAL2 (30).jpeg',\n",
              " '/content/Classification-of-COVID-19-chest-X-ray-images/dataset/training/normal/NORMAL2 (160).jpeg',\n",
              " '/content/Classification-of-COVID-19-chest-X-ray-images/dataset/training/normal/NORMAL2 (73).jpeg',\n",
              " '/content/Classification-of-COVID-19-chest-X-ray-images/dataset/training/normal/NORMAL2 (72).jpeg',\n",
              " '/content/Classification-of-COVID-19-chest-X-ray-images/dataset/training/normal/NORMAL2 (32).jpeg',\n",
              " '/content/Classification-of-COVID-19-chest-X-ray-images/dataset/training/normal/NORMAL2 (112).jpeg',\n",
              " '/content/Classification-of-COVID-19-chest-X-ray-images/dataset/training/normal/NORMAL2-IM-0276-0001.jpeg',\n",
              " '/content/Classification-of-COVID-19-chest-X-ray-images/dataset/training/normal/NORMAL2-IM-0374-0001-0001.jpeg',\n",
              " '/content/Classification-of-COVID-19-chest-X-ray-images/dataset/testing/infected/covid-19-pneumonia-67.jpeg',\n",
              " '/content/Classification-of-COVID-19-chest-X-ray-images/dataset/testing/infected/kjr-21-e24-g002-l-a.jpg',\n",
              " '/content/Classification-of-COVID-19-chest-X-ray-images/dataset/testing/infected/4e43e48d52c9e2d4c6c1fb9bc1544f_jumbo.jpeg',\n",
              " '/content/Classification-of-COVID-19-chest-X-ray-images/dataset/testing/infected/all14238-fig-0001-m-c.jpg',\n",
              " '/content/Classification-of-COVID-19-chest-X-ray-images/dataset/testing/infected/41591_2020_819_Fig1_HTML.webp-day5.png',\n",
              " '/content/Classification-of-COVID-19-chest-X-ray-images/dataset/testing/infected/nCoV-radiol.2020200269.fig1-day7.jpeg',\n",
              " '/content/Classification-of-COVID-19-chest-X-ray-images/dataset/testing/infected/kjr-21-e24-g001-l-a.jpg',\n",
              " '/content/Classification-of-COVID-19-chest-X-ray-images/dataset/testing/infected/41591_2020_819_Fig1_HTML.webp-day10.png',\n",
              " '/content/Classification-of-COVID-19-chest-X-ray-images/dataset/testing/infected/kjr-21-e24-g003-l-a.jpg',\n",
              " '/content/Classification-of-COVID-19-chest-X-ray-images/dataset/testing/infected/all14238-fig-0001-m-b.jpg',\n",
              " '/content/Classification-of-COVID-19-chest-X-ray-images/dataset/testing/infected/covid-19-pneumonia-8.jpg',\n",
              " '/content/Classification-of-COVID-19-chest-X-ray-images/dataset/testing/infected/covid-19-pneumonia-mild.JPG',\n",
              " '/content/Classification-of-COVID-19-chest-X-ray-images/dataset/testing/infected/1.jpg',\n",
              " '/content/Classification-of-COVID-19-chest-X-ray-images/dataset/testing/infected/kjr-21-e25-g001-l-a.jpg',\n",
              " '/content/Classification-of-COVID-19-chest-X-ray-images/dataset/testing/infected/covid-19-pneumonia-44-day-0.jpeg',\n",
              " '/content/Classification-of-COVID-19-chest-X-ray-images/dataset/testing/infected/80446565-E090-4187-A031-9D3CEAA586C8.jpeg',\n",
              " '/content/Classification-of-COVID-19-chest-X-ray-images/dataset/testing/infected/F2DE909F-E19C-4900-92F5-8F435B031AC6.jpeg',\n",
              " '/content/Classification-of-COVID-19-chest-X-ray-images/dataset/testing/infected/58cb9263f16e94305c730685358e4e_jumbo.jpeg',\n",
              " '/content/Classification-of-COVID-19-chest-X-ray-images/dataset/testing/infected/31BA3780-2323-493F-8AED-62081B9C383B.jpeg',\n",
              " '/content/Classification-of-COVID-19-chest-X-ray-images/dataset/testing/infected/covid-19-pneumonia-evolution-over-a-week-1-day0-PA.jpg',\n",
              " '/content/Classification-of-COVID-19-chest-X-ray-images/dataset/testing/infected/covid-19-pneumonia-20-pa-on-admission.jpg',\n",
              " '/content/Classification-of-COVID-19-chest-X-ray-images/dataset/testing/infected/covid-19-pneumonia-53.jpg',\n",
              " '/content/Classification-of-COVID-19-chest-X-ray-images/dataset/testing/infected/gr1_lrg-a.jpg',\n",
              " '/content/Classification-of-COVID-19-chest-X-ray-images/dataset/testing/infected/1-s2.0-S1684118220300608-main.pdf-002.jpg',\n",
              " '/content/Classification-of-COVID-19-chest-X-ray-images/dataset/testing/infected/gr1_lrg-b.jpg',\n",
              " '/content/Classification-of-COVID-19-chest-X-ray-images/dataset/testing/normal/NORMAL2-IM-0354-0001.jpeg',\n",
              " '/content/Classification-of-COVID-19-chest-X-ray-images/dataset/testing/normal/NORMAL2-IM-0150-0001.jpeg',\n",
              " '/content/Classification-of-COVID-19-chest-X-ray-images/dataset/testing/normal/NORMAL2-IM-0328-0001.jpeg',\n",
              " '/content/Classification-of-COVID-19-chest-X-ray-images/dataset/testing/normal/NORMAL2-IM-0249-0001.jpeg',\n",
              " '/content/Classification-of-COVID-19-chest-X-ray-images/dataset/testing/normal/NORMAL2-IM-0246-0001-0001.jpeg',\n",
              " '/content/Classification-of-COVID-19-chest-X-ray-images/dataset/testing/normal/NORMAL2-IM-0098-0001.jpeg',\n",
              " '/content/Classification-of-COVID-19-chest-X-ray-images/dataset/testing/normal/NORMAL2-IM-0369-0001.jpeg',\n",
              " '/content/Classification-of-COVID-19-chest-X-ray-images/dataset/testing/normal/NORMAL2-IM-0222-0001.jpeg',\n",
              " '/content/Classification-of-COVID-19-chest-X-ray-images/dataset/testing/normal/NORMAL2-IM-0325-0001.jpeg',\n",
              " '/content/Classification-of-COVID-19-chest-X-ray-images/dataset/testing/normal/NORMAL2-IM-0199-0001.jpeg',\n",
              " '/content/Classification-of-COVID-19-chest-X-ray-images/dataset/testing/normal/NORMAL2-IM-0313-0001.jpeg',\n",
              " '/content/Classification-of-COVID-19-chest-X-ray-images/dataset/testing/normal/NORMAL2-IM-0327-0001.jpeg',\n",
              " '/content/Classification-of-COVID-19-chest-X-ray-images/dataset/testing/normal/NORMAL2-IM-0285-0001.jpeg',\n",
              " '/content/Classification-of-COVID-19-chest-X-ray-images/dataset/testing/normal/NORMAL2-IM-0349-0001.jpeg',\n",
              " '/content/Classification-of-COVID-19-chest-X-ray-images/dataset/testing/normal/NORMAL2-IM-0252-0001.jpeg',\n",
              " '/content/Classification-of-COVID-19-chest-X-ray-images/dataset/testing/normal/NORMAL2-IM-0256-0001.jpeg',\n",
              " '/content/Classification-of-COVID-19-chest-X-ray-images/dataset/testing/normal/NORMAL2-IM-0237-0001.jpeg',\n",
              " '/content/Classification-of-COVID-19-chest-X-ray-images/dataset/testing/normal/NORMAL2-IM-0210-0001.jpeg',\n",
              " '/content/Classification-of-COVID-19-chest-X-ray-images/dataset/testing/normal/NORMAL2-IM-0041-0001.jpeg',\n",
              " '/content/Classification-of-COVID-19-chest-X-ray-images/dataset/testing/normal/NORMAL2-IM-0338-0001.jpeg',\n",
              " '/content/Classification-of-COVID-19-chest-X-ray-images/dataset/testing/normal/NORMAL2-IM-0326-0001.jpeg',\n",
              " '/content/Classification-of-COVID-19-chest-X-ray-images/dataset/testing/normal/NORMAL2-IM-0241-0001.jpeg',\n",
              " '/content/Classification-of-COVID-19-chest-X-ray-images/dataset/testing/normal/NORMAL2-IM-0131-0001.jpeg',\n",
              " '/content/Classification-of-COVID-19-chest-X-ray-images/dataset/testing/normal/NORMAL2-IM-0376-0001.jpeg',\n",
              " '/content/Classification-of-COVID-19-chest-X-ray-images/dataset/testing/normal/NORMAL2-IM-0364-0001.jpeg',\n",
              " '/content/Classification-of-COVID-19-chest-X-ray-images/dataset/testing/normal/NORMAL2-IM-0206-0001.jpeg',\n",
              " '/content/Classification-of-COVID-19-chest-X-ray-images/dataset/testing/normal/NORMAL2-IM-0280-0001.jpeg',\n",
              " '/content/Classification-of-COVID-19-chest-X-ray-images/dataset/testing/normal/NORMAL2-IM-0267-0001.jpeg',\n",
              " '/content/Classification-of-COVID-19-chest-X-ray-images/dataset/testing/normal/NORMAL2-IM-0374-0001-0002.jpeg',\n",
              " '/content/Classification-of-COVID-19-chest-X-ray-images/dataset/testing/normal/NORMAL2-IM-0335-0001.jpeg',\n",
              " '/content/Classification-of-COVID-19-chest-X-ray-images/dataset/testing/normal/NORMAL2-IM-0229-0001.jpeg',\n",
              " '/content/Classification-of-COVID-19-chest-X-ray-images/dataset/testing/normal/NORMAL2-IM-0279-0001.jpeg',\n",
              " '/content/Classification-of-COVID-19-chest-X-ray-images/dataset/testing/normal/NORMAL2-IM-0195-0001.jpeg',\n",
              " '/content/Classification-of-COVID-19-chest-X-ray-images/dataset/testing/normal/NORMAL2-IM-0346-0001.jpeg',\n",
              " '/content/Classification-of-COVID-19-chest-X-ray-images/dataset/testing/normal/NORMAL2-IM-0304-0001.jpeg',\n",
              " '/content/Classification-of-COVID-19-chest-X-ray-images/dataset/testing/normal/NORMAL2-IM-0362-0001.jpeg',\n",
              " '/content/Classification-of-COVID-19-chest-X-ray-images/dataset/testing/normal/NORMAL2-IM-0373-0001.jpeg',\n",
              " '/content/Classification-of-COVID-19-chest-X-ray-images/dataset/testing/normal/NORMAL2-IM-0290-0001.jpeg',\n",
              " '/content/Classification-of-COVID-19-chest-X-ray-images/dataset/testing/normal/NORMAL2-IM-0123-0001.jpeg',\n",
              " '/content/Classification-of-COVID-19-chest-X-ray-images/dataset/testing/normal/NORMAL2-IM-0378-0001.jpeg',\n",
              " '/content/Classification-of-COVID-19-chest-X-ray-images/dataset/testing/normal/NORMAL2-IM-0283-0001.jpeg',\n",
              " '/content/Classification-of-COVID-19-chest-X-ray-images/dataset/testing/normal/NORMAL2-IM-0322-0001.jpeg',\n",
              " '/content/Classification-of-COVID-19-chest-X-ray-images/dataset/testing/normal/NORMAL2-IM-0315-0001.jpeg',\n",
              " '/content/Classification-of-COVID-19-chest-X-ray-images/dataset/testing/normal/NORMAL2-IM-0221-0001.jpeg',\n",
              " '/content/Classification-of-COVID-19-chest-X-ray-images/dataset/testing/normal/NORMAL2-IM-0238-0001.jpeg',\n",
              " '/content/Classification-of-COVID-19-chest-X-ray-images/dataset/testing/normal/NORMAL2-IM-0171-0001.jpeg',\n",
              " '/content/Classification-of-COVID-19-chest-X-ray-images/dataset/testing/normal/1.jpeg',\n",
              " '/content/Classification-of-COVID-19-chest-X-ray-images/dataset/testing/normal/NORMAL2-IM-0146-0001.jpeg',\n",
              " '/content/Classification-of-COVID-19-chest-X-ray-images/dataset/testing/normal/NORMAL2-IM-0217-0001.jpeg',\n",
              " '/content/Classification-of-COVID-19-chest-X-ray-images/dataset/testing/normal/NORMAL2-IM-0303-0001.jpeg',\n",
              " '/content/Classification-of-COVID-19-chest-X-ray-images/dataset/testing/normal/NORMAL2-IM-0045-0001.jpeg',\n",
              " '/content/Classification-of-COVID-19-chest-X-ray-images/dataset/testing/normal/NORMAL2-IM-0340-0001.jpeg',\n",
              " '/content/Classification-of-COVID-19-chest-X-ray-images/dataset/testing/normal/NORMAL2-IM-0316-0001.jpeg',\n",
              " '/content/Classification-of-COVID-19-chest-X-ray-images/dataset/testing/normal/NORMAL2-IM-0351-0001.jpeg',\n",
              " '/content/Classification-of-COVID-19-chest-X-ray-images/dataset/testing/normal/NORMAL2-IM-0139-0001.jpeg',\n",
              " '/content/Classification-of-COVID-19-chest-X-ray-images/dataset/testing/normal/NORMAL2-IM-0272-0001.jpeg',\n",
              " '/content/Classification-of-COVID-19-chest-X-ray-images/dataset/testing/normal/NORMAL2-IM-0336-0001.jpeg',\n",
              " '/content/Classification-of-COVID-19-chest-X-ray-images/dataset/testing/normal/NORMAL2-IM-0246-0001.jpeg',\n",
              " '/content/Classification-of-COVID-19-chest-X-ray-images/dataset/testing/normal/NORMAL2-IM-0330-0001.jpeg',\n",
              " '/content/Classification-of-COVID-19-chest-X-ray-images/dataset/testing/normal/NORMAL2-IM-0219-0001.jpeg',\n",
              " '/content/Classification-of-COVID-19-chest-X-ray-images/dataset/testing/normal/NORMAL2-IM-0233-0001.jpeg',\n",
              " '/content/Classification-of-COVID-19-chest-X-ray-images/dataset/testing/normal/NORMAL2-IM-0173-0001-0001.jpeg',\n",
              " '/content/Classification-of-COVID-19-chest-X-ray-images/dataset/testing/normal/NORMAL2-IM-0246-0001-0002.jpeg',\n",
              " '/content/Classification-of-COVID-19-chest-X-ray-images/dataset/testing/normal/NORMAL2-IM-0294-0001.jpeg',\n",
              " '/content/Classification-of-COVID-19-chest-X-ray-images/dataset/testing/normal/NORMAL2-IM-0288-0001.jpeg',\n",
              " '/content/Classification-of-COVID-19-chest-X-ray-images/dataset/testing/normal/NORMAL2-IM-0232-0001.jpeg',\n",
              " '/content/Classification-of-COVID-19-chest-X-ray-images/dataset/testing/normal/NORMAL2-IM-0366-0001.jpeg',\n",
              " '/content/Classification-of-COVID-19-chest-X-ray-images/dataset/testing/normal/NORMAL2-IM-0173-0001-0002.jpeg']"
            ]
          },
          "metadata": {
            "tags": []
          },
          "execution_count": 11
        }
      ]
    },
    {
      "cell_type": "code",
      "metadata": {
        "id": "3vp4bUHbey2I",
        "colab_type": "code",
        "colab": {}
      },
      "source": [
        "data = []\n",
        "labels = []\n",
        "# loop over the image paths\n",
        "for imagePath in imagePaths:\n",
        "\t# extract the class label from the filename\n",
        "\tlabel = imagePath.split(os.path.sep)[-2]\n",
        "\t# load the image, swap color channels, and resize it to be a fixed\n",
        "\t# 224x224 pixels while ignoring aspect ratio\n",
        "\timage = cv2.imread(imagePath)\n",
        "\timage = cv2.cvtColor(image, cv2.COLOR_BGR2RGB)\n",
        "\timage = cv2.resize(image, (224, 224))\n",
        "\t# update the data and labels lists, respectively\n",
        "\tdata.append(image)\n",
        "\tlabels.append(label)\n",
        "# convert the data and labels to NumPy arrays while scaling the pixel\n",
        "# intensities to the range [0, 1]\n",
        "data = np.array(data) / 255.0\n",
        "labels = np.array(labels)"
      ],
      "execution_count": 12,
      "outputs": []
    },
    {
      "cell_type": "code",
      "metadata": {
        "id": "GEL6ectse7xb",
        "colab_type": "code",
        "colab": {
          "base_uri": "https://localhost:8080/",
          "height": 35
        },
        "outputId": "8a3ea8fe-1cdd-49f7-fb80-93498329275f"
      },
      "source": [
        "data.shape"
      ],
      "execution_count": 13,
      "outputs": [
        {
          "output_type": "execute_result",
          "data": {
            "text/plain": [
              "(686, 224, 224, 3)"
            ]
          },
          "metadata": {
            "tags": []
          },
          "execution_count": 13
        }
      ]
    },
    {
      "cell_type": "code",
      "metadata": {
        "id": "8Wqvun53e_JW",
        "colab_type": "code",
        "colab": {}
      },
      "source": [
        "# perform one-hot encoding on the labels\n",
        "lb = LabelBinarizer()\n",
        "labels = lb.fit_transform(labels)\n",
        "labels = to_categorical(labels)\n",
        "# partition the data into training and testing splits using 80% of\n",
        "# the data for training and the remaining 20% for testing\n",
        "(trainX, testX, trainY, testY) = train_test_split(data, labels,\n",
        "\ttest_size=0.20, stratify=labels, random_state=42)\n",
        "# initialize the training data augmentation object\n",
        "trainAug = ImageDataGenerator(shear_range=0.2,\n",
        "    zoom_range=0.2,\n",
        "    horizontal_flip=True,\trotation_range=15,\n",
        "\tfill_mode=\"nearest\")"
      ],
      "execution_count": 14,
      "outputs": []
    },
    {
      "cell_type": "code",
      "metadata": {
        "id": "ZKApfkn6fC3o",
        "colab_type": "code",
        "colab": {
          "base_uri": "https://localhost:8080/",
          "height": 471
        },
        "outputId": "c8850263-6f40-43ce-94b2-3218259f8114"
      },
      "source": [
        "trainY.argmax(axis=1)"
      ],
      "execution_count": 15,
      "outputs": [
        {
          "output_type": "execute_result",
          "data": {
            "text/plain": [
              "array([0, 1, 1, 1, 0, 0, 1, 0, 1, 1, 0, 0, 0, 0, 1, 0, 0, 1, 0, 0, 0, 0,\n",
              "       0, 0, 0, 1, 0, 1, 0, 1, 0, 1, 0, 0, 1, 1, 1, 1, 1, 1, 1, 1, 1, 1,\n",
              "       0, 1, 0, 0, 1, 0, 0, 1, 1, 0, 1, 0, 0, 0, 1, 1, 0, 0, 1, 0, 1, 0,\n",
              "       1, 0, 1, 1, 0, 0, 1, 1, 1, 1, 0, 1, 0, 1, 0, 0, 1, 1, 0, 0, 0, 1,\n",
              "       1, 1, 1, 1, 0, 1, 0, 0, 1, 1, 1, 1, 1, 1, 0, 1, 1, 1, 0, 1, 1, 1,\n",
              "       0, 1, 1, 1, 1, 0, 1, 0, 0, 1, 0, 1, 1, 0, 0, 0, 0, 0, 0, 0, 1, 0,\n",
              "       1, 1, 1, 1, 0, 1, 1, 0, 0, 0, 0, 1, 1, 1, 1, 1, 0, 1, 1, 1, 0, 0,\n",
              "       0, 1, 0, 1, 0, 0, 0, 1, 1, 0, 1, 1, 1, 0, 1, 1, 1, 0, 0, 0, 1, 1,\n",
              "       0, 1, 0, 0, 1, 0, 1, 1, 1, 1, 0, 1, 1, 0, 0, 1, 1, 1, 0, 0, 1, 0,\n",
              "       1, 1, 1, 0, 1, 0, 1, 1, 0, 0, 1, 0, 1, 1, 1, 0, 1, 0, 0, 1, 0, 0,\n",
              "       0, 1, 1, 0, 0, 0, 1, 0, 0, 1, 1, 0, 0, 1, 0, 0, 0, 1, 0, 0, 1, 1,\n",
              "       0, 1, 0, 1, 1, 0, 1, 0, 0, 1, 1, 1, 0, 1, 0, 0, 0, 0, 0, 0, 1, 1,\n",
              "       1, 0, 1, 0, 1, 1, 1, 1, 0, 1, 1, 1, 1, 0, 0, 1, 0, 1, 1, 0, 1, 0,\n",
              "       0, 1, 0, 1, 1, 1, 1, 0, 1, 0, 0, 1, 0, 1, 1, 0, 1, 1, 1, 0, 1, 1,\n",
              "       0, 1, 0, 1, 1, 0, 1, 1, 0, 0, 0, 0, 0, 1, 1, 1, 0, 0, 1, 0, 0, 0,\n",
              "       1, 0, 0, 1, 0, 1, 1, 0, 1, 1, 0, 1, 0, 0, 1, 1, 0, 0, 1, 0, 0, 0,\n",
              "       1, 1, 0, 1, 0, 1, 0, 1, 1, 0, 1, 0, 0, 0, 1, 0, 1, 1, 0, 0, 1, 0,\n",
              "       0, 1, 1, 0, 1, 0, 1, 1, 1, 0, 0, 1, 0, 1, 0, 1, 0, 1, 1, 1, 0, 0,\n",
              "       1, 0, 1, 0, 0, 1, 0, 1, 1, 0, 0, 0, 0, 1, 0, 1, 1, 0, 1, 0, 0, 1,\n",
              "       1, 1, 1, 1, 0, 0, 1, 1, 0, 0, 0, 0, 1, 0, 0, 0, 0, 1, 1, 0, 1, 0,\n",
              "       1, 1, 1, 1, 1, 1, 1, 0, 1, 0, 1, 0, 0, 1, 1, 0, 1, 1, 1, 0, 1, 1,\n",
              "       1, 0, 1, 1, 0, 0, 0, 0, 0, 1, 0, 1, 0, 0, 1, 1, 1, 0, 1, 0, 1, 1,\n",
              "       0, 0, 1, 1, 0, 0, 1, 1, 0, 0, 0, 1, 0, 0, 1, 1, 0, 1, 0, 0, 1, 1,\n",
              "       0, 1, 1, 1, 1, 1, 1, 0, 1, 0, 0, 0, 1, 1, 0, 1, 1, 1, 1, 0, 1, 0,\n",
              "       0, 0, 0, 0, 0, 1, 1, 0, 1, 1, 1, 1, 1, 1, 1, 1, 0, 1, 1, 1])"
            ]
          },
          "metadata": {
            "tags": []
          },
          "execution_count": 15
        }
      ]
    },
    {
      "cell_type": "markdown",
      "metadata": {
        "id": "8rj6WXWTfV-7",
        "colab_type": "text"
      },
      "source": [
        "# CNN Model\n",
        "optimizer=ADAM,\n",
        "Learning Rate= 3e-3,\n",
        "Epochs=34,\n",
        "Batch Size=16.\n",
        "\n"
      ]
    },
    {
      "cell_type": "code",
      "metadata": {
        "id": "E75LzHH7fbDp",
        "colab_type": "code",
        "colab": {}
      },
      "source": [
        "model = Sequential()\n",
        "model.add(Conv2D(80, (3, 3),activation='relu', input_shape=(224, 224, 3)))\n",
        "model.add(MaxPool2D(pool_size=(2, 2)))\n",
        "model.add(Dropout(0.2))\n",
        "\n",
        "model.add(Conv2D(32, (3, 3),activation='relu'))\n",
        "model.add(MaxPool2D(pool_size=(2, 2)))\n",
        "model.add(Dropout(0.5))\n",
        "model.add(Conv2D(32, (3, 3),activation='relu'))\n",
        "\n",
        "\n",
        "model.add(Conv2D(64, (3, 3),activation='relu'))\n",
        "model.add(MaxPool2D(pool_size=(2, 2)))\n",
        "\n",
        "model.add(Flatten())\n",
        "model.add(Dense(64,activation='relu'))\n",
        "model.add(Dropout(0.5))\n",
        "\n",
        "model.add(Dense(2,activation='softmax'))"
      ],
      "execution_count": null,
      "outputs": []
    },
    {
      "cell_type": "code",
      "metadata": {
        "id": "GLKXBWIofbpB",
        "colab_type": "code",
        "colab": {}
      },
      "source": [
        "model_chkpt = ModelCheckpoint('best_mod.h5', save_best_only=True, monitor='accuracy')\n",
        "early_stopping = EarlyStopping(monitor='loss', restore_best_weights=False, patience=10)"
      ],
      "execution_count": null,
      "outputs": []
    },
    {
      "cell_type": "code",
      "metadata": {
        "id": "37BH_4dbfeTA",
        "colab_type": "code",
        "colab": {
          "base_uri": "https://localhost:8080/",
          "height": 782
        },
        "outputId": "eb3a8761-e503-41e2-fa82-1e4cec881e3d"
      },
      "source": [
        "# initialize the initial learning rate, number of epochs to train for,\n",
        "# and batch size\n",
        "INIT_LR = 3e-3\n",
        "EPOCHS = 34\n",
        "BS = 16\n",
        "# compile our model\n",
        "print(\"[INFO] compiling model...\")\n",
        "opt = Adam(lr=INIT_LR, decay=INIT_LR / EPOCHS)\n",
        "model.compile(loss=\"binary_crossentropy\", optimizer=opt,\n",
        "\tmetrics=[\"accuracy\"])\n",
        "# train the head of the network\n",
        "print(\"[INFO] training head...\")\n",
        "H = model.fit_generator(\n",
        "\ttrainAug.flow(trainX, trainY, batch_size=BS),\n",
        "\tsteps_per_epoch=len(trainX) // BS,\n",
        "\tvalidation_data=(testX, testY),\n",
        "\tvalidation_steps=len(testX) // BS,\n",
        "\tepochs=EPOCHS,callbacks=[early_stopping,model_chkpt])"
      ],
      "execution_count": null,
      "outputs": [
        {
          "output_type": "stream",
          "text": [
            "[INFO] compiling model...\n",
            "[INFO] training head...\n",
            "WARNING:tensorflow:From <ipython-input-18-cba9175d9f0b>:18: Model.fit_generator (from tensorflow.python.keras.engine.training) is deprecated and will be removed in a future version.\n",
            "Instructions for updating:\n",
            "Please use Model.fit, which supports generators.\n",
            "Epoch 1/34\n",
            "34/34 [==============================] - 77s 2s/step - loss: 0.8631 - accuracy: 0.5432 - val_loss: 0.6915 - val_accuracy: 0.5290\n",
            "Epoch 2/34\n",
            "34/34 [==============================] - 78s 2s/step - loss: 0.6918 - accuracy: 0.5282 - val_loss: 0.6915 - val_accuracy: 0.5290\n",
            "Epoch 3/34\n",
            "34/34 [==============================] - 77s 2s/step - loss: 0.6916 - accuracy: 0.5376 - val_loss: 0.6915 - val_accuracy: 0.5290\n",
            "Epoch 4/34\n",
            "34/34 [==============================] - 77s 2s/step - loss: 0.6923 - accuracy: 0.5357 - val_loss: 0.6915 - val_accuracy: 0.5290\n",
            "Epoch 5/34\n",
            "34/34 [==============================] - 78s 2s/step - loss: 0.6917 - accuracy: 0.5282 - val_loss: 0.6915 - val_accuracy: 0.5290\n",
            "Epoch 6/34\n",
            "34/34 [==============================] - 78s 2s/step - loss: 0.6915 - accuracy: 0.5320 - val_loss: 0.6915 - val_accuracy: 0.5290\n",
            "Epoch 7/34\n",
            "34/34 [==============================] - 77s 2s/step - loss: 0.6911 - accuracy: 0.5263 - val_loss: 0.6915 - val_accuracy: 0.5290\n",
            "Epoch 8/34\n",
            "34/34 [==============================] - 77s 2s/step - loss: 0.6899 - accuracy: 0.5432 - val_loss: 0.6915 - val_accuracy: 0.5290\n",
            "Epoch 9/34\n",
            "34/34 [==============================] - 77s 2s/step - loss: 0.6918 - accuracy: 0.5338 - val_loss: 0.6917 - val_accuracy: 0.5290\n",
            "Epoch 10/34\n",
            "34/34 [==============================] - 77s 2s/step - loss: 0.6914 - accuracy: 0.5338 - val_loss: 0.6915 - val_accuracy: 0.5290\n",
            "Epoch 11/34\n",
            "34/34 [==============================] - 78s 2s/step - loss: 0.6931 - accuracy: 0.5263 - val_loss: 0.6915 - val_accuracy: 0.5290\n",
            "Epoch 12/34\n",
            "34/34 [==============================] - 78s 2s/step - loss: 0.6918 - accuracy: 0.5338 - val_loss: 0.6915 - val_accuracy: 0.5290\n",
            "Epoch 13/34\n",
            "34/34 [==============================] - 76s 2s/step - loss: 0.6915 - accuracy: 0.5357 - val_loss: 0.6915 - val_accuracy: 0.5290\n",
            "Epoch 14/34\n",
            "34/34 [==============================] - 78s 2s/step - loss: 0.6922 - accuracy: 0.5338 - val_loss: 0.6915 - val_accuracy: 0.5290\n",
            "Epoch 15/34\n",
            "34/34 [==============================] - 76s 2s/step - loss: 0.6906 - accuracy: 0.5395 - val_loss: 0.6915 - val_accuracy: 0.5290\n",
            "Epoch 16/34\n",
            "34/34 [==============================] - 78s 2s/step - loss: 0.6908 - accuracy: 0.5320 - val_loss: 0.6915 - val_accuracy: 0.5290\n",
            "Epoch 17/34\n",
            "34/34 [==============================] - 75s 2s/step - loss: 0.6909 - accuracy: 0.5357 - val_loss: 0.6915 - val_accuracy: 0.5290\n",
            "Epoch 18/34\n",
            "34/34 [==============================] - 76s 2s/step - loss: 0.6914 - accuracy: 0.5395 - val_loss: 0.6918 - val_accuracy: 0.5290\n"
          ],
          "name": "stdout"
        }
      ]
    },
    {
      "cell_type": "code",
      "metadata": {
        "id": "4t3xHrZZfjNv",
        "colab_type": "code",
        "colab": {
          "base_uri": "https://localhost:8080/",
          "height": 255
        },
        "outputId": "4652fdff-7c73-4a6e-cc9b-a6b8fbfe0167"
      },
      "source": [
        "# make predictions on the testing set\n",
        "print(\"[INFO] evaluating network...\")\n",
        "predIdxs = model.predict(testX, batch_size=BS)\n",
        "# for each image in the testing set we need to find the index of the\n",
        "# label with corresponding largest predicted probability\n",
        "predIdxs = np.argmax(predIdxs, axis=1)\n",
        "# show a nicely formatted classification report\n",
        "print(classification_report(testY.argmax(axis=1), predIdxs,\n",
        "\ttarget_names=lb.classes_))"
      ],
      "execution_count": null,
      "outputs": [
        {
          "output_type": "stream",
          "text": [
            "[INFO] evaluating network...\n",
            "              precision    recall  f1-score   support\n",
            "\n",
            "    infected       0.00      0.00      0.00        65\n",
            "      normal       0.53      1.00      0.69        73\n",
            "\n",
            "    accuracy                           0.53       138\n",
            "   macro avg       0.26      0.50      0.35       138\n",
            "weighted avg       0.28      0.53      0.37       138\n",
            "\n"
          ],
          "name": "stdout"
        },
        {
          "output_type": "stream",
          "text": [
            "/usr/local/lib/python3.6/dist-packages/sklearn/metrics/_classification.py:1272: UndefinedMetricWarning: Precision and F-score are ill-defined and being set to 0.0 in labels with no predicted samples. Use `zero_division` parameter to control this behavior.\n",
            "  _warn_prf(average, modifier, msg_start, len(result))\n"
          ],
          "name": "stderr"
        }
      ]
    },
    {
      "cell_type": "code",
      "metadata": {
        "id": "v5k_Ba7wfniD",
        "colab_type": "code",
        "colab": {
          "base_uri": "https://localhost:8080/",
          "height": 262
        },
        "outputId": "1b182588-e33e-4bef-95ab-1e15adffabeb"
      },
      "source": [
        "_, baseline_model_accuracy = model.evaluate(\n",
        "    testX, testY, verbose=0)\n",
        "\n",
        "print('Baseline test accuracy:', baseline_model_accuracy)\n",
        "\n"
      ],
      "execution_count": null,
      "outputs": [
        {
          "output_type": "stream",
          "text": [
            "Baseline test accuracy: 0.5289855003356934\n"
          ],
          "name": "stdout"
        },
        {
          "output_type": "error",
          "ename": "NameError",
          "evalue": "ignored",
          "traceback": [
            "\u001b[0;31m---------------------------------------------------------------------------\u001b[0m",
            "\u001b[0;31mNameError\u001b[0m                                 Traceback (most recent call last)",
            "\u001b[0;32m<ipython-input-20-79ea9eab2cc2>\u001b[0m in \u001b[0;36m<module>\u001b[0;34m()\u001b[0m\n\u001b[1;32m      4\u001b[0m \u001b[0mprint\u001b[0m\u001b[0;34m(\u001b[0m\u001b[0;34m'Baseline test accuracy:'\u001b[0m\u001b[0;34m,\u001b[0m \u001b[0mbaseline_model_accuracy\u001b[0m\u001b[0;34m)\u001b[0m\u001b[0;34m\u001b[0m\u001b[0;34m\u001b[0m\u001b[0m\n\u001b[1;32m      5\u001b[0m \u001b[0;34m\u001b[0m\u001b[0m\n\u001b[0;32m----> 6\u001b[0;31m \u001b[0m_\u001b[0m\u001b[0;34m,\u001b[0m \u001b[0mkeras_file\u001b[0m \u001b[0;34m=\u001b[0m \u001b[0mtempfile\u001b[0m\u001b[0;34m.\u001b[0m\u001b[0mmkstemp\u001b[0m\u001b[0;34m(\u001b[0m\u001b[0;34m'.h5'\u001b[0m\u001b[0;34m)\u001b[0m\u001b[0;34m\u001b[0m\u001b[0;34m\u001b[0m\u001b[0m\n\u001b[0m\u001b[1;32m      7\u001b[0m \u001b[0mtf\u001b[0m\u001b[0;34m.\u001b[0m\u001b[0mkeras\u001b[0m\u001b[0;34m.\u001b[0m\u001b[0mmodels\u001b[0m\u001b[0;34m.\u001b[0m\u001b[0msave_model\u001b[0m\u001b[0;34m(\u001b[0m\u001b[0mmodel\u001b[0m\u001b[0;34m,\u001b[0m \u001b[0mkeras_file\u001b[0m\u001b[0;34m,\u001b[0m \u001b[0minclude_optimizer\u001b[0m\u001b[0;34m=\u001b[0m\u001b[0;32mFalse\u001b[0m\u001b[0;34m)\u001b[0m\u001b[0;34m\u001b[0m\u001b[0;34m\u001b[0m\u001b[0m\n\u001b[1;32m      8\u001b[0m \u001b[0mprint\u001b[0m\u001b[0;34m(\u001b[0m\u001b[0;34m'Saved baseline model to:'\u001b[0m\u001b[0;34m,\u001b[0m \u001b[0mkeras_file\u001b[0m\u001b[0;34m)\u001b[0m\u001b[0;34m\u001b[0m\u001b[0;34m\u001b[0m\u001b[0m\n",
            "\u001b[0;31mNameError\u001b[0m: name 'tempfile' is not defined"
          ]
        }
      ]
    },
    {
      "cell_type": "markdown",
      "metadata": {
        "id": "IkgECAiTguft",
        "colab_type": "text"
      },
      "source": [
        "# CNN Model\n",
        "optimizer=ADAM, Learning Rate= 1e-4, Batch size= 15, Epochs= 35."
      ]
    },
    {
      "cell_type": "code",
      "metadata": {
        "id": "RXHhXw89g05f",
        "colab_type": "code",
        "colab": {}
      },
      "source": [
        "model = Sequential()\n",
        "model.add(Conv2D(80, (3, 3),activation='relu', input_shape=(224, 224, 3)))\n",
        "model.add(MaxPool2D(pool_size=(2, 2)))\n",
        "model.add(Dropout(0.2))\n",
        "\n",
        "model.add(Conv2D(32, (3, 3),activation='relu'))\n",
        "model.add(MaxPool2D(pool_size=(2, 2)))\n",
        "model.add(Dropout(0.5))\n",
        "model.add(Conv2D(32, (3, 3),activation='relu'))\n",
        "\n",
        "\n",
        "model.add(Conv2D(64, (3, 3),activation='relu'))\n",
        "model.add(MaxPool2D(pool_size=(2, 2)))\n",
        "\n",
        "model.add(Flatten())\n",
        "model.add(Dense(64,activation='relu'))\n",
        "model.add(Dropout(0.5))\n",
        "\n",
        "model.add(Dense(2,activation='softmax'))"
      ],
      "execution_count": null,
      "outputs": []
    },
    {
      "cell_type": "code",
      "metadata": {
        "id": "9brImlFWiIJt",
        "colab_type": "code",
        "colab": {}
      },
      "source": [
        "model_chkpt = ModelCheckpoint('best_mod.h5', save_best_only=True, monitor='accuracy')\n",
        "early_stopping = EarlyStopping(monitor='loss', restore_best_weights=False, patience=10)"
      ],
      "execution_count": null,
      "outputs": []
    },
    {
      "cell_type": "code",
      "metadata": {
        "id": "lQ34bk8PiN4i",
        "colab_type": "code",
        "colab": {
          "base_uri": "https://localhost:8080/",
          "height": 998
        },
        "outputId": "c0ca9188-229f-4043-cdb6-f850dda47267"
      },
      "source": [
        "# initialize the initial learning rate, number of epochs to train for,\n",
        "# and batch size\n",
        "INIT_LR = 1e-4\n",
        "EPOCHS = 35\n",
        "BS = 15\n",
        "# compile our model\n",
        "print(\"[INFO] compiling model...\")\n",
        "opt = Adam(lr=INIT_LR, decay=INIT_LR / EPOCHS)\n",
        "model.compile(loss=\"binary_crossentropy\", optimizer=opt,\n",
        "\tmetrics=[\"accuracy\"])\n",
        "# train the head of the network\n",
        "print(\"[INFO] training head...\")\n",
        "H = model.fit_generator(\n",
        "\ttrainAug.flow(trainX, trainY, batch_size=BS),\n",
        "\tsteps_per_epoch=len(trainX) // BS,\n",
        "\tvalidation_data=(testX, testY),\n",
        "\tvalidation_steps=len(testX) // BS,\n",
        "\tepochs=EPOCHS,callbacks=[early_stopping,model_chkpt])"
      ],
      "execution_count": null,
      "outputs": [
        {
          "output_type": "stream",
          "text": [
            "[INFO] compiling model...\n",
            "[INFO] training head...\n",
            "Epoch 1/35\n",
            "36/36 [==============================] - 77s 2s/step - loss: 0.6250 - accuracy: 0.6529 - val_loss: 0.6182 - val_accuracy: 0.9420\n",
            "Epoch 2/35\n",
            "36/36 [==============================] - 78s 2s/step - loss: 0.3477 - accuracy: 0.8612 - val_loss: 0.4338 - val_accuracy: 0.9348\n",
            "Epoch 3/35\n",
            "36/36 [==============================] - 78s 2s/step - loss: 0.3097 - accuracy: 0.8668 - val_loss: 0.3539 - val_accuracy: 0.9565\n",
            "Epoch 4/35\n",
            "36/36 [==============================] - 79s 2s/step - loss: 0.2815 - accuracy: 0.8874 - val_loss: 0.3259 - val_accuracy: 0.9565\n",
            "Epoch 5/35\n",
            "36/36 [==============================] - 77s 2s/step - loss: 0.2731 - accuracy: 0.8893 - val_loss: 0.2487 - val_accuracy: 0.9493\n",
            "Epoch 6/35\n",
            "36/36 [==============================] - 77s 2s/step - loss: 0.2209 - accuracy: 0.9156 - val_loss: 0.2225 - val_accuracy: 0.9493\n",
            "Epoch 7/35\n",
            "36/36 [==============================] - 78s 2s/step - loss: 0.2469 - accuracy: 0.9250 - val_loss: 0.1728 - val_accuracy: 0.9565\n",
            "Epoch 8/35\n",
            "36/36 [==============================] - 78s 2s/step - loss: 0.2134 - accuracy: 0.9343 - val_loss: 0.1533 - val_accuracy: 0.9710\n",
            "Epoch 9/35\n",
            "36/36 [==============================] - 77s 2s/step - loss: 0.2260 - accuracy: 0.9174 - val_loss: 0.2293 - val_accuracy: 0.9638\n",
            "Epoch 10/35\n",
            "36/36 [==============================] - 77s 2s/step - loss: 0.1919 - accuracy: 0.9268 - val_loss: 0.1922 - val_accuracy: 0.9710\n",
            "Epoch 11/35\n",
            "36/36 [==============================] - 78s 2s/step - loss: 0.1683 - accuracy: 0.9381 - val_loss: 0.1071 - val_accuracy: 0.9565\n",
            "Epoch 12/35\n",
            "36/36 [==============================] - 79s 2s/step - loss: 0.1833 - accuracy: 0.9381 - val_loss: 0.1450 - val_accuracy: 0.9710\n",
            "Epoch 13/35\n",
            "36/36 [==============================] - 78s 2s/step - loss: 0.1830 - accuracy: 0.9287 - val_loss: 0.1450 - val_accuracy: 0.9638\n",
            "Epoch 14/35\n",
            "36/36 [==============================] - 78s 2s/step - loss: 0.1599 - accuracy: 0.9437 - val_loss: 0.1788 - val_accuracy: 0.9710\n",
            "Epoch 15/35\n",
            "36/36 [==============================] - 78s 2s/step - loss: 0.1359 - accuracy: 0.9475 - val_loss: 0.0782 - val_accuracy: 0.9783\n",
            "Epoch 16/35\n",
            "36/36 [==============================] - 77s 2s/step - loss: 0.1143 - accuracy: 0.9550 - val_loss: 0.0917 - val_accuracy: 0.9710\n",
            "Epoch 17/35\n",
            "36/36 [==============================] - 79s 2s/step - loss: 0.1546 - accuracy: 0.9475 - val_loss: 0.1377 - val_accuracy: 0.9855\n",
            "Epoch 18/35\n",
            "36/36 [==============================] - 80s 2s/step - loss: 0.1288 - accuracy: 0.9611 - val_loss: 0.0677 - val_accuracy: 0.9928\n",
            "Epoch 19/35\n",
            "36/36 [==============================] - 79s 2s/step - loss: 0.1392 - accuracy: 0.9512 - val_loss: 0.1112 - val_accuracy: 0.9638\n",
            "Epoch 20/35\n",
            "36/36 [==============================] - 79s 2s/step - loss: 0.1836 - accuracy: 0.9362 - val_loss: 0.1428 - val_accuracy: 0.9710\n",
            "Epoch 21/35\n",
            "36/36 [==============================] - 79s 2s/step - loss: 0.1437 - accuracy: 0.9531 - val_loss: 0.0917 - val_accuracy: 0.9783\n",
            "Epoch 22/35\n",
            "36/36 [==============================] - 79s 2s/step - loss: 0.1415 - accuracy: 0.9550 - val_loss: 0.0696 - val_accuracy: 0.9928\n",
            "Epoch 23/35\n",
            "36/36 [==============================] - 79s 2s/step - loss: 0.1168 - accuracy: 0.9681 - val_loss: 0.0804 - val_accuracy: 0.9783\n",
            "Epoch 24/35\n",
            "36/36 [==============================] - 78s 2s/step - loss: 0.1310 - accuracy: 0.9644 - val_loss: 0.0757 - val_accuracy: 0.9783\n",
            "Epoch 25/35\n",
            "36/36 [==============================] - 80s 2s/step - loss: 0.1284 - accuracy: 0.9625 - val_loss: 0.0727 - val_accuracy: 0.9855\n",
            "Epoch 26/35\n",
            "36/36 [==============================] - 79s 2s/step - loss: 0.1160 - accuracy: 0.9550 - val_loss: 0.0569 - val_accuracy: 0.9855\n"
          ],
          "name": "stdout"
        }
      ]
    },
    {
      "cell_type": "code",
      "metadata": {
        "id": "5VhKWpGmikLq",
        "colab_type": "code",
        "colab": {
          "base_uri": "https://localhost:8080/",
          "height": 199
        },
        "outputId": "03054b5c-e5c5-43a0-bcd3-2ca16b1bab2c"
      },
      "source": [
        "# make predictions on the testing set\n",
        "print(\"[INFO] evaluating network...\")\n",
        "predIdxs = model.predict(testX, batch_size=BS)\n",
        "# for each image in the testing set we need to find the index of the\n",
        "# label with corresponding largest predicted probability\n",
        "predIdxs = np.argmax(predIdxs, axis=1)\n",
        "# show a nicely formatted classification report\n",
        "print(classification_report(testY.argmax(axis=1), predIdxs,\n",
        "\ttarget_names=lb.classes_))"
      ],
      "execution_count": null,
      "outputs": [
        {
          "output_type": "stream",
          "text": [
            "[INFO] evaluating network...\n",
            "              precision    recall  f1-score   support\n",
            "\n",
            "    infected       0.98      0.98      0.98        65\n",
            "      normal       0.99      0.99      0.99        73\n",
            "\n",
            "    accuracy                           0.99       138\n",
            "   macro avg       0.99      0.99      0.99       138\n",
            "weighted avg       0.99      0.99      0.99       138\n",
            "\n"
          ],
          "name": "stdout"
        }
      ]
    },
    {
      "cell_type": "code",
      "metadata": {
        "id": "z1AcsfaliuRE",
        "colab_type": "code",
        "colab": {
          "base_uri": "https://localhost:8080/",
          "height": 35
        },
        "outputId": "7481aa4d-8162-4162-b58b-785b5a813e7b"
      },
      "source": [
        "_, baseline_model_accuracy = model.evaluate(\n",
        "    testX, testY, verbose=0)\n",
        "\n",
        "print('Baseline test accuracy:', baseline_model_accuracy)\n",
        "\n"
      ],
      "execution_count": null,
      "outputs": [
        {
          "output_type": "stream",
          "text": [
            "Baseline test accuracy: 0.9855072498321533\n"
          ],
          "name": "stdout"
        }
      ]
    },
    {
      "cell_type": "markdown",
      "metadata": {
        "id": "LN73hFoOi19S",
        "colab_type": "text"
      },
      "source": [
        "#CNN Model \n",
        "Optimizer= ADAM, Learning Rate= 3e-4, Epochs= 35, Batch Size= 15\n"
      ]
    },
    {
      "cell_type": "code",
      "metadata": {
        "id": "7OcCEIs4jthO",
        "colab_type": "code",
        "colab": {}
      },
      "source": [
        "model = Sequential()\n",
        "model.add(Conv2D(80, (3, 3),activation='relu', input_shape=(224, 224, 3)))\n",
        "model.add(MaxPool2D(pool_size=(2, 2)))\n",
        "model.add(Dropout(0.2))\n",
        "\n",
        "model.add(Conv2D(32, (3, 3),activation='relu'))\n",
        "model.add(MaxPool2D(pool_size=(2, 2)))\n",
        "model.add(Dropout(0.5))\n",
        "model.add(Conv2D(32, (3, 3),activation='relu'))\n",
        "\n",
        "\n",
        "model.add(Conv2D(64, (3, 3),activation='relu'))\n",
        "model.add(MaxPool2D(pool_size=(2, 2)))\n",
        "\n",
        "model.add(Flatten())\n",
        "model.add(Dense(64,activation='relu'))\n",
        "model.add(Dropout(0.5))\n",
        "\n",
        "model.add(Dense(2,activation='softmax'))"
      ],
      "execution_count": null,
      "outputs": []
    },
    {
      "cell_type": "code",
      "metadata": {
        "id": "QpVxQXL_juPs",
        "colab_type": "code",
        "colab": {}
      },
      "source": [
        "model_chkpt = ModelCheckpoint('best_mod.h5', save_best_only=True, monitor='accuracy')\n",
        "early_stopping = EarlyStopping(monitor='loss', restore_best_weights=False, patience=10)"
      ],
      "execution_count": null,
      "outputs": []
    },
    {
      "cell_type": "code",
      "metadata": {
        "id": "xYGcqoBAjxLx",
        "colab_type": "code",
        "colab": {
          "base_uri": "https://localhost:8080/",
          "height": 1000
        },
        "outputId": "b4da10db-1567-4f55-fe35-7024ece21bff"
      },
      "source": [
        "# initialize the initial learning rate, number of epochs to train for,\n",
        "# and batch size\n",
        "INIT_LR = 3e-4\n",
        "EPOCHS = 35\n",
        "BS = 15\n",
        "# compile our model\n",
        "print(\"[INFO] compiling model...\")\n",
        "opt = Adam(lr=INIT_LR, decay=INIT_LR / EPOCHS)\n",
        "model.compile(loss=\"binary_crossentropy\", optimizer=opt,\n",
        "\tmetrics=[\"accuracy\"])\n",
        "# train the head of the network\n",
        "print(\"[INFO] training head...\")\n",
        "H = model.fit_generator(\n",
        "\ttrainAug.flow(trainX, trainY, batch_size=BS),\n",
        "\tsteps_per_epoch=len(trainX) // BS,\n",
        "\tvalidation_data=(testX, testY),\n",
        "\tvalidation_steps=len(testX) // BS,\n",
        "\tepochs=EPOCHS,callbacks=[early_stopping,model_chkpt])"
      ],
      "execution_count": null,
      "outputs": [
        {
          "output_type": "stream",
          "text": [
            "[INFO] compiling model...\n",
            "[INFO] training head...\n",
            "Epoch 1/35\n",
            "36/36 [==============================] - 79s 2s/step - loss: 0.6353 - accuracy: 0.6679 - val_loss: 0.5808 - val_accuracy: 0.9348\n",
            "Epoch 2/35\n",
            "36/36 [==============================] - 79s 2s/step - loss: 0.4354 - accuracy: 0.7899 - val_loss: 0.3587 - val_accuracy: 0.9493\n",
            "Epoch 3/35\n",
            "36/36 [==============================] - 81s 2s/step - loss: 0.3145 - accuracy: 0.8893 - val_loss: 0.3141 - val_accuracy: 0.9638\n",
            "Epoch 4/35\n",
            "36/36 [==============================] - 78s 2s/step - loss: 0.2574 - accuracy: 0.8968 - val_loss: 0.1653 - val_accuracy: 0.9493\n",
            "Epoch 5/35\n",
            "36/36 [==============================] - 78s 2s/step - loss: 0.2878 - accuracy: 0.8987 - val_loss: 0.2093 - val_accuracy: 0.9783\n",
            "Epoch 6/35\n",
            "36/36 [==============================] - 80s 2s/step - loss: 0.2553 - accuracy: 0.9062 - val_loss: 0.1690 - val_accuracy: 0.9420\n",
            "Epoch 7/35\n",
            "36/36 [==============================] - 80s 2s/step - loss: 0.3307 - accuracy: 0.8944 - val_loss: 0.1805 - val_accuracy: 0.9855\n",
            "Epoch 8/35\n",
            "36/36 [==============================] - 79s 2s/step - loss: 0.2540 - accuracy: 0.9250 - val_loss: 0.1203 - val_accuracy: 0.9638\n",
            "Epoch 9/35\n",
            "36/36 [==============================] - 79s 2s/step - loss: 0.1787 - accuracy: 0.9250 - val_loss: 0.0986 - val_accuracy: 0.9855\n",
            "Epoch 10/35\n",
            "36/36 [==============================] - 80s 2s/step - loss: 0.2138 - accuracy: 0.9381 - val_loss: 0.1058 - val_accuracy: 0.9855\n",
            "Epoch 11/35\n",
            "36/36 [==============================] - 79s 2s/step - loss: 0.1870 - accuracy: 0.9212 - val_loss: 0.0779 - val_accuracy: 0.9710\n",
            "Epoch 12/35\n",
            "36/36 [==============================] - 81s 2s/step - loss: 0.1861 - accuracy: 0.9437 - val_loss: 0.0901 - val_accuracy: 0.9855\n",
            "Epoch 13/35\n",
            "36/36 [==============================] - 80s 2s/step - loss: 0.1765 - accuracy: 0.9475 - val_loss: 0.1088 - val_accuracy: 0.9855\n",
            "Epoch 14/35\n",
            "36/36 [==============================] - 81s 2s/step - loss: 0.1724 - accuracy: 0.9456 - val_loss: 0.1065 - val_accuracy: 0.9783\n",
            "Epoch 15/35\n",
            "36/36 [==============================] - 80s 2s/step - loss: 0.1752 - accuracy: 0.9343 - val_loss: 0.0774 - val_accuracy: 0.9710\n",
            "Epoch 16/35\n",
            "36/36 [==============================] - 81s 2s/step - loss: 0.1589 - accuracy: 0.9550 - val_loss: 0.0649 - val_accuracy: 0.9783\n",
            "Epoch 17/35\n",
            "36/36 [==============================] - 81s 2s/step - loss: 0.1530 - accuracy: 0.9400 - val_loss: 0.0601 - val_accuracy: 0.9783\n",
            "Epoch 18/35\n",
            "36/36 [==============================] - 82s 2s/step - loss: 0.1730 - accuracy: 0.9456 - val_loss: 0.0905 - val_accuracy: 0.9783\n",
            "Epoch 19/35\n",
            "36/36 [==============================] - 82s 2s/step - loss: 0.1610 - accuracy: 0.9456 - val_loss: 0.0645 - val_accuracy: 0.9855\n",
            "Epoch 20/35\n",
            "36/36 [==============================] - 82s 2s/step - loss: 0.1918 - accuracy: 0.9475 - val_loss: 0.0886 - val_accuracy: 0.9855\n",
            "Epoch 21/35\n",
            "36/36 [==============================] - 81s 2s/step - loss: 0.1567 - accuracy: 0.9568 - val_loss: 0.0527 - val_accuracy: 0.9855\n",
            "Epoch 22/35\n",
            "36/36 [==============================] - 80s 2s/step - loss: 0.1811 - accuracy: 0.9512 - val_loss: 0.0847 - val_accuracy: 0.9855\n",
            "Epoch 23/35\n",
            "36/36 [==============================] - 79s 2s/step - loss: 0.1667 - accuracy: 0.9456 - val_loss: 0.1205 - val_accuracy: 0.9783\n",
            "Epoch 24/35\n",
            "36/36 [==============================] - 80s 2s/step - loss: 0.1861 - accuracy: 0.9268 - val_loss: 0.0714 - val_accuracy: 0.9855\n",
            "Epoch 25/35\n",
            "36/36 [==============================] - 81s 2s/step - loss: 0.1489 - accuracy: 0.9593 - val_loss: 0.0696 - val_accuracy: 0.9928\n",
            "Epoch 26/35\n",
            "36/36 [==============================] - 79s 2s/step - loss: 0.1289 - accuracy: 0.9568 - val_loss: 0.0459 - val_accuracy: 0.9855\n",
            "Epoch 27/35\n",
            "36/36 [==============================] - 80s 2s/step - loss: 0.1525 - accuracy: 0.9512 - val_loss: 0.0509 - val_accuracy: 0.9928\n",
            "Epoch 28/35\n",
            "36/36 [==============================] - 80s 2s/step - loss: 0.1596 - accuracy: 0.9456 - val_loss: 0.0488 - val_accuracy: 0.9928\n",
            "Epoch 29/35\n",
            "36/36 [==============================] - 79s 2s/step - loss: 0.1310 - accuracy: 0.9625 - val_loss: 0.0926 - val_accuracy: 0.9710\n",
            "Epoch 30/35\n",
            "36/36 [==============================] - 79s 2s/step - loss: 0.2293 - accuracy: 0.9156 - val_loss: 0.0907 - val_accuracy: 0.9855\n",
            "Epoch 31/35\n",
            "36/36 [==============================] - 80s 2s/step - loss: 0.1824 - accuracy: 0.9381 - val_loss: 0.0948 - val_accuracy: 0.9855\n",
            "Epoch 32/35\n",
            "36/36 [==============================] - 81s 2s/step - loss: 0.1627 - accuracy: 0.9456 - val_loss: 0.0543 - val_accuracy: 0.9855\n",
            "Epoch 33/35\n",
            "36/36 [==============================] - 81s 2s/step - loss: 0.1376 - accuracy: 0.9531 - val_loss: 0.0438 - val_accuracy: 0.9928\n",
            "Epoch 34/35\n",
            "36/36 [==============================] - 78s 2s/step - loss: 0.1328 - accuracy: 0.9644 - val_loss: 0.0436 - val_accuracy: 0.9783\n",
            "Epoch 35/35\n",
            "36/36 [==============================] - 77s 2s/step - loss: 0.2052 - accuracy: 0.9437 - val_loss: 0.0870 - val_accuracy: 0.9855\n"
          ],
          "name": "stdout"
        }
      ]
    },
    {
      "cell_type": "code",
      "metadata": {
        "id": "3M3WC2qBj7C3",
        "colab_type": "code",
        "colab": {
          "base_uri": "https://localhost:8080/",
          "height": 199
        },
        "outputId": "1f427f4b-ff20-4e15-dc94-c948651efc81"
      },
      "source": [
        "# make predictions on the testing set\n",
        "print(\"[INFO] evaluating network...\")\n",
        "predIdxs = model.predict(testX, batch_size=BS)\n",
        "# for each image in the testing set we need to find the index of the\n",
        "# label with corresponding largest predicted probability\n",
        "predIdxs = np.argmax(predIdxs, axis=1)\n",
        "# show a nicely formatted classification report\n",
        "print(classification_report(testY.argmax(axis=1), predIdxs,\n",
        "\ttarget_names=lb.classes_))"
      ],
      "execution_count": null,
      "outputs": [
        {
          "output_type": "stream",
          "text": [
            "[INFO] evaluating network...\n",
            "              precision    recall  f1-score   support\n",
            "\n",
            "    infected       1.00      0.97      0.98        65\n",
            "      normal       0.97      1.00      0.99        73\n",
            "\n",
            "    accuracy                           0.99       138\n",
            "   macro avg       0.99      0.98      0.99       138\n",
            "weighted avg       0.99      0.99      0.99       138\n",
            "\n"
          ],
          "name": "stdout"
        }
      ]
    },
    {
      "cell_type": "code",
      "metadata": {
        "id": "FVGufaZsj-_G",
        "colab_type": "code",
        "colab": {
          "base_uri": "https://localhost:8080/",
          "height": 35
        },
        "outputId": "29a6ec0b-abe0-4c9d-cb33-de28d66a9b46"
      },
      "source": [
        "_, baseline_model_accuracy = model.evaluate(\n",
        "    testX, testY, verbose=0)\n",
        "\n",
        "print('Baseline test accuracy:', baseline_model_accuracy)\n",
        "\n"
      ],
      "execution_count": null,
      "outputs": [
        {
          "output_type": "stream",
          "text": [
            "Baseline test accuracy: 0.9855072498321533\n"
          ],
          "name": "stdout"
        }
      ]
    },
    {
      "cell_type": "markdown",
      "metadata": {
        "id": "3SVbms0_m1B3",
        "colab_type": "text"
      },
      "source": [
        "# CNN Model \n",
        "optimizer= SGD, Learning rate=1e-3, Batch size=15, epochs= 35"
      ]
    },
    {
      "cell_type": "code",
      "metadata": {
        "id": "14Mqk3pMnBrD",
        "colab_type": "code",
        "colab": {}
      },
      "source": [
        "from tensorflow.keras.layers import Dropout\n",
        "from tensorflow.keras.layers import Flatten\n",
        "from tensorflow.keras.layers import Dense\n",
        "from tensorflow.keras.layers import Input\n",
        "from tensorflow.keras.models import Model\n",
        "from tensorflow.keras.optimizers import SGD\n",
        "from tensorflow.keras.utils import to_categorical"
      ],
      "execution_count": null,
      "outputs": []
    },
    {
      "cell_type": "code",
      "metadata": {
        "id": "viiWB19QnKkw",
        "colab_type": "code",
        "colab": {}
      },
      "source": [
        "model = Sequential()\n",
        "model.add(Conv2D(80, (3, 3),activation='relu', input_shape=(224, 224, 3)))\n",
        "model.add(MaxPool2D(pool_size=(2, 2)))\n",
        "model.add(Dropout(0.2))\n",
        "\n",
        "model.add(Conv2D(32, (3, 3),activation='relu'))\n",
        "model.add(MaxPool2D(pool_size=(2, 2)))\n",
        "model.add(Dropout(0.5))\n",
        "model.add(Conv2D(32, (3, 3),activation='relu'))\n",
        "\n",
        "\n",
        "model.add(Conv2D(64, (3, 3),activation='relu'))\n",
        "model.add(MaxPool2D(pool_size=(2, 2)))\n",
        "\n",
        "model.add(Flatten())\n",
        "model.add(Dense(64,activation='relu'))\n",
        "model.add(Dropout(0.5))\n",
        "\n",
        "model.add(Dense(2,activation='softmax'))"
      ],
      "execution_count": null,
      "outputs": []
    },
    {
      "cell_type": "code",
      "metadata": {
        "id": "i6CzR-9OnO4i",
        "colab_type": "code",
        "colab": {}
      },
      "source": [
        "model_chkpt = ModelCheckpoint('best_mod.h5', save_best_only=True, monitor='accuracy')\n",
        "early_stopping = EarlyStopping(monitor='loss', restore_best_weights=False, patience=10)"
      ],
      "execution_count": null,
      "outputs": []
    },
    {
      "cell_type": "code",
      "metadata": {
        "id": "sAhMebM2nXmd",
        "colab_type": "code",
        "colab": {
          "base_uri": "https://localhost:8080/",
          "height": 1000
        },
        "outputId": "6a29d1a0-7f26-4462-e9fb-ea8471b61080"
      },
      "source": [
        "# initialize the initial learning rate, number of epochs to train for,\n",
        "# and batch size\n",
        "INIT_LR = 1e-3\n",
        "EPOCHS = 35\n",
        "BS = 15\n",
        "# compile our model\n",
        "print(\"[INFO] compiling model...\")\n",
        "opt = SGD(lr=INIT_LR, decay=INIT_LR / EPOCHS)\n",
        "model.compile(loss=\"binary_crossentropy\", optimizer=opt,\n",
        "\tmetrics=[\"accuracy\"])\n",
        "# train the head of the network\n",
        "print(\"[INFO] training head...\")\n",
        "H = model.fit_generator(\n",
        "\ttrainAug.flow(trainX, trainY, batch_size=BS),\n",
        "\tsteps_per_epoch=len(trainX) // BS,\n",
        "\tvalidation_data=(testX, testY),\n",
        "\tvalidation_steps=len(testX) // BS,\n",
        "\tepochs=EPOCHS,callbacks=[early_stopping,model_chkpt])"
      ],
      "execution_count": null,
      "outputs": [
        {
          "output_type": "stream",
          "text": [
            "[INFO] compiling model...\n",
            "[INFO] training head...\n",
            "Epoch 1/35\n",
            "36/36 [==============================] - 79s 2s/step - loss: 0.6628 - accuracy: 0.6023 - val_loss: 0.6685 - val_accuracy: 0.9203\n",
            "Epoch 2/35\n",
            "36/36 [==============================] - 79s 2s/step - loss: 0.6218 - accuracy: 0.7317 - val_loss: 0.6399 - val_accuracy: 0.5725\n",
            "Epoch 3/35\n",
            "36/36 [==============================] - 79s 2s/step - loss: 0.5498 - accuracy: 0.7824 - val_loss: 0.6020 - val_accuracy: 0.9493\n",
            "Epoch 4/35\n",
            "36/36 [==============================] - 80s 2s/step - loss: 0.5169 - accuracy: 0.7861 - val_loss: 0.5653 - val_accuracy: 0.7609\n",
            "Epoch 5/35\n",
            "36/36 [==============================] - 76s 2s/step - loss: 0.4497 - accuracy: 0.8462 - val_loss: 0.4972 - val_accuracy: 0.9493\n",
            "Epoch 6/35\n",
            "36/36 [==============================] - 76s 2s/step - loss: 0.3868 - accuracy: 0.8705 - val_loss: 0.4569 - val_accuracy: 0.9275\n",
            "Epoch 7/35\n",
            "36/36 [==============================] - 76s 2s/step - loss: 0.3283 - accuracy: 0.8799 - val_loss: 0.3876 - val_accuracy: 0.9565\n",
            "Epoch 8/35\n",
            "36/36 [==============================] - 76s 2s/step - loss: 0.3078 - accuracy: 0.8949 - val_loss: 0.3467 - val_accuracy: 0.9493\n",
            "Epoch 9/35\n",
            "36/36 [==============================] - 76s 2s/step - loss: 0.2979 - accuracy: 0.8931 - val_loss: 0.3304 - val_accuracy: 0.9493\n",
            "Epoch 10/35\n",
            "36/36 [==============================] - 78s 2s/step - loss: 0.2472 - accuracy: 0.9306 - val_loss: 0.2861 - val_accuracy: 0.9565\n",
            "Epoch 11/35\n",
            "36/36 [==============================] - 80s 2s/step - loss: 0.2574 - accuracy: 0.9137 - val_loss: 0.2623 - val_accuracy: 0.9565\n",
            "Epoch 12/35\n",
            "36/36 [==============================] - 80s 2s/step - loss: 0.2749 - accuracy: 0.9006 - val_loss: 0.2688 - val_accuracy: 0.9493\n",
            "Epoch 13/35\n",
            "36/36 [==============================] - 79s 2s/step - loss: 0.2601 - accuracy: 0.8968 - val_loss: 0.2664 - val_accuracy: 0.9493\n",
            "Epoch 14/35\n",
            "36/36 [==============================] - 80s 2s/step - loss: 0.2454 - accuracy: 0.9081 - val_loss: 0.2383 - val_accuracy: 0.9565\n",
            "Epoch 15/35\n",
            "36/36 [==============================] - 79s 2s/step - loss: 0.2363 - accuracy: 0.9099 - val_loss: 0.2613 - val_accuracy: 0.9493\n",
            "Epoch 16/35\n",
            "36/36 [==============================] - 80s 2s/step - loss: 0.2345 - accuracy: 0.9156 - val_loss: 0.2179 - val_accuracy: 0.9565\n",
            "Epoch 17/35\n",
            "36/36 [==============================] - 80s 2s/step - loss: 0.2116 - accuracy: 0.9212 - val_loss: 0.2191 - val_accuracy: 0.9783\n",
            "Epoch 18/35\n",
            "36/36 [==============================] - 78s 2s/step - loss: 0.2097 - accuracy: 0.9231 - val_loss: 0.2001 - val_accuracy: 0.9710\n",
            "Epoch 19/35\n",
            "36/36 [==============================] - 80s 2s/step - loss: 0.2200 - accuracy: 0.9193 - val_loss: 0.1886 - val_accuracy: 0.9638\n",
            "Epoch 20/35\n",
            "36/36 [==============================] - 78s 2s/step - loss: 0.1933 - accuracy: 0.9250 - val_loss: 0.2244 - val_accuracy: 0.9493\n",
            "Epoch 21/35\n",
            "36/36 [==============================] - 78s 2s/step - loss: 0.2025 - accuracy: 0.9287 - val_loss: 0.2283 - val_accuracy: 0.9493\n",
            "Epoch 22/35\n",
            "36/36 [==============================] - 78s 2s/step - loss: 0.1868 - accuracy: 0.9296 - val_loss: 0.1611 - val_accuracy: 0.9710\n",
            "Epoch 23/35\n",
            "36/36 [==============================] - 78s 2s/step - loss: 0.1699 - accuracy: 0.9400 - val_loss: 0.1478 - val_accuracy: 0.9710\n",
            "Epoch 24/35\n",
            "36/36 [==============================] - 77s 2s/step - loss: 0.1781 - accuracy: 0.9250 - val_loss: 0.1929 - val_accuracy: 0.9638\n",
            "Epoch 25/35\n",
            "36/36 [==============================] - 77s 2s/step - loss: 0.1962 - accuracy: 0.9381 - val_loss: 0.2217 - val_accuracy: 0.9710\n",
            "Epoch 26/35\n",
            "36/36 [==============================] - 79s 2s/step - loss: 0.1968 - accuracy: 0.9268 - val_loss: 0.1766 - val_accuracy: 0.9493\n",
            "Epoch 27/35\n",
            "36/36 [==============================] - 78s 2s/step - loss: 0.1709 - accuracy: 0.9362 - val_loss: 0.1425 - val_accuracy: 0.9710\n",
            "Epoch 28/35\n",
            "36/36 [==============================] - 76s 2s/step - loss: 0.1971 - accuracy: 0.9287 - val_loss: 0.1852 - val_accuracy: 0.9565\n",
            "Epoch 29/35\n",
            "36/36 [==============================] - 74s 2s/step - loss: 0.1968 - accuracy: 0.9250 - val_loss: 0.1709 - val_accuracy: 0.9638\n",
            "Epoch 30/35\n",
            "36/36 [==============================] - 75s 2s/step - loss: 0.1775 - accuracy: 0.9437 - val_loss: 0.1658 - val_accuracy: 0.9565\n",
            "Epoch 31/35\n",
            "36/36 [==============================] - 75s 2s/step - loss: 0.1997 - accuracy: 0.9268 - val_loss: 0.1625 - val_accuracy: 0.9565\n",
            "Epoch 32/35\n",
            "36/36 [==============================] - 75s 2s/step - loss: 0.2038 - accuracy: 0.9250 - val_loss: 0.1919 - val_accuracy: 0.9493\n",
            "Epoch 33/35\n",
            "36/36 [==============================] - 74s 2s/step - loss: 0.1817 - accuracy: 0.9418 - val_loss: 0.1330 - val_accuracy: 0.9710\n"
          ],
          "name": "stdout"
        }
      ]
    },
    {
      "cell_type": "code",
      "metadata": {
        "id": "U8TbahXcnjYR",
        "colab_type": "code",
        "colab": {
          "base_uri": "https://localhost:8080/",
          "height": 199
        },
        "outputId": "7bb11a98-3dca-4589-e279-3f9e83b9c8f9"
      },
      "source": [
        "\n",
        "\n",
        "# make predictions on the testing set\n",
        "print(\"[INFO] evaluating network...\")\n",
        "predIdxs = model.predict(testX, batch_size=BS)\n",
        "# for each image in the testing set we need to find the index of the\n",
        "# label with corresponding largest predicted probability\n",
        "predIdxs = np.argmax(predIdxs, axis=1)\n",
        "# show a nicely formatted classification report\n",
        "print(classification_report(testY.argmax(axis=1), predIdxs,\n",
        "\ttarget_names=lb.classes_))"
      ],
      "execution_count": null,
      "outputs": [
        {
          "output_type": "stream",
          "text": [
            "[INFO] evaluating network...\n",
            "              precision    recall  f1-score   support\n",
            "\n",
            "    infected       0.98      0.97      0.98        65\n",
            "      normal       0.97      0.99      0.98        73\n",
            "\n",
            "    accuracy                           0.98       138\n",
            "   macro avg       0.98      0.98      0.98       138\n",
            "weighted avg       0.98      0.98      0.98       138\n",
            "\n"
          ],
          "name": "stdout"
        }
      ]
    },
    {
      "cell_type": "code",
      "metadata": {
        "id": "ZpEqNpBMnnBV",
        "colab_type": "code",
        "colab": {
          "base_uri": "https://localhost:8080/",
          "height": 35
        },
        "outputId": "a963dfa2-8f7a-4c63-d4fe-49124f74b298"
      },
      "source": [
        "_, baseline_model_accuracy = model.evaluate(\n",
        "    testX, testY, verbose=0)\n",
        "\n",
        "print('Baseline test accuracy:', baseline_model_accuracy)\n",
        "\n"
      ],
      "execution_count": null,
      "outputs": [
        {
          "output_type": "stream",
          "text": [
            "Baseline test accuracy: 0.97826087474823\n"
          ],
          "name": "stdout"
        }
      ]
    },
    {
      "cell_type": "markdown",
      "metadata": {
        "id": "osPhs4UkDWzk",
        "colab_type": "text"
      },
      "source": [
        "# CNN Model\n",
        "Optimizer= SGD, Learning Rate= 3e-4 ,Epochs= 35, Batch size =15"
      ]
    },
    {
      "cell_type": "code",
      "metadata": {
        "id": "M8mCvhK4nqbJ",
        "colab_type": "code",
        "colab": {}
      },
      "source": [
        "model = Sequential()\n",
        "model.add(Conv2D(80, (3, 3),activation='relu', input_shape=(224, 224, 3)))\n",
        "model.add(MaxPool2D(pool_size=(2, 2)))\n",
        "model.add(Dropout(0.2))\n",
        "\n",
        "model.add(Conv2D(32, (3, 3),activation='relu'))\n",
        "model.add(MaxPool2D(pool_size=(2, 2)))\n",
        "model.add(Dropout(0.5))\n",
        "model.add(Conv2D(32, (3, 3),activation='relu'))\n",
        "\n",
        "\n",
        "model.add(Conv2D(64, (3, 3),activation='relu'))\n",
        "model.add(MaxPool2D(pool_size=(2, 2)))\n",
        "\n",
        "model.add(Flatten())\n",
        "model.add(Dense(64,activation='relu'))\n",
        "model.add(Dropout(0.5))\n",
        "\n",
        "model.add(Dense(2,activation='softmax'))"
      ],
      "execution_count": null,
      "outputs": []
    },
    {
      "cell_type": "code",
      "metadata": {
        "id": "daaClMvuDtQs",
        "colab_type": "code",
        "colab": {}
      },
      "source": [
        "model_chkpt = ModelCheckpoint('best_mod.h5', save_best_only=True, monitor='accuracy')\n",
        "early_stopping = EarlyStopping(monitor='loss', restore_best_weights=False, patience=10)"
      ],
      "execution_count": null,
      "outputs": []
    },
    {
      "cell_type": "code",
      "metadata": {
        "id": "FkV4PyWyDwgh",
        "colab_type": "code",
        "colab": {
          "base_uri": "https://localhost:8080/",
          "height": 1000
        },
        "outputId": "dc24810f-82f3-4c9e-8e13-2ed3c17c456b"
      },
      "source": [
        "# initialize the initial learning rate, number of epochs to train for,\n",
        "# and batch size\n",
        "INIT_LR = 3e-4\n",
        "EPOCHS = 35\n",
        "BS = 15\n",
        "# compile our model\n",
        "print(\"[INFO] compiling model...\")\n",
        "opt = SGD(lr=INIT_LR, decay=INIT_LR / EPOCHS)\n",
        "model.compile(loss=\"binary_crossentropy\", optimizer=opt,\n",
        "\tmetrics=[\"accuracy\"])\n",
        "# train the head of the network\n",
        "print(\"[INFO] training head...\")\n",
        "H = model.fit_generator(\n",
        "\ttrainAug.flow(trainX, trainY, batch_size=BS),\n",
        "\tsteps_per_epoch=len(trainX) // BS,\n",
        "\tvalidation_data=(testX, testY),\n",
        "\tvalidation_steps=len(testX) // BS,\n",
        "\tepochs=EPOCHS,callbacks=[early_stopping,model_chkpt])"
      ],
      "execution_count": null,
      "outputs": [
        {
          "output_type": "stream",
          "text": [
            "[INFO] compiling model...\n",
            "[INFO] training head...\n",
            "Epoch 1/35\n",
            "36/36 [==============================] - 75s 2s/step - loss: 0.7069 - accuracy: 0.4709 - val_loss: 0.6891 - val_accuracy: 0.5290\n",
            "Epoch 2/35\n",
            "36/36 [==============================] - 75s 2s/step - loss: 0.6730 - accuracy: 0.6023 - val_loss: 0.6830 - val_accuracy: 0.5725\n",
            "Epoch 3/35\n",
            "36/36 [==============================] - 75s 2s/step - loss: 0.6585 - accuracy: 0.6473 - val_loss: 0.6768 - val_accuracy: 0.5290\n",
            "Epoch 4/35\n",
            "36/36 [==============================] - 76s 2s/step - loss: 0.6257 - accuracy: 0.7054 - val_loss: 0.6652 - val_accuracy: 0.8696\n",
            "Epoch 5/35\n",
            "36/36 [==============================] - 75s 2s/step - loss: 0.6082 - accuracy: 0.7280 - val_loss: 0.6524 - val_accuracy: 0.8913\n",
            "Epoch 6/35\n",
            "36/36 [==============================] - 75s 2s/step - loss: 0.5684 - accuracy: 0.7730 - val_loss: 0.6376 - val_accuracy: 0.9275\n",
            "Epoch 7/35\n",
            "36/36 [==============================] - 75s 2s/step - loss: 0.5452 - accuracy: 0.7824 - val_loss: 0.6223 - val_accuracy: 0.9348\n",
            "Epoch 8/35\n",
            "36/36 [==============================] - 75s 2s/step - loss: 0.5141 - accuracy: 0.8199 - val_loss: 0.6042 - val_accuracy: 0.9493\n",
            "Epoch 9/35\n",
            "36/36 [==============================] - 75s 2s/step - loss: 0.5004 - accuracy: 0.8068 - val_loss: 0.5845 - val_accuracy: 0.9348\n",
            "Epoch 10/35\n",
            "36/36 [==============================] - 75s 2s/step - loss: 0.4763 - accuracy: 0.8030 - val_loss: 0.5692 - val_accuracy: 0.9348\n",
            "Epoch 11/35\n",
            "36/36 [==============================] - 73s 2s/step - loss: 0.4412 - accuracy: 0.8480 - val_loss: 0.5418 - val_accuracy: 0.9493\n",
            "Epoch 12/35\n",
            "36/36 [==============================] - 75s 2s/step - loss: 0.4279 - accuracy: 0.8743 - val_loss: 0.5283 - val_accuracy: 0.9275\n",
            "Epoch 13/35\n",
            "36/36 [==============================] - 75s 2s/step - loss: 0.3937 - accuracy: 0.8649 - val_loss: 0.5043 - val_accuracy: 0.9275\n",
            "Epoch 14/35\n",
            "36/36 [==============================] - 78s 2s/step - loss: 0.3565 - accuracy: 0.8741 - val_loss: 0.4776 - val_accuracy: 0.9420\n",
            "Epoch 15/35\n",
            "36/36 [==============================] - 75s 2s/step - loss: 0.3603 - accuracy: 0.8724 - val_loss: 0.4675 - val_accuracy: 0.9493\n",
            "Epoch 16/35\n",
            "36/36 [==============================] - 74s 2s/step - loss: 0.3462 - accuracy: 0.8799 - val_loss: 0.4402 - val_accuracy: 0.9420\n",
            "Epoch 17/35\n",
            "36/36 [==============================] - 75s 2s/step - loss: 0.3161 - accuracy: 0.9024 - val_loss: 0.4306 - val_accuracy: 0.9348\n",
            "Epoch 18/35\n",
            "36/36 [==============================] - 75s 2s/step - loss: 0.3069 - accuracy: 0.8912 - val_loss: 0.4067 - val_accuracy: 0.9420\n",
            "Epoch 19/35\n",
            "36/36 [==============================] - 74s 2s/step - loss: 0.2867 - accuracy: 0.9193 - val_loss: 0.3849 - val_accuracy: 0.9493\n",
            "Epoch 20/35\n",
            "36/36 [==============================] - 74s 2s/step - loss: 0.3096 - accuracy: 0.8799 - val_loss: 0.3778 - val_accuracy: 0.9420\n",
            "Epoch 21/35\n",
            "36/36 [==============================] - 79s 2s/step - loss: 0.2841 - accuracy: 0.9081 - val_loss: 0.3600 - val_accuracy: 0.9420\n",
            "Epoch 22/35\n",
            "36/36 [==============================] - 79s 2s/step - loss: 0.2531 - accuracy: 0.9193 - val_loss: 0.3514 - val_accuracy: 0.9565\n",
            "Epoch 23/35\n",
            "36/36 [==============================] - 78s 2s/step - loss: 0.2744 - accuracy: 0.9024 - val_loss: 0.3316 - val_accuracy: 0.9420\n",
            "Epoch 24/35\n",
            "36/36 [==============================] - 79s 2s/step - loss: 0.2564 - accuracy: 0.9099 - val_loss: 0.3289 - val_accuracy: 0.9565\n",
            "Epoch 25/35\n",
            "36/36 [==============================] - 80s 2s/step - loss: 0.2466 - accuracy: 0.9174 - val_loss: 0.3191 - val_accuracy: 0.9493\n",
            "Epoch 26/35\n",
            "36/36 [==============================] - 80s 2s/step - loss: 0.2300 - accuracy: 0.9325 - val_loss: 0.3029 - val_accuracy: 0.9565\n",
            "Epoch 27/35\n",
            "36/36 [==============================] - 79s 2s/step - loss: 0.2377 - accuracy: 0.9193 - val_loss: 0.3073 - val_accuracy: 0.9565\n",
            "Epoch 28/35\n",
            "36/36 [==============================] - 79s 2s/step - loss: 0.2331 - accuracy: 0.9231 - val_loss: 0.2899 - val_accuracy: 0.9710\n",
            "Epoch 29/35\n",
            "36/36 [==============================] - 81s 2s/step - loss: 0.2583 - accuracy: 0.8874 - val_loss: 0.2977 - val_accuracy: 0.9638\n",
            "Epoch 30/35\n",
            "36/36 [==============================] - 83s 2s/step - loss: 0.2494 - accuracy: 0.9043 - val_loss: 0.2874 - val_accuracy: 0.9638\n",
            "Epoch 31/35\n",
            "36/36 [==============================] - 84s 2s/step - loss: 0.2405 - accuracy: 0.9174 - val_loss: 0.2816 - val_accuracy: 0.9710\n",
            "Epoch 32/35\n",
            "36/36 [==============================] - 85s 2s/step - loss: 0.2358 - accuracy: 0.9193 - val_loss: 0.2716 - val_accuracy: 0.9638\n",
            "Epoch 33/35\n",
            "36/36 [==============================] - 88s 2s/step - loss: 0.2214 - accuracy: 0.9268 - val_loss: 0.2734 - val_accuracy: 0.9783\n",
            "Epoch 34/35\n",
            "36/36 [==============================] - 83s 2s/step - loss: 0.1975 - accuracy: 0.9325 - val_loss: 0.2621 - val_accuracy: 0.9493\n",
            "Epoch 35/35\n",
            "36/36 [==============================] - 76s 2s/step - loss: 0.2271 - accuracy: 0.9250 - val_loss: 0.2595 - val_accuracy: 0.9783\n"
          ],
          "name": "stdout"
        }
      ]
    },
    {
      "cell_type": "code",
      "metadata": {
        "id": "QnWdJYbVD1W5",
        "colab_type": "code",
        "colab": {
          "base_uri": "https://localhost:8080/",
          "height": 199
        },
        "outputId": "42a608be-befc-4772-bdc9-d145f710c868"
      },
      "source": [
        "\n",
        "\n",
        "# make predictions on the testing set\n",
        "print(\"[INFO] evaluating network...\")\n",
        "predIdxs = model.predict(testX, batch_size=BS)\n",
        "# for each image in the testing set we need to find the index of the\n",
        "# label with corresponding largest predicted probability\n",
        "predIdxs = np.argmax(predIdxs, axis=1)\n",
        "# show a nicely formatted classification report\n",
        "print(classification_report(testY.argmax(axis=1), predIdxs,\n",
        "\ttarget_names=lb.classes_))"
      ],
      "execution_count": null,
      "outputs": [
        {
          "output_type": "stream",
          "text": [
            "[INFO] evaluating network...\n",
            "              precision    recall  f1-score   support\n",
            "\n",
            "    infected       0.98      0.97      0.98        65\n",
            "      normal       0.97      0.99      0.98        73\n",
            "\n",
            "    accuracy                           0.98       138\n",
            "   macro avg       0.98      0.98      0.98       138\n",
            "weighted avg       0.98      0.98      0.98       138\n",
            "\n"
          ],
          "name": "stdout"
        }
      ]
    },
    {
      "cell_type": "code",
      "metadata": {
        "id": "M35iF2ZGD4Bz",
        "colab_type": "code",
        "colab": {
          "base_uri": "https://localhost:8080/",
          "height": 35
        },
        "outputId": "fe1be67d-3e51-45cd-82db-11e1f252b115"
      },
      "source": [
        "_, baseline_model_accuracy = model.evaluate(\n",
        "    testX, testY, verbose=0)\n",
        "\n",
        "print('Baseline test accuracy:', baseline_model_accuracy)\n",
        "\n"
      ],
      "execution_count": null,
      "outputs": [
        {
          "output_type": "stream",
          "text": [
            "Baseline test accuracy: 0.97826087474823\n"
          ],
          "name": "stdout"
        }
      ]
    },
    {
      "cell_type": "code",
      "metadata": {
        "id": "qBjr8uO_D8L7",
        "colab_type": "code",
        "colab": {}
      },
      "source": [
        ""
      ],
      "execution_count": null,
      "outputs": []
    },
    {
      "cell_type": "markdown",
      "metadata": {
        "id": "OHscaAKWQxT4",
        "colab_type": "text"
      },
      "source": [
        "#CNN Model\n",
        "optimizer=SGD, Epochs= 35, Batch Size=15, Learning Rate= 2e-4"
      ]
    },
    {
      "cell_type": "code",
      "metadata": {
        "id": "rcVsNg6-Q-t1",
        "colab_type": "code",
        "colab": {}
      },
      "source": [
        "model = Sequential()\n",
        "model.add(Conv2D(80, (3, 3),activation='relu', input_shape=(224, 224, 3)))\n",
        "model.add(MaxPool2D(pool_size=(2, 2)))\n",
        "model.add(Dropout(0.2))\n",
        "\n",
        "model.add(Conv2D(32, (3, 3),activation='relu'))\n",
        "model.add(MaxPool2D(pool_size=(2, 2)))\n",
        "model.add(Dropout(0.5))\n",
        "model.add(Conv2D(32, (3, 3),activation='relu'))\n",
        "\n",
        "\n",
        "model.add(Conv2D(64, (3, 3),activation='relu'))\n",
        "model.add(MaxPool2D(pool_size=(2, 2)))\n",
        "\n",
        "model.add(Flatten())\n",
        "model.add(Dense(64,activation='relu'))\n",
        "model.add(Dropout(0.5))\n",
        "\n",
        "model.add(Dense(2,activation='softmax'))"
      ],
      "execution_count": null,
      "outputs": []
    },
    {
      "cell_type": "code",
      "metadata": {
        "id": "4-NS5KELRCHd",
        "colab_type": "code",
        "colab": {}
      },
      "source": [
        "model_chkpt = ModelCheckpoint('best_mod.h5', save_best_only=True, monitor='accuracy')\n",
        "early_stopping = EarlyStopping(monitor='loss', restore_best_weights=False, patience=10)"
      ],
      "execution_count": null,
      "outputs": []
    },
    {
      "cell_type": "code",
      "metadata": {
        "id": "9nRRmyv2RHNu",
        "colab_type": "code",
        "colab": {
          "base_uri": "https://localhost:8080/",
          "height": 1000
        },
        "outputId": "42cfff19-a792-454d-9eb5-aab342ee39f6"
      },
      "source": [
        "# initialize the initial learning rate, number of epochs to train for,\n",
        "# and batch size\n",
        "INIT_LR = 2e-4\n",
        "EPOCHS = 35\n",
        "BS = 15\n",
        "# compile our model\n",
        "print(\"[INFO] compiling model...\")\n",
        "opt = SGD(lr=INIT_LR, decay=INIT_LR / EPOCHS)\n",
        "model.compile(loss=\"binary_crossentropy\", optimizer=opt,\n",
        "\tmetrics=[\"accuracy\"])\n",
        "# train the head of the network\n",
        "print(\"[INFO] training head...\")\n",
        "H = model.fit_generator(\n",
        "\ttrainAug.flow(trainX, trainY, batch_size=BS),\n",
        "\tsteps_per_epoch=len(trainX) // BS,\n",
        "\tvalidation_data=(testX, testY),\n",
        "\tvalidation_steps=len(testX) // BS,\n",
        "\tepochs=EPOCHS,callbacks=[early_stopping,model_chkpt])"
      ],
      "execution_count": null,
      "outputs": [
        {
          "output_type": "stream",
          "text": [
            "[INFO] compiling model...\n",
            "[INFO] training head...\n",
            "Epoch 1/35\n",
            "36/36 [==============================] - 81s 2s/step - loss: 0.7015 - accuracy: 0.4634 - val_loss: 0.6939 - val_accuracy: 0.5217\n",
            "Epoch 2/35\n",
            "36/36 [==============================] - 80s 2s/step - loss: 0.6952 - accuracy: 0.4934 - val_loss: 0.6913 - val_accuracy: 0.5362\n",
            "Epoch 3/35\n",
            "36/36 [==============================] - 79s 2s/step - loss: 0.6820 - accuracy: 0.5629 - val_loss: 0.6896 - val_accuracy: 0.5362\n",
            "Epoch 4/35\n",
            "36/36 [==============================] - 81s 2s/step - loss: 0.6769 - accuracy: 0.5835 - val_loss: 0.6879 - val_accuracy: 0.5362\n",
            "Epoch 5/35\n",
            "36/36 [==============================] - 79s 2s/step - loss: 0.6670 - accuracy: 0.6210 - val_loss: 0.6864 - val_accuracy: 0.5362\n",
            "Epoch 6/35\n",
            "36/36 [==============================] - 80s 2s/step - loss: 0.6663 - accuracy: 0.6116 - val_loss: 0.6848 - val_accuracy: 0.5362\n",
            "Epoch 7/35\n",
            "36/36 [==============================] - 80s 2s/step - loss: 0.6664 - accuracy: 0.5929 - val_loss: 0.6831 - val_accuracy: 0.5362\n",
            "Epoch 8/35\n",
            "36/36 [==============================] - 82s 2s/step - loss: 0.6571 - accuracy: 0.6567 - val_loss: 0.6814 - val_accuracy: 0.5362\n",
            "Epoch 9/35\n",
            "36/36 [==============================] - 82s 2s/step - loss: 0.6559 - accuracy: 0.6792 - val_loss: 0.6794 - val_accuracy: 0.5435\n",
            "Epoch 10/35\n",
            "36/36 [==============================] - 84s 2s/step - loss: 0.6443 - accuracy: 0.6998 - val_loss: 0.6767 - val_accuracy: 0.5435\n",
            "Epoch 11/35\n",
            "36/36 [==============================] - 85s 2s/step - loss: 0.6361 - accuracy: 0.6998 - val_loss: 0.6740 - val_accuracy: 0.5942\n",
            "Epoch 12/35\n",
            "36/36 [==============================] - 86s 2s/step - loss: 0.6383 - accuracy: 0.7186 - val_loss: 0.6706 - val_accuracy: 0.6159\n",
            "Epoch 13/35\n",
            "36/36 [==============================] - 84s 2s/step - loss: 0.6175 - accuracy: 0.7317 - val_loss: 0.6663 - val_accuracy: 0.6739\n",
            "Epoch 14/35\n",
            "36/36 [==============================] - 84s 2s/step - loss: 0.6190 - accuracy: 0.7317 - val_loss: 0.6620 - val_accuracy: 0.6812\n",
            "Epoch 15/35\n",
            "36/36 [==============================] - 75s 2s/step - loss: 0.6089 - accuracy: 0.7467 - val_loss: 0.6572 - val_accuracy: 0.8116\n",
            "Epoch 16/35\n",
            "36/36 [==============================] - 75s 2s/step - loss: 0.6039 - accuracy: 0.7523 - val_loss: 0.6510 - val_accuracy: 0.7536\n",
            "Epoch 17/35\n",
            "36/36 [==============================] - 75s 2s/step - loss: 0.5877 - accuracy: 0.7955 - val_loss: 0.6438 - val_accuracy: 0.7971\n",
            "Epoch 18/35\n",
            "36/36 [==============================] - 74s 2s/step - loss: 0.5747 - accuracy: 0.8030 - val_loss: 0.6358 - val_accuracy: 0.9348\n",
            "Epoch 19/35\n",
            "36/36 [==============================] - 76s 2s/step - loss: 0.5655 - accuracy: 0.8124 - val_loss: 0.6269 - val_accuracy: 0.9493\n",
            "Epoch 20/35\n",
            "36/36 [==============================] - 75s 2s/step - loss: 0.5602 - accuracy: 0.8030 - val_loss: 0.6177 - val_accuracy: 0.9058\n",
            "Epoch 21/35\n",
            "36/36 [==============================] - 76s 2s/step - loss: 0.5358 - accuracy: 0.8143 - val_loss: 0.6078 - val_accuracy: 0.9493\n",
            "Epoch 22/35\n",
            "36/36 [==============================] - 75s 2s/step - loss: 0.5244 - accuracy: 0.8180 - val_loss: 0.5973 - val_accuracy: 0.9493\n",
            "Epoch 23/35\n",
            "36/36 [==============================] - 75s 2s/step - loss: 0.5108 - accuracy: 0.8274 - val_loss: 0.5858 - val_accuracy: 0.9493\n",
            "Epoch 24/35\n",
            "36/36 [==============================] - 74s 2s/step - loss: 0.5089 - accuracy: 0.8255 - val_loss: 0.5730 - val_accuracy: 0.9565\n",
            "Epoch 25/35\n",
            "36/36 [==============================] - 75s 2s/step - loss: 0.4854 - accuracy: 0.8349 - val_loss: 0.5596 - val_accuracy: 0.9493\n",
            "Epoch 26/35\n",
            "36/36 [==============================] - 75s 2s/step - loss: 0.4660 - accuracy: 0.8574 - val_loss: 0.5451 - val_accuracy: 0.9493\n",
            "Epoch 27/35\n",
            "36/36 [==============================] - 75s 2s/step - loss: 0.4486 - accuracy: 0.8612 - val_loss: 0.5309 - val_accuracy: 0.9493\n",
            "Epoch 28/35\n",
            "36/36 [==============================] - 75s 2s/step - loss: 0.4322 - accuracy: 0.8687 - val_loss: 0.5181 - val_accuracy: 0.9275\n",
            "Epoch 29/35\n",
            "36/36 [==============================] - 75s 2s/step - loss: 0.4293 - accuracy: 0.8443 - val_loss: 0.5001 - val_accuracy: 0.9493\n",
            "Epoch 30/35\n",
            "36/36 [==============================] - 75s 2s/step - loss: 0.4186 - accuracy: 0.8574 - val_loss: 0.4874 - val_accuracy: 0.9493\n",
            "Epoch 31/35\n",
            "36/36 [==============================] - 75s 2s/step - loss: 0.4123 - accuracy: 0.8518 - val_loss: 0.4734 - val_accuracy: 0.9275\n",
            "Epoch 32/35\n",
            "36/36 [==============================] - 74s 2s/step - loss: 0.3881 - accuracy: 0.8837 - val_loss: 0.4551 - val_accuracy: 0.9493\n",
            "Epoch 33/35\n",
            "36/36 [==============================] - 74s 2s/step - loss: 0.3871 - accuracy: 0.8762 - val_loss: 0.4426 - val_accuracy: 0.9493\n",
            "Epoch 34/35\n",
            "36/36 [==============================] - 74s 2s/step - loss: 0.3692 - accuracy: 0.8818 - val_loss: 0.4333 - val_accuracy: 0.9493\n",
            "Epoch 35/35\n",
            "36/36 [==============================] - 74s 2s/step - loss: 0.3725 - accuracy: 0.8649 - val_loss: 0.4124 - val_accuracy: 0.9493\n"
          ],
          "name": "stdout"
        }
      ]
    },
    {
      "cell_type": "code",
      "metadata": {
        "id": "jt_oXsbVROH3",
        "colab_type": "code",
        "colab": {
          "base_uri": "https://localhost:8080/",
          "height": 199
        },
        "outputId": "4ee48e3e-c3da-40f3-8232-692209b03829"
      },
      "source": [
        "\n",
        "\n",
        "# make predictions on the testing set\n",
        "print(\"[INFO] evaluating network...\")\n",
        "predIdxs = model.predict(testX, batch_size=BS)\n",
        "# for each image in the testing set we need to find the index of the\n",
        "# label with corresponding largest predicted probability\n",
        "predIdxs = np.argmax(predIdxs, axis=1)\n",
        "# show a nicely formatted classification report\n",
        "print(classification_report(testY.argmax(axis=1), predIdxs,\n",
        "\ttarget_names=lb.classes_))"
      ],
      "execution_count": null,
      "outputs": [
        {
          "output_type": "stream",
          "text": [
            "[INFO] evaluating network...\n",
            "              precision    recall  f1-score   support\n",
            "\n",
            "    infected       0.97      0.92      0.94        65\n",
            "      normal       0.93      0.97      0.95        73\n",
            "\n",
            "    accuracy                           0.95       138\n",
            "   macro avg       0.95      0.95      0.95       138\n",
            "weighted avg       0.95      0.95      0.95       138\n",
            "\n"
          ],
          "name": "stdout"
        }
      ]
    },
    {
      "cell_type": "code",
      "metadata": {
        "id": "_YuoQN2XRRUb",
        "colab_type": "code",
        "colab": {
          "base_uri": "https://localhost:8080/",
          "height": 35
        },
        "outputId": "0b9a0f7f-85f2-48de-c635-145b7a969895"
      },
      "source": [
        "_, baseline_model_accuracy = model.evaluate(\n",
        "    testX, testY, verbose=0)\n",
        "\n",
        "print('Baseline test accuracy:', baseline_model_accuracy)\n",
        "\n"
      ],
      "execution_count": null,
      "outputs": [
        {
          "output_type": "stream",
          "text": [
            "Baseline test accuracy: 0.9492753744125366\n"
          ],
          "name": "stdout"
        }
      ]
    },
    {
      "cell_type": "markdown",
      "metadata": {
        "id": "nrpygPzRgMza",
        "colab_type": "text"
      },
      "source": [
        "# CNN MODEL\n",
        "optimizer= RMSprop, Learning Rate = 3e-4, epochs= 35, batch size =15"
      ]
    },
    {
      "cell_type": "code",
      "metadata": {
        "id": "4aMpORZyRUmv",
        "colab_type": "code",
        "colab": {}
      },
      "source": [
        "from tensorflow.keras.layers import Dropout\n",
        "from tensorflow.keras.layers import Flatten\n",
        "from tensorflow.keras.layers import Dense\n",
        "from tensorflow.keras.layers import Input\n",
        "from tensorflow.keras.models import Model\n",
        "from tensorflow.keras.optimizers import RMSprop\n",
        "from tensorflow.keras.utils import to_categorical"
      ],
      "execution_count": 17,
      "outputs": []
    },
    {
      "cell_type": "code",
      "metadata": {
        "id": "ZkTAev9kgJAx",
        "colab_type": "code",
        "colab": {}
      },
      "source": [
        "model = Sequential()\n",
        "model.add(Conv2D(80, (3, 3),activation='relu', input_shape=(224, 224, 3)))\n",
        "model.add(MaxPool2D(pool_size=(2, 2)))\n",
        "model.add(Dropout(0.2))\n",
        "\n",
        "model.add(Conv2D(32, (3, 3),activation='relu'))\n",
        "model.add(MaxPool2D(pool_size=(2, 2)))\n",
        "model.add(Dropout(0.5))\n",
        "model.add(Conv2D(32, (3, 3),activation='relu'))\n",
        "\n",
        "\n",
        "model.add(Conv2D(64, (3, 3),activation='relu'))\n",
        "model.add(MaxPool2D(pool_size=(2, 2)))\n",
        "\n",
        "model.add(Flatten())\n",
        "model.add(Dense(64,activation='relu'))\n",
        "model.add(Dropout(0.5))\n",
        "\n",
        "model.add(Dense(2,activation='softmax'))"
      ],
      "execution_count": 18,
      "outputs": []
    },
    {
      "cell_type": "code",
      "metadata": {
        "id": "EO8Zi5uUggQ9",
        "colab_type": "code",
        "colab": {}
      },
      "source": [
        "model_chkpt = ModelCheckpoint('best_mod.h5', save_best_only=True, monitor='accuracy')\n",
        "early_stopping = EarlyStopping(monitor='loss', restore_best_weights=False, patience=10)"
      ],
      "execution_count": 19,
      "outputs": []
    },
    {
      "cell_type": "code",
      "metadata": {
        "id": "Hxn2VbsCgj6O",
        "colab_type": "code",
        "colab": {
          "base_uri": "https://localhost:8080/",
          "height": 1000
        },
        "outputId": "e7b5c105-ab23-4efa-a0c8-4bd0705689a7"
      },
      "source": [
        "# initialize the initial learning rate, number of epochs to train for,\n",
        "# and batch size\n",
        "INIT_LR = 3e-4\n",
        "EPOCHS = 35\n",
        "BS = 15\n",
        "# compile our model\n",
        "print(\"[INFO] compiling model...\")\n",
        "opt = RMSprop(lr=INIT_LR, decay=INIT_LR / EPOCHS)\n",
        "model.compile(loss=\"binary_crossentropy\", optimizer=opt,\n",
        "\tmetrics=[\"accuracy\"])\n",
        "# train the head of the network\n",
        "print(\"[INFO] training head...\")\n",
        "H = model.fit_generator(\n",
        "\ttrainAug.flow(trainX, trainY, batch_size=BS),\n",
        "\tsteps_per_epoch=len(trainX) // BS,\n",
        "\tvalidation_data=(testX, testY),\n",
        "\tvalidation_steps=len(testX) // BS,\n",
        "\tepochs=EPOCHS,callbacks=[early_stopping,model_chkpt])"
      ],
      "execution_count": 20,
      "outputs": [
        {
          "output_type": "stream",
          "text": [
            "[INFO] compiling model...\n",
            "[INFO] training head...\n",
            "WARNING:tensorflow:From <ipython-input-20-9d2dd25aa0b7>:18: Model.fit_generator (from tensorflow.python.keras.engine.training) is deprecated and will be removed in a future version.\n",
            "Instructions for updating:\n",
            "Please use Model.fit, which supports generators.\n",
            "Epoch 1/35\n",
            "36/36 [==============================] - 75s 2s/step - loss: 0.7283 - accuracy: 0.6116 - val_loss: 0.6695 - val_accuracy: 0.5870\n",
            "Epoch 2/35\n",
            "36/36 [==============================] - 71s 2s/step - loss: 0.4071 - accuracy: 0.8199 - val_loss: 0.4771 - val_accuracy: 0.9565\n",
            "Epoch 3/35\n",
            "36/36 [==============================] - 72s 2s/step - loss: 0.3048 - accuracy: 0.8949 - val_loss: 0.5565 - val_accuracy: 0.9348\n",
            "Epoch 4/35\n",
            "36/36 [==============================] - 71s 2s/step - loss: 0.2423 - accuracy: 0.9250 - val_loss: 0.2649 - val_accuracy: 0.9783\n",
            "Epoch 5/35\n",
            "36/36 [==============================] - 72s 2s/step - loss: 0.2470 - accuracy: 0.9231 - val_loss: 0.6561 - val_accuracy: 0.5217\n",
            "Epoch 6/35\n",
            "36/36 [==============================] - 72s 2s/step - loss: 0.1801 - accuracy: 0.9475 - val_loss: 0.8360 - val_accuracy: 0.4710\n",
            "Epoch 7/35\n",
            "36/36 [==============================] - 72s 2s/step - loss: 0.2090 - accuracy: 0.9381 - val_loss: 0.6230 - val_accuracy: 0.6377\n",
            "Epoch 8/35\n",
            "36/36 [==============================] - 71s 2s/step - loss: 0.1805 - accuracy: 0.9493 - val_loss: 0.2082 - val_accuracy: 0.9638\n",
            "Epoch 9/35\n",
            "36/36 [==============================] - 74s 2s/step - loss: 0.1696 - accuracy: 0.9512 - val_loss: 0.2498 - val_accuracy: 0.9783\n",
            "Epoch 10/35\n",
            "36/36 [==============================] - 71s 2s/step - loss: 0.1405 - accuracy: 0.9418 - val_loss: 0.2048 - val_accuracy: 0.9638\n",
            "Epoch 11/35\n",
            "36/36 [==============================] - 71s 2s/step - loss: 0.1892 - accuracy: 0.9362 - val_loss: 0.2288 - val_accuracy: 0.9855\n",
            "Epoch 12/35\n",
            "36/36 [==============================] - 72s 2s/step - loss: 0.1830 - accuracy: 0.9481 - val_loss: 0.2173 - val_accuracy: 0.9710\n",
            "Epoch 13/35\n",
            "36/36 [==============================] - 71s 2s/step - loss: 0.1849 - accuracy: 0.9475 - val_loss: 0.2790 - val_accuracy: 0.9783\n",
            "Epoch 14/35\n",
            "36/36 [==============================] - 71s 2s/step - loss: 0.1575 - accuracy: 0.9381 - val_loss: 0.3211 - val_accuracy: 0.9855\n",
            "Epoch 15/35\n",
            "36/36 [==============================] - 71s 2s/step - loss: 0.1467 - accuracy: 0.9625 - val_loss: 0.1639 - val_accuracy: 0.9783\n",
            "Epoch 16/35\n",
            "36/36 [==============================] - 71s 2s/step - loss: 0.1294 - accuracy: 0.9531 - val_loss: 0.1822 - val_accuracy: 0.9710\n",
            "Epoch 17/35\n",
            "36/36 [==============================] - 74s 2s/step - loss: 0.1242 - accuracy: 0.9719 - val_loss: 0.4835 - val_accuracy: 0.7101\n",
            "Epoch 18/35\n",
            "36/36 [==============================] - 71s 2s/step - loss: 0.1412 - accuracy: 0.9493 - val_loss: 0.0928 - val_accuracy: 0.9855\n",
            "Epoch 19/35\n",
            "36/36 [==============================] - 70s 2s/step - loss: 0.1335 - accuracy: 0.9568 - val_loss: 0.0917 - val_accuracy: 0.9783\n",
            "Epoch 20/35\n",
            "36/36 [==============================] - 71s 2s/step - loss: 0.1711 - accuracy: 0.9418 - val_loss: 0.2162 - val_accuracy: 0.9638\n",
            "Epoch 21/35\n",
            "36/36 [==============================] - 71s 2s/step - loss: 0.1204 - accuracy: 0.9531 - val_loss: 0.3221 - val_accuracy: 0.8406\n",
            "Epoch 22/35\n",
            "36/36 [==============================] - 71s 2s/step - loss: 0.1190 - accuracy: 0.9587 - val_loss: 0.0967 - val_accuracy: 0.9855\n",
            "Epoch 23/35\n",
            "36/36 [==============================] - 71s 2s/step - loss: 0.1244 - accuracy: 0.9568 - val_loss: 0.1635 - val_accuracy: 0.9565\n",
            "Epoch 24/35\n",
            "36/36 [==============================] - 71s 2s/step - loss: 0.1240 - accuracy: 0.9531 - val_loss: 0.0607 - val_accuracy: 0.9855\n",
            "Epoch 25/35\n",
            "36/36 [==============================] - 73s 2s/step - loss: 0.0978 - accuracy: 0.9587 - val_loss: 0.2772 - val_accuracy: 0.8768\n",
            "Epoch 26/35\n",
            "36/36 [==============================] - 71s 2s/step - loss: 0.1866 - accuracy: 0.9531 - val_loss: 0.1075 - val_accuracy: 0.9710\n",
            "Epoch 27/35\n",
            "36/36 [==============================] - 71s 2s/step - loss: 0.0607 - accuracy: 0.9812 - val_loss: 0.0366 - val_accuracy: 0.9928\n",
            "Epoch 28/35\n",
            "36/36 [==============================] - 71s 2s/step - loss: 0.1221 - accuracy: 0.9550 - val_loss: 0.0511 - val_accuracy: 0.9928\n",
            "Epoch 29/35\n",
            "36/36 [==============================] - 71s 2s/step - loss: 0.1214 - accuracy: 0.9587 - val_loss: 0.0573 - val_accuracy: 0.9928\n",
            "Epoch 30/35\n",
            "36/36 [==============================] - 72s 2s/step - loss: 0.1305 - accuracy: 0.9519 - val_loss: 0.0765 - val_accuracy: 0.9855\n",
            "Epoch 31/35\n",
            "36/36 [==============================] - 71s 2s/step - loss: 0.1217 - accuracy: 0.9568 - val_loss: 0.1051 - val_accuracy: 0.9855\n",
            "Epoch 32/35\n",
            "36/36 [==============================] - 72s 2s/step - loss: 0.0918 - accuracy: 0.9681 - val_loss: 0.0477 - val_accuracy: 0.9928\n",
            "Epoch 33/35\n",
            "36/36 [==============================] - 71s 2s/step - loss: 0.1209 - accuracy: 0.9531 - val_loss: 0.0541 - val_accuracy: 0.9928\n",
            "Epoch 34/35\n",
            "36/36 [==============================] - 74s 2s/step - loss: 0.1183 - accuracy: 0.9475 - val_loss: 0.0669 - val_accuracy: 0.9928\n",
            "Epoch 35/35\n",
            "36/36 [==============================] - 71s 2s/step - loss: 0.0911 - accuracy: 0.9737 - val_loss: 0.0879 - val_accuracy: 0.9783\n"
          ],
          "name": "stdout"
        }
      ]
    },
    {
      "cell_type": "code",
      "metadata": {
        "id": "YQB8zAgKgqhT",
        "colab_type": "code",
        "colab": {
          "base_uri": "https://localhost:8080/",
          "height": 199
        },
        "outputId": "98df6d01-0ee0-4f0c-8556-4711dc615e4d"
      },
      "source": [
        "\n",
        "\n",
        "# make predictions on the testing set\n",
        "print(\"[INFO] evaluating network...\")\n",
        "predIdxs = model.predict(testX, batch_size=BS)\n",
        "# for each image in the testing set we need to find the index of the\n",
        "# label with corresponding largest predicted probability\n",
        "predIdxs = np.argmax(predIdxs, axis=1)\n",
        "# show a nicely formatted classification report\n",
        "print(classification_report(testY.argmax(axis=1), predIdxs,\n",
        "\ttarget_names=lb.classes_))"
      ],
      "execution_count": 21,
      "outputs": [
        {
          "output_type": "stream",
          "text": [
            "[INFO] evaluating network...\n",
            "              precision    recall  f1-score   support\n",
            "\n",
            "    infected       0.97      0.98      0.98        65\n",
            "      normal       0.99      0.97      0.98        73\n",
            "\n",
            "    accuracy                           0.98       138\n",
            "   macro avg       0.98      0.98      0.98       138\n",
            "weighted avg       0.98      0.98      0.98       138\n",
            "\n"
          ],
          "name": "stdout"
        }
      ]
    },
    {
      "cell_type": "code",
      "metadata": {
        "id": "0QuAy5jugvu4",
        "colab_type": "code",
        "colab": {
          "base_uri": "https://localhost:8080/",
          "height": 35
        },
        "outputId": "39285405-0a4e-4c94-eafb-0a44478812a8"
      },
      "source": [
        "_, baseline_model_accuracy = model.evaluate(\n",
        "    testX, testY, verbose=0)\n",
        "\n",
        "print('Baseline test accuracy:', baseline_model_accuracy)\n",
        "\n"
      ],
      "execution_count": 22,
      "outputs": [
        {
          "output_type": "stream",
          "text": [
            "Baseline test accuracy: 0.97826087474823\n"
          ],
          "name": "stdout"
        }
      ]
    },
    {
      "cell_type": "code",
      "metadata": {
        "id": "JtteQ5lzgzbr",
        "colab_type": "code",
        "colab": {
          "base_uri": "https://localhost:8080/",
          "height": 35
        },
        "outputId": "fe3ba68d-e9d4-470e-8466-df3882d9eb70"
      },
      "source": [
        "#docs_infra: no_execute\n",
        "%tensorboard --logdir={logdir}"
      ],
      "execution_count": 23,
      "outputs": [
        {
          "output_type": "stream",
          "text": [
            "UsageError: Line magic function `%tensorboard` not found.\n"
          ],
          "name": "stderr"
        }
      ]
    },
    {
      "cell_type": "code",
      "metadata": {
        "id": "beVPbqm5h42Z",
        "colab_type": "code",
        "colab": {
          "base_uri": "https://localhost:8080/",
          "height": 108
        },
        "outputId": "52c279f7-5b3a-419b-f931-f9e9b7c00e16"
      },
      "source": [
        "# compute the confusion matrix and and use it to derive the raw\n",
        "# accuracy, sensitivity, and specificity\n",
        "cm = confusion_matrix(testY.argmax(axis=1), predIdxs)\n",
        "total = sum(sum(cm))\n",
        "acc = (cm[0, 0] + cm[1, 1]) / total\n",
        "sensitivity = cm[0, 0] / (cm[0, 0] + cm[0, 1])\n",
        "specificity = cm[1, 1] / (cm[1, 0] + cm[1, 1])\n",
        "# show the confusion matrix, accuracy, sensitivity, and specificity\n",
        "print(cm)\n",
        "print(\"acc: {:.4f}\".format(acc))\n",
        "print(\"sensitivity: {:.4f}\".format(sensitivity))\n",
        "print(\"specificity: {:.4f}\".format(specificity))"
      ],
      "execution_count": 24,
      "outputs": [
        {
          "output_type": "stream",
          "text": [
            "[[64  1]\n",
            " [ 2 71]]\n",
            "acc: 0.9783\n",
            "sensitivity: 0.9846\n",
            "specificity: 0.9726\n"
          ],
          "name": "stdout"
        }
      ]
    },
    {
      "cell_type": "code",
      "metadata": {
        "id": "E8F-ZSVciBiD",
        "colab_type": "code",
        "colab": {
          "base_uri": "https://localhost:8080/",
          "height": 144
        },
        "outputId": "e0496d91-3557-4d60-dd05-d66d5652a3bb"
      },
      "source": [
        "predIdxs"
      ],
      "execution_count": 26,
      "outputs": [
        {
          "output_type": "execute_result",
          "data": {
            "text/plain": [
              "array([0, 0, 1, 0, 0, 0, 0, 0, 0, 0, 0, 0, 0, 1, 0, 0, 0, 1, 1, 0, 1, 0,\n",
              "       1, 1, 1, 1, 0, 1, 1, 0, 0, 0, 1, 0, 0, 0, 0, 1, 0, 1, 0, 1, 0, 1,\n",
              "       1, 0, 1, 1, 1, 1, 1, 0, 1, 0, 0, 0, 1, 0, 0, 1, 1, 0, 1, 0, 1, 1,\n",
              "       0, 0, 1, 1, 1, 1, 1, 1, 1, 0, 0, 0, 1, 0, 0, 0, 1, 1, 1, 1, 1, 0,\n",
              "       1, 0, 1, 0, 0, 0, 1, 1, 1, 1, 1, 1, 0, 1, 1, 1, 0, 1, 1, 1, 1, 0,\n",
              "       0, 1, 0, 1, 1, 0, 1, 0, 0, 1, 0, 1, 1, 0, 1, 0, 1, 0, 0, 0, 1, 1,\n",
              "       0, 0, 1, 1, 1, 1])"
            ]
          },
          "metadata": {
            "tags": []
          },
          "execution_count": 26
        }
      ]
    },
    {
      "cell_type": "code",
      "metadata": {
        "id": "lvQzqka_iFmr",
        "colab_type": "code",
        "colab": {}
      },
      "source": [
        "import cv2"
      ],
      "execution_count": 27,
      "outputs": []
    },
    {
      "cell_type": "code",
      "metadata": {
        "id": "ZHYwCdf3iQ4k",
        "colab_type": "code",
        "colab": {
          "base_uri": "https://localhost:8080/",
          "height": 253
        },
        "outputId": "ac07bf1d-1483-4dad-99df-9e28dab97f6d"
      },
      "source": [
        "predict_imagePaths=['/content/Classification-of-COVID-19-chest-X-ray-images/dataset/training/normal/NORMAL2 (32).jpeg',\n",
        " '/content/Classification-of-COVID-19-chest-X-ray-images/dataset/training/normal/NORMAL2 (42).jpeg',\n",
        " '/content/Classification-of-COVID-19-chest-X-ray-images/dataset/training/normal/NORMAL2 (180).jpeg',\n",
        " '/content/Classification-of-COVID-19-chest-X-ray-images/dataset/training/normal/NORMAL2-IM-0339-0001.jpeg',\n",
        " '/content/Classification-of-COVID-19-chest-X-ray-images/dataset/training/normal/NORMAL2-IM-0019-0001.jpeg',\n",
        " '/content/Classification-of-COVID-19-chest-X-ray-images/dataset/training/normal/NORMAL2-IM-0323-0001.jpeg',\n",
        " '/content/Classification-of-COVID-19-chest-X-ray-images/dataset/training/normal/NORMAL2-IM-0370-0001.jpeg',\n",
        " '/content/Classification-of-COVID-19-chest-X-ray-images/dataset/training/infected/covid_train (79).jpg',\n",
        " '/content/Classification-of-COVID-19-chest-X-ray-images/dataset/training/infected/covid_train (28).jpeg',\n",
        " '/content/Classification-of-COVID-19-chest-X-ray-images/dataset/training/infected/covid_train (71).jpg',\n",
        " '/content/Classification-of-COVID-19-chest-X-ray-images/dataset/training/infected/covid_train11.png',\n",
        " '/content/Classification-of-COVID-19-chest-X-ray-images/dataset/training/infected/covid_train (43).jpg',\n",
        " '/content/Classification-of-COVID-19-chest-X-ray-images/dataset/training/infected/covid_train (30).jpeg']\n",
        "# loop over the image paths\n",
        "for imagePath in predict_imagePaths:\n",
        "\t# extract the class label from the filename\n",
        "#\tlabel = imagePath.split(os.path.sep)[-2]\n",
        "\t# load the image, swap color channels, and resize it to be a fixed\n",
        "\t# 224x224 pixels while ignoring aspect ratio\n",
        "  image = cv2.imread(imagePath)\n",
        "  image = cv2.cvtColor(image, cv2.COLOR_BGR2RGB)\n",
        "  image = cv2.resize(image, (224, 224))\n",
        "  img = np.array(image) / 255.0\n",
        "  img=np.reshape(img,(1,224,224,3))\n",
        "  print(model.predict(img).argmax(axis=1))\n",
        "\n"
      ],
      "execution_count": 28,
      "outputs": [
        {
          "output_type": "stream",
          "text": [
            "[1]\n",
            "[1]\n",
            "[1]\n",
            "[1]\n",
            "[1]\n",
            "[1]\n",
            "[1]\n",
            "[0]\n",
            "[0]\n",
            "[0]\n",
            "[0]\n",
            "[0]\n",
            "[0]\n"
          ],
          "name": "stdout"
        }
      ]
    },
    {
      "cell_type": "code",
      "metadata": {
        "id": "PUSGUIU7iRdr",
        "colab_type": "code",
        "colab": {}
      },
      "source": [
        ""
      ],
      "execution_count": null,
      "outputs": []
    },
    {
      "cell_type": "markdown",
      "metadata": {
        "id": "Zp51wVGLqtiN",
        "colab_type": "text"
      },
      "source": [
        "# CNN MODEL\n",
        "optimizer= RMSprop, LR= 1e-4, Batch size=15, epochs=35"
      ]
    },
    {
      "cell_type": "code",
      "metadata": {
        "id": "jiLmHAoJq2aQ",
        "colab_type": "code",
        "colab": {}
      },
      "source": [
        "model = Sequential()\n",
        "model.add(Conv2D(80, (3, 3),activation='relu', input_shape=(224, 224, 3)))\n",
        "model.add(MaxPool2D(pool_size=(2, 2)))\n",
        "model.add(Dropout(0.2))\n",
        "\n",
        "model.add(Conv2D(32, (3, 3),activation='relu'))\n",
        "model.add(MaxPool2D(pool_size=(2, 2)))\n",
        "model.add(Dropout(0.5))\n",
        "model.add(Conv2D(32, (3, 3),activation='relu'))\n",
        "\n",
        "\n",
        "model.add(Conv2D(64, (3, 3),activation='relu'))\n",
        "model.add(MaxPool2D(pool_size=(2, 2)))\n",
        "\n",
        "model.add(Flatten())\n",
        "model.add(Dense(64,activation='relu'))\n",
        "model.add(Dropout(0.5))\n",
        "\n",
        "model.add(Dense(2,activation='softmax'))"
      ],
      "execution_count": 29,
      "outputs": []
    },
    {
      "cell_type": "code",
      "metadata": {
        "id": "aU1DLzRoq9Vg",
        "colab_type": "code",
        "colab": {}
      },
      "source": [
        "model_chkpt = ModelCheckpoint('best_mod.h5', save_best_only=True, monitor='accuracy')\n",
        "early_stopping = EarlyStopping(monitor='loss', restore_best_weights=False, patience=10)"
      ],
      "execution_count": 30,
      "outputs": []
    },
    {
      "cell_type": "code",
      "metadata": {
        "id": "ClR_ZHoxrBZg",
        "colab_type": "code",
        "colab": {
          "base_uri": "https://localhost:8080/",
          "height": 1000
        },
        "outputId": "83cfd82c-4fa5-40e5-c6ac-0f00021d7eef"
      },
      "source": [
        "# initialize the initial learning rate, number of epochs to train for,\n",
        "# and batch size\n",
        "INIT_LR = 1e-4\n",
        "EPOCHS = 35\n",
        "BS = 15\n",
        "# compile our model\n",
        "print(\"[INFO] compiling model...\")\n",
        "opt = RMSprop(lr=INIT_LR, decay=INIT_LR / EPOCHS)\n",
        "model.compile(loss=\"binary_crossentropy\", optimizer=opt,\n",
        "\tmetrics=[\"accuracy\"])\n",
        "# train the head of the network\n",
        "print(\"[INFO] training head...\")\n",
        "H = model.fit_generator(\n",
        "\ttrainAug.flow(trainX, trainY, batch_size=BS),\n",
        "\tsteps_per_epoch=len(trainX) // BS,\n",
        "\tvalidation_data=(testX, testY),\n",
        "\tvalidation_steps=len(testX) // BS,\n",
        "\tepochs=EPOCHS,callbacks=[early_stopping,model_chkpt])"
      ],
      "execution_count": 31,
      "outputs": [
        {
          "output_type": "stream",
          "text": [
            "[INFO] compiling model...\n",
            "[INFO] training head...\n",
            "Epoch 1/35\n",
            "36/36 [==============================] - 70s 2s/step - loss: 0.6545 - accuracy: 0.6323 - val_loss: 0.6364 - val_accuracy: 0.8043\n",
            "Epoch 2/35\n",
            "36/36 [==============================] - 71s 2s/step - loss: 0.4522 - accuracy: 0.8011 - val_loss: 0.4884 - val_accuracy: 0.9058\n",
            "Epoch 3/35\n",
            "36/36 [==============================] - 71s 2s/step - loss: 0.3350 - accuracy: 0.8649 - val_loss: 0.3897 - val_accuracy: 0.8478\n",
            "Epoch 4/35\n",
            "36/36 [==============================] - 71s 2s/step - loss: 0.2895 - accuracy: 0.8949 - val_loss: 0.3451 - val_accuracy: 0.9565\n",
            "Epoch 5/35\n",
            "36/36 [==============================] - 74s 2s/step - loss: 0.2336 - accuracy: 0.9062 - val_loss: 0.2992 - val_accuracy: 0.9058\n",
            "Epoch 6/35\n",
            "36/36 [==============================] - 71s 2s/step - loss: 0.2364 - accuracy: 0.9081 - val_loss: 0.3445 - val_accuracy: 0.9638\n",
            "Epoch 7/35\n",
            "36/36 [==============================] - 71s 2s/step - loss: 0.2083 - accuracy: 0.9156 - val_loss: 0.1483 - val_accuracy: 0.9710\n",
            "Epoch 8/35\n",
            "36/36 [==============================] - 71s 2s/step - loss: 0.2036 - accuracy: 0.9212 - val_loss: 0.2708 - val_accuracy: 0.9783\n",
            "Epoch 9/35\n",
            "36/36 [==============================] - 71s 2s/step - loss: 0.1789 - accuracy: 0.9343 - val_loss: 0.1607 - val_accuracy: 0.9710\n",
            "Epoch 10/35\n",
            "36/36 [==============================] - 72s 2s/step - loss: 0.1646 - accuracy: 0.9493 - val_loss: 0.1553 - val_accuracy: 0.9855\n",
            "Epoch 11/35\n",
            "36/36 [==============================] - 71s 2s/step - loss: 0.1588 - accuracy: 0.9475 - val_loss: 0.4039 - val_accuracy: 0.9348\n",
            "Epoch 12/35\n",
            "36/36 [==============================] - 71s 2s/step - loss: 0.1652 - accuracy: 0.9475 - val_loss: 0.1474 - val_accuracy: 0.9783\n",
            "Epoch 13/35\n",
            "36/36 [==============================] - 75s 2s/step - loss: 0.1705 - accuracy: 0.9456 - val_loss: 0.1319 - val_accuracy: 0.9855\n",
            "Epoch 14/35\n",
            "36/36 [==============================] - 71s 2s/step - loss: 0.1710 - accuracy: 0.9400 - val_loss: 0.2727 - val_accuracy: 0.9783\n",
            "Epoch 15/35\n",
            "36/36 [==============================] - 71s 2s/step - loss: 0.1645 - accuracy: 0.9456 - val_loss: 0.2038 - val_accuracy: 0.9710\n",
            "Epoch 16/35\n",
            "36/36 [==============================] - 72s 2s/step - loss: 0.1415 - accuracy: 0.9456 - val_loss: 0.1289 - val_accuracy: 0.9855\n",
            "Epoch 17/35\n",
            "36/36 [==============================] - 72s 2s/step - loss: 0.1343 - accuracy: 0.9500 - val_loss: 0.1052 - val_accuracy: 0.9783\n",
            "Epoch 18/35\n",
            "36/36 [==============================] - 71s 2s/step - loss: 0.1522 - accuracy: 0.9475 - val_loss: 0.1595 - val_accuracy: 0.9855\n",
            "Epoch 19/35\n",
            "36/36 [==============================] - 71s 2s/step - loss: 0.1294 - accuracy: 0.9606 - val_loss: 0.1406 - val_accuracy: 0.9855\n",
            "Epoch 20/35\n",
            "36/36 [==============================] - 71s 2s/step - loss: 0.1647 - accuracy: 0.9475 - val_loss: 0.1851 - val_accuracy: 0.9565\n",
            "Epoch 21/35\n",
            "36/36 [==============================] - 74s 2s/step - loss: 0.1230 - accuracy: 0.9556 - val_loss: 0.2092 - val_accuracy: 0.9493\n",
            "Epoch 22/35\n",
            "36/36 [==============================] - 71s 2s/step - loss: 0.1570 - accuracy: 0.9531 - val_loss: 0.2857 - val_accuracy: 0.9275\n",
            "Epoch 23/35\n",
            "36/36 [==============================] - 71s 2s/step - loss: 0.1244 - accuracy: 0.9681 - val_loss: 0.1235 - val_accuracy: 0.9855\n",
            "Epoch 24/35\n",
            "36/36 [==============================] - 71s 2s/step - loss: 0.1157 - accuracy: 0.9568 - val_loss: 0.1014 - val_accuracy: 0.9928\n",
            "Epoch 25/35\n",
            "36/36 [==============================] - 71s 2s/step - loss: 0.1334 - accuracy: 0.9475 - val_loss: 0.1038 - val_accuracy: 0.9928\n",
            "Epoch 26/35\n",
            "36/36 [==============================] - 71s 2s/step - loss: 0.1225 - accuracy: 0.9531 - val_loss: 0.2099 - val_accuracy: 0.9348\n",
            "Epoch 27/35\n",
            "36/36 [==============================] - 71s 2s/step - loss: 0.1184 - accuracy: 0.9550 - val_loss: 0.0951 - val_accuracy: 0.9783\n",
            "Epoch 28/35\n",
            "36/36 [==============================] - 71s 2s/step - loss: 0.1488 - accuracy: 0.9606 - val_loss: 0.2827 - val_accuracy: 0.9058\n",
            "Epoch 29/35\n",
            "36/36 [==============================] - 71s 2s/step - loss: 0.1122 - accuracy: 0.9550 - val_loss: 0.1045 - val_accuracy: 0.9783\n",
            "Epoch 30/35\n",
            "36/36 [==============================] - 73s 2s/step - loss: 0.1200 - accuracy: 0.9644 - val_loss: 0.4094 - val_accuracy: 0.7754\n",
            "Epoch 31/35\n",
            "36/36 [==============================] - 71s 2s/step - loss: 0.1368 - accuracy: 0.9437 - val_loss: 0.1835 - val_accuracy: 0.9783\n",
            "Epoch 32/35\n",
            "36/36 [==============================] - 71s 2s/step - loss: 0.1247 - accuracy: 0.9681 - val_loss: 0.1416 - val_accuracy: 0.9783\n",
            "Epoch 33/35\n",
            "36/36 [==============================] - 72s 2s/step - loss: 0.1185 - accuracy: 0.9550 - val_loss: 0.2336 - val_accuracy: 0.9348\n",
            "Epoch 34/35\n",
            "36/36 [==============================] - 70s 2s/step - loss: 0.1082 - accuracy: 0.9625 - val_loss: 0.2030 - val_accuracy: 0.9348\n",
            "Epoch 35/35\n",
            "36/36 [==============================] - 70s 2s/step - loss: 0.1111 - accuracy: 0.9625 - val_loss: 0.1045 - val_accuracy: 0.9710\n"
          ],
          "name": "stdout"
        }
      ]
    },
    {
      "cell_type": "code",
      "metadata": {
        "id": "MTQpXj1OrGoa",
        "colab_type": "code",
        "colab": {
          "base_uri": "https://localhost:8080/",
          "height": 199
        },
        "outputId": "d47ddde7-4161-497e-c685-157929926dc0"
      },
      "source": [
        "\n",
        "\n",
        "# make predictions on the testing set\n",
        "print(\"[INFO] evaluating network...\")\n",
        "predIdxs = model.predict(testX, batch_size=BS)\n",
        "# for each image in the testing set we need to find the index of the\n",
        "# label with corresponding largest predicted probability\n",
        "predIdxs = np.argmax(predIdxs, axis=1)\n",
        "# show a nicely formatted classification report\n",
        "print(classification_report(testY.argmax(axis=1), predIdxs,\n",
        "\ttarget_names=lb.classes_))"
      ],
      "execution_count": 32,
      "outputs": [
        {
          "output_type": "stream",
          "text": [
            "[INFO] evaluating network...\n",
            "              precision    recall  f1-score   support\n",
            "\n",
            "    infected       0.94      1.00      0.97        65\n",
            "      normal       1.00      0.95      0.97        73\n",
            "\n",
            "    accuracy                           0.97       138\n",
            "   macro avg       0.97      0.97      0.97       138\n",
            "weighted avg       0.97      0.97      0.97       138\n",
            "\n"
          ],
          "name": "stdout"
        }
      ]
    },
    {
      "cell_type": "code",
      "metadata": {
        "id": "84-rDJWTs5xr",
        "colab_type": "code",
        "colab": {
          "base_uri": "https://localhost:8080/",
          "height": 35
        },
        "outputId": "dfda746f-45b1-4c0b-e23f-87f93e1cc7b8"
      },
      "source": [
        "_, baseline_model_accuracy = model.evaluate(\n",
        "    testX, testY, verbose=0)\n",
        "\n",
        "print('Baseline test accuracy:', baseline_model_accuracy)\n",
        "\n"
      ],
      "execution_count": 33,
      "outputs": [
        {
          "output_type": "stream",
          "text": [
            "Baseline test accuracy: 0.9710144996643066\n"
          ],
          "name": "stdout"
        }
      ]
    },
    {
      "cell_type": "code",
      "metadata": {
        "id": "Po3Cchj4tCF5",
        "colab_type": "code",
        "colab": {
          "base_uri": "https://localhost:8080/",
          "height": 108
        },
        "outputId": "ce941e2f-75c1-46a6-ff93-9f6efa77b765"
      },
      "source": [
        "# compute the confusion matrix and and use it to derive the raw\n",
        "# accuracy, sensitivity, and specificity\n",
        "cm = confusion_matrix(testY.argmax(axis=1), predIdxs)\n",
        "total = sum(sum(cm))\n",
        "acc = (cm[0, 0] + cm[1, 1]) / total\n",
        "sensitivity = cm[0, 0] / (cm[0, 0] + cm[0, 1])\n",
        "specificity = cm[1, 1] / (cm[1, 0] + cm[1, 1])\n",
        "# show the confusion matrix, accuracy, sensitivity, and specificity\n",
        "print(cm)\n",
        "print(\"acc: {:.4f}\".format(acc))\n",
        "print(\"sensitivity: {:.4f}\".format(sensitivity))\n",
        "print(\"specificity: {:.4f}\".format(specificity))"
      ],
      "execution_count": 34,
      "outputs": [
        {
          "output_type": "stream",
          "text": [
            "[[65  0]\n",
            " [ 4 69]]\n",
            "acc: 0.9710\n",
            "sensitivity: 1.0000\n",
            "specificity: 0.9452\n"
          ],
          "name": "stdout"
        }
      ]
    },
    {
      "cell_type": "code",
      "metadata": {
        "id": "fSPbou5ss-Md",
        "colab_type": "code",
        "colab": {
          "base_uri": "https://localhost:8080/",
          "height": 144
        },
        "outputId": "33140634-2aa9-498f-992e-9a16eb170834"
      },
      "source": [
        "predIdxs"
      ],
      "execution_count": 35,
      "outputs": [
        {
          "output_type": "execute_result",
          "data": {
            "text/plain": [
              "array([0, 0, 1, 0, 0, 0, 0, 0, 0, 0, 0, 0, 0, 1, 0, 0, 0, 1, 1, 0, 1, 0,\n",
              "       1, 1, 1, 1, 0, 1, 1, 0, 0, 0, 1, 0, 0, 0, 0, 1, 0, 1, 0, 0, 0, 1,\n",
              "       1, 0, 1, 1, 1, 1, 1, 0, 1, 0, 0, 0, 1, 0, 0, 1, 1, 0, 1, 0, 1, 1,\n",
              "       0, 0, 1, 1, 1, 1, 1, 1, 1, 0, 0, 0, 1, 0, 0, 0, 1, 1, 1, 1, 1, 0,\n",
              "       1, 0, 1, 0, 0, 0, 1, 1, 1, 1, 1, 1, 0, 1, 1, 1, 0, 1, 0, 1, 1, 0,\n",
              "       0, 0, 0, 1, 1, 0, 1, 0, 0, 1, 0, 1, 1, 0, 1, 0, 1, 0, 0, 0, 1, 1,\n",
              "       0, 0, 1, 1, 1, 1])"
            ]
          },
          "metadata": {
            "tags": []
          },
          "execution_count": 35
        }
      ]
    },
    {
      "cell_type": "code",
      "metadata": {
        "id": "XKPg-TLgtMmu",
        "colab_type": "code",
        "colab": {
          "base_uri": "https://localhost:8080/",
          "height": 253
        },
        "outputId": "93fe718b-aa5d-47f0-ef35-76671221abd6"
      },
      "source": [
        "predict_imagePaths=['/content/Classification-of-COVID-19-chest-X-ray-images/dataset/training/normal/NORMAL2 (32).jpeg',\n",
        " '/content/Classification-of-COVID-19-chest-X-ray-images/dataset/training/normal/NORMAL2 (42).jpeg',\n",
        " '/content/Classification-of-COVID-19-chest-X-ray-images/dataset/training/normal/NORMAL2 (180).jpeg',\n",
        " '/content/Classification-of-COVID-19-chest-X-ray-images/dataset/training/normal/NORMAL2-IM-0339-0001.jpeg',\n",
        " '/content/Classification-of-COVID-19-chest-X-ray-images/dataset/training/normal/NORMAL2-IM-0019-0001.jpeg',\n",
        " '/content/Classification-of-COVID-19-chest-X-ray-images/dataset/training/normal/NORMAL2-IM-0323-0001.jpeg',\n",
        " '/content/Classification-of-COVID-19-chest-X-ray-images/dataset/training/normal/NORMAL2-IM-0370-0001.jpeg',\n",
        " '/content/Classification-of-COVID-19-chest-X-ray-images/dataset/training/infected/covid_train (79).jpg',\n",
        " '/content/Classification-of-COVID-19-chest-X-ray-images/dataset/training/infected/covid_train (28).jpeg',\n",
        " '/content/Classification-of-COVID-19-chest-X-ray-images/dataset/training/infected/covid_train (71).jpg',\n",
        " '/content/Classification-of-COVID-19-chest-X-ray-images/dataset/training/infected/covid_train11.png',\n",
        " '/content/Classification-of-COVID-19-chest-X-ray-images/dataset/training/infected/covid_train (43).jpg',\n",
        " '/content/Classification-of-COVID-19-chest-X-ray-images/dataset/training/infected/covid_train (30).jpeg']\n",
        "# loop over the image paths\n",
        "for imagePath in predict_imagePaths:\n",
        "\t# extract the class label from the filename\n",
        "#\tlabel = imagePath.split(os.path.sep)[-2]\n",
        "\t# load the image, swap color channels, and resize it to be a fixed\n",
        "\t# 224x224 pixels while ignoring aspect ratio\n",
        "  image = cv2.imread(imagePath)\n",
        "  image = cv2.cvtColor(image, cv2.COLOR_BGR2RGB)\n",
        "  image = cv2.resize(image, (224, 224))\n",
        "  img = np.array(image) / 255.0\n",
        "  img=np.reshape(img,(1,224,224,3))\n",
        "  print(model.predict(img).argmax(axis=1))\n",
        "\n"
      ],
      "execution_count": 36,
      "outputs": [
        {
          "output_type": "stream",
          "text": [
            "[1]\n",
            "[1]\n",
            "[1]\n",
            "[1]\n",
            "[1]\n",
            "[1]\n",
            "[1]\n",
            "[0]\n",
            "[0]\n",
            "[0]\n",
            "[0]\n",
            "[0]\n",
            "[0]\n"
          ],
          "name": "stdout"
        }
      ]
    },
    {
      "cell_type": "code",
      "metadata": {
        "id": "-_NgVFiStQ9T",
        "colab_type": "code",
        "colab": {}
      },
      "source": [
        ""
      ],
      "execution_count": null,
      "outputs": []
    },
    {
      "cell_type": "markdown",
      "metadata": {
        "id": "5Rn4M5lMtp_g",
        "colab_type": "text"
      },
      "source": [
        "# CNN MODEL\n",
        "optimizer=RMSprop, Epochs=35, Batch Size=15, Learning Rate=1e-3"
      ]
    },
    {
      "cell_type": "code",
      "metadata": {
        "id": "bhCXFS61t2sq",
        "colab_type": "code",
        "colab": {}
      },
      "source": [
        "model = Sequential()\n",
        "model.add(Conv2D(80, (3, 3),activation='relu', input_shape=(224, 224, 3)))\n",
        "model.add(MaxPool2D(pool_size=(2, 2)))\n",
        "model.add(Dropout(0.2))\n",
        "\n",
        "model.add(Conv2D(32, (3, 3),activation='relu'))\n",
        "model.add(MaxPool2D(pool_size=(2, 2)))\n",
        "model.add(Dropout(0.5))\n",
        "model.add(Conv2D(32, (3, 3),activation='relu'))\n",
        "\n",
        "\n",
        "model.add(Conv2D(64, (3, 3),activation='relu'))\n",
        "model.add(MaxPool2D(pool_size=(2, 2)))\n",
        "\n",
        "model.add(Flatten())\n",
        "model.add(Dense(64,activation='relu'))\n",
        "model.add(Dropout(0.5))\n",
        "\n",
        "model.add(Dense(2,activation='softmax'))"
      ],
      "execution_count": 37,
      "outputs": []
    },
    {
      "cell_type": "code",
      "metadata": {
        "id": "owbFb1IfutDf",
        "colab_type": "code",
        "colab": {}
      },
      "source": [
        "model_chkpt = ModelCheckpoint('best_mod.h5', save_best_only=True, monitor='accuracy')\n",
        "early_stopping = EarlyStopping(monitor='loss', restore_best_weights=False, patience=10)"
      ],
      "execution_count": 38,
      "outputs": []
    },
    {
      "cell_type": "code",
      "metadata": {
        "id": "yKqKFMXsvstk",
        "colab_type": "code",
        "colab": {
          "base_uri": "https://localhost:8080/",
          "height": 1000
        },
        "outputId": "6dced5eb-53b0-4272-db9c-3ab020055745"
      },
      "source": [
        "# initialize the initial learning rate, number of epochs to train for,\n",
        "# and batch size\n",
        "INIT_LR = 1e-3\n",
        "EPOCHS = 35\n",
        "BS = 15\n",
        "# compile our model\n",
        "print(\"[INFO] compiling model...\")\n",
        "opt = RMSprop(lr=INIT_LR, decay=INIT_LR / EPOCHS)\n",
        "model.compile(loss=\"binary_crossentropy\", optimizer=opt,\n",
        "\tmetrics=[\"accuracy\"])\n",
        "# train the head of the network\n",
        "print(\"[INFO] training head...\")\n",
        "H = model.fit_generator(\n",
        "\ttrainAug.flow(trainX, trainY, batch_size=BS),\n",
        "\tsteps_per_epoch=len(trainX) // BS,\n",
        "\tvalidation_data=(testX, testY),\n",
        "\tvalidation_steps=len(testX) // BS,\n",
        "\tepochs=EPOCHS,callbacks=[early_stopping,model_chkpt])"
      ],
      "execution_count": 39,
      "outputs": [
        {
          "output_type": "stream",
          "text": [
            "[INFO] compiling model...\n",
            "[INFO] training head...\n",
            "Epoch 1/35\n",
            "36/36 [==============================] - 73s 2s/step - loss: 0.8276 - accuracy: 0.6154 - val_loss: 0.5099 - val_accuracy: 0.7826\n",
            "Epoch 2/35\n",
            "36/36 [==============================] - 71s 2s/step - loss: 0.5427 - accuracy: 0.7542 - val_loss: 0.6571 - val_accuracy: 0.5290\n",
            "Epoch 3/35\n",
            "36/36 [==============================] - 71s 2s/step - loss: 0.4188 - accuracy: 0.8068 - val_loss: 0.5536 - val_accuracy: 0.9493\n",
            "Epoch 4/35\n",
            "36/36 [==============================] - 70s 2s/step - loss: 0.3062 - accuracy: 0.8856 - val_loss: 0.3141 - val_accuracy: 0.9783\n",
            "Epoch 5/35\n",
            "36/36 [==============================] - 70s 2s/step - loss: 0.3124 - accuracy: 0.8949 - val_loss: 0.6924 - val_accuracy: 0.4638\n",
            "Epoch 6/35\n",
            "36/36 [==============================] - 70s 2s/step - loss: 0.2901 - accuracy: 0.8987 - val_loss: 0.1395 - val_accuracy: 0.9783\n",
            "Epoch 7/35\n",
            "36/36 [==============================] - 70s 2s/step - loss: 0.2259 - accuracy: 0.9287 - val_loss: 0.1658 - val_accuracy: 0.9783\n",
            "Epoch 8/35\n",
            "36/36 [==============================] - 70s 2s/step - loss: 0.2171 - accuracy: 0.9250 - val_loss: 0.1320 - val_accuracy: 0.9783\n",
            "Epoch 9/35\n",
            "36/36 [==============================] - 72s 2s/step - loss: 0.1875 - accuracy: 0.9343 - val_loss: 0.1163 - val_accuracy: 0.9855\n",
            "Epoch 10/35\n",
            "36/36 [==============================] - 69s 2s/step - loss: 0.2194 - accuracy: 0.9343 - val_loss: 0.0625 - val_accuracy: 0.9928\n",
            "Epoch 11/35\n",
            "36/36 [==============================] - 69s 2s/step - loss: 0.2272 - accuracy: 0.9362 - val_loss: 0.1079 - val_accuracy: 0.9928\n",
            "Epoch 12/35\n",
            "36/36 [==============================] - 69s 2s/step - loss: 0.2147 - accuracy: 0.9343 - val_loss: 0.0619 - val_accuracy: 0.9928\n",
            "Epoch 13/35\n",
            "36/36 [==============================] - 70s 2s/step - loss: 0.1851 - accuracy: 0.9475 - val_loss: 0.0514 - val_accuracy: 0.9928\n",
            "Epoch 14/35\n",
            "36/36 [==============================] - 70s 2s/step - loss: 0.2405 - accuracy: 0.9381 - val_loss: 0.0661 - val_accuracy: 0.9855\n",
            "Epoch 15/35\n",
            "36/36 [==============================] - 70s 2s/step - loss: 0.1687 - accuracy: 0.9493 - val_loss: 0.0639 - val_accuracy: 0.9783\n",
            "Epoch 16/35\n",
            "36/36 [==============================] - 70s 2s/step - loss: 0.1860 - accuracy: 0.9418 - val_loss: 0.0524 - val_accuracy: 0.9855\n",
            "Epoch 17/35\n",
            "36/36 [==============================] - 70s 2s/step - loss: 0.1612 - accuracy: 0.9512 - val_loss: 0.0702 - val_accuracy: 0.9928\n",
            "Epoch 18/35\n",
            "36/36 [==============================] - 71s 2s/step - loss: 0.1688 - accuracy: 0.9587 - val_loss: 0.1508 - val_accuracy: 0.9638\n",
            "Epoch 19/35\n",
            "36/36 [==============================] - 69s 2s/step - loss: 0.1888 - accuracy: 0.9325 - val_loss: 0.1745 - val_accuracy: 0.9855\n",
            "Epoch 20/35\n",
            "36/36 [==============================] - 70s 2s/step - loss: 0.1285 - accuracy: 0.9606 - val_loss: 0.0287 - val_accuracy: 0.9928\n",
            "Epoch 21/35\n",
            "36/36 [==============================] - 70s 2s/step - loss: 0.1545 - accuracy: 0.9531 - val_loss: 0.0497 - val_accuracy: 0.9928\n",
            "Epoch 22/35\n",
            "36/36 [==============================] - 69s 2s/step - loss: 0.1384 - accuracy: 0.9568 - val_loss: 0.0310 - val_accuracy: 0.9928\n",
            "Epoch 23/35\n",
            "36/36 [==============================] - 70s 2s/step - loss: 0.1553 - accuracy: 0.9550 - val_loss: 0.0944 - val_accuracy: 0.9928\n",
            "Epoch 24/35\n",
            "36/36 [==============================] - 70s 2s/step - loss: 0.1509 - accuracy: 0.9625 - val_loss: 0.0634 - val_accuracy: 0.9855\n",
            "Epoch 25/35\n",
            "36/36 [==============================] - 70s 2s/step - loss: 0.1265 - accuracy: 0.9606 - val_loss: 0.0532 - val_accuracy: 0.9855\n",
            "Epoch 26/35\n",
            "36/36 [==============================] - 71s 2s/step - loss: 0.1290 - accuracy: 0.9662 - val_loss: 0.2068 - val_accuracy: 0.9130\n",
            "Epoch 27/35\n",
            "36/36 [==============================] - 70s 2s/step - loss: 0.1081 - accuracy: 0.9568 - val_loss: 0.0821 - val_accuracy: 0.9855\n",
            "Epoch 28/35\n",
            "36/36 [==============================] - 69s 2s/step - loss: 0.1215 - accuracy: 0.9606 - val_loss: 0.0511 - val_accuracy: 0.9855\n",
            "Epoch 29/35\n",
            "36/36 [==============================] - 69s 2s/step - loss: 0.1127 - accuracy: 0.9644 - val_loss: 0.0423 - val_accuracy: 0.9928\n",
            "Epoch 30/35\n",
            "36/36 [==============================] - 70s 2s/step - loss: 0.1127 - accuracy: 0.9606 - val_loss: 0.0274 - val_accuracy: 0.9855\n",
            "Epoch 31/35\n",
            "36/36 [==============================] - 69s 2s/step - loss: 0.1349 - accuracy: 0.9644 - val_loss: 0.0327 - val_accuracy: 0.9855\n",
            "Epoch 32/35\n",
            "36/36 [==============================] - 69s 2s/step - loss: 0.1376 - accuracy: 0.9625 - val_loss: 0.0552 - val_accuracy: 0.9855\n",
            "Epoch 33/35\n",
            "36/36 [==============================] - 70s 2s/step - loss: 0.1031 - accuracy: 0.9681 - val_loss: 0.0513 - val_accuracy: 0.9928\n",
            "Epoch 34/35\n",
            "36/36 [==============================] - 70s 2s/step - loss: 0.2790 - accuracy: 0.9381 - val_loss: 0.0493 - val_accuracy: 0.9928\n",
            "Epoch 35/35\n",
            "36/36 [==============================] - 71s 2s/step - loss: 0.1020 - accuracy: 0.9606 - val_loss: 0.0369 - val_accuracy: 0.9928\n"
          ],
          "name": "stdout"
        }
      ]
    },
    {
      "cell_type": "code",
      "metadata": {
        "id": "bXEgf_rUvwTf",
        "colab_type": "code",
        "colab": {
          "base_uri": "https://localhost:8080/",
          "height": 199
        },
        "outputId": "6ef63255-ecee-4e8f-de0b-32fc5c8f5442"
      },
      "source": [
        "\n",
        "\n",
        "# make predictions on the testing set\n",
        "print(\"[INFO] evaluating network...\")\n",
        "predIdxs = model.predict(testX, batch_size=BS)\n",
        "# for each image in the testing set we need to find the index of the\n",
        "# label with corresponding largest predicted probability\n",
        "predIdxs = np.argmax(predIdxs, axis=1)\n",
        "# show a nicely formatted classification report\n",
        "print(classification_report(testY.argmax(axis=1), predIdxs,\n",
        "\ttarget_names=lb.classes_))"
      ],
      "execution_count": 40,
      "outputs": [
        {
          "output_type": "stream",
          "text": [
            "[INFO] evaluating network...\n",
            "              precision    recall  f1-score   support\n",
            "\n",
            "    infected       0.98      1.00      0.99        65\n",
            "      normal       1.00      0.99      0.99        73\n",
            "\n",
            "    accuracy                           0.99       138\n",
            "   macro avg       0.99      0.99      0.99       138\n",
            "weighted avg       0.99      0.99      0.99       138\n",
            "\n"
          ],
          "name": "stdout"
        }
      ]
    },
    {
      "cell_type": "code",
      "metadata": {
        "id": "1SbqPLI-vzYd",
        "colab_type": "code",
        "colab": {
          "base_uri": "https://localhost:8080/",
          "height": 35
        },
        "outputId": "56de2ea1-d884-4af3-a1c3-ffc99d3a8936"
      },
      "source": [
        "_, baseline_model_accuracy = model.evaluate(\n",
        "    testX, testY, verbose=0)\n",
        "\n",
        "print('Baseline test accuracy:', baseline_model_accuracy)\n",
        "\n"
      ],
      "execution_count": 41,
      "outputs": [
        {
          "output_type": "stream",
          "text": [
            "Baseline test accuracy: 0.9927536249160767\n"
          ],
          "name": "stdout"
        }
      ]
    },
    {
      "cell_type": "code",
      "metadata": {
        "id": "xpIXTst6v3Yu",
        "colab_type": "code",
        "colab": {
          "base_uri": "https://localhost:8080/",
          "height": 108
        },
        "outputId": "8a0cd53c-b7fa-4399-d3a8-2f19904ced36"
      },
      "source": [
        "# compute the confusion matrix and and use it to derive the raw\n",
        "# accuracy, sensitivity, and specificity\n",
        "cm = confusion_matrix(testY.argmax(axis=1), predIdxs)\n",
        "total = sum(sum(cm))\n",
        "acc = (cm[0, 0] + cm[1, 1]) / total\n",
        "sensitivity = cm[0, 0] / (cm[0, 0] + cm[0, 1])\n",
        "specificity = cm[1, 1] / (cm[1, 0] + cm[1, 1])\n",
        "# show the confusion matrix, accuracy, sensitivity, and specificity\n",
        "print(cm)\n",
        "print(\"acc: {:.4f}\".format(acc))\n",
        "print(\"sensitivity: {:.4f}\".format(sensitivity))\n",
        "print(\"specificity: {:.4f}\".format(specificity))"
      ],
      "execution_count": 42,
      "outputs": [
        {
          "output_type": "stream",
          "text": [
            "[[65  0]\n",
            " [ 1 72]]\n",
            "acc: 0.9928\n",
            "sensitivity: 1.0000\n",
            "specificity: 0.9863\n"
          ],
          "name": "stdout"
        }
      ]
    },
    {
      "cell_type": "code",
      "metadata": {
        "id": "-sukc0HYv6Yp",
        "colab_type": "code",
        "colab": {
          "base_uri": "https://localhost:8080/",
          "height": 144
        },
        "outputId": "e937d0a5-b1c2-4e7a-8565-03a34e2b7f4a"
      },
      "source": [
        "predIdxs"
      ],
      "execution_count": 43,
      "outputs": [
        {
          "output_type": "execute_result",
          "data": {
            "text/plain": [
              "array([0, 0, 1, 0, 0, 0, 0, 0, 0, 0, 0, 0, 0, 1, 0, 0, 0, 1, 1, 0, 1, 0,\n",
              "       1, 1, 1, 1, 0, 1, 1, 0, 0, 0, 1, 0, 0, 0, 0, 1, 0, 1, 0, 1, 0, 1,\n",
              "       1, 0, 1, 1, 1, 1, 1, 0, 1, 0, 0, 0, 1, 0, 0, 1, 1, 0, 1, 0, 1, 1,\n",
              "       0, 0, 1, 1, 1, 1, 1, 1, 1, 1, 0, 0, 1, 0, 0, 0, 1, 1, 1, 1, 1, 0,\n",
              "       1, 0, 1, 0, 0, 0, 1, 1, 1, 1, 1, 1, 0, 1, 1, 1, 0, 1, 0, 1, 1, 0,\n",
              "       0, 1, 0, 1, 1, 0, 1, 0, 0, 1, 0, 1, 1, 0, 1, 0, 1, 0, 0, 0, 1, 1,\n",
              "       0, 0, 1, 1, 1, 1])"
            ]
          },
          "metadata": {
            "tags": []
          },
          "execution_count": 43
        }
      ]
    },
    {
      "cell_type": "code",
      "metadata": {
        "id": "O55qwr72v9vS",
        "colab_type": "code",
        "colab": {
          "base_uri": "https://localhost:8080/",
          "height": 253
        },
        "outputId": "ca91dda5-31c1-4cbb-b0b5-602b292fe8e0"
      },
      "source": [
        "predict_imagePaths=['/content/Classification-of-COVID-19-chest-X-ray-images/dataset/training/normal/NORMAL2 (32).jpeg',\n",
        " '/content/Classification-of-COVID-19-chest-X-ray-images/dataset/training/normal/NORMAL2 (42).jpeg',\n",
        " '/content/Classification-of-COVID-19-chest-X-ray-images/dataset/training/normal/NORMAL2 (180).jpeg',\n",
        " '/content/Classification-of-COVID-19-chest-X-ray-images/dataset/training/normal/NORMAL2-IM-0339-0001.jpeg',\n",
        " '/content/Classification-of-COVID-19-chest-X-ray-images/dataset/training/normal/NORMAL2-IM-0019-0001.jpeg',\n",
        " '/content/Classification-of-COVID-19-chest-X-ray-images/dataset/training/normal/NORMAL2-IM-0323-0001.jpeg',\n",
        " '/content/Classification-of-COVID-19-chest-X-ray-images/dataset/training/normal/NORMAL2-IM-0370-0001.jpeg',\n",
        " '/content/Classification-of-COVID-19-chest-X-ray-images/dataset/training/infected/covid_train (79).jpg',\n",
        " '/content/Classification-of-COVID-19-chest-X-ray-images/dataset/training/infected/covid_train (28).jpeg',\n",
        " '/content/Classification-of-COVID-19-chest-X-ray-images/dataset/training/infected/covid_train (71).jpg',\n",
        " '/content/Classification-of-COVID-19-chest-X-ray-images/dataset/training/infected/covid_train11.png',\n",
        " '/content/Classification-of-COVID-19-chest-X-ray-images/dataset/training/infected/covid_train (43).jpg',\n",
        " '/content/Classification-of-COVID-19-chest-X-ray-images/dataset/training/infected/covid_train (30).jpeg']\n",
        "# loop over the image paths\n",
        "for imagePath in predict_imagePaths:\n",
        "\t# extract the class label from the filename\n",
        "#\tlabel = imagePath.split(os.path.sep)[-2]\n",
        "\t# load the image, swap color channels, and resize it to be a fixed\n",
        "\t# 224x224 pixels while ignoring aspect ratio\n",
        "  image = cv2.imread(imagePath)\n",
        "  image = cv2.cvtColor(image, cv2.COLOR_BGR2RGB)\n",
        "  image = cv2.resize(image, (224, 224))\n",
        "  img = np.array(image) / 255.0\n",
        "  img=np.reshape(img,(1,224,224,3))\n",
        "  print(model.predict(img).argmax(axis=1))\n",
        "\n"
      ],
      "execution_count": 44,
      "outputs": [
        {
          "output_type": "stream",
          "text": [
            "[1]\n",
            "[1]\n",
            "[1]\n",
            "[1]\n",
            "[1]\n",
            "[1]\n",
            "[1]\n",
            "[0]\n",
            "[0]\n",
            "[0]\n",
            "[0]\n",
            "[0]\n",
            "[0]\n"
          ],
          "name": "stdout"
        }
      ]
    },
    {
      "cell_type": "code",
      "metadata": {
        "id": "M-XNcEl_wBAv",
        "colab_type": "code",
        "colab": {}
      },
      "source": [
        ""
      ],
      "execution_count": null,
      "outputs": []
    },
    {
      "cell_type": "code",
      "metadata": {
        "id": "aQZEDkReUTXw",
        "colab_type": "code",
        "colab": {}
      },
      "source": [
        ""
      ],
      "execution_count": null,
      "outputs": []
    }
  ]
}