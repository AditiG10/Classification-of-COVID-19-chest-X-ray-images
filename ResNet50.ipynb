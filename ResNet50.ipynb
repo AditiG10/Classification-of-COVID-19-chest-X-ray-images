{
  "nbformat": 4,
  "nbformat_minor": 0,
  "metadata": {
    "colab": {
      "name": "ResNet50.ipynb",
      "provenance": [],
      "authorship_tag": "ABX9TyPlz49wJfPEnYsfDayqFwCw",
      "include_colab_link": true
    },
    "kernelspec": {
      "name": "python3",
      "display_name": "Python 3"
    }
  },
  "cells": [
    {
      "cell_type": "markdown",
      "metadata": {
        "id": "view-in-github",
        "colab_type": "text"
      },
      "source": [
        "<a href=\"https://colab.research.google.com/github/AditiG10/Classification-of-COVID-19-chest-X-ray-images/blob/master/ResNet50.ipynb\" target=\"_parent\"><img src=\"https://colab.research.google.com/assets/colab-badge.svg\" alt=\"Open In Colab\"/></a>"
      ]
    },
    {
      "cell_type": "code",
      "metadata": {
        "id": "KjkKpnL2y_xs",
        "colab_type": "code",
        "colab": {
          "base_uri": "https://localhost:8080/",
          "height": 35
        },
        "outputId": "df4771d6-cdcb-4521-df35-108467a390ee"
      },
      "source": [
        "# import the necessary packages\n",
        "from tensorflow.keras.preprocessing.image import ImageDataGenerator\n",
        "from tensorflow.keras.applications import VGG16\n",
        "from tensorflow.keras.layers import AveragePooling2D\n",
        "from tensorflow.keras.layers import Dropout\n",
        "from tensorflow.keras.layers import Flatten\n",
        "from tensorflow.keras.layers import Dense\n",
        "from tensorflow.keras.layers import Input\n",
        "from tensorflow.keras.models import Model\n",
        "from tensorflow.keras.optimizers import Adam\n",
        "from tensorflow.keras.utils import to_categorical\n",
        "from sklearn.preprocessing import LabelBinarizer\n",
        "from sklearn.model_selection import train_test_split\n",
        "from sklearn.metrics import classification_report\n",
        "from sklearn.metrics import confusion_matrix\n",
        "from imutils import paths\n",
        "import matplotlib.pyplot as plt\n",
        "import numpy as np\n",
        "import argparse\n",
        "import cv2\n",
        "import os\n",
        "from keras.applications.resnet50 import ResNet50\n",
        "from keras.preprocessing import image\n",
        "from keras.applications.resnet50 import preprocess_input, decode_predictions\n",
        "import numpy as np\n"
      ],
      "execution_count": 1,
      "outputs": [
        {
          "output_type": "stream",
          "text": [
            "Using TensorFlow backend.\n"
          ],
          "name": "stderr"
        }
      ]
    },
    {
      "cell_type": "code",
      "metadata": {
        "id": "VMUbkeFz1fgs",
        "colab_type": "code",
        "colab": {
          "base_uri": "https://localhost:8080/",
          "height": 73
        },
        "outputId": "57688df8-9672-404d-cc94-3332b6f31232"
      },
      "source": [
        "import os\n",
        "import numpy as np\n",
        "import pandas as pd\n",
        "import seaborn as sns\n",
        "import matplotlib.pyplot as plt\n",
        "import matplotlib.image as mpimg\n",
        "import seaborn as sns\n",
        "from PIL import Image\n",
        "from tensorflow.keras.preprocessing import image\n",
        "from tensorflow.keras.preprocessing.image import load_img, img_to_array\n",
        "from tensorflow.keras.applications.vgg16 import preprocess_input\n",
        "from tensorflow.keras.utils import to_categorical\n",
        "from tensorflow.keras.callbacks import ModelCheckpoint, EarlyStopping\n",
        "from tensorflow.keras.models import Sequential\n",
        "from tensorflow.keras.layers import Dense, Dropout, BatchNormalization, Conv2D, MaxPool2D, Flatten\n",
        "from sklearn.metrics import classification_report, confusion_matrix, accuracy_score"
      ],
      "execution_count": 2,
      "outputs": [
        {
          "output_type": "stream",
          "text": [
            "/usr/local/lib/python3.6/dist-packages/statsmodels/tools/_testing.py:19: FutureWarning: pandas.util.testing is deprecated. Use the functions in the public API at pandas.testing instead.\n",
            "  import pandas.util.testing as tm\n"
          ],
          "name": "stderr"
        }
      ]
    },
    {
      "cell_type": "code",
      "metadata": {
        "id": "L1Cf3Fsx1hrJ",
        "colab_type": "code",
        "colab": {
          "base_uri": "https://localhost:8080/",
          "height": 126
        },
        "outputId": "d0374bf8-185e-47fc-b7ab-80e04d960df8"
      },
      "source": [
        "!git clone https://github.com/vaibhavG321/Classification-of-COVID-19-chest-X-ray-images"
      ],
      "execution_count": 3,
      "outputs": [
        {
          "output_type": "stream",
          "text": [
            "Cloning into 'Classification-of-COVID-19-chest-X-ray-images'...\n",
            "remote: Enumerating objects: 1, done.\u001b[K\n",
            "remote: Counting objects: 100% (1/1), done.\u001b[K\n",
            "remote: Total 320 (delta 0), reused 0 (delta 0), pack-reused 319\u001b[K\n",
            "Receiving objects: 100% (320/320), 80.62 MiB | 35.60 MiB/s, done.\n",
            "Resolving deltas: 100% (10/10), done.\n"
          ],
          "name": "stdout"
        }
      ]
    },
    {
      "cell_type": "code",
      "metadata": {
        "id": "KVUfr5IB1l-4",
        "colab_type": "code",
        "colab": {
          "base_uri": "https://localhost:8080/",
          "height": 35
        },
        "outputId": "c181fdfb-5cd8-487a-a6db-bef364d609bd"
      },
      "source": [
        "cd Classification-of-COVID-19-chest-X-ray-images "
      ],
      "execution_count": 4,
      "outputs": [
        {
          "output_type": "stream",
          "text": [
            "/content/Classification-of-COVID-19-chest-X-ray-images\n"
          ],
          "name": "stdout"
        }
      ]
    },
    {
      "cell_type": "code",
      "metadata": {
        "id": "6YZvLbij1q8c",
        "colab_type": "code",
        "colab": {
          "base_uri": "https://localhost:8080/",
          "height": 35
        },
        "outputId": "910fe9a9-14bf-475b-d00d-09f13f2caf0e"
      },
      "source": [
        "cd dataset"
      ],
      "execution_count": 5,
      "outputs": [
        {
          "output_type": "stream",
          "text": [
            "/content/Classification-of-COVID-19-chest-X-ray-images/dataset\n"
          ],
          "name": "stdout"
        }
      ]
    },
    {
      "cell_type": "code",
      "metadata": {
        "id": "8LvTf72x1t2R",
        "colab_type": "code",
        "colab": {
          "base_uri": "https://localhost:8080/",
          "height": 35
        },
        "outputId": "fda21c0e-cc86-4de3-b40f-fd812da2131c"
      },
      "source": [
        "cd training"
      ],
      "execution_count": 6,
      "outputs": [
        {
          "output_type": "stream",
          "text": [
            "/content/Classification-of-COVID-19-chest-X-ray-images/dataset/training\n"
          ],
          "name": "stdout"
        }
      ]
    },
    {
      "cell_type": "code",
      "metadata": {
        "id": "iyX9BBrd1zd1",
        "colab_type": "code",
        "colab": {
          "base_uri": "https://localhost:8080/",
          "height": 35
        },
        "outputId": "bf7303c5-e10c-40ce-8bbe-9b743aa6301d"
      },
      "source": [
        "!ls"
      ],
      "execution_count": 7,
      "outputs": [
        {
          "output_type": "stream",
          "text": [
            "infected  normal\n"
          ],
          "name": "stdout"
        }
      ]
    },
    {
      "cell_type": "code",
      "metadata": {
        "id": "r3mbCrSy10SC",
        "colab_type": "code",
        "colab": {}
      },
      "source": [
        "train_normal_path='/content/Classification-of-COVID-19-chest-X-ray-images/dataset/training/normal'\n",
        "train_infected_path='/content/Classification-of-COVID-19-chest-X-ray-images/dataset/training/infected'\n",
        "test_normal_path='/content/Classification-of-COVID-19-chest-X-ray-images/dataset/testing/normal'\n",
        "test_infected_path='/content/Classification-of-COVID-19-chest-X-ray-images/dataset/testing/infected'\n",
        "evaluate_normal_path='/content/Classification-of-COVID-19-chest-X-ray-images/dataset/evaluation/normal'\n",
        "evaluate_infected_path='/content/Classification-of-COVID-19-chest-X-ray-images/dataset/evaluation/infected'"
      ],
      "execution_count": 0,
      "outputs": []
    },
    {
      "cell_type": "code",
      "metadata": {
        "id": "Nbxy1bNI13bC",
        "colab_type": "code",
        "colab": {
          "base_uri": "https://localhost:8080/",
          "height": 126
        },
        "outputId": "7ec02125-d14b-4b3a-8dda-abd6a628ad33"
      },
      "source": [
        "print('train_normal cases ',len(os.listdir('/content/Classification-of-COVID-19-chest-X-ray-images/dataset/training/normal')))\n",
        "print('train_infected cases ',len(os.listdir('/content/Classification-of-COVID-19-chest-X-ray-images/dataset/training/infected')))\n",
        "print('test_normal cases ',len(os.listdir('/content/Classification-of-COVID-19-chest-X-ray-images/dataset/testing/normal')))\n",
        "print('test_infected cases ',len(os.listdir('/content/Classification-of-COVID-19-chest-X-ray-images/dataset/testing/infected')))\n",
        "print('evaluate_normal cases ',len(os.listdir('/content/Classification-of-COVID-19-chest-X-ray-images/dataset/evaluation/normal')))\n",
        "print('evaluate_infected cases ',len(os.listdir('/content/Classification-of-COVID-19-chest-X-ray-images/dataset/evaluation/infected')))"
      ],
      "execution_count": 9,
      "outputs": [
        {
          "output_type": "stream",
          "text": [
            "train_normal cases  97\n",
            "train_infected cases  90\n",
            "test_normal cases  69\n",
            "test_infected cases  25\n",
            "evaluate_normal cases  1\n",
            "evaluate_infected cases  1\n"
          ],
          "name": "stdout"
        }
      ]
    },
    {
      "cell_type": "code",
      "metadata": {
        "id": "r0YLEzJK15IZ",
        "colab_type": "code",
        "colab": {}
      },
      "source": [
        "IMAGE_SIZE = (224,224)\n",
        "DIR_NAME = '/content/Classification-of-COVID-19-chest-X-ray-images/dataset/'\n",
        "IMAGE_DIR = DIR_NAME + 'normal/'\n",
        "imagePaths=[]\n",
        "for dirname, _, filenames in os.walk(DIR_NAME):\n",
        "    for filename in filenames:\n",
        "      imagePaths.append(os.path.join(dirname, filename))"
      ],
      "execution_count": 0,
      "outputs": []
    },
    {
      "cell_type": "code",
      "metadata": {
        "id": "TQEBEMxf18Oi",
        "colab_type": "code",
        "colab": {
          "base_uri": "https://localhost:8080/",
          "height": 1000
        },
        "outputId": "740b2eb4-faa4-4cbd-d5d4-7b5eeba1c7df"
      },
      "source": [
        "imagePaths"
      ],
      "execution_count": 11,
      "outputs": [
        {
          "output_type": "execute_result",
          "data": {
            "text/plain": [
              "['/content/Classification-of-COVID-19-chest-X-ray-images/dataset/evaluation/infected/1.jpg',\n",
              " '/content/Classification-of-COVID-19-chest-X-ray-images/dataset/evaluation/normal/1.jpeg',\n",
              " '/content/Classification-of-COVID-19-chest-X-ray-images/dataset/training/infected/covid_train12.png',\n",
              " '/content/Classification-of-COVID-19-chest-X-ray-images/dataset/training/infected/covid_train15.png',\n",
              " '/content/Classification-of-COVID-19-chest-X-ray-images/dataset/training/infected/covid_train21.png',\n",
              " '/content/Classification-of-COVID-19-chest-X-ray-images/dataset/training/infected/covid_train20.jpeg',\n",
              " '/content/Classification-of-COVID-19-chest-X-ray-images/dataset/training/infected/covid_train3.jpg',\n",
              " '/content/Classification-of-COVID-19-chest-X-ray-images/dataset/training/infected/covid_train13.png',\n",
              " '/content/Classification-of-COVID-19-chest-X-ray-images/dataset/training/infected/covid_train62.png',\n",
              " '/content/Classification-of-COVID-19-chest-X-ray-images/dataset/training/infected/covid_train23.jpeg',\n",
              " '/content/Classification-of-COVID-19-chest-X-ray-images/dataset/training/infected/covid_train37.jpeg',\n",
              " '/content/Classification-of-COVID-19-chest-X-ray-images/dataset/training/infected/covid_train82.jpeg',\n",
              " '/content/Classification-of-COVID-19-chest-X-ray-images/dataset/training/infected/covid_train31.jpeg',\n",
              " '/content/Classification-of-COVID-19-chest-X-ray-images/dataset/training/infected/covid_train66.jpg',\n",
              " '/content/Classification-of-COVID-19-chest-X-ray-images/dataset/training/infected/covid_train6.jpg',\n",
              " '/content/Classification-of-COVID-19-chest-X-ray-images/dataset/training/infected/covid_train57.jpg',\n",
              " '/content/Classification-of-COVID-19-chest-X-ray-images/dataset/training/infected/covid_train77.jpeg',\n",
              " '/content/Classification-of-COVID-19-chest-X-ray-images/dataset/training/infected/covid_train69.jpg',\n",
              " '/content/Classification-of-COVID-19-chest-X-ray-images/dataset/training/infected/covid_train89.jpeg',\n",
              " '/content/Classification-of-COVID-19-chest-X-ray-images/dataset/training/infected/covid_train11.png',\n",
              " '/content/Classification-of-COVID-19-chest-X-ray-images/dataset/training/infected/covid_train84.jpeg',\n",
              " '/content/Classification-of-COVID-19-chest-X-ray-images/dataset/training/infected/covid_train73.jpeg',\n",
              " '/content/Classification-of-COVID-19-chest-X-ray-images/dataset/training/infected/covid_train52.jpg',\n",
              " '/content/Classification-of-COVID-19-chest-X-ray-images/dataset/training/infected/covid_train33.jpeg',\n",
              " '/content/Classification-of-COVID-19-chest-X-ray-images/dataset/training/infected/covid_train49.jpg',\n",
              " '/content/Classification-of-COVID-19-chest-X-ray-images/dataset/training/infected/covid_train60.png',\n",
              " '/content/Classification-of-COVID-19-chest-X-ray-images/dataset/training/infected/covid_train30.jpeg',\n",
              " '/content/Classification-of-COVID-19-chest-X-ray-images/dataset/training/infected/covid_train42.jpeg',\n",
              " '/content/Classification-of-COVID-19-chest-X-ray-images/dataset/training/infected/covid_train87.jpeg',\n",
              " '/content/Classification-of-COVID-19-chest-X-ray-images/dataset/training/infected/covid_train54.jpg',\n",
              " '/content/Classification-of-COVID-19-chest-X-ray-images/dataset/training/infected/covid_train1.jpeg',\n",
              " '/content/Classification-of-COVID-19-chest-X-ray-images/dataset/training/infected/covid_train27.jpeg',\n",
              " '/content/Classification-of-COVID-19-chest-X-ray-images/dataset/training/infected/covid_train53.png',\n",
              " '/content/Classification-of-COVID-19-chest-X-ray-images/dataset/training/infected/covid_train88.jpeg',\n",
              " '/content/Classification-of-COVID-19-chest-X-ray-images/dataset/training/infected/covid_train48.png',\n",
              " '/content/Classification-of-COVID-19-chest-X-ray-images/dataset/training/infected/covid_train28.jpeg',\n",
              " '/content/Classification-of-COVID-19-chest-X-ray-images/dataset/training/infected/covid_train45.jpeg',\n",
              " '/content/Classification-of-COVID-19-chest-X-ray-images/dataset/training/infected/covid_train4.jpg',\n",
              " '/content/Classification-of-COVID-19-chest-X-ray-images/dataset/training/infected/covid_train14.png',\n",
              " '/content/Classification-of-COVID-19-chest-X-ray-images/dataset/training/infected/covid_train34.jpeg',\n",
              " '/content/Classification-of-COVID-19-chest-X-ray-images/dataset/training/infected/covid_train86.jpeg',\n",
              " '/content/Classification-of-COVID-19-chest-X-ray-images/dataset/training/infected/covid_train56.jpg',\n",
              " '/content/Classification-of-COVID-19-chest-X-ray-images/dataset/training/infected/covid_train70.jpg',\n",
              " '/content/Classification-of-COVID-19-chest-X-ray-images/dataset/training/infected/covid_train55.jpg',\n",
              " '/content/Classification-of-COVID-19-chest-X-ray-images/dataset/training/infected/covid_train9.png',\n",
              " '/content/Classification-of-COVID-19-chest-X-ray-images/dataset/training/infected/covid_train72.png',\n",
              " '/content/Classification-of-COVID-19-chest-X-ray-images/dataset/training/infected/covid_train26.jpeg',\n",
              " '/content/Classification-of-COVID-19-chest-X-ray-images/dataset/training/infected/covid_train85.jpeg',\n",
              " '/content/Classification-of-COVID-19-chest-X-ray-images/dataset/training/infected/covid_train79.jpeg',\n",
              " '/content/Classification-of-COVID-19-chest-X-ray-images/dataset/training/infected/covid_train40.jpeg',\n",
              " '/content/Classification-of-COVID-19-chest-X-ray-images/dataset/training/infected/covid_train29.jpeg',\n",
              " '/content/Classification-of-COVID-19-chest-X-ray-images/dataset/training/infected/covid_train83.png',\n",
              " '/content/Classification-of-COVID-19-chest-X-ray-images/dataset/training/infected/covid_train32.jpeg',\n",
              " '/content/Classification-of-COVID-19-chest-X-ray-images/dataset/training/infected/covid_train68.jpg',\n",
              " '/content/Classification-of-COVID-19-chest-X-ray-images/dataset/training/infected/covid_train76.jpg',\n",
              " '/content/Classification-of-COVID-19-chest-X-ray-images/dataset/training/infected/covid_train78.jpeg',\n",
              " '/content/Classification-of-COVID-19-chest-X-ray-images/dataset/training/infected/covid_train39.jpeg',\n",
              " '/content/Classification-of-COVID-19-chest-X-ray-images/dataset/training/infected/covid_train25.jpeg',\n",
              " '/content/Classification-of-COVID-19-chest-X-ray-images/dataset/training/infected/covid_train51.png',\n",
              " '/content/Classification-of-COVID-19-chest-X-ray-images/dataset/training/infected/covid_train2.jpeg',\n",
              " '/content/Classification-of-COVID-19-chest-X-ray-images/dataset/training/infected/covid_train61.jpg',\n",
              " '/content/Classification-of-COVID-19-chest-X-ray-images/dataset/training/infected/covid_train18.png',\n",
              " '/content/Classification-of-COVID-19-chest-X-ray-images/dataset/training/infected/covid_train67.jpg',\n",
              " '/content/Classification-of-COVID-19-chest-X-ray-images/dataset/training/infected/covid_train19.jpeg',\n",
              " '/content/Classification-of-COVID-19-chest-X-ray-images/dataset/training/infected/covid_train41.jpeg',\n",
              " '/content/Classification-of-COVID-19-chest-X-ray-images/dataset/training/infected/covid_train10.png',\n",
              " '/content/Classification-of-COVID-19-chest-X-ray-images/dataset/training/infected/covid_train74.jpeg',\n",
              " '/content/Classification-of-COVID-19-chest-X-ray-images/dataset/training/infected/covid_train22.jpeg',\n",
              " '/content/Classification-of-COVID-19-chest-X-ray-images/dataset/training/infected/covid_train81.jpeg',\n",
              " '/content/Classification-of-COVID-19-chest-X-ray-images/dataset/training/infected/covid_train71.jpg',\n",
              " '/content/Classification-of-COVID-19-chest-X-ray-images/dataset/training/infected/covid_train5.jpg',\n",
              " '/content/Classification-of-COVID-19-chest-X-ray-images/dataset/training/infected/covid_train75.jpg',\n",
              " '/content/Classification-of-COVID-19-chest-X-ray-images/dataset/training/infected/covid_train47.png',\n",
              " '/content/Classification-of-COVID-19-chest-X-ray-images/dataset/training/infected/covid_train50.png',\n",
              " '/content/Classification-of-COVID-19-chest-X-ray-images/dataset/training/infected/covid_train35.jpeg',\n",
              " '/content/Classification-of-COVID-19-chest-X-ray-images/dataset/training/infected/covid_train43.jpeg',\n",
              " '/content/Classification-of-COVID-19-chest-X-ray-images/dataset/training/infected/covid_train63.jpg',\n",
              " '/content/Classification-of-COVID-19-chest-X-ray-images/dataset/training/infected/1.jpeg',\n",
              " '/content/Classification-of-COVID-19-chest-X-ray-images/dataset/training/infected/covid_train24.jpeg',\n",
              " '/content/Classification-of-COVID-19-chest-X-ray-images/dataset/training/infected/covid_train38.jpeg',\n",
              " '/content/Classification-of-COVID-19-chest-X-ray-images/dataset/training/infected/covid_train7.jpg',\n",
              " '/content/Classification-of-COVID-19-chest-X-ray-images/dataset/training/infected/covid_train17.png',\n",
              " '/content/Classification-of-COVID-19-chest-X-ray-images/dataset/training/infected/covid_train8.png',\n",
              " '/content/Classification-of-COVID-19-chest-X-ray-images/dataset/training/infected/covid_train46.png',\n",
              " '/content/Classification-of-COVID-19-chest-X-ray-images/dataset/training/infected/covid_train64.jpg',\n",
              " '/content/Classification-of-COVID-19-chest-X-ray-images/dataset/training/infected/covid_train36.jpeg',\n",
              " '/content/Classification-of-COVID-19-chest-X-ray-images/dataset/training/infected/covid_train58.png',\n",
              " '/content/Classification-of-COVID-19-chest-X-ray-images/dataset/training/infected/covid_train16.png',\n",
              " '/content/Classification-of-COVID-19-chest-X-ray-images/dataset/training/infected/covid_train59.png',\n",
              " '/content/Classification-of-COVID-19-chest-X-ray-images/dataset/training/infected/covid_train65.jpg',\n",
              " '/content/Classification-of-COVID-19-chest-X-ray-images/dataset/training/infected/covid_train44.jpeg',\n",
              " '/content/Classification-of-COVID-19-chest-X-ray-images/dataset/training/infected/covid_train80.jpeg',\n",
              " '/content/Classification-of-COVID-19-chest-X-ray-images/dataset/training/normal/NORMAL2-IM-0305-0001.jpeg',\n",
              " '/content/Classification-of-COVID-19-chest-X-ray-images/dataset/training/normal/NORMAL2-IM-0361-0001.jpeg',\n",
              " '/content/Classification-of-COVID-19-chest-X-ray-images/dataset/training/normal/NORMAL2-IM-0286-0001.jpeg',\n",
              " '/content/Classification-of-COVID-19-chest-X-ray-images/dataset/training/normal/NORMAL2-IM-0095-0001.jpeg',\n",
              " '/content/Classification-of-COVID-19-chest-X-ray-images/dataset/training/normal/NORMAL2-IM-0030-0001.jpeg',\n",
              " '/content/Classification-of-COVID-19-chest-X-ray-images/dataset/training/normal/NORMAL2-IM-0350-0001.jpeg',\n",
              " '/content/Classification-of-COVID-19-chest-X-ray-images/dataset/training/normal/NORMAL2-IM-0079-0001.jpeg',\n",
              " '/content/Classification-of-COVID-19-chest-X-ray-images/dataset/training/normal/NORMAL2-IM-0117-0001.jpeg',\n",
              " '/content/Classification-of-COVID-19-chest-X-ray-images/dataset/training/normal/NORMAL2-IM-0380-0001.jpeg',\n",
              " '/content/Classification-of-COVID-19-chest-X-ray-images/dataset/training/normal/NORMAL2-IM-0012-0001.jpeg',\n",
              " '/content/Classification-of-COVID-19-chest-X-ray-images/dataset/training/normal/NORMAL2-IM-0348-0001.jpeg',\n",
              " '/content/Classification-of-COVID-19-chest-X-ray-images/dataset/training/normal/NORMAL2-IM-0051-0001.jpeg',\n",
              " '/content/Classification-of-COVID-19-chest-X-ray-images/dataset/training/normal/NORMAL2-IM-0275-0001.jpeg',\n",
              " '/content/Classification-of-COVID-19-chest-X-ray-images/dataset/training/normal/NORMAL2-IM-0273-0001.jpeg',\n",
              " '/content/Classification-of-COVID-19-chest-X-ray-images/dataset/training/normal/NORMAL2-IM-0259-0001.jpeg',\n",
              " '/content/Classification-of-COVID-19-chest-X-ray-images/dataset/training/normal/NORMAL2-IM-0274-0001.jpeg',\n",
              " '/content/Classification-of-COVID-19-chest-X-ray-images/dataset/training/normal/NORMAL2-IM-0271-0001.jpeg',\n",
              " '/content/Classification-of-COVID-19-chest-X-ray-images/dataset/training/normal/NORMAL2-IM-0337-0001.jpeg',\n",
              " '/content/Classification-of-COVID-19-chest-X-ray-images/dataset/training/normal/NORMAL2-IM-0130-0001.jpeg',\n",
              " '/content/Classification-of-COVID-19-chest-X-ray-images/dataset/training/normal/NORMAL2-IM-0145-0001.jpeg',\n",
              " '/content/Classification-of-COVID-19-chest-X-ray-images/dataset/training/normal/NORMAL2-IM-0107-0001.jpeg',\n",
              " '/content/Classification-of-COVID-19-chest-X-ray-images/dataset/training/normal/NORMAL2-IM-0332-0001.jpeg',\n",
              " '/content/Classification-of-COVID-19-chest-X-ray-images/dataset/training/normal/NORMAL2-IM-0196-0001.jpeg',\n",
              " '/content/Classification-of-COVID-19-chest-X-ray-images/dataset/training/normal/NORMAL2-IM-0086-0001.jpeg',\n",
              " '/content/Classification-of-COVID-19-chest-X-ray-images/dataset/training/normal/NORMAL2-IM-0347-0001.jpeg',\n",
              " '/content/Classification-of-COVID-19-chest-X-ray-images/dataset/training/normal/NORMAL2-IM-0141-0001.jpeg',\n",
              " '/content/Classification-of-COVID-19-chest-X-ray-images/dataset/training/normal/NORMAL2-IM-0323-0001.jpeg',\n",
              " '/content/Classification-of-COVID-19-chest-X-ray-images/dataset/training/normal/NORMAL2-IM-0105-0001.jpeg',\n",
              " '/content/Classification-of-COVID-19-chest-X-ray-images/dataset/training/normal/NORMAL2-IM-0059-0001.jpeg',\n",
              " '/content/Classification-of-COVID-19-chest-X-ray-images/dataset/training/normal/NORMAL2-IM-0102-0001.jpeg',\n",
              " '/content/Classification-of-COVID-19-chest-X-ray-images/dataset/training/normal/NORMAL2-IM-0319-0001.jpeg',\n",
              " '/content/Classification-of-COVID-19-chest-X-ray-images/dataset/training/normal/NORMAL2-IM-0027-0001.jpeg',\n",
              " '/content/Classification-of-COVID-19-chest-X-ray-images/dataset/training/normal/NORMAL2-IM-0052-0001.jpeg',\n",
              " '/content/Classification-of-COVID-19-chest-X-ray-images/dataset/training/normal/NORMAL2-IM-0357-0001.jpeg',\n",
              " '/content/Classification-of-COVID-19-chest-X-ray-images/dataset/training/normal/NORMAL2-IM-0066-0001.jpeg',\n",
              " '/content/Classification-of-COVID-19-chest-X-ray-images/dataset/training/normal/NORMAL2-IM-0007-0001.jpeg',\n",
              " '/content/Classification-of-COVID-19-chest-X-ray-images/dataset/training/normal/NORMAL2-IM-0310-0001.jpeg',\n",
              " '/content/Classification-of-COVID-19-chest-X-ray-images/dataset/training/normal/NORMAL2-IM-0317-0001.jpeg',\n",
              " '/content/Classification-of-COVID-19-chest-X-ray-images/dataset/training/normal/NORMAL2-IM-0352-0001.jpeg',\n",
              " '/content/Classification-of-COVID-19-chest-X-ray-images/dataset/training/normal/NORMAL2-IM-0198-0001.jpeg',\n",
              " '/content/Classification-of-COVID-19-chest-X-ray-images/dataset/training/normal/NORMAL2-IM-0120-0001.jpeg',\n",
              " '/content/Classification-of-COVID-19-chest-X-ray-images/dataset/training/normal/NORMAL2-IM-0301-0001.jpeg',\n",
              " '/content/Classification-of-COVID-19-chest-X-ray-images/dataset/training/normal/NORMAL2-IM-0374-0001.jpeg',\n",
              " '/content/Classification-of-COVID-19-chest-X-ray-images/dataset/training/normal/NORMAL2-IM-0312-0001.jpeg',\n",
              " '/content/Classification-of-COVID-19-chest-X-ray-images/dataset/training/normal/NORMAL2-IM-0329-0001.jpeg',\n",
              " '/content/Classification-of-COVID-19-chest-X-ray-images/dataset/training/normal/NORMAL2-IM-0092-0001.jpeg',\n",
              " '/content/Classification-of-COVID-19-chest-X-ray-images/dataset/training/normal/NORMAL2-IM-0302-0001.jpeg',\n",
              " '/content/Classification-of-COVID-19-chest-X-ray-images/dataset/training/normal/NORMAL2-IM-0282-0001.jpeg',\n",
              " '/content/Classification-of-COVID-19-chest-X-ray-images/dataset/training/normal/NORMAL2-IM-0033-0001.jpeg',\n",
              " '/content/Classification-of-COVID-19-chest-X-ray-images/dataset/training/normal/NORMAL2-IM-0343-0001.jpeg',\n",
              " '/content/Classification-of-COVID-19-chest-X-ray-images/dataset/training/normal/NORMAL2-IM-0353-0001.jpeg',\n",
              " '/content/Classification-of-COVID-19-chest-X-ray-images/dataset/training/normal/NORMAL2-IM-0359-0001.jpeg',\n",
              " '/content/Classification-of-COVID-19-chest-X-ray-images/dataset/training/normal/NORMAL2-IM-0307-0001.jpeg',\n",
              " '/content/Classification-of-COVID-19-chest-X-ray-images/dataset/training/normal/NORMAL2-IM-0023-0001.jpeg',\n",
              " '/content/Classification-of-COVID-19-chest-X-ray-images/dataset/training/normal/NORMAL2-IM-0370-0001.jpeg',\n",
              " '/content/Classification-of-COVID-19-chest-X-ray-images/dataset/training/normal/NORMAL2-IM-0207-0001.jpeg',\n",
              " '/content/Classification-of-COVID-19-chest-X-ray-images/dataset/training/normal/NORMAL2-IM-0251-0001.jpeg',\n",
              " '/content/Classification-of-COVID-19-chest-X-ray-images/dataset/training/normal/NORMAL2-IM-0289-0001.jpeg',\n",
              " '/content/Classification-of-COVID-19-chest-X-ray-images/dataset/training/normal/NORMAL2-IM-0058-0001.jpeg',\n",
              " '/content/Classification-of-COVID-19-chest-X-ray-images/dataset/training/normal/NORMAL2-IM-0331-0001.jpeg',\n",
              " '/content/Classification-of-COVID-19-chest-X-ray-images/dataset/training/normal/NORMAL2-IM-0029-0001.jpeg',\n",
              " '/content/Classification-of-COVID-19-chest-X-ray-images/dataset/training/normal/NORMAL2-IM-0287-0001.jpeg',\n",
              " '/content/Classification-of-COVID-19-chest-X-ray-images/dataset/training/normal/NORMAL2-IM-0292-0001.jpeg',\n",
              " '/content/Classification-of-COVID-19-chest-X-ray-images/dataset/training/normal/NORMAL2-IM-0072-0001.jpeg',\n",
              " '/content/Classification-of-COVID-19-chest-X-ray-images/dataset/training/normal/NORMAL2-IM-0333-0001.jpeg',\n",
              " '/content/Classification-of-COVID-19-chest-X-ray-images/dataset/training/normal/NORMAL2-IM-0281-0001.jpeg',\n",
              " '/content/Classification-of-COVID-19-chest-X-ray-images/dataset/training/normal/NORMAL2-IM-0381-0001.jpeg',\n",
              " '/content/Classification-of-COVID-19-chest-X-ray-images/dataset/training/normal/NORMAL2-IM-0339-0001.jpeg',\n",
              " '/content/Classification-of-COVID-19-chest-X-ray-images/dataset/training/normal/NORMAL2-IM-0213-0001.jpeg',\n",
              " '/content/Classification-of-COVID-19-chest-X-ray-images/dataset/training/normal/NORMAL2-IM-0019-0001.jpeg',\n",
              " '/content/Classification-of-COVID-19-chest-X-ray-images/dataset/training/normal/NORMAL2-IM-0345-0001.jpeg',\n",
              " '/content/Classification-of-COVID-19-chest-X-ray-images/dataset/training/normal/NORMAL2-IM-0321-0001.jpeg',\n",
              " '/content/Classification-of-COVID-19-chest-X-ray-images/dataset/training/normal/NORMAL2-IM-0060-0001.jpeg',\n",
              " '/content/Classification-of-COVID-19-chest-X-ray-images/dataset/training/normal/NORMAL2-IM-0129-0001.jpeg',\n",
              " '/content/Classification-of-COVID-19-chest-X-ray-images/dataset/training/normal/NORMAL2-IM-0096-0001.jpeg',\n",
              " '/content/Classification-of-COVID-19-chest-X-ray-images/dataset/training/normal/NORMAL2-IM-0368-0001.jpeg',\n",
              " '/content/Classification-of-COVID-19-chest-X-ray-images/dataset/training/normal/NORMAL2-IM-0135-0001.jpeg',\n",
              " '/content/Classification-of-COVID-19-chest-X-ray-images/dataset/training/normal/NORMAL2-IM-0112-0001.jpeg',\n",
              " '/content/Classification-of-COVID-19-chest-X-ray-images/dataset/training/normal/NORMAL2-IM-0311-0001.jpeg',\n",
              " '/content/Classification-of-COVID-19-chest-X-ray-images/dataset/training/normal/NORMAL2-IM-0372-0001.jpeg',\n",
              " '/content/Classification-of-COVID-19-chest-X-ray-images/dataset/training/normal/1.jpeg',\n",
              " '/content/Classification-of-COVID-19-chest-X-ray-images/dataset/training/normal/NORMAL2-IM-0201-0001.jpeg',\n",
              " '/content/Classification-of-COVID-19-chest-X-ray-images/dataset/training/normal/NORMAL2-IM-0132-0001.jpeg',\n",
              " '/content/Classification-of-COVID-19-chest-X-ray-images/dataset/training/normal/NORMAL2-IM-0013-0001.jpeg',\n",
              " '/content/Classification-of-COVID-19-chest-X-ray-images/dataset/training/normal/NORMAL2-IM-0276-0001.jpeg',\n",
              " '/content/Classification-of-COVID-19-chest-X-ray-images/dataset/training/normal/NORMAL2-IM-0111-0001.jpeg',\n",
              " '/content/Classification-of-COVID-19-chest-X-ray-images/dataset/training/normal/NORMAL2-IM-0341-0001.jpeg',\n",
              " '/content/Classification-of-COVID-19-chest-X-ray-images/dataset/training/normal/NORMAL2-IM-0374-0001-0001.jpeg',\n",
              " '/content/Classification-of-COVID-19-chest-X-ray-images/dataset/training/normal/NORMAL2-IM-0028-0001.jpeg',\n",
              " '/content/Classification-of-COVID-19-chest-X-ray-images/dataset/training/normal/NORMAL2-IM-0300-0001.jpeg',\n",
              " '/content/Classification-of-COVID-19-chest-X-ray-images/dataset/training/normal/NORMAL2-IM-0278-0001.jpeg',\n",
              " '/content/Classification-of-COVID-19-chest-X-ray-images/dataset/training/normal/NORMAL2-IM-0073-0001.jpeg',\n",
              " '/content/Classification-of-COVID-19-chest-X-ray-images/dataset/training/normal/NORMAL2-IM-0277-0001.jpeg',\n",
              " '/content/Classification-of-COVID-19-chest-X-ray-images/dataset/training/normal/NORMAL2-IM-0297-0001.jpeg',\n",
              " '/content/Classification-of-COVID-19-chest-X-ray-images/dataset/training/normal/NORMAL2-IM-0110-0001.jpeg',\n",
              " '/content/Classification-of-COVID-19-chest-X-ray-images/dataset/training/normal/NORMAL2-IM-0309-0001.jpeg',\n",
              " '/content/Classification-of-COVID-19-chest-X-ray-images/dataset/training/normal/NORMAL2-IM-0081-0001.jpeg',\n",
              " '/content/Classification-of-COVID-19-chest-X-ray-images/dataset/testing/infected/covid-19-pneumonia-44-day-0.jpeg',\n",
              " '/content/Classification-of-COVID-19-chest-X-ray-images/dataset/testing/infected/covid-19-pneumonia-mild.JPG',\n",
              " '/content/Classification-of-COVID-19-chest-X-ray-images/dataset/testing/infected/kjr-21-e24-g002-l-a.jpg',\n",
              " '/content/Classification-of-COVID-19-chest-X-ray-images/dataset/testing/infected/covid-19-pneumonia-20-pa-on-admission.jpg',\n",
              " '/content/Classification-of-COVID-19-chest-X-ray-images/dataset/testing/infected/covid-19-pneumonia-evolution-over-a-week-1-day0-PA.jpg',\n",
              " '/content/Classification-of-COVID-19-chest-X-ray-images/dataset/testing/infected/80446565-E090-4187-A031-9D3CEAA586C8.jpeg',\n",
              " '/content/Classification-of-COVID-19-chest-X-ray-images/dataset/testing/infected/kjr-21-e25-g001-l-a.jpg',\n",
              " '/content/Classification-of-COVID-19-chest-X-ray-images/dataset/testing/infected/covid-19-pneumonia-67.jpeg',\n",
              " '/content/Classification-of-COVID-19-chest-X-ray-images/dataset/testing/infected/all14238-fig-0001-m-c.jpg',\n",
              " '/content/Classification-of-COVID-19-chest-X-ray-images/dataset/testing/infected/kjr-21-e24-g001-l-a.jpg',\n",
              " '/content/Classification-of-COVID-19-chest-X-ray-images/dataset/testing/infected/41591_2020_819_Fig1_HTML.webp-day10.png',\n",
              " '/content/Classification-of-COVID-19-chest-X-ray-images/dataset/testing/infected/gr1_lrg-a.jpg',\n",
              " '/content/Classification-of-COVID-19-chest-X-ray-images/dataset/testing/infected/kjr-21-e24-g003-l-a.jpg',\n",
              " '/content/Classification-of-COVID-19-chest-X-ray-images/dataset/testing/infected/covid-19-pneumonia-8.jpg',\n",
              " '/content/Classification-of-COVID-19-chest-X-ray-images/dataset/testing/infected/F2DE909F-E19C-4900-92F5-8F435B031AC6.jpeg',\n",
              " '/content/Classification-of-COVID-19-chest-X-ray-images/dataset/testing/infected/1.jpg',\n",
              " '/content/Classification-of-COVID-19-chest-X-ray-images/dataset/testing/infected/58cb9263f16e94305c730685358e4e_jumbo.jpeg',\n",
              " '/content/Classification-of-COVID-19-chest-X-ray-images/dataset/testing/infected/1-s2.0-S1684118220300608-main.pdf-002.jpg',\n",
              " '/content/Classification-of-COVID-19-chest-X-ray-images/dataset/testing/infected/nCoV-radiol.2020200269.fig1-day7.jpeg',\n",
              " '/content/Classification-of-COVID-19-chest-X-ray-images/dataset/testing/infected/41591_2020_819_Fig1_HTML.webp-day5.png',\n",
              " '/content/Classification-of-COVID-19-chest-X-ray-images/dataset/testing/infected/all14238-fig-0001-m-b.jpg',\n",
              " '/content/Classification-of-COVID-19-chest-X-ray-images/dataset/testing/infected/4e43e48d52c9e2d4c6c1fb9bc1544f_jumbo.jpeg',\n",
              " '/content/Classification-of-COVID-19-chest-X-ray-images/dataset/testing/infected/covid-19-pneumonia-53.jpg',\n",
              " '/content/Classification-of-COVID-19-chest-X-ray-images/dataset/testing/infected/31BA3780-2323-493F-8AED-62081B9C383B.jpeg',\n",
              " '/content/Classification-of-COVID-19-chest-X-ray-images/dataset/testing/infected/gr1_lrg-b.jpg',\n",
              " '/content/Classification-of-COVID-19-chest-X-ray-images/dataset/testing/normal/NORMAL2-IM-0346-0001.jpeg',\n",
              " '/content/Classification-of-COVID-19-chest-X-ray-images/dataset/testing/normal/NORMAL2-IM-0315-0001.jpeg',\n",
              " '/content/Classification-of-COVID-19-chest-X-ray-images/dataset/testing/normal/NORMAL2-IM-0294-0001.jpeg',\n",
              " '/content/Classification-of-COVID-19-chest-X-ray-images/dataset/testing/normal/NORMAL2-IM-0139-0001.jpeg',\n",
              " '/content/Classification-of-COVID-19-chest-X-ray-images/dataset/testing/normal/NORMAL2-IM-0217-0001.jpeg',\n",
              " '/content/Classification-of-COVID-19-chest-X-ray-images/dataset/testing/normal/NORMAL2-IM-0304-0001.jpeg',\n",
              " '/content/Classification-of-COVID-19-chest-X-ray-images/dataset/testing/normal/NORMAL2-IM-0252-0001.jpeg',\n",
              " '/content/Classification-of-COVID-19-chest-X-ray-images/dataset/testing/normal/NORMAL2-IM-0369-0001.jpeg',\n",
              " '/content/Classification-of-COVID-19-chest-X-ray-images/dataset/testing/normal/NORMAL2-IM-0354-0001.jpeg',\n",
              " '/content/Classification-of-COVID-19-chest-X-ray-images/dataset/testing/normal/NORMAL2-IM-0280-0001.jpeg',\n",
              " '/content/Classification-of-COVID-19-chest-X-ray-images/dataset/testing/normal/NORMAL2-IM-0195-0001.jpeg',\n",
              " '/content/Classification-of-COVID-19-chest-X-ray-images/dataset/testing/normal/NORMAL2-IM-0222-0001.jpeg',\n",
              " '/content/Classification-of-COVID-19-chest-X-ray-images/dataset/testing/normal/NORMAL2-IM-0241-0001.jpeg',\n",
              " '/content/Classification-of-COVID-19-chest-X-ray-images/dataset/testing/normal/NORMAL2-IM-0327-0001.jpeg',\n",
              " '/content/Classification-of-COVID-19-chest-X-ray-images/dataset/testing/normal/NORMAL2-IM-0246-0001.jpeg',\n",
              " '/content/Classification-of-COVID-19-chest-X-ray-images/dataset/testing/normal/NORMAL2-IM-0045-0001.jpeg',\n",
              " '/content/Classification-of-COVID-19-chest-X-ray-images/dataset/testing/normal/NORMAL2-IM-0285-0001.jpeg',\n",
              " '/content/Classification-of-COVID-19-chest-X-ray-images/dataset/testing/normal/NORMAL2-IM-0376-0001.jpeg',\n",
              " '/content/Classification-of-COVID-19-chest-X-ray-images/dataset/testing/normal/NORMAL2-IM-0173-0001-0001.jpeg',\n",
              " '/content/Classification-of-COVID-19-chest-X-ray-images/dataset/testing/normal/NORMAL2-IM-0098-0001.jpeg',\n",
              " '/content/Classification-of-COVID-19-chest-X-ray-images/dataset/testing/normal/NORMAL2-IM-0123-0001.jpeg',\n",
              " '/content/Classification-of-COVID-19-chest-X-ray-images/dataset/testing/normal/NORMAL2-IM-0246-0001-0001.jpeg',\n",
              " '/content/Classification-of-COVID-19-chest-X-ray-images/dataset/testing/normal/NORMAL2-IM-0378-0001.jpeg',\n",
              " '/content/Classification-of-COVID-19-chest-X-ray-images/dataset/testing/normal/NORMAL2-IM-0237-0001.jpeg',\n",
              " '/content/Classification-of-COVID-19-chest-X-ray-images/dataset/testing/normal/NORMAL2-IM-0173-0001-0002.jpeg',\n",
              " '/content/Classification-of-COVID-19-chest-X-ray-images/dataset/testing/normal/NORMAL2-IM-0330-0001.jpeg',\n",
              " '/content/Classification-of-COVID-19-chest-X-ray-images/dataset/testing/normal/NORMAL2-IM-0338-0001.jpeg',\n",
              " '/content/Classification-of-COVID-19-chest-X-ray-images/dataset/testing/normal/NORMAL2-IM-0336-0001.jpeg',\n",
              " '/content/Classification-of-COVID-19-chest-X-ray-images/dataset/testing/normal/NORMAL2-IM-0171-0001.jpeg',\n",
              " '/content/Classification-of-COVID-19-chest-X-ray-images/dataset/testing/normal/NORMAL2-IM-0349-0001.jpeg',\n",
              " '/content/Classification-of-COVID-19-chest-X-ray-images/dataset/testing/normal/NORMAL2-IM-0256-0001.jpeg',\n",
              " '/content/Classification-of-COVID-19-chest-X-ray-images/dataset/testing/normal/NORMAL2-IM-0206-0001.jpeg',\n",
              " '/content/Classification-of-COVID-19-chest-X-ray-images/dataset/testing/normal/NORMAL2-IM-0272-0001.jpeg',\n",
              " '/content/Classification-of-COVID-19-chest-X-ray-images/dataset/testing/normal/NORMAL2-IM-0360-0001.jpeg',\n",
              " '/content/Classification-of-COVID-19-chest-X-ray-images/dataset/testing/normal/NORMAL2-IM-0249-0001.jpeg',\n",
              " '/content/Classification-of-COVID-19-chest-X-ray-images/dataset/testing/normal/NORMAL2-IM-0364-0001.jpeg',\n",
              " '/content/Classification-of-COVID-19-chest-X-ray-images/dataset/testing/normal/NORMAL2-IM-0150-0001.jpeg',\n",
              " '/content/Classification-of-COVID-19-chest-X-ray-images/dataset/testing/normal/NORMAL2-IM-0221-0001.jpeg',\n",
              " '/content/Classification-of-COVID-19-chest-X-ray-images/dataset/testing/normal/NORMAL2-IM-0373-0001.jpeg',\n",
              " '/content/Classification-of-COVID-19-chest-X-ray-images/dataset/testing/normal/NORMAL2-IM-0374-0001-0002.jpeg',\n",
              " '/content/Classification-of-COVID-19-chest-X-ray-images/dataset/testing/normal/NORMAL2-IM-0283-0001.jpeg',\n",
              " '/content/Classification-of-COVID-19-chest-X-ray-images/dataset/testing/normal/NORMAL2-IM-0219-0001.jpeg',\n",
              " '/content/Classification-of-COVID-19-chest-X-ray-images/dataset/testing/normal/NORMAL2-IM-0041-0001.jpeg',\n",
              " '/content/Classification-of-COVID-19-chest-X-ray-images/dataset/testing/normal/NORMAL2-IM-0246-0001-0002.jpeg',\n",
              " '/content/Classification-of-COVID-19-chest-X-ray-images/dataset/testing/normal/NORMAL2-IM-0326-0001.jpeg',\n",
              " '/content/Classification-of-COVID-19-chest-X-ray-images/dataset/testing/normal/NORMAL2-IM-0146-0001.jpeg',\n",
              " '/content/Classification-of-COVID-19-chest-X-ray-images/dataset/testing/normal/NORMAL2-IM-0199-0001.jpeg',\n",
              " '/content/Classification-of-COVID-19-chest-X-ray-images/dataset/testing/normal/NORMAL2-IM-0313-0001.jpeg',\n",
              " '/content/Classification-of-COVID-19-chest-X-ray-images/dataset/testing/normal/NORMAL2-IM-0238-0001.jpeg',\n",
              " '/content/Classification-of-COVID-19-chest-X-ray-images/dataset/testing/normal/NORMAL2-IM-0131-0001.jpeg',\n",
              " '/content/Classification-of-COVID-19-chest-X-ray-images/dataset/testing/normal/NORMAL2-IM-0303-0001.jpeg',\n",
              " '/content/Classification-of-COVID-19-chest-X-ray-images/dataset/testing/normal/NORMAL2-IM-0229-0001.jpeg',\n",
              " '/content/Classification-of-COVID-19-chest-X-ray-images/dataset/testing/normal/NORMAL2-IM-0210-0001.jpeg',\n",
              " '/content/Classification-of-COVID-19-chest-X-ray-images/dataset/testing/normal/NORMAL2-IM-0351-0001.jpeg',\n",
              " '/content/Classification-of-COVID-19-chest-X-ray-images/dataset/testing/normal/NORMAL2-IM-0322-0001.jpeg',\n",
              " '/content/Classification-of-COVID-19-chest-X-ray-images/dataset/testing/normal/1.jpeg',\n",
              " '/content/Classification-of-COVID-19-chest-X-ray-images/dataset/testing/normal/NORMAL2-IM-0290-0001.jpeg',\n",
              " '/content/Classification-of-COVID-19-chest-X-ray-images/dataset/testing/normal/NORMAL2-IM-0335-0001.jpeg',\n",
              " '/content/Classification-of-COVID-19-chest-X-ray-images/dataset/testing/normal/NORMAL2-IM-0233-0001.jpeg',\n",
              " '/content/Classification-of-COVID-19-chest-X-ray-images/dataset/testing/normal/NORMAL2-IM-0267-0001.jpeg',\n",
              " '/content/Classification-of-COVID-19-chest-X-ray-images/dataset/testing/normal/NORMAL2-IM-0366-0001.jpeg',\n",
              " '/content/Classification-of-COVID-19-chest-X-ray-images/dataset/testing/normal/NORMAL2-IM-0340-0001.jpeg',\n",
              " '/content/Classification-of-COVID-19-chest-X-ray-images/dataset/testing/normal/NORMAL2-IM-0288-0001.jpeg',\n",
              " '/content/Classification-of-COVID-19-chest-X-ray-images/dataset/testing/normal/NORMAL2-IM-0232-0001.jpeg',\n",
              " '/content/Classification-of-COVID-19-chest-X-ray-images/dataset/testing/normal/NORMAL2-IM-0328-0001.jpeg',\n",
              " '/content/Classification-of-COVID-19-chest-X-ray-images/dataset/testing/normal/NORMAL2-IM-0362-0001.jpeg',\n",
              " '/content/Classification-of-COVID-19-chest-X-ray-images/dataset/testing/normal/NORMAL2-IM-0325-0001.jpeg',\n",
              " '/content/Classification-of-COVID-19-chest-X-ray-images/dataset/testing/normal/NORMAL2-IM-0316-0001.jpeg',\n",
              " '/content/Classification-of-COVID-19-chest-X-ray-images/dataset/testing/normal/NORMAL2-IM-0279-0001.jpeg']"
            ]
          },
          "metadata": {
            "tags": []
          },
          "execution_count": 11
        }
      ]
    },
    {
      "cell_type": "code",
      "metadata": {
        "id": "WyUXrrJV1-Ix",
        "colab_type": "code",
        "colab": {}
      },
      "source": [
        "data = []\n",
        "labels = []\n",
        "# loop over the image paths\n",
        "for imagePath in imagePaths:\n",
        "\t# extract the class label from the filename\n",
        "\tlabel = imagePath.split(os.path.sep)[-2]\n",
        "\t# load the image, swap color channels, and resize it to be a fixed\n",
        "\t# 224x224 pixels while ignoring aspect ratio\n",
        "\timage = cv2.imread(imagePath)\n",
        "\timage = cv2.cvtColor(image, cv2.COLOR_BGR2RGB)\n",
        "\timage = cv2.resize(image, (224, 224))\n",
        "\t# update the data and labels lists, respectively\n",
        "\tdata.append(image)\n",
        "\tlabels.append(label)\n",
        "# convert the data and labels to NumPy arrays while scaling the pixel\n",
        "# intensities to the range [0, 1]\n",
        "data = np.array(data) / 255.0\n",
        "labels = np.array(labels)"
      ],
      "execution_count": 0,
      "outputs": []
    },
    {
      "cell_type": "code",
      "metadata": {
        "id": "DiS4OQP62Aor",
        "colab_type": "code",
        "colab": {
          "base_uri": "https://localhost:8080/",
          "height": 35
        },
        "outputId": "192b1be2-8723-40b3-d3b3-3ba790f90acc"
      },
      "source": [
        "data.shape"
      ],
      "execution_count": 13,
      "outputs": [
        {
          "output_type": "execute_result",
          "data": {
            "text/plain": [
              "(283, 224, 224, 3)"
            ]
          },
          "metadata": {
            "tags": []
          },
          "execution_count": 13
        }
      ]
    },
    {
      "cell_type": "code",
      "metadata": {
        "id": "JQP_pHeD2Hz1",
        "colab_type": "code",
        "colab": {
          "base_uri": "https://localhost:8080/",
          "height": 944
        },
        "outputId": "2a017013-9888-4391-fd99-270d3934d782"
      },
      "source": [
        "labels"
      ],
      "execution_count": 14,
      "outputs": [
        {
          "output_type": "execute_result",
          "data": {
            "text/plain": [
              "array(['infected', 'normal', 'infected', 'infected', 'infected',\n",
              "       'infected', 'infected', 'infected', 'infected', 'infected',\n",
              "       'infected', 'infected', 'infected', 'infected', 'infected',\n",
              "       'infected', 'infected', 'infected', 'infected', 'infected',\n",
              "       'infected', 'infected', 'infected', 'infected', 'infected',\n",
              "       'infected', 'infected', 'infected', 'infected', 'infected',\n",
              "       'infected', 'infected', 'infected', 'infected', 'infected',\n",
              "       'infected', 'infected', 'infected', 'infected', 'infected',\n",
              "       'infected', 'infected', 'infected', 'infected', 'infected',\n",
              "       'infected', 'infected', 'infected', 'infected', 'infected',\n",
              "       'infected', 'infected', 'infected', 'infected', 'infected',\n",
              "       'infected', 'infected', 'infected', 'infected', 'infected',\n",
              "       'infected', 'infected', 'infected', 'infected', 'infected',\n",
              "       'infected', 'infected', 'infected', 'infected', 'infected',\n",
              "       'infected', 'infected', 'infected', 'infected', 'infected',\n",
              "       'infected', 'infected', 'infected', 'infected', 'infected',\n",
              "       'infected', 'infected', 'infected', 'infected', 'infected',\n",
              "       'infected', 'infected', 'infected', 'infected', 'infected',\n",
              "       'infected', 'infected', 'normal', 'normal', 'normal', 'normal',\n",
              "       'normal', 'normal', 'normal', 'normal', 'normal', 'normal',\n",
              "       'normal', 'normal', 'normal', 'normal', 'normal', 'normal',\n",
              "       'normal', 'normal', 'normal', 'normal', 'normal', 'normal',\n",
              "       'normal', 'normal', 'normal', 'normal', 'normal', 'normal',\n",
              "       'normal', 'normal', 'normal', 'normal', 'normal', 'normal',\n",
              "       'normal', 'normal', 'normal', 'normal', 'normal', 'normal',\n",
              "       'normal', 'normal', 'normal', 'normal', 'normal', 'normal',\n",
              "       'normal', 'normal', 'normal', 'normal', 'normal', 'normal',\n",
              "       'normal', 'normal', 'normal', 'normal', 'normal', 'normal',\n",
              "       'normal', 'normal', 'normal', 'normal', 'normal', 'normal',\n",
              "       'normal', 'normal', 'normal', 'normal', 'normal', 'normal',\n",
              "       'normal', 'normal', 'normal', 'normal', 'normal', 'normal',\n",
              "       'normal', 'normal', 'normal', 'normal', 'normal', 'normal',\n",
              "       'normal', 'normal', 'normal', 'normal', 'normal', 'normal',\n",
              "       'normal', 'normal', 'normal', 'normal', 'normal', 'normal',\n",
              "       'normal', 'normal', 'normal', 'infected', 'infected', 'infected',\n",
              "       'infected', 'infected', 'infected', 'infected', 'infected',\n",
              "       'infected', 'infected', 'infected', 'infected', 'infected',\n",
              "       'infected', 'infected', 'infected', 'infected', 'infected',\n",
              "       'infected', 'infected', 'infected', 'infected', 'infected',\n",
              "       'infected', 'infected', 'normal', 'normal', 'normal', 'normal',\n",
              "       'normal', 'normal', 'normal', 'normal', 'normal', 'normal',\n",
              "       'normal', 'normal', 'normal', 'normal', 'normal', 'normal',\n",
              "       'normal', 'normal', 'normal', 'normal', 'normal', 'normal',\n",
              "       'normal', 'normal', 'normal', 'normal', 'normal', 'normal',\n",
              "       'normal', 'normal', 'normal', 'normal', 'normal', 'normal',\n",
              "       'normal', 'normal', 'normal', 'normal', 'normal', 'normal',\n",
              "       'normal', 'normal', 'normal', 'normal', 'normal', 'normal',\n",
              "       'normal', 'normal', 'normal', 'normal', 'normal', 'normal',\n",
              "       'normal', 'normal', 'normal', 'normal', 'normal', 'normal',\n",
              "       'normal', 'normal', 'normal', 'normal', 'normal', 'normal',\n",
              "       'normal', 'normal', 'normal', 'normal', 'normal'], dtype='<U8')"
            ]
          },
          "metadata": {
            "tags": []
          },
          "execution_count": 14
        }
      ]
    },
    {
      "cell_type": "code",
      "metadata": {
        "id": "JIYAhtBF2J-C",
        "colab_type": "code",
        "colab": {}
      },
      "source": [
        "# perform one-hot encoding on the labels\n",
        "lb = LabelBinarizer()\n",
        "labels = lb.fit_transform(labels)\n",
        "labels = to_categorical(labels)\n",
        "# partition the data into training and testing splits using 80% of\n",
        "# the data for training and the remaining 20% for testing\n",
        "(trainX, testX, trainY, testY) = train_test_split(data, labels,\n",
        "\ttest_size=0.20, stratify=labels, random_state=42)\n",
        "# initialize the training data augmentation object\n",
        "trainAug = ImageDataGenerator(shear_range=0.2,\n",
        "    zoom_range=0.2,\n",
        "    horizontal_flip=True,\trotation_range=15,\n",
        "\tfill_mode=\"nearest\")"
      ],
      "execution_count": 0,
      "outputs": []
    },
    {
      "cell_type": "code",
      "metadata": {
        "id": "HtUlmHT72M18",
        "colab_type": "code",
        "colab": {
          "base_uri": "https://localhost:8080/",
          "height": 35
        },
        "outputId": "3834a765-4b8c-457c-892a-8e56d56b90a8"
      },
      "source": [
        "trainAug"
      ],
      "execution_count": 16,
      "outputs": [
        {
          "output_type": "execute_result",
          "data": {
            "text/plain": [
              "<tensorflow.python.keras.preprocessing.image.ImageDataGenerator at 0x7ff6237370f0>"
            ]
          },
          "metadata": {
            "tags": []
          },
          "execution_count": 16
        }
      ]
    },
    {
      "cell_type": "code",
      "metadata": {
        "id": "aEuOPqN72O6C",
        "colab_type": "code",
        "colab": {
          "base_uri": "https://localhost:8080/",
          "height": 35
        },
        "outputId": "f80dd4be-d13d-41cb-8e9d-dcea78e44940"
      },
      "source": [
        "trainX.shape,testX.shape,trainY.shape,testY.shape"
      ],
      "execution_count": 17,
      "outputs": [
        {
          "output_type": "execute_result",
          "data": {
            "text/plain": [
              "((226, 224, 224, 3), (57, 224, 224, 3), (226, 2), (57, 2))"
            ]
          },
          "metadata": {
            "tags": []
          },
          "execution_count": 17
        }
      ]
    },
    {
      "cell_type": "markdown",
      "metadata": {
        "id": "M8fLJ-Q_2qE9",
        "colab_type": "text"
      },
      "source": [
        "**RESNET50**"
      ]
    },
    {
      "cell_type": "code",
      "metadata": {
        "id": "q6_hs6RX2uLx",
        "colab_type": "code",
        "colab": {}
      },
      "source": [
        "from tensorflow.keras.preprocessing.image import ImageDataGenerator\n",
        "from tensorflow.keras.applications import VGG16,ResNet50\n",
        "from tensorflow.keras.layers import AveragePooling2D\n",
        "from tensorflow.keras.layers import Dropout\n",
        "from tensorflow.keras.layers import Flatten\n",
        "from tensorflow.keras.layers import Dense\n",
        "from tensorflow.keras.layers import Input\n",
        "from tensorflow.keras.models import Model\n",
        "from tensorflow.keras.optimizers import Adam\n",
        "from tensorflow.keras.utils import to_categorical\n",
        "from sklearn.preprocessing import LabelBinarizer\n",
        "from sklearn.model_selection import train_test_split"
      ],
      "execution_count": 0,
      "outputs": []
    },
    {
      "cell_type": "code",
      "metadata": {
        "id": "jy7gD0PT2xrq",
        "colab_type": "code",
        "colab": {
          "base_uri": "https://localhost:8080/",
          "height": 53
        },
        "outputId": "5ae6152b-c21d-4902-cd2f-12fbc66afbe9"
      },
      "source": [
        "baseModel = ResNet50(weights=\"imagenet\", include_top=False, input_tensor=Input(shape=(224, 224, 3)))\n",
        "#construct the head of the model that will be placed on top of the\n",
        "#the base model\n",
        "\n",
        "headModel = baseModel.output\n",
        "headModel = AveragePooling2D(pool_size=(4, 4))(headModel)\n",
        "headModel = Dropout(0.5)(headModel)\n",
        "headModel = Flatten(name=\"flatten\")(headModel)\n",
        "headModel = Dense(64, activation=\"relu\")(headModel)\n",
        "headModel = Dropout(0.5)(headModel)\n",
        "headModel = Dense(2, activation=\"softmax\")(headModel)\n",
        "\n",
        "\n",
        "model= Model(inputs=baseModel.input, outputs=headModel)\n",
        "\n",
        "for layer in baseModel.layers:\n",
        "    layer.trainable = False\n",
        "\n"
      ],
      "execution_count": 21,
      "outputs": [
        {
          "output_type": "stream",
          "text": [
            "Downloading data from https://storage.googleapis.com/tensorflow/keras-applications/resnet/resnet50_weights_tf_dim_ordering_tf_kernels_notop.h5\n",
            "94773248/94765736 [==============================] - 0s 0us/step\n"
          ],
          "name": "stdout"
        }
      ]
    },
    {
      "cell_type": "code",
      "metadata": {
        "id": "z0xUzl8f28ww",
        "colab_type": "code",
        "colab": {}
      },
      "source": [
        "model_chkpt = ModelCheckpoint('best_mod.h5', save_best_only=True, monitor='accuracy')\n",
        "early_stopping = EarlyStopping(monitor='loss', restore_best_weights=False, patience=10)\n",
        "\n",
        "\n"
      ],
      "execution_count": 0,
      "outputs": []
    },
    {
      "cell_type": "code",
      "metadata": {
        "id": "LjkrT0ke3G0L",
        "colab_type": "code",
        "colab": {
          "base_uri": "https://localhost:8080/",
          "height": 1000
        },
        "outputId": "714ad6a9-f910-46c0-903d-28781f72c10c"
      },
      "source": [
        "# initialize the initial learning rate, number of epochs to train for,\n",
        "# and batch size\n",
        "INIT_LR = 1e-3\n",
        "EPOCHS = 25\n",
        "BS = 8\n",
        "# compile our model\n",
        "print(\"[INFO] compiling model...\")\n",
        "opt = Adam(lr=INIT_LR, decay=INIT_LR / EPOCHS)\n",
        "model.compile(loss=\"binary_crossentropy\", optimizer=opt,\n",
        "\tmetrics=[\"accuracy\"])\n",
        "# train the head of the network\n",
        "print(\"[INFO] training head...\")\n",
        "H = model.fit_generator(\n",
        "\ttrainAug.flow(trainX, trainY, batch_size=BS),\n",
        "\tsteps_per_epoch=len(trainX) // BS,\n",
        "\tvalidation_data=(testX, testY),\n",
        "\tvalidation_steps=len(testX) // BS,\n",
        "\tepochs=EPOCHS,callbacks=[early_stopping,model_chkpt])"
      ],
      "execution_count": 23,
      "outputs": [
        {
          "output_type": "stream",
          "text": [
            "[INFO] compiling model...\n",
            "[INFO] training head...\n",
            "WARNING:tensorflow:From <ipython-input-23-f05cb2a89cda>:18: Model.fit_generator (from tensorflow.python.keras.engine.training) is deprecated and will be removed in a future version.\n",
            "Instructions for updating:\n",
            "Please use Model.fit, which supports generators.\n",
            "Epoch 1/25\n",
            "28/28 [==============================] - 44s 2s/step - loss: 0.8920 - accuracy: 0.5688 - val_loss: 0.6702 - val_accuracy: 0.5965\n",
            "Epoch 2/25\n",
            "28/28 [==============================] - 43s 2s/step - loss: 0.7766 - accuracy: 0.5046 - val_loss: 0.6682 - val_accuracy: 0.5965\n",
            "Epoch 3/25\n",
            "28/28 [==============================] - 43s 2s/step - loss: 0.7205 - accuracy: 0.5780 - val_loss: 0.6676 - val_accuracy: 0.5965\n",
            "Epoch 4/25\n",
            "28/28 [==============================] - 43s 2s/step - loss: 0.6932 - accuracy: 0.5734 - val_loss: 0.6621 - val_accuracy: 0.5965\n",
            "Epoch 5/25\n",
            "28/28 [==============================] - 43s 2s/step - loss: 0.6753 - accuracy: 0.5642 - val_loss: 0.6577 - val_accuracy: 0.5965\n",
            "Epoch 6/25\n",
            "28/28 [==============================] - 43s 2s/step - loss: 0.6478 - accuracy: 0.6330 - val_loss: 0.6695 - val_accuracy: 0.7719\n",
            "Epoch 7/25\n",
            "28/28 [==============================] - 42s 2s/step - loss: 0.6841 - accuracy: 0.6055 - val_loss: 0.6507 - val_accuracy: 0.5965\n",
            "Epoch 8/25\n",
            "28/28 [==============================] - 42s 2s/step - loss: 0.6772 - accuracy: 0.5642 - val_loss: 0.6543 - val_accuracy: 0.5965\n",
            "Epoch 9/25\n",
            "28/28 [==============================] - 42s 2s/step - loss: 0.6789 - accuracy: 0.5505 - val_loss: 0.6518 - val_accuracy: 0.5965\n",
            "Epoch 10/25\n",
            "28/28 [==============================] - 42s 1s/step - loss: 0.6764 - accuracy: 0.5826 - val_loss: 0.6331 - val_accuracy: 0.5965\n",
            "Epoch 11/25\n",
            "28/28 [==============================] - 42s 2s/step - loss: 0.7084 - accuracy: 0.5275 - val_loss: 0.6503 - val_accuracy: 0.5965\n",
            "Epoch 12/25\n",
            "28/28 [==============================] - 42s 2s/step - loss: 0.6860 - accuracy: 0.5688 - val_loss: 0.6548 - val_accuracy: 0.5965\n",
            "Epoch 13/25\n",
            "28/28 [==============================] - 42s 2s/step - loss: 0.6659 - accuracy: 0.5826 - val_loss: 0.6380 - val_accuracy: 0.5965\n",
            "Epoch 14/25\n",
            "28/28 [==============================] - 42s 2s/step - loss: 0.6566 - accuracy: 0.6193 - val_loss: 0.6274 - val_accuracy: 0.5965\n",
            "Epoch 15/25\n",
            "28/28 [==============================] - 46s 2s/step - loss: 0.6274 - accuracy: 0.6422 - val_loss: 0.6230 - val_accuracy: 0.5965\n",
            "Epoch 16/25\n",
            "28/28 [==============================] - 42s 2s/step - loss: 0.6601 - accuracy: 0.6055 - val_loss: 0.6214 - val_accuracy: 0.6842\n",
            "Epoch 17/25\n",
            "28/28 [==============================] - 43s 2s/step - loss: 0.6593 - accuracy: 0.6193 - val_loss: 0.6129 - val_accuracy: 0.5965\n",
            "Epoch 18/25\n",
            "28/28 [==============================] - 43s 2s/step - loss: 0.6637 - accuracy: 0.6284 - val_loss: 0.6105 - val_accuracy: 0.8772\n",
            "Epoch 19/25\n",
            "28/28 [==============================] - 43s 2s/step - loss: 0.6668 - accuracy: 0.5872 - val_loss: 0.6174 - val_accuracy: 0.5965\n",
            "Epoch 20/25\n",
            "28/28 [==============================] - 43s 2s/step - loss: 0.6349 - accuracy: 0.6239 - val_loss: 0.6082 - val_accuracy: 0.5965\n",
            "Epoch 21/25\n",
            "28/28 [==============================] - 43s 2s/step - loss: 0.6129 - accuracy: 0.6514 - val_loss: 0.5837 - val_accuracy: 0.5965\n",
            "Epoch 22/25\n",
            "28/28 [==============================] - 42s 2s/step - loss: 0.6604 - accuracy: 0.6284 - val_loss: 0.5986 - val_accuracy: 0.8596\n",
            "Epoch 23/25\n",
            "28/28 [==============================] - 42s 2s/step - loss: 0.6372 - accuracy: 0.6468 - val_loss: 0.5946 - val_accuracy: 0.5965\n",
            "Epoch 24/25\n",
            "28/28 [==============================] - 43s 2s/step - loss: 0.6254 - accuracy: 0.6330 - val_loss: 0.5865 - val_accuracy: 0.6842\n",
            "Epoch 25/25\n",
            "28/28 [==============================] - 43s 2s/step - loss: 0.6156 - accuracy: 0.6927 - val_loss: 0.5698 - val_accuracy: 0.6140\n"
          ],
          "name": "stdout"
        }
      ]
    },
    {
      "cell_type": "code",
      "metadata": {
        "id": "wCrKJ1vn3PXG",
        "colab_type": "code",
        "colab": {
          "base_uri": "https://localhost:8080/",
          "height": 598
        },
        "outputId": "25682d0d-1f8a-42ea-b9b4-2d4a7096a64e"
      },
      "source": [
        "# initialize the initial learning rate, number of epochs to train for,\n",
        "# and batch size\n",
        "INIT_LR = 1e-3\n",
        "EPOCHS = 50\n",
        "BS = 15\n",
        "# compile our model\n",
        "print(\"[INFO] compiling model...\")\n",
        "opt = Adam(lr=INIT_LR, decay=INIT_LR / EPOCHS)\n",
        "model.compile(loss=\"binary_crossentropy\", optimizer=opt,\n",
        "\tmetrics=[\"accuracy\"])\n",
        "# train the head of the network\n",
        "print(\"[INFO] training head...\")\n",
        "H = model.fit_generator(\n",
        "\ttrainAug.flow(trainX, trainY, batch_size=BS),\n",
        "\tsteps_per_epoch=len(trainX) // BS,\n",
        "\tvalidation_data=(testX, testY),\n",
        "\tvalidation_steps=len(testX) // BS,\n",
        "\tepochs=EPOCHS,callbacks=[early_stopping,model_chkpt])"
      ],
      "execution_count": 25,
      "outputs": [
        {
          "output_type": "stream",
          "text": [
            "[INFO] compiling model...\n",
            "[INFO] training head...\n",
            "Epoch 1/50\n",
            "15/15 [==============================] - 41s 3s/step - loss: 0.5466 - accuracy: 0.7393 - val_loss: 0.4498 - val_accuracy: 0.8947\n",
            "Epoch 2/50\n",
            "15/15 [==============================] - 40s 3s/step - loss: 0.5476 - accuracy: 0.6967 - val_loss: 0.4453 - val_accuracy: 0.8596\n",
            "Epoch 3/50\n",
            "15/15 [==============================] - 40s 3s/step - loss: 0.5355 - accuracy: 0.7299 - val_loss: 0.4376 - val_accuracy: 0.8947\n",
            "Epoch 4/50\n",
            "15/15 [==============================] - 43s 3s/step - loss: 0.5075 - accuracy: 0.7488 - val_loss: 0.4148 - val_accuracy: 0.8596\n",
            "Epoch 5/50\n",
            "15/15 [==============================] - 40s 3s/step - loss: 0.4937 - accuracy: 0.7536 - val_loss: 0.3979 - val_accuracy: 0.8947\n",
            "Epoch 6/50\n",
            "15/15 [==============================] - 40s 3s/step - loss: 0.5858 - accuracy: 0.6682 - val_loss: 0.4249 - val_accuracy: 0.8772\n",
            "Epoch 7/50\n",
            "15/15 [==============================] - 40s 3s/step - loss: 0.5441 - accuracy: 0.7346 - val_loss: 0.4316 - val_accuracy: 0.8596\n",
            "Epoch 8/50\n",
            "15/15 [==============================] - 41s 3s/step - loss: 0.5001 - accuracy: 0.7820 - val_loss: 0.3961 - val_accuracy: 0.9123\n",
            "Epoch 9/50\n",
            "15/15 [==============================] - 39s 3s/step - loss: 0.5102 - accuracy: 0.7583 - val_loss: 0.4187 - val_accuracy: 0.8772\n",
            "Epoch 10/50\n",
            "15/15 [==============================] - 39s 3s/step - loss: 0.4979 - accuracy: 0.7583 - val_loss: 0.3873 - val_accuracy: 0.8947\n",
            "Epoch 11/50\n",
            "15/15 [==============================] - 42s 3s/step - loss: 0.5197 - accuracy: 0.7393 - val_loss: 0.3844 - val_accuracy: 0.8947\n",
            "Epoch 12/50\n",
            "15/15 [==============================] - 40s 3s/step - loss: 0.5022 - accuracy: 0.7583 - val_loss: 0.3852 - val_accuracy: 0.8947\n",
            "Epoch 13/50\n",
            "15/15 [==============================] - 39s 3s/step - loss: 0.5491 - accuracy: 0.7299 - val_loss: 0.3817 - val_accuracy: 0.8947\n",
            "Epoch 14/50\n",
            "15/15 [==============================] - 40s 3s/step - loss: 0.5111 - accuracy: 0.7346 - val_loss: 0.3861 - val_accuracy: 0.9123\n",
            "Epoch 15/50\n",
            "15/15 [==============================] - 40s 3s/step - loss: 0.5505 - accuracy: 0.7299 - val_loss: 0.4156 - val_accuracy: 0.8772\n"
          ],
          "name": "stdout"
        }
      ]
    },
    {
      "cell_type": "code",
      "metadata": {
        "id": "wXEcTYaK7mDZ",
        "colab_type": "code",
        "colab": {
          "base_uri": "https://localhost:8080/",
          "height": 199
        },
        "outputId": "5c4e58bf-1822-4aa5-aa4d-5898a3d71950"
      },
      "source": [
        "# make predictions on the testing set\n",
        "print(\"[INFO] evaluating network...\")\n",
        "predIdxs = model.predict(testX, batch_size=BS)\n",
        "# for each image in the testing set we need to find the index of the\n",
        "# label with corresponding largest predicted probability\n",
        "predIdxs = np.argmax(predIdxs, axis=1)\n",
        "# show a nicely formatted classification report\n",
        "print(classification_report(testY.argmax(axis=1), predIdxs,\n",
        "\ttarget_names=lb.classes_))"
      ],
      "execution_count": 26,
      "outputs": [
        {
          "output_type": "stream",
          "text": [
            "[INFO] evaluating network...\n",
            "              precision    recall  f1-score   support\n",
            "\n",
            "    infected       0.81      0.91      0.86        23\n",
            "      normal       0.94      0.85      0.89        34\n",
            "\n",
            "    accuracy                           0.88        57\n",
            "   macro avg       0.87      0.88      0.87        57\n",
            "weighted avg       0.88      0.88      0.88        57\n",
            "\n"
          ],
          "name": "stdout"
        }
      ]
    },
    {
      "cell_type": "code",
      "metadata": {
        "id": "QI7DdVO4D1t6",
        "colab_type": "code",
        "colab": {
          "base_uri": "https://localhost:8080/",
          "height": 108
        },
        "outputId": "92f13bb3-984b-488a-fd09-42ec5ad8879d"
      },
      "source": [
        "# compute the confusion matrix and and use it to derive the raw\n",
        "# accuracy, sensitivity, and specificity\n",
        "cm = confusion_matrix(testY.argmax(axis=1), predIdxs)\n",
        "total = sum(sum(cm))\n",
        "acc = (cm[0, 0] + cm[1, 1]) / total\n",
        "sensitivity = cm[0, 0] / (cm[0, 0] + cm[0, 1])\n",
        "specificity = cm[1, 1] / (cm[1, 0] + cm[1, 1])\n",
        "# show the confusion matrix, accuracy, sensitivity, and specificity\n",
        "print(cm)\n",
        "print(\"acc: {:.4f}\".format(acc))\n",
        "print(\"sensitivity: {:.4f}\".format(sensitivity))\n",
        "print(\"specificity: {:.4f}\".format(specificity))"
      ],
      "execution_count": 27,
      "outputs": [
        {
          "output_type": "stream",
          "text": [
            "[[21  2]\n",
            " [ 5 29]]\n",
            "acc: 0.8772\n",
            "sensitivity: 0.9130\n",
            "specificity: 0.8529\n"
          ],
          "name": "stdout"
        }
      ]
    },
    {
      "cell_type": "code",
      "metadata": {
        "id": "A8nrTQvjEXRQ",
        "colab_type": "code",
        "colab": {}
      },
      "source": [
        ""
      ],
      "execution_count": 0,
      "outputs": []
    }
  ]
}