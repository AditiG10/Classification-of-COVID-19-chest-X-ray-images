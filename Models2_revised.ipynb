{
  "nbformat": 4,
  "nbformat_minor": 0,
  "metadata": {
    "colab": {
      "name": "Models2_revised.ipynb",
      "provenance": [],
      "collapsed_sections": [
        "lPYRJJGzAnsu",
        "-xV25QiyEwvs"
      ],
      "authorship_tag": "ABX9TyOBd41Ne/0mXlXdVZkM1+9b",
      "include_colab_link": true
    },
    "kernelspec": {
      "name": "python3",
      "display_name": "Python 3"
    }
  },
  "cells": [
    {
      "cell_type": "markdown",
      "metadata": {
        "id": "view-in-github",
        "colab_type": "text"
      },
      "source": [
        "<a href=\"https://colab.research.google.com/github/AditiG10/Classification-of-COVID-19-chest-X-ray-images/blob/master/Models2_revised.ipynb\" target=\"_parent\"><img src=\"https://colab.research.google.com/assets/colab-badge.svg\" alt=\"Open In Colab\"/></a>"
      ]
    },
    {
      "cell_type": "code",
      "metadata": {
        "id": "RIl69g0S_Pwu",
        "colab_type": "code",
        "colab": {
          "base_uri": "https://localhost:8080/",
          "height": 35
        },
        "outputId": "8fad93e7-e9bb-43a0-de3c-3709316507ac"
      },
      "source": [
        "# import the necessary packages\n",
        "from tensorflow.keras.preprocessing.image import ImageDataGenerator\n",
        "from tensorflow.keras.applications import VGG16\n",
        "from tensorflow.keras.layers import AveragePooling2D\n",
        "from tensorflow.keras.layers import Dropout\n",
        "from tensorflow.keras.layers import Flatten\n",
        "from tensorflow.keras.layers import Dense\n",
        "from tensorflow.keras.layers import Input\n",
        "from tensorflow.keras.models import Model\n",
        "from tensorflow.keras.optimizers import Adam\n",
        "from tensorflow.keras.utils import to_categorical\n",
        "from sklearn.preprocessing import LabelBinarizer\n",
        "from sklearn.model_selection import train_test_split\n",
        "from sklearn.metrics import classification_report\n",
        "from sklearn.metrics import confusion_matrix\n",
        "from imutils import paths\n",
        "import matplotlib.pyplot as plt\n",
        "import numpy as np\n",
        "import argparse\n",
        "import cv2\n",
        "import os\n",
        "from keras.applications.resnet50 import ResNet50\n",
        "from keras.preprocessing import image\n",
        "from keras.applications.resnet50 import preprocess_input, decode_predictions\n",
        "import numpy as np\n"
      ],
      "execution_count": 4,
      "outputs": [
        {
          "output_type": "stream",
          "text": [
            "Using TensorFlow backend.\n"
          ],
          "name": "stderr"
        }
      ]
    },
    {
      "cell_type": "code",
      "metadata": {
        "id": "l5YZKWJk_mFy",
        "colab_type": "code",
        "colab": {
          "base_uri": "https://localhost:8080/",
          "height": 73
        },
        "outputId": "91431da4-65c0-4bca-f2ff-55148e67bda8"
      },
      "source": [
        "import os\n",
        "import numpy as np\n",
        "import pandas as pd\n",
        "import seaborn as sns\n",
        "import matplotlib.pyplot as plt\n",
        "import matplotlib.image as mpimg\n",
        "import seaborn as sns\n",
        "from PIL import Image\n",
        "from tensorflow.keras.preprocessing import image\n",
        "from tensorflow.keras.preprocessing.image import load_img, img_to_array\n",
        "from tensorflow.keras.applications.vgg16 import preprocess_input\n",
        "from tensorflow.keras.utils import to_categorical\n",
        "from tensorflow.keras.callbacks import ModelCheckpoint, EarlyStopping\n",
        "from tensorflow.keras.models import Sequential\n",
        "from tensorflow.keras.layers import Dense, Dropout, BatchNormalization, Conv2D, MaxPool2D, Flatten\n",
        "from sklearn.metrics import classification_report, confusion_matrix, accuracy_score"
      ],
      "execution_count": 5,
      "outputs": [
        {
          "output_type": "stream",
          "text": [
            "/usr/local/lib/python3.6/dist-packages/statsmodels/tools/_testing.py:19: FutureWarning: pandas.util.testing is deprecated. Use the functions in the public API at pandas.testing instead.\n",
            "  import pandas.util.testing as tm\n"
          ],
          "name": "stderr"
        }
      ]
    },
    {
      "cell_type": "code",
      "metadata": {
        "id": "r0Z0Kg3C_oi8",
        "colab_type": "code",
        "colab": {
          "base_uri": "https://localhost:8080/",
          "height": 162
        },
        "outputId": "9d1f5dde-1c40-4c49-f386-43be8274675a"
      },
      "source": [
        "!git clone https://github.com/vaibhavG321/Classification-of-COVID-19-chest-X-ray-images"
      ],
      "execution_count": 6,
      "outputs": [
        {
          "output_type": "stream",
          "text": [
            "Cloning into 'Classification-of-COVID-19-chest-X-ray-images'...\n",
            "remote: Enumerating objects: 8, done.\u001b[K\n",
            "remote: Counting objects: 100% (8/8), done.\u001b[K\n",
            "remote: Compressing objects: 100% (8/8), done.\u001b[K\n",
            "remote: Total 664 (delta 1), reused 2 (delta 0), pack-reused 656\n",
            "Receiving objects: 100% (664/664), 222.69 MiB | 11.58 MiB/s, done.\n",
            "Resolving deltas: 100% (29/29), done.\n",
            "Checking out files: 100% (698/698), done.\n"
          ],
          "name": "stdout"
        }
      ]
    },
    {
      "cell_type": "code",
      "metadata": {
        "id": "HL7fSKH8_wzS",
        "colab_type": "code",
        "colab": {
          "base_uri": "https://localhost:8080/",
          "height": 35
        },
        "outputId": "0462c5c3-72a4-4809-99da-a0add1727efe"
      },
      "source": [
        "cd Classification-of-COVID-19-chest-X-ray-images "
      ],
      "execution_count": 7,
      "outputs": [
        {
          "output_type": "stream",
          "text": [
            "/content/Classification-of-COVID-19-chest-X-ray-images\n"
          ],
          "name": "stdout"
        }
      ]
    },
    {
      "cell_type": "code",
      "metadata": {
        "id": "pKz70m78_zc5",
        "colab_type": "code",
        "colab": {
          "base_uri": "https://localhost:8080/",
          "height": 35
        },
        "outputId": "047ef03a-93de-4783-f202-fe13b41614f9"
      },
      "source": [
        "cd dataset"
      ],
      "execution_count": 8,
      "outputs": [
        {
          "output_type": "stream",
          "text": [
            "/content/Classification-of-COVID-19-chest-X-ray-images/dataset\n"
          ],
          "name": "stdout"
        }
      ]
    },
    {
      "cell_type": "code",
      "metadata": {
        "id": "yVVo0Xpx_1C5",
        "colab_type": "code",
        "colab": {
          "base_uri": "https://localhost:8080/",
          "height": 35
        },
        "outputId": "4c3079c3-2e9d-42f6-86c4-f464d1bb2488"
      },
      "source": [
        "cd training"
      ],
      "execution_count": 9,
      "outputs": [
        {
          "output_type": "stream",
          "text": [
            "/content/Classification-of-COVID-19-chest-X-ray-images/dataset/training\n"
          ],
          "name": "stdout"
        }
      ]
    },
    {
      "cell_type": "code",
      "metadata": {
        "id": "Yqz_pza3_24H",
        "colab_type": "code",
        "colab": {
          "base_uri": "https://localhost:8080/",
          "height": 35
        },
        "outputId": "82f783c4-60ee-40ef-a3a0-9e68970c9d76"
      },
      "source": [
        "!ls"
      ],
      "execution_count": 10,
      "outputs": [
        {
          "output_type": "stream",
          "text": [
            "infected  normal\n"
          ],
          "name": "stdout"
        }
      ]
    },
    {
      "cell_type": "code",
      "metadata": {
        "id": "xocz_nDx_4v4",
        "colab_type": "code",
        "colab": {}
      },
      "source": [
        "train_normal_path='/content/Classification-of-COVID-19-chest-X-ray-images/dataset/training/normal'\n",
        "train_infected_path='/content/Classification-of-COVID-19-chest-X-ray-images/dataset/training/infected'\n",
        "test_normal_path='/content/Classification-of-COVID-19-chest-X-ray-images/dataset/testing/normal'\n",
        "test_infected_path='/content/Classification-of-COVID-19-chest-X-ray-images/dataset/testing/infected'\n",
        "evaluate_normal_path='/content/Classification-of-COVID-19-chest-X-ray-images/dataset/evaluation/normal'\n",
        "evaluate_infected_path='/content/Classification-of-COVID-19-chest-X-ray-images/dataset/evaluation/infected'"
      ],
      "execution_count": 11,
      "outputs": []
    },
    {
      "cell_type": "code",
      "metadata": {
        "id": "ZuYDahLZ_7bk",
        "colab_type": "code",
        "colab": {
          "base_uri": "https://localhost:8080/",
          "height": 126
        },
        "outputId": "854bea0b-79dc-4f50-90b3-f8fb7a99b1e0"
      },
      "source": [
        "print('train_normal cases ',len(os.listdir('/content/Classification-of-COVID-19-chest-X-ray-images/dataset/training/normal')))\n",
        "print('train_infected cases ',len(os.listdir('/content/Classification-of-COVID-19-chest-X-ray-images/dataset/training/infected')))\n",
        "print('test_normal cases ',len(os.listdir('/content/Classification-of-COVID-19-chest-X-ray-images/dataset/testing/normal')))\n",
        "print('test_infected cases ',len(os.listdir('/content/Classification-of-COVID-19-chest-X-ray-images/dataset/testing/infected')))\n",
        "print('evaluate_normal cases ',len(os.listdir('/content/Classification-of-COVID-19-chest-X-ray-images/dataset/evaluation/normal')))\n",
        "print('evaluate_infected cases ',len(os.listdir('/content/Classification-of-COVID-19-chest-X-ray-images/dataset/evaluation/infected')))"
      ],
      "execution_count": 12,
      "outputs": [
        {
          "output_type": "stream",
          "text": [
            "train_normal cases  297\n",
            "train_infected cases  296\n",
            "test_normal cases  69\n",
            "test_infected cases  25\n",
            "evaluate_normal cases  1\n",
            "evaluate_infected cases  1\n"
          ],
          "name": "stdout"
        }
      ]
    },
    {
      "cell_type": "code",
      "metadata": {
        "id": "iJY-Q_YwAP6Y",
        "colab_type": "code",
        "colab": {}
      },
      "source": [
        "IMAGE_SIZE = (224,224)\n",
        "DIR_NAME = '/content/Classification-of-COVID-19-chest-X-ray-images/dataset/'\n",
        "IMAGE_DIR = DIR_NAME + 'normal/'\n",
        "imagePaths=[]\n",
        "for dirname, _, filenames in os.walk(DIR_NAME):\n",
        "    for filename in filenames:\n",
        "      imagePaths.append(os.path.join(dirname, filename))"
      ],
      "execution_count": 13,
      "outputs": []
    },
    {
      "cell_type": "code",
      "metadata": {
        "id": "FKKNeg9oAYFn",
        "colab_type": "code",
        "colab": {
          "base_uri": "https://localhost:8080/",
          "height": 1000
        },
        "outputId": "91a9a4ef-ed9a-4fb8-c549-05764e1d7e84"
      },
      "source": [
        "imagePaths"
      ],
      "execution_count": 14,
      "outputs": [
        {
          "output_type": "execute_result",
          "data": {
            "text/plain": [
              "['/content/Classification-of-COVID-19-chest-X-ray-images/dataset/testing/normal/NORMAL2-IM-0336-0001.jpeg',\n",
              " '/content/Classification-of-COVID-19-chest-X-ray-images/dataset/testing/normal/NORMAL2-IM-0279-0001.jpeg',\n",
              " '/content/Classification-of-COVID-19-chest-X-ray-images/dataset/testing/normal/NORMAL2-IM-0325-0001.jpeg',\n",
              " '/content/Classification-of-COVID-19-chest-X-ray-images/dataset/testing/normal/NORMAL2-IM-0210-0001.jpeg',\n",
              " '/content/Classification-of-COVID-19-chest-X-ray-images/dataset/testing/normal/NORMAL2-IM-0246-0001-0002.jpeg',\n",
              " '/content/Classification-of-COVID-19-chest-X-ray-images/dataset/testing/normal/NORMAL2-IM-0362-0001.jpeg',\n",
              " '/content/Classification-of-COVID-19-chest-X-ray-images/dataset/testing/normal/NORMAL2-IM-0173-0001-0001.jpeg',\n",
              " '/content/Classification-of-COVID-19-chest-X-ray-images/dataset/testing/normal/NORMAL2-IM-0378-0001.jpeg',\n",
              " '/content/Classification-of-COVID-19-chest-X-ray-images/dataset/testing/normal/NORMAL2-IM-0272-0001.jpeg',\n",
              " '/content/Classification-of-COVID-19-chest-X-ray-images/dataset/testing/normal/NORMAL2-IM-0354-0001.jpeg',\n",
              " '/content/Classification-of-COVID-19-chest-X-ray-images/dataset/testing/normal/NORMAL2-IM-0150-0001.jpeg',\n",
              " '/content/Classification-of-COVID-19-chest-X-ray-images/dataset/testing/normal/NORMAL2-IM-0315-0001.jpeg',\n",
              " '/content/Classification-of-COVID-19-chest-X-ray-images/dataset/testing/normal/NORMAL2-IM-0376-0001.jpeg',\n",
              " '/content/Classification-of-COVID-19-chest-X-ray-images/dataset/testing/normal/NORMAL2-IM-0249-0001.jpeg',\n",
              " '/content/Classification-of-COVID-19-chest-X-ray-images/dataset/testing/normal/NORMAL2-IM-0041-0001.jpeg',\n",
              " '/content/Classification-of-COVID-19-chest-X-ray-images/dataset/testing/normal/NORMAL2-IM-0246-0001-0001.jpeg',\n",
              " '/content/Classification-of-COVID-19-chest-X-ray-images/dataset/testing/normal/NORMAL2-IM-0171-0001.jpeg',\n",
              " '/content/Classification-of-COVID-19-chest-X-ray-images/dataset/testing/normal/NORMAL2-IM-0045-0001.jpeg',\n",
              " '/content/Classification-of-COVID-19-chest-X-ray-images/dataset/testing/normal/NORMAL2-IM-0294-0001.jpeg',\n",
              " '/content/Classification-of-COVID-19-chest-X-ray-images/dataset/testing/normal/NORMAL2-IM-0303-0001.jpeg',\n",
              " '/content/Classification-of-COVID-19-chest-X-ray-images/dataset/testing/normal/NORMAL2-IM-0346-0001.jpeg',\n",
              " '/content/Classification-of-COVID-19-chest-X-ray-images/dataset/testing/normal/NORMAL2-IM-0123-0001.jpeg',\n",
              " '/content/Classification-of-COVID-19-chest-X-ray-images/dataset/testing/normal/NORMAL2-IM-0252-0001.jpeg',\n",
              " '/content/Classification-of-COVID-19-chest-X-ray-images/dataset/testing/normal/NORMAL2-IM-0173-0001-0002.jpeg',\n",
              " '/content/Classification-of-COVID-19-chest-X-ray-images/dataset/testing/normal/NORMAL2-IM-0313-0001.jpeg',\n",
              " '/content/Classification-of-COVID-19-chest-X-ray-images/dataset/testing/normal/NORMAL2-IM-0326-0001.jpeg',\n",
              " '/content/Classification-of-COVID-19-chest-X-ray-images/dataset/testing/normal/NORMAL2-IM-0366-0001.jpeg',\n",
              " '/content/Classification-of-COVID-19-chest-X-ray-images/dataset/testing/normal/NORMAL2-IM-0238-0001.jpeg',\n",
              " '/content/Classification-of-COVID-19-chest-X-ray-images/dataset/testing/normal/NORMAL2-IM-0098-0001.jpeg',\n",
              " '/content/Classification-of-COVID-19-chest-X-ray-images/dataset/testing/normal/NORMAL2-IM-0364-0001.jpeg',\n",
              " '/content/Classification-of-COVID-19-chest-X-ray-images/dataset/testing/normal/NORMAL2-IM-0316-0001.jpeg',\n",
              " '/content/Classification-of-COVID-19-chest-X-ray-images/dataset/testing/normal/1.jpeg',\n",
              " '/content/Classification-of-COVID-19-chest-X-ray-images/dataset/testing/normal/NORMAL2-IM-0256-0001.jpeg',\n",
              " '/content/Classification-of-COVID-19-chest-X-ray-images/dataset/testing/normal/NORMAL2-IM-0373-0001.jpeg',\n",
              " '/content/Classification-of-COVID-19-chest-X-ray-images/dataset/testing/normal/NORMAL2-IM-0335-0001.jpeg',\n",
              " '/content/Classification-of-COVID-19-chest-X-ray-images/dataset/testing/normal/NORMAL2-IM-0322-0001.jpeg',\n",
              " '/content/Classification-of-COVID-19-chest-X-ray-images/dataset/testing/normal/NORMAL2-IM-0338-0001.jpeg',\n",
              " '/content/Classification-of-COVID-19-chest-X-ray-images/dataset/testing/normal/NORMAL2-IM-0237-0001.jpeg',\n",
              " '/content/Classification-of-COVID-19-chest-X-ray-images/dataset/testing/normal/NORMAL2-IM-0280-0001.jpeg',\n",
              " '/content/Classification-of-COVID-19-chest-X-ray-images/dataset/testing/normal/NORMAL2-IM-0219-0001.jpeg',\n",
              " '/content/Classification-of-COVID-19-chest-X-ray-images/dataset/testing/normal/NORMAL2-IM-0131-0001.jpeg',\n",
              " '/content/Classification-of-COVID-19-chest-X-ray-images/dataset/testing/normal/NORMAL2-IM-0233-0001.jpeg',\n",
              " '/content/Classification-of-COVID-19-chest-X-ray-images/dataset/testing/normal/NORMAL2-IM-0232-0001.jpeg',\n",
              " '/content/Classification-of-COVID-19-chest-X-ray-images/dataset/testing/normal/NORMAL2-IM-0369-0001.jpeg',\n",
              " '/content/Classification-of-COVID-19-chest-X-ray-images/dataset/testing/normal/NORMAL2-IM-0330-0001.jpeg',\n",
              " '/content/Classification-of-COVID-19-chest-X-ray-images/dataset/testing/normal/NORMAL2-IM-0288-0001.jpeg',\n",
              " '/content/Classification-of-COVID-19-chest-X-ray-images/dataset/testing/normal/NORMAL2-IM-0328-0001.jpeg',\n",
              " '/content/Classification-of-COVID-19-chest-X-ray-images/dataset/testing/normal/NORMAL2-IM-0340-0001.jpeg',\n",
              " '/content/Classification-of-COVID-19-chest-X-ray-images/dataset/testing/normal/NORMAL2-IM-0229-0001.jpeg',\n",
              " '/content/Classification-of-COVID-19-chest-X-ray-images/dataset/testing/normal/NORMAL2-IM-0222-0001.jpeg',\n",
              " '/content/Classification-of-COVID-19-chest-X-ray-images/dataset/testing/normal/NORMAL2-IM-0146-0001.jpeg',\n",
              " '/content/Classification-of-COVID-19-chest-X-ray-images/dataset/testing/normal/NORMAL2-IM-0267-0001.jpeg',\n",
              " '/content/Classification-of-COVID-19-chest-X-ray-images/dataset/testing/normal/NORMAL2-IM-0139-0001.jpeg',\n",
              " '/content/Classification-of-COVID-19-chest-X-ray-images/dataset/testing/normal/NORMAL2-IM-0290-0001.jpeg',\n",
              " '/content/Classification-of-COVID-19-chest-X-ray-images/dataset/testing/normal/NORMAL2-IM-0221-0001.jpeg',\n",
              " '/content/Classification-of-COVID-19-chest-X-ray-images/dataset/testing/normal/NORMAL2-IM-0349-0001.jpeg',\n",
              " '/content/Classification-of-COVID-19-chest-X-ray-images/dataset/testing/normal/NORMAL2-IM-0246-0001.jpeg',\n",
              " '/content/Classification-of-COVID-19-chest-X-ray-images/dataset/testing/normal/NORMAL2-IM-0360-0001.jpeg',\n",
              " '/content/Classification-of-COVID-19-chest-X-ray-images/dataset/testing/normal/NORMAL2-IM-0327-0001.jpeg',\n",
              " '/content/Classification-of-COVID-19-chest-X-ray-images/dataset/testing/normal/NORMAL2-IM-0199-0001.jpeg',\n",
              " '/content/Classification-of-COVID-19-chest-X-ray-images/dataset/testing/normal/NORMAL2-IM-0195-0001.jpeg',\n",
              " '/content/Classification-of-COVID-19-chest-X-ray-images/dataset/testing/normal/NORMAL2-IM-0206-0001.jpeg',\n",
              " '/content/Classification-of-COVID-19-chest-X-ray-images/dataset/testing/normal/NORMAL2-IM-0217-0001.jpeg',\n",
              " '/content/Classification-of-COVID-19-chest-X-ray-images/dataset/testing/normal/NORMAL2-IM-0351-0001.jpeg',\n",
              " '/content/Classification-of-COVID-19-chest-X-ray-images/dataset/testing/normal/NORMAL2-IM-0374-0001-0002.jpeg',\n",
              " '/content/Classification-of-COVID-19-chest-X-ray-images/dataset/testing/normal/NORMAL2-IM-0304-0001.jpeg',\n",
              " '/content/Classification-of-COVID-19-chest-X-ray-images/dataset/testing/normal/NORMAL2-IM-0285-0001.jpeg',\n",
              " '/content/Classification-of-COVID-19-chest-X-ray-images/dataset/testing/normal/NORMAL2-IM-0241-0001.jpeg',\n",
              " '/content/Classification-of-COVID-19-chest-X-ray-images/dataset/testing/normal/NORMAL2-IM-0283-0001.jpeg',\n",
              " '/content/Classification-of-COVID-19-chest-X-ray-images/dataset/testing/infected/all14238-fig-0001-m-b.jpg',\n",
              " '/content/Classification-of-COVID-19-chest-X-ray-images/dataset/testing/infected/covid-19-pneumonia-8.jpg',\n",
              " '/content/Classification-of-COVID-19-chest-X-ray-images/dataset/testing/infected/1-s2.0-S1684118220300608-main.pdf-002.jpg',\n",
              " '/content/Classification-of-COVID-19-chest-X-ray-images/dataset/testing/infected/nCoV-radiol.2020200269.fig1-day7.jpeg',\n",
              " '/content/Classification-of-COVID-19-chest-X-ray-images/dataset/testing/infected/kjr-21-e24-g002-l-a.jpg',\n",
              " '/content/Classification-of-COVID-19-chest-X-ray-images/dataset/testing/infected/covid-19-pneumonia-evolution-over-a-week-1-day0-PA.jpg',\n",
              " '/content/Classification-of-COVID-19-chest-X-ray-images/dataset/testing/infected/kjr-21-e24-g001-l-a.jpg',\n",
              " '/content/Classification-of-COVID-19-chest-X-ray-images/dataset/testing/infected/covid-19-pneumonia-20-pa-on-admission.jpg',\n",
              " '/content/Classification-of-COVID-19-chest-X-ray-images/dataset/testing/infected/41591_2020_819_Fig1_HTML.webp-day5.png',\n",
              " '/content/Classification-of-COVID-19-chest-X-ray-images/dataset/testing/infected/covid-19-pneumonia-53.jpg',\n",
              " '/content/Classification-of-COVID-19-chest-X-ray-images/dataset/testing/infected/58cb9263f16e94305c730685358e4e_jumbo.jpeg',\n",
              " '/content/Classification-of-COVID-19-chest-X-ray-images/dataset/testing/infected/31BA3780-2323-493F-8AED-62081B9C383B.jpeg',\n",
              " '/content/Classification-of-COVID-19-chest-X-ray-images/dataset/testing/infected/gr1_lrg-b.jpg',\n",
              " '/content/Classification-of-COVID-19-chest-X-ray-images/dataset/testing/infected/covid-19-pneumonia-67.jpeg',\n",
              " '/content/Classification-of-COVID-19-chest-X-ray-images/dataset/testing/infected/covid-19-pneumonia-44-day-0.jpeg',\n",
              " '/content/Classification-of-COVID-19-chest-X-ray-images/dataset/testing/infected/kjr-21-e24-g003-l-a.jpg',\n",
              " '/content/Classification-of-COVID-19-chest-X-ray-images/dataset/testing/infected/4e43e48d52c9e2d4c6c1fb9bc1544f_jumbo.jpeg',\n",
              " '/content/Classification-of-COVID-19-chest-X-ray-images/dataset/testing/infected/covid-19-pneumonia-mild.JPG',\n",
              " '/content/Classification-of-COVID-19-chest-X-ray-images/dataset/testing/infected/kjr-21-e25-g001-l-a.jpg',\n",
              " '/content/Classification-of-COVID-19-chest-X-ray-images/dataset/testing/infected/all14238-fig-0001-m-c.jpg',\n",
              " '/content/Classification-of-COVID-19-chest-X-ray-images/dataset/testing/infected/F2DE909F-E19C-4900-92F5-8F435B031AC6.jpeg',\n",
              " '/content/Classification-of-COVID-19-chest-X-ray-images/dataset/testing/infected/1.jpg',\n",
              " '/content/Classification-of-COVID-19-chest-X-ray-images/dataset/testing/infected/80446565-E090-4187-A031-9D3CEAA586C8.jpeg',\n",
              " '/content/Classification-of-COVID-19-chest-X-ray-images/dataset/testing/infected/gr1_lrg-a.jpg',\n",
              " '/content/Classification-of-COVID-19-chest-X-ray-images/dataset/testing/infected/41591_2020_819_Fig1_HTML.webp-day10.png',\n",
              " '/content/Classification-of-COVID-19-chest-X-ray-images/dataset/training/normal/NORMAL2-IM-0201-0001.jpeg',\n",
              " '/content/Classification-of-COVID-19-chest-X-ray-images/dataset/training/normal/NORMAL2-IM-0079-0001.jpeg',\n",
              " '/content/Classification-of-COVID-19-chest-X-ray-images/dataset/training/normal/NORMAL2-IM-0275-0001.jpeg',\n",
              " '/content/Classification-of-COVID-19-chest-X-ray-images/dataset/training/normal/NORMAL2 (80).jpeg',\n",
              " '/content/Classification-of-COVID-19-chest-X-ray-images/dataset/training/normal/NORMAL2 (14).jpeg',\n",
              " '/content/Classification-of-COVID-19-chest-X-ray-images/dataset/training/normal/NORMAL2-IM-0012-0001.jpeg',\n",
              " '/content/Classification-of-COVID-19-chest-X-ray-images/dataset/training/normal/NORMAL2 (122).jpeg',\n",
              " '/content/Classification-of-COVID-19-chest-X-ray-images/dataset/training/normal/NORMAL2 (33).jpeg',\n",
              " '/content/Classification-of-COVID-19-chest-X-ray-images/dataset/training/normal/NORMAL2 (13).jpeg',\n",
              " '/content/Classification-of-COVID-19-chest-X-ray-images/dataset/training/normal/NORMAL2 (72).jpeg',\n",
              " '/content/Classification-of-COVID-19-chest-X-ray-images/dataset/training/normal/NORMAL2 (43).jpeg',\n",
              " '/content/Classification-of-COVID-19-chest-X-ray-images/dataset/training/normal/NORMAL2 (37).jpeg',\n",
              " '/content/Classification-of-COVID-19-chest-X-ray-images/dataset/training/normal/NORMAL2-IM-0309-0001.jpeg',\n",
              " '/content/Classification-of-COVID-19-chest-X-ray-images/dataset/training/normal/NORMAL2 (8).jpeg',\n",
              " '/content/Classification-of-COVID-19-chest-X-ray-images/dataset/training/normal/NORMAL2 (157).jpeg',\n",
              " '/content/Classification-of-COVID-19-chest-X-ray-images/dataset/training/normal/NORMAL2 (120).jpeg',\n",
              " '/content/Classification-of-COVID-19-chest-X-ray-images/dataset/training/normal/NORMAL2 (34).jpeg',\n",
              " '/content/Classification-of-COVID-19-chest-X-ray-images/dataset/training/normal/NORMAL2 (50).jpeg',\n",
              " '/content/Classification-of-COVID-19-chest-X-ray-images/dataset/training/normal/NORMAL2 (96).jpeg',\n",
              " '/content/Classification-of-COVID-19-chest-X-ray-images/dataset/training/normal/NORMAL2-IM-0023-0001.jpeg',\n",
              " '/content/Classification-of-COVID-19-chest-X-ray-images/dataset/training/normal/NORMAL2 (101).jpeg',\n",
              " '/content/Classification-of-COVID-19-chest-X-ray-images/dataset/training/normal/NORMAL2 (173).jpeg',\n",
              " '/content/Classification-of-COVID-19-chest-X-ray-images/dataset/training/normal/NORMAL2-IM-0374-0001-0001.jpeg',\n",
              " '/content/Classification-of-COVID-19-chest-X-ray-images/dataset/training/normal/NORMAL2-IM-0374-0001.jpeg',\n",
              " '/content/Classification-of-COVID-19-chest-X-ray-images/dataset/training/normal/NORMAL2 (67).jpeg',\n",
              " '/content/Classification-of-COVID-19-chest-X-ray-images/dataset/training/normal/NORMAL2 (148).jpeg',\n",
              " '/content/Classification-of-COVID-19-chest-X-ray-images/dataset/training/normal/NORMAL2 (55).jpeg',\n",
              " '/content/Classification-of-COVID-19-chest-X-ray-images/dataset/training/normal/NORMAL2-IM-0135-0001.jpeg',\n",
              " '/content/Classification-of-COVID-19-chest-X-ray-images/dataset/training/normal/NORMAL2-IM-0321-0001.jpeg',\n",
              " '/content/Classification-of-COVID-19-chest-X-ray-images/dataset/training/normal/NORMAL2 (41).jpeg',\n",
              " '/content/Classification-of-COVID-19-chest-X-ray-images/dataset/training/normal/NORMAL2-IM-0368-0001.jpeg',\n",
              " '/content/Classification-of-COVID-19-chest-X-ray-images/dataset/training/normal/NORMAL2 (138).jpeg',\n",
              " '/content/Classification-of-COVID-19-chest-X-ray-images/dataset/training/normal/NORMAL2 (176).jpeg',\n",
              " '/content/Classification-of-COVID-19-chest-X-ray-images/dataset/training/normal/NORMAL2 (141).jpeg',\n",
              " '/content/Classification-of-COVID-19-chest-X-ray-images/dataset/training/normal/NORMAL2 (177).jpeg',\n",
              " '/content/Classification-of-COVID-19-chest-X-ray-images/dataset/training/normal/NORMAL2 (95).jpeg',\n",
              " '/content/Classification-of-COVID-19-chest-X-ray-images/dataset/training/normal/NORMAL2-IM-0278-0001.jpeg',\n",
              " '/content/Classification-of-COVID-19-chest-X-ray-images/dataset/training/normal/NORMAL2 (183).jpeg',\n",
              " '/content/Classification-of-COVID-19-chest-X-ray-images/dataset/training/normal/NORMAL2-IM-0345-0001.jpeg',\n",
              " '/content/Classification-of-COVID-19-chest-X-ray-images/dataset/training/normal/NORMAL2 (32).jpeg',\n",
              " '/content/Classification-of-COVID-19-chest-X-ray-images/dataset/training/normal/NORMAL2-IM-0019-0001.jpeg',\n",
              " '/content/Classification-of-COVID-19-chest-X-ray-images/dataset/training/normal/NORMAL2-IM-0352-0001.jpeg',\n",
              " '/content/Classification-of-COVID-19-chest-X-ray-images/dataset/training/normal/NORMAL2 (172).jpeg',\n",
              " '/content/Classification-of-COVID-19-chest-X-ray-images/dataset/training/normal/NORMAL2-IM-0297-0001.jpeg',\n",
              " '/content/Classification-of-COVID-19-chest-X-ray-images/dataset/training/normal/NORMAL2 (136).jpeg',\n",
              " '/content/Classification-of-COVID-19-chest-X-ray-images/dataset/training/normal/NORMAL2 (106).jpeg',\n",
              " '/content/Classification-of-COVID-19-chest-X-ray-images/dataset/training/normal/NORMAL2 (69).jpeg',\n",
              " '/content/Classification-of-COVID-19-chest-X-ray-images/dataset/training/normal/NORMAL2 (132).jpeg',\n",
              " '/content/Classification-of-COVID-19-chest-X-ray-images/dataset/training/normal/NORMAL2 (180).jpeg',\n",
              " '/content/Classification-of-COVID-19-chest-X-ray-images/dataset/training/normal/NORMAL2 (48).jpeg',\n",
              " '/content/Classification-of-COVID-19-chest-X-ray-images/dataset/training/normal/NORMAL2 (60).jpeg',\n",
              " '/content/Classification-of-COVID-19-chest-X-ray-images/dataset/training/normal/NORMAL2 (38).jpeg',\n",
              " '/content/Classification-of-COVID-19-chest-X-ray-images/dataset/training/normal/NORMAL2 (42).jpeg',\n",
              " '/content/Classification-of-COVID-19-chest-X-ray-images/dataset/training/normal/NORMAL2-IM-0027-0001.jpeg',\n",
              " '/content/Classification-of-COVID-19-chest-X-ray-images/dataset/training/normal/NORMAL2 (107).jpeg',\n",
              " '/content/Classification-of-COVID-19-chest-X-ray-images/dataset/training/normal/NORMAL2 (133).jpeg',\n",
              " '/content/Classification-of-COVID-19-chest-X-ray-images/dataset/training/normal/NORMAL2-IM-0251-0001.jpeg',\n",
              " '/content/Classification-of-COVID-19-chest-X-ray-images/dataset/training/normal/NORMAL2-IM-0370-0001.jpeg',\n",
              " '/content/Classification-of-COVID-19-chest-X-ray-images/dataset/training/normal/NORMAL2 (166).jpeg',\n",
              " '/content/Classification-of-COVID-19-chest-X-ray-images/dataset/training/normal/NORMAL2 (74).jpeg',\n",
              " '/content/Classification-of-COVID-19-chest-X-ray-images/dataset/training/normal/NORMAL2 (112).jpeg',\n",
              " '/content/Classification-of-COVID-19-chest-X-ray-images/dataset/training/normal/NORMAL2-IM-0207-0001.jpeg',\n",
              " '/content/Classification-of-COVID-19-chest-X-ray-images/dataset/training/normal/NORMAL2 (143).jpeg',\n",
              " '/content/Classification-of-COVID-19-chest-X-ray-images/dataset/training/normal/NORMAL2-IM-0030-0001.jpeg',\n",
              " '/content/Classification-of-COVID-19-chest-X-ray-images/dataset/training/normal/NORMAL2 (98).jpeg',\n",
              " '/content/Classification-of-COVID-19-chest-X-ray-images/dataset/training/normal/NORMAL2 (61).jpeg',\n",
              " '/content/Classification-of-COVID-19-chest-X-ray-images/dataset/training/normal/NORMAL2-IM-0107-0001.jpeg',\n",
              " '/content/Classification-of-COVID-19-chest-X-ray-images/dataset/training/normal/NORMAL2-IM-0271-0001.jpeg',\n",
              " '/content/Classification-of-COVID-19-chest-X-ray-images/dataset/training/normal/NORMAL2-IM-0117-0001.jpeg',\n",
              " '/content/Classification-of-COVID-19-chest-X-ray-images/dataset/training/normal/NORMAL2-IM-0339-0001.jpeg',\n",
              " '/content/Classification-of-COVID-19-chest-X-ray-images/dataset/training/normal/NORMAL2 (194).jpeg',\n",
              " '/content/Classification-of-COVID-19-chest-X-ray-images/dataset/training/normal/NORMAL2-IM-0281-0001.jpeg',\n",
              " '/content/Classification-of-COVID-19-chest-X-ray-images/dataset/training/normal/NORMAL2 (35).jpeg',\n",
              " '/content/Classification-of-COVID-19-chest-X-ray-images/dataset/training/normal/NORMAL2 (10).jpeg',\n",
              " '/content/Classification-of-COVID-19-chest-X-ray-images/dataset/training/normal/NORMAL2-IM-0052-0001.jpeg',\n",
              " '/content/Classification-of-COVID-19-chest-X-ray-images/dataset/training/normal/NORMAL2 (184).jpeg',\n",
              " '/content/Classification-of-COVID-19-chest-X-ray-images/dataset/training/normal/NORMAL2 (51).jpeg',\n",
              " '/content/Classification-of-COVID-19-chest-X-ray-images/dataset/training/normal/NORMAL2 (140).jpeg',\n",
              " '/content/Classification-of-COVID-19-chest-X-ray-images/dataset/training/normal/NORMAL2-IM-0311-0001.jpeg',\n",
              " '/content/Classification-of-COVID-19-chest-X-ray-images/dataset/training/normal/NORMAL2-IM-0300-0001.jpeg',\n",
              " '/content/Classification-of-COVID-19-chest-X-ray-images/dataset/training/normal/NORMAL2 (118).jpeg',\n",
              " '/content/Classification-of-COVID-19-chest-X-ray-images/dataset/training/normal/NORMAL2-IM-0380-0001.jpeg',\n",
              " '/content/Classification-of-COVID-19-chest-X-ray-images/dataset/training/normal/NORMAL2 (111).jpeg',\n",
              " '/content/Classification-of-COVID-19-chest-X-ray-images/dataset/training/normal/NORMAL2 (18).jpeg',\n",
              " '/content/Classification-of-COVID-19-chest-X-ray-images/dataset/training/normal/NORMAL2-IM-0341-0001.jpeg',\n",
              " '/content/Classification-of-COVID-19-chest-X-ray-images/dataset/training/normal/NORMAL2-IM-0141-0001.jpeg',\n",
              " '/content/Classification-of-COVID-19-chest-X-ray-images/dataset/training/normal/NORMAL2-IM-0132-0001.jpeg',\n",
              " '/content/Classification-of-COVID-19-chest-X-ray-images/dataset/training/normal/NORMAL2 (155).jpeg',\n",
              " '/content/Classification-of-COVID-19-chest-X-ray-images/dataset/training/normal/NORMAL2 (2).jpeg',\n",
              " '/content/Classification-of-COVID-19-chest-X-ray-images/dataset/training/normal/NORMAL2-IM-0372-0001.jpeg',\n",
              " '/content/Classification-of-COVID-19-chest-X-ray-images/dataset/training/normal/NORMAL2 (44).jpeg',\n",
              " '/content/Classification-of-COVID-19-chest-X-ray-images/dataset/training/normal/NORMAL2-IM-0060-0001.jpeg',\n",
              " '/content/Classification-of-COVID-19-chest-X-ray-images/dataset/training/normal/NORMAL2 (152).jpeg',\n",
              " '/content/Classification-of-COVID-19-chest-X-ray-images/dataset/training/normal/NORMAL2-IM-0051-0001.jpeg',\n",
              " '/content/Classification-of-COVID-19-chest-X-ray-images/dataset/training/normal/NORMAL2 (88).jpeg',\n",
              " '/content/Classification-of-COVID-19-chest-X-ray-images/dataset/training/normal/NORMAL2 (129).jpeg',\n",
              " '/content/Classification-of-COVID-19-chest-X-ray-images/dataset/training/normal/NORMAL2 (168).jpeg',\n",
              " '/content/Classification-of-COVID-19-chest-X-ray-images/dataset/training/normal/NORMAL2 (91).jpeg',\n",
              " '/content/Classification-of-COVID-19-chest-X-ray-images/dataset/training/normal/NORMAL2 (185).jpeg',\n",
              " '/content/Classification-of-COVID-19-chest-X-ray-images/dataset/training/normal/NORMAL2 (114).jpeg',\n",
              " '/content/Classification-of-COVID-19-chest-X-ray-images/dataset/training/normal/NORMAL2 (63).jpeg',\n",
              " '/content/Classification-of-COVID-19-chest-X-ray-images/dataset/training/normal/NORMAL2 (117).jpeg',\n",
              " '/content/Classification-of-COVID-19-chest-X-ray-images/dataset/training/normal/NORMAL2 (189).jpeg',\n",
              " '/content/Classification-of-COVID-19-chest-X-ray-images/dataset/training/normal/NORMAL2 (125).jpeg',\n",
              " '/content/Classification-of-COVID-19-chest-X-ray-images/dataset/training/normal/NORMAL2-IM-0310-0001.jpeg',\n",
              " '/content/Classification-of-COVID-19-chest-X-ray-images/dataset/training/normal/NORMAL2 (159).jpeg',\n",
              " '/content/Classification-of-COVID-19-chest-X-ray-images/dataset/training/normal/NORMAL2 (178).jpeg',\n",
              " '/content/Classification-of-COVID-19-chest-X-ray-images/dataset/training/normal/NORMAL2-IM-0289-0001.jpeg',\n",
              " '/content/Classification-of-COVID-19-chest-X-ray-images/dataset/training/normal/NORMAL2 (75).jpeg',\n",
              " '/content/Classification-of-COVID-19-chest-X-ray-images/dataset/training/normal/NORMAL2-IM-0292-0001.jpeg',\n",
              " '/content/Classification-of-COVID-19-chest-X-ray-images/dataset/training/normal/NORMAL2-IM-0329-0001.jpeg',\n",
              " '/content/Classification-of-COVID-19-chest-X-ray-images/dataset/training/normal/NORMAL2 (197).jpeg',\n",
              " '/content/Classification-of-COVID-19-chest-X-ray-images/dataset/training/normal/NORMAL2 (71).jpeg',\n",
              " '/content/Classification-of-COVID-19-chest-X-ray-images/dataset/training/normal/NORMAL2 (181).jpeg',\n",
              " '/content/Classification-of-COVID-19-chest-X-ray-images/dataset/training/normal/NORMAL2 (9).jpeg',\n",
              " '/content/Classification-of-COVID-19-chest-X-ray-images/dataset/training/normal/NORMAL2-IM-0029-0001.jpeg',\n",
              " '/content/Classification-of-COVID-19-chest-X-ray-images/dataset/training/normal/NORMAL2-IM-0112-0001.jpeg',\n",
              " '/content/Classification-of-COVID-19-chest-X-ray-images/dataset/training/normal/NORMAL2 (103).jpeg',\n",
              " '/content/Classification-of-COVID-19-chest-X-ray-images/dataset/training/normal/NORMAL2 (123).jpeg',\n",
              " '/content/Classification-of-COVID-19-chest-X-ray-images/dataset/training/normal/NORMAL2 (56).jpeg',\n",
              " '/content/Classification-of-COVID-19-chest-X-ray-images/dataset/training/normal/NORMAL2 (161).jpeg',\n",
              " '/content/Classification-of-COVID-19-chest-X-ray-images/dataset/training/normal/NORMAL2-IM-0323-0001.jpeg',\n",
              " '/content/Classification-of-COVID-19-chest-X-ray-images/dataset/training/normal/NORMAL2-IM-0102-0001.jpeg',\n",
              " '/content/Classification-of-COVID-19-chest-X-ray-images/dataset/training/normal/1.jpeg',\n",
              " '/content/Classification-of-COVID-19-chest-X-ray-images/dataset/training/normal/NORMAL2 (82).jpeg',\n",
              " '/content/Classification-of-COVID-19-chest-X-ray-images/dataset/training/normal/NORMAL2 (154).jpeg',\n",
              " '/content/Classification-of-COVID-19-chest-X-ray-images/dataset/training/normal/NORMAL2 (171).jpeg',\n",
              " '/content/Classification-of-COVID-19-chest-X-ray-images/dataset/training/normal/NORMAL2 (108).jpeg',\n",
              " '/content/Classification-of-COVID-19-chest-X-ray-images/dataset/training/normal/NORMAL2 (109).jpeg',\n",
              " '/content/Classification-of-COVID-19-chest-X-ray-images/dataset/training/normal/NORMAL2 (52).jpeg',\n",
              " '/content/Classification-of-COVID-19-chest-X-ray-images/dataset/training/normal/NORMAL2 (175).jpeg',\n",
              " '/content/Classification-of-COVID-19-chest-X-ray-images/dataset/training/normal/NORMAL2 (164).jpeg',\n",
              " '/content/Classification-of-COVID-19-chest-X-ray-images/dataset/training/normal/NORMAL2 (104).jpeg',\n",
              " '/content/Classification-of-COVID-19-chest-X-ray-images/dataset/training/normal/NORMAL2 (22).jpeg',\n",
              " '/content/Classification-of-COVID-19-chest-X-ray-images/dataset/training/normal/NORMAL2-IM-0353-0001.jpeg',\n",
              " '/content/Classification-of-COVID-19-chest-X-ray-images/dataset/training/normal/NORMAL2-IM-0350-0001.jpeg',\n",
              " '/content/Classification-of-COVID-19-chest-X-ray-images/dataset/training/normal/NORMAL2 (199).jpeg',\n",
              " '/content/Classification-of-COVID-19-chest-X-ray-images/dataset/training/normal/NORMAL2 (99).jpeg',\n",
              " '/content/Classification-of-COVID-19-chest-X-ray-images/dataset/training/normal/NORMAL2 (90).jpeg',\n",
              " '/content/Classification-of-COVID-19-chest-X-ray-images/dataset/training/normal/NORMAL2 (49).jpeg',\n",
              " '/content/Classification-of-COVID-19-chest-X-ray-images/dataset/training/normal/NORMAL2 (3).jpeg',\n",
              " '/content/Classification-of-COVID-19-chest-X-ray-images/dataset/training/normal/NORMAL2-IM-0198-0001.jpeg',\n",
              " '/content/Classification-of-COVID-19-chest-X-ray-images/dataset/training/normal/NORMAL2-IM-0274-0001.jpeg',\n",
              " '/content/Classification-of-COVID-19-chest-X-ray-images/dataset/training/normal/NORMAL2 (29).jpeg',\n",
              " '/content/Classification-of-COVID-19-chest-X-ray-images/dataset/training/normal/NORMAL2 (110).jpeg',\n",
              " '/content/Classification-of-COVID-19-chest-X-ray-images/dataset/training/normal/NORMAL2 (124).jpeg',\n",
              " '/content/Classification-of-COVID-19-chest-X-ray-images/dataset/training/normal/NORMAL2 (65).jpeg',\n",
              " '/content/Classification-of-COVID-19-chest-X-ray-images/dataset/training/normal/NORMAL2 (23).jpeg',\n",
              " '/content/Classification-of-COVID-19-chest-X-ray-images/dataset/training/normal/NORMAL2 (174).jpeg',\n",
              " '/content/Classification-of-COVID-19-chest-X-ray-images/dataset/training/normal/NORMAL2 (86).jpeg',\n",
              " '/content/Classification-of-COVID-19-chest-X-ray-images/dataset/training/normal/NORMAL2 (179).jpeg',\n",
              " '/content/Classification-of-COVID-19-chest-X-ray-images/dataset/training/normal/NORMAL2-IM-0110-0001.jpeg',\n",
              " '/content/Classification-of-COVID-19-chest-X-ray-images/dataset/training/normal/NORMAL2 (142).jpeg',\n",
              " '/content/Classification-of-COVID-19-chest-X-ray-images/dataset/training/normal/NORMAL2 (115).jpeg',\n",
              " '/content/Classification-of-COVID-19-chest-X-ray-images/dataset/training/normal/NORMAL2 (73).jpeg',\n",
              " '/content/Classification-of-COVID-19-chest-X-ray-images/dataset/training/normal/NORMAL2 (76).jpeg',\n",
              " '/content/Classification-of-COVID-19-chest-X-ray-images/dataset/training/normal/NORMAL2-IM-0357-0001.jpeg',\n",
              " '/content/Classification-of-COVID-19-chest-X-ray-images/dataset/training/normal/NORMAL2 (47).jpeg',\n",
              " '/content/Classification-of-COVID-19-chest-X-ray-images/dataset/training/normal/NORMAL2 (31).jpeg',\n",
              " '/content/Classification-of-COVID-19-chest-X-ray-images/dataset/training/normal/NORMAL2 (169).jpeg',\n",
              " '/content/Classification-of-COVID-19-chest-X-ray-images/dataset/training/normal/NORMAL2 (156).jpeg',\n",
              " '/content/Classification-of-COVID-19-chest-X-ray-images/dataset/training/normal/NORMAL2 (188).jpeg',\n",
              " '/content/Classification-of-COVID-19-chest-X-ray-images/dataset/training/normal/NORMAL2-IM-0347-0001.jpeg',\n",
              " '/content/Classification-of-COVID-19-chest-X-ray-images/dataset/training/normal/NORMAL2 (79).jpeg',\n",
              " '/content/Classification-of-COVID-19-chest-X-ray-images/dataset/training/normal/NORMAL2-IM-0273-0001.jpeg',\n",
              " '/content/Classification-of-COVID-19-chest-X-ray-images/dataset/training/normal/NORMAL2 (16).jpeg',\n",
              " '/content/Classification-of-COVID-19-chest-X-ray-images/dataset/training/normal/NORMAL2 (190).jpeg',\n",
              " '/content/Classification-of-COVID-19-chest-X-ray-images/dataset/training/normal/NORMAL2 (121).jpeg',\n",
              " '/content/Classification-of-COVID-19-chest-X-ray-images/dataset/training/normal/NORMAL2 (128).jpeg',\n",
              " '/content/Classification-of-COVID-19-chest-X-ray-images/dataset/training/normal/NORMAL2-IM-0130-0001.jpeg',\n",
              " '/content/Classification-of-COVID-19-chest-X-ray-images/dataset/training/normal/NORMAL2-IM-0081-0001.jpeg',\n",
              " '/content/Classification-of-COVID-19-chest-X-ray-images/dataset/training/normal/NORMAL2-IM-0072-0001.jpeg',\n",
              " '/content/Classification-of-COVID-19-chest-X-ray-images/dataset/training/normal/NORMAL2 (186).jpeg',\n",
              " '/content/Classification-of-COVID-19-chest-X-ray-images/dataset/training/normal/NORMAL2-IM-0033-0001.jpeg',\n",
              " '/content/Classification-of-COVID-19-chest-X-ray-images/dataset/training/normal/NORMAL2 (54).jpeg',\n",
              " '/content/Classification-of-COVID-19-chest-X-ray-images/dataset/training/normal/NORMAL2-IM-0058-0001.jpeg',\n",
              " '/content/Classification-of-COVID-19-chest-X-ray-images/dataset/training/normal/NORMAL2 (30).jpeg',\n",
              " '/content/Classification-of-COVID-19-chest-X-ray-images/dataset/training/normal/NORMAL2 (137).jpeg',\n",
              " '/content/Classification-of-COVID-19-chest-X-ray-images/dataset/training/normal/NORMAL2 (62).jpeg',\n",
              " '/content/Classification-of-COVID-19-chest-X-ray-images/dataset/training/normal/NORMAL2-IM-0059-0001.jpeg',\n",
              " '/content/Classification-of-COVID-19-chest-X-ray-images/dataset/training/normal/NORMAL2 (126).jpeg',\n",
              " '/content/Classification-of-COVID-19-chest-X-ray-images/dataset/training/normal/NORMAL2 (92).jpeg',\n",
              " '/content/Classification-of-COVID-19-chest-X-ray-images/dataset/training/normal/NORMAL2 (135).jpeg',\n",
              " '/content/Classification-of-COVID-19-chest-X-ray-images/dataset/training/normal/NORMAL2-IM-0129-0001.jpeg',\n",
              " '/content/Classification-of-COVID-19-chest-X-ray-images/dataset/training/normal/NORMAL2 (193).jpeg',\n",
              " '/content/Classification-of-COVID-19-chest-X-ray-images/dataset/training/normal/NORMAL2 (4).jpeg',\n",
              " '/content/Classification-of-COVID-19-chest-X-ray-images/dataset/training/normal/NORMAL2 (147).jpeg',\n",
              " '/content/Classification-of-COVID-19-chest-X-ray-images/dataset/training/normal/NORMAL2 (85).jpeg',\n",
              " '/content/Classification-of-COVID-19-chest-X-ray-images/dataset/training/normal/NORMAL2 (146).jpeg',\n",
              " '/content/Classification-of-COVID-19-chest-X-ray-images/dataset/training/normal/NORMAL2 (158).jpeg',\n",
              " '/content/Classification-of-COVID-19-chest-X-ray-images/dataset/training/normal/NORMAL2-IM-0095-0001.jpeg',\n",
              " '/content/Classification-of-COVID-19-chest-X-ray-images/dataset/training/normal/NORMAL2 (12).jpeg',\n",
              " '/content/Classification-of-COVID-19-chest-X-ray-images/dataset/training/normal/NORMAL2 (182).jpeg',\n",
              " '/content/Classification-of-COVID-19-chest-X-ray-images/dataset/training/normal/NORMAL2 (144).jpeg',\n",
              " '/content/Classification-of-COVID-19-chest-X-ray-images/dataset/training/normal/NORMAL2 (27).jpeg',\n",
              " '/content/Classification-of-COVID-19-chest-X-ray-images/dataset/training/normal/NORMAL2-IM-0007-0001.jpeg',\n",
              " '/content/Classification-of-COVID-19-chest-X-ray-images/dataset/training/normal/NORMAL2 (145).jpeg',\n",
              " '/content/Classification-of-COVID-19-chest-X-ray-images/dataset/training/normal/NORMAL2-IM-0319-0001.jpeg',\n",
              " '/content/Classification-of-COVID-19-chest-X-ray-images/dataset/training/normal/NORMAL2-IM-0333-0001.jpeg',\n",
              " '/content/Classification-of-COVID-19-chest-X-ray-images/dataset/training/normal/NORMAL2 (94).jpeg',\n",
              " '/content/Classification-of-COVID-19-chest-X-ray-images/dataset/training/normal/NORMAL2 (116).jpeg',\n",
              " '/content/Classification-of-COVID-19-chest-X-ray-images/dataset/training/normal/NORMAL2 (6).jpeg',\n",
              " '/content/Classification-of-COVID-19-chest-X-ray-images/dataset/training/normal/NORMAL2-IM-0276-0001.jpeg',\n",
              " '/content/Classification-of-COVID-19-chest-X-ray-images/dataset/training/normal/NORMAL2-IM-0145-0001.jpeg',\n",
              " '/content/Classification-of-COVID-19-chest-X-ray-images/dataset/training/normal/NORMAL2-IM-0337-0001.jpeg',\n",
              " '/content/Classification-of-COVID-19-chest-X-ray-images/dataset/training/normal/NORMAL2 (64).jpeg',\n",
              " '/content/Classification-of-COVID-19-chest-X-ray-images/dataset/training/normal/NORMAL2 (28).jpeg',\n",
              " '/content/Classification-of-COVID-19-chest-X-ray-images/dataset/training/normal/NORMAL2-IM-0381-0001.jpeg',\n",
              " '/content/Classification-of-COVID-19-chest-X-ray-images/dataset/training/normal/NORMAL2-IM-0120-0001.jpeg',\n",
              " '/content/Classification-of-COVID-19-chest-X-ray-images/dataset/training/normal/NORMAL2 (200).jpeg',\n",
              " '/content/Classification-of-COVID-19-chest-X-ray-images/dataset/training/normal/NORMAL2-IM-0302-0001.jpeg',\n",
              " '/content/Classification-of-COVID-19-chest-X-ray-images/dataset/training/normal/NORMAL2 (59).jpeg',\n",
              " '/content/Classification-of-COVID-19-chest-X-ray-images/dataset/training/normal/NORMAL2 (196).jpeg',\n",
              " '/content/Classification-of-COVID-19-chest-X-ray-images/dataset/training/normal/NORMAL2-IM-0301-0001.jpeg',\n",
              " '/content/Classification-of-COVID-19-chest-X-ray-images/dataset/training/normal/NORMAL2 (187).jpeg',\n",
              " '/content/Classification-of-COVID-19-chest-X-ray-images/dataset/training/normal/NORMAL2-IM-0312-0001.jpeg',\n",
              " '/content/Classification-of-COVID-19-chest-X-ray-images/dataset/training/normal/NORMAL2 (40).jpeg',\n",
              " '/content/Classification-of-COVID-19-chest-X-ray-images/dataset/training/normal/NORMAL2 (1).jpeg',\n",
              " '/content/Classification-of-COVID-19-chest-X-ray-images/dataset/training/normal/NORMAL2 (81).jpeg',\n",
              " '/content/Classification-of-COVID-19-chest-X-ray-images/dataset/training/normal/NORMAL2-IM-0259-0001.jpeg',\n",
              " '/content/Classification-of-COVID-19-chest-X-ray-images/dataset/training/normal/NORMAL2 (167).jpeg',\n",
              " '/content/Classification-of-COVID-19-chest-X-ray-images/dataset/training/normal/NORMAL2 (102).jpeg',\n",
              " '/content/Classification-of-COVID-19-chest-X-ray-images/dataset/training/normal/NORMAL2 (21).jpeg',\n",
              " '/content/Classification-of-COVID-19-chest-X-ray-images/dataset/training/normal/NORMAL2 (45).jpeg',\n",
              " '/content/Classification-of-COVID-19-chest-X-ray-images/dataset/training/normal/NORMAL2-IM-0277-0001.jpeg',\n",
              " '/content/Classification-of-COVID-19-chest-X-ray-images/dataset/training/normal/NORMAL2 (25).jpeg',\n",
              " '/content/Classification-of-COVID-19-chest-X-ray-images/dataset/training/normal/NORMAL2 (191).jpeg',\n",
              " '/content/Classification-of-COVID-19-chest-X-ray-images/dataset/training/normal/NORMAL2 (78).jpeg',\n",
              " '/content/Classification-of-COVID-19-chest-X-ray-images/dataset/training/normal/NORMAL2 (5).jpeg',\n",
              " '/content/Classification-of-COVID-19-chest-X-ray-images/dataset/training/normal/NORMAL2-IM-0086-0001.jpeg',\n",
              " '/content/Classification-of-COVID-19-chest-X-ray-images/dataset/training/normal/NORMAL2 (127).jpeg',\n",
              " '/content/Classification-of-COVID-19-chest-X-ray-images/dataset/training/normal/NORMAL2 (93).jpeg',\n",
              " '/content/Classification-of-COVID-19-chest-X-ray-images/dataset/training/normal/NORMAL2-IM-0331-0001.jpeg',\n",
              " '/content/Classification-of-COVID-19-chest-X-ray-images/dataset/training/normal/NORMAL2-IM-0105-0001.jpeg',\n",
              " '/content/Classification-of-COVID-19-chest-X-ray-images/dataset/training/normal/NORMAL2 (57).jpeg',\n",
              " '/content/Classification-of-COVID-19-chest-X-ray-images/dataset/training/normal/NORMAL2 (70).jpeg',\n",
              " '/content/Classification-of-COVID-19-chest-X-ray-images/dataset/training/normal/NORMAL2 (113).jpeg',\n",
              " '/content/Classification-of-COVID-19-chest-X-ray-images/dataset/training/normal/NORMAL2 (83).jpeg',\n",
              " '/content/Classification-of-COVID-19-chest-X-ray-images/dataset/training/normal/NORMAL2 (192).jpeg',\n",
              " '/content/Classification-of-COVID-19-chest-X-ray-images/dataset/training/normal/NORMAL2-IM-0348-0001.jpeg',\n",
              " '/content/Classification-of-COVID-19-chest-X-ray-images/dataset/training/normal/NORMAL2-IM-0343-0001.jpeg',\n",
              " '/content/Classification-of-COVID-19-chest-X-ray-images/dataset/training/normal/NORMAL2-IM-0287-0001.jpeg',\n",
              " '/content/Classification-of-COVID-19-chest-X-ray-images/dataset/training/normal/NORMAL2-IM-0013-0001.jpeg',\n",
              " '/content/Classification-of-COVID-19-chest-X-ray-images/dataset/training/normal/NORMAL2 (170).jpeg',\n",
              " '/content/Classification-of-COVID-19-chest-X-ray-images/dataset/training/normal/NORMAL2 (119).jpeg',\n",
              " '/content/Classification-of-COVID-19-chest-X-ray-images/dataset/training/normal/NORMAL2-IM-0092-0001.jpeg',\n",
              " '/content/Classification-of-COVID-19-chest-X-ray-images/dataset/training/normal/NORMAL2-IM-0332-0001.jpeg',\n",
              " '/content/Classification-of-COVID-19-chest-X-ray-images/dataset/training/normal/NORMAL2-IM-0213-0001.jpeg',\n",
              " '/content/Classification-of-COVID-19-chest-X-ray-images/dataset/training/normal/NORMAL2 (160).jpeg',\n",
              " '/content/Classification-of-COVID-19-chest-X-ray-images/dataset/training/normal/NORMAL2-IM-0282-0001.jpeg',\n",
              " '/content/Classification-of-COVID-19-chest-X-ray-images/dataset/training/normal/NORMAL2 (131).jpeg',\n",
              " '/content/Classification-of-COVID-19-chest-X-ray-images/dataset/training/normal/NORMAL2 (11).jpeg',\n",
              " '/content/Classification-of-COVID-19-chest-X-ray-images/dataset/training/normal/NORMAL2-IM-0028-0001.jpeg',\n",
              " '/content/Classification-of-COVID-19-chest-X-ray-images/dataset/training/normal/NORMAL2-IM-0196-0001.jpeg',\n",
              " '/content/Classification-of-COVID-19-chest-X-ray-images/dataset/training/normal/NORMAL2 (105).jpeg',\n",
              " '/content/Classification-of-COVID-19-chest-X-ray-images/dataset/training/normal/NORMAL2 (68).jpeg',\n",
              " '/content/Classification-of-COVID-19-chest-X-ray-images/dataset/training/normal/NORMAL2 (20).jpeg',\n",
              " '/content/Classification-of-COVID-19-chest-X-ray-images/dataset/training/normal/NORMAL2-IM-0305-0001.jpeg',\n",
              " '/content/Classification-of-COVID-19-chest-X-ray-images/dataset/training/normal/NORMAL2 (15).jpeg',\n",
              " '/content/Classification-of-COVID-19-chest-X-ray-images/dataset/training/normal/NORMAL2 (77).jpeg',\n",
              " '/content/Classification-of-COVID-19-chest-X-ray-images/dataset/training/normal/NORMAL2 (195).jpeg',\n",
              " '/content/Classification-of-COVID-19-chest-X-ray-images/dataset/training/normal/NORMAL2-IM-0359-0001.jpeg',\n",
              " '/content/Classification-of-COVID-19-chest-X-ray-images/dataset/training/normal/NORMAL2 (151).jpeg',\n",
              " '/content/Classification-of-COVID-19-chest-X-ray-images/dataset/training/normal/NORMAL2 (39).jpeg',\n",
              " '/content/Classification-of-COVID-19-chest-X-ray-images/dataset/training/normal/NORMAL2-IM-0286-0001.jpeg',\n",
              " '/content/Classification-of-COVID-19-chest-X-ray-images/dataset/training/normal/NORMAL2 (150).jpeg',\n",
              " '/content/Classification-of-COVID-19-chest-X-ray-images/dataset/training/normal/NORMAL2 (130).jpeg',\n",
              " '/content/Classification-of-COVID-19-chest-X-ray-images/dataset/training/normal/NORMAL2 (198).jpeg',\n",
              " '/content/Classification-of-COVID-19-chest-X-ray-images/dataset/training/normal/NORMAL2 (53).jpeg',\n",
              " '/content/Classification-of-COVID-19-chest-X-ray-images/dataset/training/normal/NORMAL2 (7).jpeg',\n",
              " '/content/Classification-of-COVID-19-chest-X-ray-images/dataset/training/normal/NORMAL2 (153).jpeg',\n",
              " '/content/Classification-of-COVID-19-chest-X-ray-images/dataset/training/normal/NORMAL2 (46).jpeg',\n",
              " '/content/Classification-of-COVID-19-chest-X-ray-images/dataset/training/normal/NORMAL2 (97).jpeg',\n",
              " '/content/Classification-of-COVID-19-chest-X-ray-images/dataset/training/normal/NORMAL2 (87).jpeg',\n",
              " '/content/Classification-of-COVID-19-chest-X-ray-images/dataset/training/normal/NORMAL2-IM-0317-0001.jpeg',\n",
              " '/content/Classification-of-COVID-19-chest-X-ray-images/dataset/training/normal/NORMAL2-IM-0111-0001.jpeg',\n",
              " '/content/Classification-of-COVID-19-chest-X-ray-images/dataset/training/normal/NORMAL2 (66).jpeg',\n",
              " '/content/Classification-of-COVID-19-chest-X-ray-images/dataset/training/normal/NORMAL2 (84).jpeg',\n",
              " '/content/Classification-of-COVID-19-chest-X-ray-images/dataset/training/normal/NORMAL2 (89).jpeg',\n",
              " '/content/Classification-of-COVID-19-chest-X-ray-images/dataset/training/normal/NORMAL2 (149).jpeg',\n",
              " '/content/Classification-of-COVID-19-chest-X-ray-images/dataset/training/normal/NORMAL2 (24).jpeg',\n",
              " '/content/Classification-of-COVID-19-chest-X-ray-images/dataset/training/normal/NORMAL2 (163).jpeg',\n",
              " '/content/Classification-of-COVID-19-chest-X-ray-images/dataset/training/normal/NORMAL2 (26).jpeg',\n",
              " '/content/Classification-of-COVID-19-chest-X-ray-images/dataset/training/normal/NORMAL2 (19).jpeg',\n",
              " '/content/Classification-of-COVID-19-chest-X-ray-images/dataset/training/normal/NORMAL2 (36).jpeg',\n",
              " '/content/Classification-of-COVID-19-chest-X-ray-images/dataset/training/normal/NORMAL2 (100).jpeg',\n",
              " '/content/Classification-of-COVID-19-chest-X-ray-images/dataset/training/normal/NORMAL2 (58).jpeg',\n",
              " '/content/Classification-of-COVID-19-chest-X-ray-images/dataset/training/normal/NORMAL2-IM-0307-0001.jpeg',\n",
              " '/content/Classification-of-COVID-19-chest-X-ray-images/dataset/training/normal/NORMAL2 (134).jpeg',\n",
              " '/content/Classification-of-COVID-19-chest-X-ray-images/dataset/training/normal/NORMAL2-IM-0361-0001.jpeg',\n",
              " '/content/Classification-of-COVID-19-chest-X-ray-images/dataset/training/normal/NORMAL2-IM-0066-0001.jpeg',\n",
              " '/content/Classification-of-COVID-19-chest-X-ray-images/dataset/training/normal/NORMAL2 (139).jpeg',\n",
              " '/content/Classification-of-COVID-19-chest-X-ray-images/dataset/training/normal/NORMAL2-IM-0096-0001.jpeg',\n",
              " '/content/Classification-of-COVID-19-chest-X-ray-images/dataset/training/normal/NORMAL2 (165).jpeg',\n",
              " '/content/Classification-of-COVID-19-chest-X-ray-images/dataset/training/normal/NORMAL2 (162).jpeg',\n",
              " '/content/Classification-of-COVID-19-chest-X-ray-images/dataset/training/normal/NORMAL2-IM-0073-0001.jpeg',\n",
              " '/content/Classification-of-COVID-19-chest-X-ray-images/dataset/training/normal/NORMAL2 (17).jpeg',\n",
              " '/content/Classification-of-COVID-19-chest-X-ray-images/dataset/training/infected/covid_train (27).jpeg',\n",
              " '/content/Classification-of-COVID-19-chest-X-ray-images/dataset/training/infected/covid_train (1).png',\n",
              " '/content/Classification-of-COVID-19-chest-X-ray-images/dataset/training/infected/covid_train87.jpeg',\n",
              " '/content/Classification-of-COVID-19-chest-X-ray-images/dataset/training/infected/covid_train (1).jpg',\n",
              " '/content/Classification-of-COVID-19-chest-X-ray-images/dataset/training/infected/covid_train47.png',\n",
              " '/content/Classification-of-COVID-19-chest-X-ray-images/dataset/training/infected/covid_train (105).jpg',\n",
              " '/content/Classification-of-COVID-19-chest-X-ray-images/dataset/training/infected/covid_train70.jpg',\n",
              " '/content/Classification-of-COVID-19-chest-X-ray-images/dataset/training/infected/covid_train23.jpeg',\n",
              " '/content/Classification-of-COVID-19-chest-X-ray-images/dataset/training/infected/covid_train (8).jpg',\n",
              " '/content/Classification-of-COVID-19-chest-X-ray-images/dataset/training/infected/covid_train (11).jpg',\n",
              " '/content/Classification-of-COVID-19-chest-X-ray-images/dataset/training/infected/covid_train (101).jpg',\n",
              " '/content/Classification-of-COVID-19-chest-X-ray-images/dataset/training/infected/covid_train (44).png',\n",
              " '/content/Classification-of-COVID-19-chest-X-ray-images/dataset/training/infected/covid_train25.jpeg',\n",
              " '/content/Classification-of-COVID-19-chest-X-ray-images/dataset/training/infected/covid_train (31).jpeg',\n",
              " '/content/Classification-of-COVID-19-chest-X-ray-images/dataset/training/infected/covid_train67.jpg',\n",
              " '/content/Classification-of-COVID-19-chest-X-ray-images/dataset/training/infected/covid_train19.jpeg',\n",
              " '/content/Classification-of-COVID-19-chest-X-ray-images/dataset/training/infected/covid_train (10).jpg',\n",
              " '/content/Classification-of-COVID-19-chest-X-ray-images/dataset/training/infected/covid_train (9).jpg',\n",
              " '/content/Classification-of-COVID-19-chest-X-ray-images/dataset/training/infected/covid_train (25).jpg',\n",
              " '/content/Classification-of-COVID-19-chest-X-ray-images/dataset/training/infected/covid_train22.jpeg',\n",
              " '/content/Classification-of-COVID-19-chest-X-ray-images/dataset/training/infected/covid_train (34).png',\n",
              " '/content/Classification-of-COVID-19-chest-X-ray-images/dataset/training/infected/covid_train56.jpg',\n",
              " '/content/Classification-of-COVID-19-chest-X-ray-images/dataset/training/infected/covid_train (26).png',\n",
              " '/content/Classification-of-COVID-19-chest-X-ray-images/dataset/training/infected/covid_train (44).jpg',\n",
              " '/content/Classification-of-COVID-19-chest-X-ray-images/dataset/training/infected/covid_train82.jpeg',\n",
              " '/content/Classification-of-COVID-19-chest-X-ray-images/dataset/training/infected/covid_train (23).jpeg',\n",
              " '/content/Classification-of-COVID-19-chest-X-ray-images/dataset/training/infected/covid_train (14).jpeg',\n",
              " '/content/Classification-of-COVID-19-chest-X-ray-images/dataset/training/infected/covid_train74.jpeg',\n",
              " '/content/Classification-of-COVID-19-chest-X-ray-images/dataset/training/infected/covid_train (72).jpg',\n",
              " '/content/Classification-of-COVID-19-chest-X-ray-images/dataset/training/infected/covid_train77.jpeg',\n",
              " '/content/Classification-of-COVID-19-chest-X-ray-images/dataset/training/infected/covid_train13.png',\n",
              " '/content/Classification-of-COVID-19-chest-X-ray-images/dataset/training/infected/covid_train14.png',\n",
              " '/content/Classification-of-COVID-19-chest-X-ray-images/dataset/training/infected/covid_train (18).jpg',\n",
              " '/content/Classification-of-COVID-19-chest-X-ray-images/dataset/training/infected/covid_train (79).jpg',\n",
              " '/content/Classification-of-COVID-19-chest-X-ray-images/dataset/training/infected/covid_train (13).jpeg',\n",
              " '/content/Classification-of-COVID-19-chest-X-ray-images/dataset/training/infected/covid_train60.png',\n",
              " '/content/Classification-of-COVID-19-chest-X-ray-images/dataset/training/infected/covid_train (41).jpeg',\n",
              " '/content/Classification-of-COVID-19-chest-X-ray-images/dataset/training/infected/covid_train (35).jpg',\n",
              " '/content/Classification-of-COVID-19-chest-X-ray-images/dataset/training/infected/covid_train (53).jpg',\n",
              " '/content/Classification-of-COVID-19-chest-X-ray-images/dataset/training/infected/covid_train (99).jpg',\n",
              " '/content/Classification-of-COVID-19-chest-X-ray-images/dataset/training/infected/covid_train (76).jpg',\n",
              " '/content/Classification-of-COVID-19-chest-X-ray-images/dataset/training/infected/covid_train (40).png',\n",
              " '/content/Classification-of-COVID-19-chest-X-ray-images/dataset/training/infected/covid_train (52).jpg',\n",
              " '/content/Classification-of-COVID-19-chest-X-ray-images/dataset/training/infected/covid_train (70).jpg',\n",
              " '/content/Classification-of-COVID-19-chest-X-ray-images/dataset/training/infected/covid_train (6).jpg',\n",
              " '/content/Classification-of-COVID-19-chest-X-ray-images/dataset/training/infected/covid_train89.jpeg',\n",
              " '/content/Classification-of-COVID-19-chest-X-ray-images/dataset/training/infected/covid_train (17).png',\n",
              " '/content/Classification-of-COVID-19-chest-X-ray-images/dataset/training/infected/covid_train (24).jpeg',\n",
              " '/content/Classification-of-COVID-19-chest-X-ray-images/dataset/training/infected/covid_train (26).jpg',\n",
              " '/content/Classification-of-COVID-19-chest-X-ray-images/dataset/training/infected/covid_train (9).jpeg',\n",
              " '/content/Classification-of-COVID-19-chest-X-ray-images/dataset/training/infected/covid_train69.jpg',\n",
              " '/content/Classification-of-COVID-19-chest-X-ray-images/dataset/training/infected/covid_train (14).jpg',\n",
              " '/content/Classification-of-COVID-19-chest-X-ray-images/dataset/training/infected/covid_train40.jpeg',\n",
              " '/content/Classification-of-COVID-19-chest-X-ray-images/dataset/training/infected/covid_train (33).png',\n",
              " '/content/Classification-of-COVID-19-chest-X-ray-images/dataset/training/infected/covid_train88.jpeg',\n",
              " '/content/Classification-of-COVID-19-chest-X-ray-images/dataset/training/infected/covid_train30.jpeg',\n",
              " '/content/Classification-of-COVID-19-chest-X-ray-images/dataset/training/infected/covid_train (28).jpeg',\n",
              " '/content/Classification-of-COVID-19-chest-X-ray-images/dataset/training/infected/covid_train (84).jpg',\n",
              " '/content/Classification-of-COVID-19-chest-X-ray-images/dataset/training/infected/covid_train (47).png',\n",
              " '/content/Classification-of-COVID-19-chest-X-ray-images/dataset/training/infected/covid_train (28).png',\n",
              " '/content/Classification-of-COVID-19-chest-X-ray-images/dataset/training/infected/covid_train66.jpg',\n",
              " '/content/Classification-of-COVID-19-chest-X-ray-images/dataset/training/infected/covid_train (34).jpeg',\n",
              " '/content/Classification-of-COVID-19-chest-X-ray-images/dataset/training/infected/covid_train (38).jpeg',\n",
              " '/content/Classification-of-COVID-19-chest-X-ray-images/dataset/training/infected/covid_train (97).jpg',\n",
              " '/content/Classification-of-COVID-19-chest-X-ray-images/dataset/training/infected/covid_train (52).jpeg',\n",
              " '/content/Classification-of-COVID-19-chest-X-ray-images/dataset/training/infected/covid_train83.png',\n",
              " '/content/Classification-of-COVID-19-chest-X-ray-images/dataset/training/infected/covid_train43.jpeg',\n",
              " '/content/Classification-of-COVID-19-chest-X-ray-images/dataset/training/infected/covid_train (26).jpeg',\n",
              " '/content/Classification-of-COVID-19-chest-X-ray-images/dataset/training/infected/covid_train (46).png',\n",
              " '/content/Classification-of-COVID-19-chest-X-ray-images/dataset/training/infected/covid_train9.png',\n",
              " '/content/Classification-of-COVID-19-chest-X-ray-images/dataset/training/infected/covid_train (37).png',\n",
              " '/content/Classification-of-COVID-19-chest-X-ray-images/dataset/training/infected/covid_train81.jpeg',\n",
              " '/content/Classification-of-COVID-19-chest-X-ray-images/dataset/training/infected/covid_train (15).jpg',\n",
              " '/content/Classification-of-COVID-19-chest-X-ray-images/dataset/training/infected/covid_train (42).jpeg',\n",
              " '/content/Classification-of-COVID-19-chest-X-ray-images/dataset/training/infected/covid_train50.png',\n",
              " '/content/Classification-of-COVID-19-chest-X-ray-images/dataset/training/infected/covid_train (94).jpg',\n",
              " '/content/Classification-of-COVID-19-chest-X-ray-images/dataset/training/infected/covid_train (50).jpg',\n",
              " '/content/Classification-of-COVID-19-chest-X-ray-images/dataset/training/infected/covid_train21.png',\n",
              " '/content/Classification-of-COVID-19-chest-X-ray-images/dataset/training/infected/covid_train4.jpg',\n",
              " '/content/Classification-of-COVID-19-chest-X-ray-images/dataset/training/infected/covid_train55.jpg',\n",
              " '/content/Classification-of-COVID-19-chest-X-ray-images/dataset/training/infected/covid_train (34).jpg',\n",
              " '/content/Classification-of-COVID-19-chest-X-ray-images/dataset/training/infected/covid_train (4).jpg',\n",
              " '/content/Classification-of-COVID-19-chest-X-ray-images/dataset/training/infected/covid_train (77).jpg',\n",
              " '/content/Classification-of-COVID-19-chest-X-ray-images/dataset/training/infected/covid_train (41).jpg',\n",
              " '/content/Classification-of-COVID-19-chest-X-ray-images/dataset/training/infected/covid_train (83).jpg',\n",
              " '/content/Classification-of-COVID-19-chest-X-ray-images/dataset/training/infected/covid_train (43).jpeg',\n",
              " '/content/Classification-of-COVID-19-chest-X-ray-images/dataset/training/infected/covid_train (69).jpg',\n",
              " '/content/Classification-of-COVID-19-chest-X-ray-images/dataset/training/infected/covid_train65.jpg',\n",
              " '/content/Classification-of-COVID-19-chest-X-ray-images/dataset/training/infected/covid_train (32).jpeg',\n",
              " '/content/Classification-of-COVID-19-chest-X-ray-images/dataset/training/infected/covid_train16.png',\n",
              " '/content/Classification-of-COVID-19-chest-X-ray-images/dataset/training/infected/covid_train (42).png',\n",
              " '/content/Classification-of-COVID-19-chest-X-ray-images/dataset/training/infected/covid_train (71).jpg',\n",
              " '/content/Classification-of-COVID-19-chest-X-ray-images/dataset/training/infected/covid_train (39).jpg',\n",
              " '/content/Classification-of-COVID-19-chest-X-ray-images/dataset/training/infected/covid_train (27).jpg',\n",
              " '/content/Classification-of-COVID-19-chest-X-ray-images/dataset/training/infected/covid_train (45).jpeg',\n",
              " '/content/Classification-of-COVID-19-chest-X-ray-images/dataset/training/infected/covid_train (41).png',\n",
              " '/content/Classification-of-COVID-19-chest-X-ray-images/dataset/training/infected/covid_train (7).png',\n",
              " '/content/Classification-of-COVID-19-chest-X-ray-images/dataset/training/infected/covid_train (36).jpeg',\n",
              " '/content/Classification-of-COVID-19-chest-X-ray-images/dataset/training/infected/covid_train (56).jpg',\n",
              " '/content/Classification-of-COVID-19-chest-X-ray-images/dataset/training/infected/covid_train (1).jpeg',\n",
              " '/content/Classification-of-COVID-19-chest-X-ray-images/dataset/training/infected/covid_train (67).jpg',\n",
              " '/content/Classification-of-COVID-19-chest-X-ray-images/dataset/training/infected/covid_train28.jpeg',\n",
              " '/content/Classification-of-COVID-19-chest-X-ray-images/dataset/training/infected/covid_train (38).png',\n",
              " '/content/Classification-of-COVID-19-chest-X-ray-images/dataset/training/infected/covid_train (50).jpeg',\n",
              " '/content/Classification-of-COVID-19-chest-X-ray-images/dataset/training/infected/covid_train (54).jpg',\n",
              " '/content/Classification-of-COVID-19-chest-X-ray-images/dataset/training/infected/covid_train (7).jpg',\n",
              " '/content/Classification-of-COVID-19-chest-X-ray-images/dataset/training/infected/covid_train (35).png',\n",
              " '/content/Classification-of-COVID-19-chest-X-ray-images/dataset/training/infected/covid_train (15).png',\n",
              " '/content/Classification-of-COVID-19-chest-X-ray-images/dataset/training/infected/1.jpeg',\n",
              " '/content/Classification-of-COVID-19-chest-X-ray-images/dataset/training/infected/covid_train52.jpg',\n",
              " '/content/Classification-of-COVID-19-chest-X-ray-images/dataset/training/infected/covid_train (55).jpg',\n",
              " '/content/Classification-of-COVID-19-chest-X-ray-images/dataset/training/infected/covid_train29.jpeg',\n",
              " '/content/Classification-of-COVID-19-chest-X-ray-images/dataset/training/infected/covid_train15.png',\n",
              " '/content/Classification-of-COVID-19-chest-X-ray-images/dataset/training/infected/covid_train (2).jpg',\n",
              " '/content/Classification-of-COVID-19-chest-X-ray-images/dataset/training/infected/covid_train (23).jpg',\n",
              " '/content/Classification-of-COVID-19-chest-X-ray-images/dataset/training/infected/covid_train (21).jpg',\n",
              " '/content/Classification-of-COVID-19-chest-X-ray-images/dataset/training/infected/covid_train36.jpeg',\n",
              " '/content/Classification-of-COVID-19-chest-X-ray-images/dataset/training/infected/covid_train (19).jpeg',\n",
              " '/content/Classification-of-COVID-19-chest-X-ray-images/dataset/training/infected/covid_train7.jpg',\n",
              " '/content/Classification-of-COVID-19-chest-X-ray-images/dataset/training/infected/covid_train (102).jpg',\n",
              " '/content/Classification-of-COVID-19-chest-X-ray-images/dataset/training/infected/covid_train8.png',\n",
              " '/content/Classification-of-COVID-19-chest-X-ray-images/dataset/training/infected/covid_train (20).jpeg',\n",
              " '/content/Classification-of-COVID-19-chest-X-ray-images/dataset/training/infected/covid_train (38).jpg',\n",
              " '/content/Classification-of-COVID-19-chest-X-ray-images/dataset/training/infected/covid_train (16).jpg',\n",
              " '/content/Classification-of-COVID-19-chest-X-ray-images/dataset/training/infected/covid_train (16).png',\n",
              " '/content/Classification-of-COVID-19-chest-X-ray-images/dataset/training/infected/covid_train (23).png',\n",
              " '/content/Classification-of-COVID-19-chest-X-ray-images/dataset/training/infected/covid_train (45).png',\n",
              " '/content/Classification-of-COVID-19-chest-X-ray-images/dataset/training/infected/covid_train72.png',\n",
              " '/content/Classification-of-COVID-19-chest-X-ray-images/dataset/training/infected/covid_train (27).png',\n",
              " '/content/Classification-of-COVID-19-chest-X-ray-images/dataset/training/infected/covid_train (100).jpg',\n",
              " '/content/Classification-of-COVID-19-chest-X-ray-images/dataset/training/infected/covid_train38.jpeg',\n",
              " '/content/Classification-of-COVID-19-chest-X-ray-images/dataset/training/infected/covid_train (3).jpeg',\n",
              " '/content/Classification-of-COVID-19-chest-X-ray-images/dataset/training/infected/covid_train (31).jpg',\n",
              " '/content/Classification-of-COVID-19-chest-X-ray-images/dataset/training/infected/covid_train (37).jpg',\n",
              " '/content/Classification-of-COVID-19-chest-X-ray-images/dataset/training/infected/covid_train76.jpg',\n",
              " '/content/Classification-of-COVID-19-chest-X-ray-images/dataset/training/infected/covid_train (40).jpg',\n",
              " '/content/Classification-of-COVID-19-chest-X-ray-images/dataset/training/infected/covid_train (21).jpeg',\n",
              " '/content/Classification-of-COVID-19-chest-X-ray-images/dataset/training/infected/covid_train (7).jpeg',\n",
              " '/content/Classification-of-COVID-19-chest-X-ray-images/dataset/training/infected/covid_train45.jpeg',\n",
              " '/content/Classification-of-COVID-19-chest-X-ray-images/dataset/training/infected/covid_train (86).jpg',\n",
              " '/content/Classification-of-COVID-19-chest-X-ray-images/dataset/training/infected/covid_train17.png',\n",
              " '/content/Classification-of-COVID-19-chest-X-ray-images/dataset/training/infected/covid_train2.jpeg',\n",
              " '/content/Classification-of-COVID-19-chest-X-ray-images/dataset/training/infected/covid_train32.jpeg',\n",
              " '/content/Classification-of-COVID-19-chest-X-ray-images/dataset/training/infected/covid_train20.jpeg',\n",
              " '/content/Classification-of-COVID-19-chest-X-ray-images/dataset/training/infected/covid_train (61).jpg',\n",
              " '/content/Classification-of-COVID-19-chest-X-ray-images/dataset/training/infected/covid_train (43).png',\n",
              " '/content/Classification-of-COVID-19-chest-X-ray-images/dataset/training/infected/covid_train (68).jpg',\n",
              " '/content/Classification-of-COVID-19-chest-X-ray-images/dataset/training/infected/covid_train58.png',\n",
              " '/content/Classification-of-COVID-19-chest-X-ray-images/dataset/training/infected/covid_train (33).jpg',\n",
              " '/content/Classification-of-COVID-19-chest-X-ray-images/dataset/training/infected/covid_train (51).jpeg',\n",
              " '/content/Classification-of-COVID-19-chest-X-ray-images/dataset/training/infected/covid_train62.png',\n",
              " '/content/Classification-of-COVID-19-chest-X-ray-images/dataset/training/infected/covid_train (33).jpeg',\n",
              " '/content/Classification-of-COVID-19-chest-X-ray-images/dataset/training/infected/covid_train (60).jpg',\n",
              " '/content/Classification-of-COVID-19-chest-X-ray-images/dataset/training/infected/covid_train (91).jpg',\n",
              " '/content/Classification-of-COVID-19-chest-X-ray-images/dataset/training/infected/covid_train (5).jpg',\n",
              " '/content/Classification-of-COVID-19-chest-X-ray-images/dataset/training/infected/covid_train (14).png',\n",
              " '/content/Classification-of-COVID-19-chest-X-ray-images/dataset/training/infected/covid_train (3).png',\n",
              " '/content/Classification-of-COVID-19-chest-X-ray-images/dataset/training/infected/covid_train79.jpeg',\n",
              " '/content/Classification-of-COVID-19-chest-X-ray-images/dataset/training/infected/covid_train (31).png',\n",
              " '/content/Classification-of-COVID-19-chest-X-ray-images/dataset/training/infected/covid_train (29).jpeg',\n",
              " '/content/Classification-of-COVID-19-chest-X-ray-images/dataset/training/infected/covid_train (37).jpeg',\n",
              " '/content/Classification-of-COVID-19-chest-X-ray-images/dataset/training/infected/covid_train46.png',\n",
              " '/content/Classification-of-COVID-19-chest-X-ray-images/dataset/training/infected/covid_train51.png',\n",
              " '/content/Classification-of-COVID-19-chest-X-ray-images/dataset/training/infected/covid_train6.jpg',\n",
              " '/content/Classification-of-COVID-19-chest-X-ray-images/dataset/training/infected/covid_train (57).jpg',\n",
              " '/content/Classification-of-COVID-19-chest-X-ray-images/dataset/training/infected/covid_train (65).jpg',\n",
              " '/content/Classification-of-COVID-19-chest-X-ray-images/dataset/training/infected/covid_train (39).png',\n",
              " '/content/Classification-of-COVID-19-chest-X-ray-images/dataset/training/infected/covid_train (98).jpg',\n",
              " '/content/Classification-of-COVID-19-chest-X-ray-images/dataset/training/infected/covid_train57.jpg',\n",
              " '/content/Classification-of-COVID-19-chest-X-ray-images/dataset/training/infected/covid_train34.jpeg',\n",
              " '/content/Classification-of-COVID-19-chest-X-ray-images/dataset/training/infected/covid_train68.jpg',\n",
              " '/content/Classification-of-COVID-19-chest-X-ray-images/dataset/training/infected/covid_train (49).jpeg',\n",
              " '/content/Classification-of-COVID-19-chest-X-ray-images/dataset/training/infected/covid_train (59).jpg',\n",
              " '/content/Classification-of-COVID-19-chest-X-ray-images/dataset/training/infected/covid_train (18).jpeg',\n",
              " '/content/Classification-of-COVID-19-chest-X-ray-images/dataset/training/infected/covid_train (85).jpg',\n",
              " '/content/Classification-of-COVID-19-chest-X-ray-images/dataset/training/infected/covid_train (95).jpg',\n",
              " '/content/Classification-of-COVID-19-chest-X-ray-images/dataset/training/infected/covid_train10.png',\n",
              " '/content/Classification-of-COVID-19-chest-X-ray-images/dataset/training/infected/covid_train (17).jpeg',\n",
              " '/content/Classification-of-COVID-19-chest-X-ray-images/dataset/training/infected/covid_train37.jpeg',\n",
              " '/content/Classification-of-COVID-19-chest-X-ray-images/dataset/training/infected/covid_train (4).jpeg',\n",
              " '/content/Classification-of-COVID-19-chest-X-ray-images/dataset/training/infected/covid_train (11).jpeg',\n",
              " '/content/Classification-of-COVID-19-chest-X-ray-images/dataset/training/infected/covid_train (15).jpeg',\n",
              " '/content/Classification-of-COVID-19-chest-X-ray-images/dataset/training/infected/covid_train (22).png',\n",
              " '/content/Classification-of-COVID-19-chest-X-ray-images/dataset/training/infected/covid_train (2).jpeg',\n",
              " '/content/Classification-of-COVID-19-chest-X-ray-images/dataset/training/infected/covid_train73.jpeg',\n",
              " '/content/Classification-of-COVID-19-chest-X-ray-images/dataset/training/infected/covid_train (47).jpeg',\n",
              " '/content/Classification-of-COVID-19-chest-X-ray-images/dataset/training/infected/covid_train (96).jpg',\n",
              " '/content/Classification-of-COVID-19-chest-X-ray-images/dataset/training/infected/covid_train (106).jpg',\n",
              " '/content/Classification-of-COVID-19-chest-X-ray-images/dataset/training/infected/covid_train (48).png',\n",
              " '/content/Classification-of-COVID-19-chest-X-ray-images/dataset/training/infected/covid_train (92).jpg',\n",
              " '/content/Classification-of-COVID-19-chest-X-ray-images/dataset/training/infected/covid_train1.jpeg',\n",
              " '/content/Classification-of-COVID-19-chest-X-ray-images/dataset/training/infected/covid_train78.jpeg',\n",
              " '/content/Classification-of-COVID-19-chest-X-ray-images/dataset/training/infected/covid_train (12).jpg',\n",
              " '/content/Classification-of-COVID-19-chest-X-ray-images/dataset/training/infected/covid_train (46).jpg',\n",
              " '/content/Classification-of-COVID-19-chest-X-ray-images/dataset/training/infected/covid_train (64).jpg',\n",
              " '/content/Classification-of-COVID-19-chest-X-ray-images/dataset/training/infected/covid_train (78).jpg',\n",
              " '/content/Classification-of-COVID-19-chest-X-ray-images/dataset/training/infected/covid_train49.jpg',\n",
              " '/content/Classification-of-COVID-19-chest-X-ray-images/dataset/training/infected/covid_train53.png',\n",
              " '/content/Classification-of-COVID-19-chest-X-ray-images/dataset/training/infected/covid_train (6).png',\n",
              " '/content/Classification-of-COVID-19-chest-X-ray-images/dataset/training/infected/covid_train80.jpeg',\n",
              " '/content/Classification-of-COVID-19-chest-X-ray-images/dataset/training/infected/covid_train84.jpeg',\n",
              " '/content/Classification-of-COVID-19-chest-X-ray-images/dataset/training/infected/covid_train (43).jpg',\n",
              " '/content/Classification-of-COVID-19-chest-X-ray-images/dataset/training/infected/covid_train24.jpeg',\n",
              " '/content/Classification-of-COVID-19-chest-X-ray-images/dataset/training/infected/covid_train59.png',\n",
              " '/content/Classification-of-COVID-19-chest-X-ray-images/dataset/training/infected/covid_train (25).png',\n",
              " '/content/Classification-of-COVID-19-chest-X-ray-images/dataset/training/infected/covid_train (24).jpg',\n",
              " '/content/Classification-of-COVID-19-chest-X-ray-images/dataset/training/infected/covid_train (2).png',\n",
              " '/content/Classification-of-COVID-19-chest-X-ray-images/dataset/training/infected/covid_train (62).jpg',\n",
              " '/content/Classification-of-COVID-19-chest-X-ray-images/dataset/training/infected/covid_train (36).png',\n",
              " '/content/Classification-of-COVID-19-chest-X-ray-images/dataset/training/infected/covid_train (87).jpg',\n",
              " '/content/Classification-of-COVID-19-chest-X-ray-images/dataset/training/infected/covid_train85.jpeg',\n",
              " '/content/Classification-of-COVID-19-chest-X-ray-images/dataset/training/infected/covid_train (4).png',\n",
              " '/content/Classification-of-COVID-19-chest-X-ray-images/dataset/training/infected/covid_train44.jpeg',\n",
              " '/content/Classification-of-COVID-19-chest-X-ray-images/dataset/training/infected/covid_train (73).jpg',\n",
              " '/content/Classification-of-COVID-19-chest-X-ray-images/dataset/training/infected/covid_train (22).jpeg',\n",
              " '/content/Classification-of-COVID-19-chest-X-ray-images/dataset/training/infected/covid_train71.jpg',\n",
              " '/content/Classification-of-COVID-19-chest-X-ray-images/dataset/training/infected/covid_train (18).png',\n",
              " '/content/Classification-of-COVID-19-chest-X-ray-images/dataset/training/infected/covid_train (45).jpg',\n",
              " '/content/Classification-of-COVID-19-chest-X-ray-images/dataset/training/infected/covid_train (21).png',\n",
              " '/content/Classification-of-COVID-19-chest-X-ray-images/dataset/training/infected/covid_train (80).JPG',\n",
              " '/content/Classification-of-COVID-19-chest-X-ray-images/dataset/training/infected/covid_train (6).jpeg',\n",
              " '/content/Classification-of-COVID-19-chest-X-ray-images/dataset/training/infected/covid_train (24).png',\n",
              " '/content/Classification-of-COVID-19-chest-X-ray-images/dataset/training/infected/covid_train75.jpg',\n",
              " '/content/Classification-of-COVID-19-chest-X-ray-images/dataset/training/infected/covid_train (46).jpeg',\n",
              " '/content/Classification-of-COVID-19-chest-X-ray-images/dataset/training/infected/covid_train (29).png',\n",
              " '/content/Classification-of-COVID-19-chest-X-ray-images/dataset/training/infected/covid_train (32).jpg',\n",
              " '/content/Classification-of-COVID-19-chest-X-ray-images/dataset/training/infected/covid_train (20).png',\n",
              " '/content/Classification-of-COVID-19-chest-X-ray-images/dataset/training/infected/covid_train (81).jpg',\n",
              " '/content/Classification-of-COVID-19-chest-X-ray-images/dataset/training/infected/covid_train (17).jpg',\n",
              " '/content/Classification-of-COVID-19-chest-X-ray-images/dataset/training/infected/covid_train (13).png',\n",
              " '/content/Classification-of-COVID-19-chest-X-ray-images/dataset/training/infected/covid_train (40).jpeg',\n",
              " '/content/Classification-of-COVID-19-chest-X-ray-images/dataset/training/infected/covid_train31.jpeg',\n",
              " '/content/Classification-of-COVID-19-chest-X-ray-images/dataset/training/infected/covid_train11.png',\n",
              " '/content/Classification-of-COVID-19-chest-X-ray-images/dataset/training/infected/covid_train (35).jpeg',\n",
              " '/content/Classification-of-COVID-19-chest-X-ray-images/dataset/training/infected/covid_train35.jpeg',\n",
              " '/content/Classification-of-COVID-19-chest-X-ray-images/dataset/training/infected/covid_train (104).jpg',\n",
              " '/content/Classification-of-COVID-19-chest-X-ray-images/dataset/training/infected/covid_train (25).jpeg',\n",
              " '/content/Classification-of-COVID-19-chest-X-ray-images/dataset/training/infected/covid_train42.jpeg',\n",
              " '/content/Classification-of-COVID-19-chest-X-ray-images/dataset/training/infected/covid_train (75).jpg',\n",
              " '/content/Classification-of-COVID-19-chest-X-ray-images/dataset/training/infected/covid_train (13).jpg',\n",
              " '/content/Classification-of-COVID-19-chest-X-ray-images/dataset/training/infected/covid_train (47).jpg',\n",
              " '/content/Classification-of-COVID-19-chest-X-ray-images/dataset/training/infected/covid_train54.jpg',\n",
              " '/content/Classification-of-COVID-19-chest-X-ray-images/dataset/training/infected/covid_train (16).jpeg',\n",
              " '/content/Classification-of-COVID-19-chest-X-ray-images/dataset/training/infected/covid_train (28).jpg',\n",
              " '/content/Classification-of-COVID-19-chest-X-ray-images/dataset/training/infected/covid_train (10).jpeg',\n",
              " '/content/Classification-of-COVID-19-chest-X-ray-images/dataset/training/infected/covid_train (32).png',\n",
              " '/content/Classification-of-COVID-19-chest-X-ray-images/dataset/training/infected/covid_train (8).jpeg',\n",
              " '/content/Classification-of-COVID-19-chest-X-ray-images/dataset/training/infected/covid_train (51).jpg',\n",
              " '/content/Classification-of-COVID-19-chest-X-ray-images/dataset/training/infected/covid_train3.jpg',\n",
              " '/content/Classification-of-COVID-19-chest-X-ray-images/dataset/training/infected/covid_train48.png',\n",
              " '/content/Classification-of-COVID-19-chest-X-ray-images/dataset/training/infected/covid_train (36).jpg',\n",
              " '/content/Classification-of-COVID-19-chest-X-ray-images/dataset/training/infected/covid_train (22).jpg',\n",
              " '/content/Classification-of-COVID-19-chest-X-ray-images/dataset/training/infected/covid_train12.png',\n",
              " '/content/Classification-of-COVID-19-chest-X-ray-images/dataset/training/infected/covid_train63.jpg',\n",
              " '/content/Classification-of-COVID-19-chest-X-ray-images/dataset/training/infected/covid_train (63).jpg',\n",
              " '/content/Classification-of-COVID-19-chest-X-ray-images/dataset/training/infected/covid_train64.jpg',\n",
              " '/content/Classification-of-COVID-19-chest-X-ray-images/dataset/training/infected/covid_train41.jpeg',\n",
              " '/content/Classification-of-COVID-19-chest-X-ray-images/dataset/training/infected/covid_train (30).jpg',\n",
              " '/content/Classification-of-COVID-19-chest-X-ray-images/dataset/training/infected/covid_train (20).jpg',\n",
              " '/content/Classification-of-COVID-19-chest-X-ray-images/dataset/training/infected/covid_train33.jpeg',\n",
              " '/content/Classification-of-COVID-19-chest-X-ray-images/dataset/training/infected/covid_train (82).jpg',\n",
              " '/content/Classification-of-COVID-19-chest-X-ray-images/dataset/training/infected/covid_train (93).jpg',\n",
              " '/content/Classification-of-COVID-19-chest-X-ray-images/dataset/training/infected/covid_train (3).jpg',\n",
              " '/content/Classification-of-COVID-19-chest-X-ray-images/dataset/training/infected/covid_train (12).jpeg',\n",
              " '/content/Classification-of-COVID-19-chest-X-ray-images/dataset/training/infected/covid_train (8).png',\n",
              " '/content/Classification-of-COVID-19-chest-X-ray-images/dataset/training/infected/covid_train (39).jpeg',\n",
              " '/content/Classification-of-COVID-19-chest-X-ray-images/dataset/training/infected/covid_train86.jpeg',\n",
              " '/content/Classification-of-COVID-19-chest-X-ray-images/dataset/training/infected/covid_train (11).png',\n",
              " '/content/Classification-of-COVID-19-chest-X-ray-images/dataset/training/infected/covid_train (19).jpg',\n",
              " '/content/Classification-of-COVID-19-chest-X-ray-images/dataset/training/infected/covid_train (88).jpg',\n",
              " '/content/Classification-of-COVID-19-chest-X-ray-images/dataset/training/infected/covid_train (42).jpg',\n",
              " '/content/Classification-of-COVID-19-chest-X-ray-images/dataset/training/infected/covid_train (90).jpg',\n",
              " '/content/Classification-of-COVID-19-chest-X-ray-images/dataset/training/infected/covid_train (89).jpg',\n",
              " '/content/Classification-of-COVID-19-chest-X-ray-images/dataset/training/infected/covid_train26.jpeg',\n",
              " '/content/Classification-of-COVID-19-chest-X-ray-images/dataset/training/infected/covid_train (19).png',\n",
              " '/content/Classification-of-COVID-19-chest-X-ray-images/dataset/training/infected/covid_train (49).jpg',\n",
              " '/content/Classification-of-COVID-19-chest-X-ray-images/dataset/training/infected/covid_train (29).jpg',\n",
              " '/content/Classification-of-COVID-19-chest-X-ray-images/dataset/training/infected/covid_train (12).png',\n",
              " '/content/Classification-of-COVID-19-chest-X-ray-images/dataset/training/infected/covid_train (58).jpg',\n",
              " '/content/Classification-of-COVID-19-chest-X-ray-images/dataset/training/infected/covid_train (103).jpg',\n",
              " '/content/Classification-of-COVID-19-chest-X-ray-images/dataset/training/infected/covid_train (30).jpeg',\n",
              " '/content/Classification-of-COVID-19-chest-X-ray-images/dataset/training/infected/covid_train (66).jpg',\n",
              " '/content/Classification-of-COVID-19-chest-X-ray-images/dataset/training/infected/covid_train39.jpeg',\n",
              " '/content/Classification-of-COVID-19-chest-X-ray-images/dataset/training/infected/covid_train (10).png',\n",
              " '/content/Classification-of-COVID-19-chest-X-ray-images/dataset/training/infected/covid_train (9).png',\n",
              " '/content/Classification-of-COVID-19-chest-X-ray-images/dataset/training/infected/covid_train (30).png',\n",
              " '/content/Classification-of-COVID-19-chest-X-ray-images/dataset/training/infected/covid_train (48).jpeg',\n",
              " '/content/Classification-of-COVID-19-chest-X-ray-images/dataset/training/infected/covid_train5.jpg',\n",
              " '/content/Classification-of-COVID-19-chest-X-ray-images/dataset/training/infected/covid_train (5).jpeg',\n",
              " '/content/Classification-of-COVID-19-chest-X-ray-images/dataset/training/infected/covid_train61.jpg',\n",
              " '/content/Classification-of-COVID-19-chest-X-ray-images/dataset/training/infected/covid_train (44).jpeg',\n",
              " '/content/Classification-of-COVID-19-chest-X-ray-images/dataset/training/infected/covid_train27.jpeg',\n",
              " '/content/Classification-of-COVID-19-chest-X-ray-images/dataset/training/infected/covid_train (74).jpg',\n",
              " '/content/Classification-of-COVID-19-chest-X-ray-images/dataset/training/infected/covid_train (5).png',\n",
              " '/content/Classification-of-COVID-19-chest-X-ray-images/dataset/training/infected/covid_train18.png',\n",
              " '/content/Classification-of-COVID-19-chest-X-ray-images/dataset/training/infected/covid_train (48).jpg',\n",
              " '/content/Classification-of-COVID-19-chest-X-ray-images/dataset/evaluation/normal/1.jpeg',\n",
              " '/content/Classification-of-COVID-19-chest-X-ray-images/dataset/evaluation/infected/1.jpg']"
            ]
          },
          "metadata": {
            "tags": []
          },
          "execution_count": 14
        }
      ]
    },
    {
      "cell_type": "code",
      "metadata": {
        "id": "O5AdQRxxAZ19",
        "colab_type": "code",
        "colab": {}
      },
      "source": [
        "data = []\n",
        "labels = []\n",
        "# loop over the image paths\n",
        "for imagePath in imagePaths:\n",
        "\t# extract the class label from the filename\n",
        "\tlabel = imagePath.split(os.path.sep)[-2]\n",
        "\t# load the image, swap color channels, and resize it to be a fixed\n",
        "\t# 224x224 pixels while ignoring aspect ratio\n",
        "\timage = cv2.imread(imagePath)\n",
        "\timage = cv2.cvtColor(image, cv2.COLOR_BGR2RGB)\n",
        "\timage = cv2.resize(image, (224, 224))\n",
        "\t# update the data and labels lists, respectively\n",
        "\tdata.append(image)\n",
        "\tlabels.append(label)\n",
        "# convert the data and labels to NumPy arrays while scaling the pixel\n",
        "# intensities to the range [0, 1]\n",
        "data = np.array(data) / 255.0\n",
        "labels = np.array(labels)"
      ],
      "execution_count": 15,
      "outputs": []
    },
    {
      "cell_type": "code",
      "metadata": {
        "id": "7G8_-KnEAb74",
        "colab_type": "code",
        "colab": {
          "base_uri": "https://localhost:8080/",
          "height": 35
        },
        "outputId": "6620a19d-27aa-418d-dc3c-21c8cc94332b"
      },
      "source": [
        "data.shape"
      ],
      "execution_count": 16,
      "outputs": [
        {
          "output_type": "execute_result",
          "data": {
            "text/plain": [
              "(689, 224, 224, 3)"
            ]
          },
          "metadata": {
            "tags": []
          },
          "execution_count": 16
        }
      ]
    },
    {
      "cell_type": "code",
      "metadata": {
        "id": "3mopJNHyAdkP",
        "colab_type": "code",
        "colab": {
          "base_uri": "https://localhost:8080/",
          "height": 1000
        },
        "outputId": "959bb3fa-c53e-47b0-fa7e-9aab4bad6047"
      },
      "source": [
        "labels"
      ],
      "execution_count": 17,
      "outputs": [
        {
          "output_type": "execute_result",
          "data": {
            "text/plain": [
              "array(['normal', 'normal', 'normal', 'normal', 'normal', 'normal',\n",
              "       'normal', 'normal', 'normal', 'normal', 'normal', 'normal',\n",
              "       'normal', 'normal', 'normal', 'normal', 'normal', 'normal',\n",
              "       'normal', 'normal', 'normal', 'normal', 'normal', 'normal',\n",
              "       'normal', 'normal', 'normal', 'normal', 'normal', 'normal',\n",
              "       'normal', 'normal', 'normal', 'normal', 'normal', 'normal',\n",
              "       'normal', 'normal', 'normal', 'normal', 'normal', 'normal',\n",
              "       'normal', 'normal', 'normal', 'normal', 'normal', 'normal',\n",
              "       'normal', 'normal', 'normal', 'normal', 'normal', 'normal',\n",
              "       'normal', 'normal', 'normal', 'normal', 'normal', 'normal',\n",
              "       'normal', 'normal', 'normal', 'normal', 'normal', 'normal',\n",
              "       'normal', 'normal', 'normal', 'infected', 'infected', 'infected',\n",
              "       'infected', 'infected', 'infected', 'infected', 'infected',\n",
              "       'infected', 'infected', 'infected', 'infected', 'infected',\n",
              "       'infected', 'infected', 'infected', 'infected', 'infected',\n",
              "       'infected', 'infected', 'infected', 'infected', 'infected',\n",
              "       'infected', 'infected', 'normal', 'normal', 'normal', 'normal',\n",
              "       'normal', 'normal', 'normal', 'normal', 'normal', 'normal',\n",
              "       'normal', 'normal', 'normal', 'normal', 'normal', 'normal',\n",
              "       'normal', 'normal', 'normal', 'normal', 'normal', 'normal',\n",
              "       'normal', 'normal', 'normal', 'normal', 'normal', 'normal',\n",
              "       'normal', 'normal', 'normal', 'normal', 'normal', 'normal',\n",
              "       'normal', 'normal', 'normal', 'normal', 'normal', 'normal',\n",
              "       'normal', 'normal', 'normal', 'normal', 'normal', 'normal',\n",
              "       'normal', 'normal', 'normal', 'normal', 'normal', 'normal',\n",
              "       'normal', 'normal', 'normal', 'normal', 'normal', 'normal',\n",
              "       'normal', 'normal', 'normal', 'normal', 'normal', 'normal',\n",
              "       'normal', 'normal', 'normal', 'normal', 'normal', 'normal',\n",
              "       'normal', 'normal', 'normal', 'normal', 'normal', 'normal',\n",
              "       'normal', 'normal', 'normal', 'normal', 'normal', 'normal',\n",
              "       'normal', 'normal', 'normal', 'normal', 'normal', 'normal',\n",
              "       'normal', 'normal', 'normal', 'normal', 'normal', 'normal',\n",
              "       'normal', 'normal', 'normal', 'normal', 'normal', 'normal',\n",
              "       'normal', 'normal', 'normal', 'normal', 'normal', 'normal',\n",
              "       'normal', 'normal', 'normal', 'normal', 'normal', 'normal',\n",
              "       'normal', 'normal', 'normal', 'normal', 'normal', 'normal',\n",
              "       'normal', 'normal', 'normal', 'normal', 'normal', 'normal',\n",
              "       'normal', 'normal', 'normal', 'normal', 'normal', 'normal',\n",
              "       'normal', 'normal', 'normal', 'normal', 'normal', 'normal',\n",
              "       'normal', 'normal', 'normal', 'normal', 'normal', 'normal',\n",
              "       'normal', 'normal', 'normal', 'normal', 'normal', 'normal',\n",
              "       'normal', 'normal', 'normal', 'normal', 'normal', 'normal',\n",
              "       'normal', 'normal', 'normal', 'normal', 'normal', 'normal',\n",
              "       'normal', 'normal', 'normal', 'normal', 'normal', 'normal',\n",
              "       'normal', 'normal', 'normal', 'normal', 'normal', 'normal',\n",
              "       'normal', 'normal', 'normal', 'normal', 'normal', 'normal',\n",
              "       'normal', 'normal', 'normal', 'normal', 'normal', 'normal',\n",
              "       'normal', 'normal', 'normal', 'normal', 'normal', 'normal',\n",
              "       'normal', 'normal', 'normal', 'normal', 'normal', 'normal',\n",
              "       'normal', 'normal', 'normal', 'normal', 'normal', 'normal',\n",
              "       'normal', 'normal', 'normal', 'normal', 'normal', 'normal',\n",
              "       'normal', 'normal', 'normal', 'normal', 'normal', 'normal',\n",
              "       'normal', 'normal', 'normal', 'normal', 'normal', 'normal',\n",
              "       'normal', 'normal', 'normal', 'normal', 'normal', 'normal',\n",
              "       'normal', 'normal', 'normal', 'normal', 'normal', 'normal',\n",
              "       'normal', 'normal', 'normal', 'normal', 'normal', 'normal',\n",
              "       'normal', 'normal', 'normal', 'normal', 'normal', 'normal',\n",
              "       'normal', 'normal', 'normal', 'normal', 'normal', 'normal',\n",
              "       'normal', 'normal', 'normal', 'normal', 'normal', 'normal',\n",
              "       'normal', 'normal', 'normal', 'normal', 'normal', 'normal',\n",
              "       'normal', 'normal', 'normal', 'normal', 'normal', 'normal',\n",
              "       'normal', 'normal', 'normal', 'normal', 'normal', 'normal',\n",
              "       'normal', 'normal', 'normal', 'normal', 'normal', 'normal',\n",
              "       'normal', 'normal', 'normal', 'normal', 'normal', 'normal',\n",
              "       'normal', 'normal', 'normal', 'normal', 'normal', 'normal',\n",
              "       'normal', 'normal', 'normal', 'normal', 'normal', 'infected',\n",
              "       'infected', 'infected', 'infected', 'infected', 'infected',\n",
              "       'infected', 'infected', 'infected', 'infected', 'infected',\n",
              "       'infected', 'infected', 'infected', 'infected', 'infected',\n",
              "       'infected', 'infected', 'infected', 'infected', 'infected',\n",
              "       'infected', 'infected', 'infected', 'infected', 'infected',\n",
              "       'infected', 'infected', 'infected', 'infected', 'infected',\n",
              "       'infected', 'infected', 'infected', 'infected', 'infected',\n",
              "       'infected', 'infected', 'infected', 'infected', 'infected',\n",
              "       'infected', 'infected', 'infected', 'infected', 'infected',\n",
              "       'infected', 'infected', 'infected', 'infected', 'infected',\n",
              "       'infected', 'infected', 'infected', 'infected', 'infected',\n",
              "       'infected', 'infected', 'infected', 'infected', 'infected',\n",
              "       'infected', 'infected', 'infected', 'infected', 'infected',\n",
              "       'infected', 'infected', 'infected', 'infected', 'infected',\n",
              "       'infected', 'infected', 'infected', 'infected', 'infected',\n",
              "       'infected', 'infected', 'infected', 'infected', 'infected',\n",
              "       'infected', 'infected', 'infected', 'infected', 'infected',\n",
              "       'infected', 'infected', 'infected', 'infected', 'infected',\n",
              "       'infected', 'infected', 'infected', 'infected', 'infected',\n",
              "       'infected', 'infected', 'infected', 'infected', 'infected',\n",
              "       'infected', 'infected', 'infected', 'infected', 'infected',\n",
              "       'infected', 'infected', 'infected', 'infected', 'infected',\n",
              "       'infected', 'infected', 'infected', 'infected', 'infected',\n",
              "       'infected', 'infected', 'infected', 'infected', 'infected',\n",
              "       'infected', 'infected', 'infected', 'infected', 'infected',\n",
              "       'infected', 'infected', 'infected', 'infected', 'infected',\n",
              "       'infected', 'infected', 'infected', 'infected', 'infected',\n",
              "       'infected', 'infected', 'infected', 'infected', 'infected',\n",
              "       'infected', 'infected', 'infected', 'infected', 'infected',\n",
              "       'infected', 'infected', 'infected', 'infected', 'infected',\n",
              "       'infected', 'infected', 'infected', 'infected', 'infected',\n",
              "       'infected', 'infected', 'infected', 'infected', 'infected',\n",
              "       'infected', 'infected', 'infected', 'infected', 'infected',\n",
              "       'infected', 'infected', 'infected', 'infected', 'infected',\n",
              "       'infected', 'infected', 'infected', 'infected', 'infected',\n",
              "       'infected', 'infected', 'infected', 'infected', 'infected',\n",
              "       'infected', 'infected', 'infected', 'infected', 'infected',\n",
              "       'infected', 'infected', 'infected', 'infected', 'infected',\n",
              "       'infected', 'infected', 'infected', 'infected', 'infected',\n",
              "       'infected', 'infected', 'infected', 'infected', 'infected',\n",
              "       'infected', 'infected', 'infected', 'infected', 'infected',\n",
              "       'infected', 'infected', 'infected', 'infected', 'infected',\n",
              "       'infected', 'infected', 'infected', 'infected', 'infected',\n",
              "       'infected', 'infected', 'infected', 'infected', 'infected',\n",
              "       'infected', 'infected', 'infected', 'infected', 'infected',\n",
              "       'infected', 'infected', 'infected', 'infected', 'infected',\n",
              "       'infected', 'infected', 'infected', 'infected', 'infected',\n",
              "       'infected', 'infected', 'infected', 'infected', 'infected',\n",
              "       'infected', 'infected', 'infected', 'infected', 'infected',\n",
              "       'infected', 'infected', 'infected', 'infected', 'infected',\n",
              "       'infected', 'infected', 'infected', 'infected', 'infected',\n",
              "       'infected', 'infected', 'infected', 'infected', 'infected',\n",
              "       'infected', 'infected', 'infected', 'infected', 'infected',\n",
              "       'infected', 'infected', 'infected', 'infected', 'infected',\n",
              "       'infected', 'infected', 'infected', 'infected', 'infected',\n",
              "       'infected', 'infected', 'infected', 'infected', 'infected',\n",
              "       'infected', 'infected', 'infected', 'infected', 'infected',\n",
              "       'infected', 'infected', 'infected', 'infected', 'infected',\n",
              "       'infected', 'infected', 'infected', 'infected', 'infected',\n",
              "       'normal', 'infected'], dtype='<U8')"
            ]
          },
          "metadata": {
            "tags": []
          },
          "execution_count": 17
        }
      ]
    },
    {
      "cell_type": "code",
      "metadata": {
        "id": "2xGJo2duAfJS",
        "colab_type": "code",
        "colab": {}
      },
      "source": [
        "# perform one-hot encoding on the labels\n",
        "lb = LabelBinarizer()\n",
        "labels = lb.fit_transform(labels)\n",
        "labels = to_categorical(labels)\n",
        "# partition the data into training and testing splits using 80% of\n",
        "# the data for training and the remaining 20% for testing\n",
        "(trainX, testX, trainY, testY) = train_test_split(data, labels,\n",
        "\ttest_size=0.20, stratify=labels, random_state=42)\n",
        "# initialize the training data augmentation object\n",
        "trainAug = ImageDataGenerator(shear_range=0.2,\n",
        "    zoom_range=0.2,\n",
        "    horizontal_flip=True,\trotation_range=15,\n",
        "\tfill_mode=\"nearest\")"
      ],
      "execution_count": 18,
      "outputs": []
    },
    {
      "cell_type": "code",
      "metadata": {
        "id": "z2_ilxhZAh8F",
        "colab_type": "code",
        "colab": {
          "base_uri": "https://localhost:8080/",
          "height": 489
        },
        "outputId": "b8c44b53-be14-4f14-fa5c-988a4fcd8977"
      },
      "source": [
        "trainY.argmax(axis=1)"
      ],
      "execution_count": 19,
      "outputs": [
        {
          "output_type": "execute_result",
          "data": {
            "text/plain": [
              "array([1, 1, 1, 0, 1, 1, 1, 1, 0, 0, 0, 0, 0, 1, 1, 0, 1, 0, 0, 1, 0, 0,\n",
              "       1, 0, 0, 0, 0, 0, 0, 1, 0, 0, 0, 0, 1, 1, 1, 1, 1, 1, 0, 0, 0, 1,\n",
              "       1, 0, 1, 0, 1, 0, 0, 1, 0, 1, 1, 1, 1, 1, 0, 0, 1, 0, 1, 1, 0, 1,\n",
              "       0, 1, 0, 1, 1, 0, 1, 1, 1, 1, 0, 1, 1, 1, 1, 0, 1, 0, 1, 0, 0, 0,\n",
              "       0, 1, 1, 1, 1, 1, 0, 0, 1, 0, 1, 1, 1, 0, 1, 1, 0, 1, 1, 1, 0, 1,\n",
              "       1, 1, 1, 1, 0, 1, 0, 1, 0, 1, 0, 1, 1, 0, 0, 1, 0, 0, 0, 0, 0, 0,\n",
              "       1, 1, 1, 0, 1, 1, 1, 1, 0, 1, 1, 0, 0, 1, 0, 0, 1, 1, 1, 1, 1, 1,\n",
              "       1, 1, 0, 0, 0, 1, 0, 0, 1, 1, 0, 1, 0, 1, 1, 1, 1, 0, 0, 1, 1, 1,\n",
              "       0, 1, 1, 1, 0, 0, 0, 0, 1, 0, 1, 1, 1, 0, 0, 1, 0, 1, 1, 0, 0, 0,\n",
              "       0, 1, 1, 1, 0, 0, 0, 1, 0, 0, 1, 0, 0, 1, 0, 0, 1, 1, 0, 0, 1, 0,\n",
              "       1, 1, 1, 1, 1, 0, 0, 0, 0, 1, 0, 1, 1, 0, 0, 0, 1, 0, 0, 1, 1, 0,\n",
              "       0, 0, 0, 0, 0, 1, 0, 0, 1, 1, 0, 1, 0, 0, 1, 1, 0, 0, 0, 0, 0, 1,\n",
              "       0, 1, 1, 1, 0, 1, 0, 1, 1, 1, 1, 0, 1, 1, 1, 1, 0, 0, 1, 0, 1, 1,\n",
              "       0, 1, 0, 0, 1, 0, 1, 1, 1, 1, 0, 1, 0, 0, 1, 0, 1, 1, 0, 1, 1, 1,\n",
              "       0, 1, 1, 0, 1, 0, 1, 1, 0, 1, 1, 0, 0, 0, 0, 0, 0, 1, 1, 1, 0, 0,\n",
              "       1, 0, 0, 0, 1, 0, 0, 1, 0, 1, 1, 0, 1, 1, 0, 1, 0, 0, 1, 1, 0, 1,\n",
              "       1, 0, 0, 0, 1, 1, 0, 1, 0, 1, 0, 1, 1, 0, 1, 0, 0, 0, 1, 0, 1, 1,\n",
              "       0, 0, 1, 0, 0, 1, 1, 0, 1, 0, 1, 1, 1, 0, 0, 1, 0, 1, 0, 1, 0, 1,\n",
              "       1, 1, 0, 0, 1, 0, 1, 0, 0, 1, 0, 1, 1, 0, 0, 0, 0, 1, 0, 1, 1, 0,\n",
              "       1, 0, 0, 1, 1, 1, 1, 1, 0, 0, 1, 1, 0, 0, 0, 0, 1, 0, 0, 0, 0, 1,\n",
              "       1, 0, 1, 0, 1, 1, 1, 1, 1, 1, 1, 0, 1, 0, 1, 0, 0, 1, 1, 0, 1, 1,\n",
              "       1, 0, 1, 1, 1, 0, 1, 1, 0, 0, 0, 0, 0, 1, 0, 1, 0, 0, 1, 1, 1, 0,\n",
              "       1, 0, 1, 1, 0, 0, 1, 1, 0, 0, 1, 1, 0, 0, 0, 1, 0, 0, 1, 1, 0, 1,\n",
              "       0, 0, 1, 1, 0, 1, 1, 1, 1, 1, 0, 1, 0, 0, 0, 1, 1, 0, 1, 1, 1, 1,\n",
              "       0, 1, 0, 0, 0, 0, 0, 0, 1, 1, 0, 1, 1, 1, 1, 1, 1, 1, 1, 0, 1, 1,\n",
              "       1])"
            ]
          },
          "metadata": {
            "tags": []
          },
          "execution_count": 19
        }
      ]
    },
    {
      "cell_type": "code",
      "metadata": {
        "id": "M8KUfJNWAjeX",
        "colab_type": "code",
        "colab": {
          "base_uri": "https://localhost:8080/",
          "height": 35
        },
        "outputId": "e936cb43-e8a4-4f3e-afcc-3edcecc2e8c0"
      },
      "source": [
        "\n",
        "\n",
        "trainX.shape,testX.shape,trainY.shape,testY.shape\n",
        "\n"
      ],
      "execution_count": 20,
      "outputs": [
        {
          "output_type": "execute_result",
          "data": {
            "text/plain": [
              "((551, 224, 224, 3), (138, 224, 224, 3), (551, 2), (138, 2))"
            ]
          },
          "metadata": {
            "tags": []
          },
          "execution_count": 20
        }
      ]
    },
    {
      "cell_type": "markdown",
      "metadata": {
        "id": "lPYRJJGzAnsu",
        "colab_type": "text"
      },
      "source": [
        "# Xception"
      ]
    },
    {
      "cell_type": "code",
      "metadata": {
        "id": "1_35o3NlAsGR",
        "colab_type": "code",
        "colab": {}
      },
      "source": [
        "from tensorflow.keras.applications.xception import Xception\n",
        "from tensorflow.keras.preprocessing import image\n",
        "#from tensorflow.keras.applications.resnet50 import preprocess_input, decode_predictions\n",
        "import numpy as np"
      ],
      "execution_count": null,
      "outputs": []
    },
    {
      "cell_type": "code",
      "metadata": {
        "id": "z-jLTKJXAxUA",
        "colab_type": "code",
        "colab": {
          "base_uri": "https://localhost:8080/",
          "height": 144
        },
        "outputId": "cfa561d7-ec5c-4925-b07c-7ffd101ca7c6"
      },
      "source": [
        "pip install tf-explain"
      ],
      "execution_count": null,
      "outputs": [
        {
          "output_type": "stream",
          "text": [
            "Collecting tf-explain\n",
            "\u001b[?25l  Downloading https://files.pythonhosted.org/packages/1d/08/f77da1c8d29ba5b125e72b61b105e7514663562adac2bbbce04e424a37bc/tf_explain-0.2.1-py3-none-any.whl (41kB)\n",
            "\r\u001b[K     |███████▉                        | 10kB 18.0MB/s eta 0:00:01\r\u001b[K     |███████████████▊                | 20kB 3.0MB/s eta 0:00:01\r\u001b[K     |███████████████████████▋        | 30kB 3.8MB/s eta 0:00:01\r\u001b[K     |███████████████████████████████▌| 40kB 4.2MB/s eta 0:00:01\r\u001b[K     |████████████████████████████████| 51kB 3.0MB/s \n",
            "\u001b[?25hRequirement already satisfied: opencv-python>=4.1.0.25 in /usr/local/lib/python3.6/dist-packages (from tf-explain) (4.1.2.30)\n",
            "Requirement already satisfied: numpy>=1.11.3 in /usr/local/lib/python3.6/dist-packages (from opencv-python>=4.1.0.25->tf-explain) (1.18.5)\n",
            "Installing collected packages: tf-explain\n",
            "Successfully installed tf-explain-0.2.1\n"
          ],
          "name": "stdout"
        }
      ]
    },
    {
      "cell_type": "code",
      "metadata": {
        "id": "VvS18kJSA05S",
        "colab_type": "code",
        "colab": {}
      },
      "source": [
        "#import librariesimport numpy as np\n",
        "import tensorflow as tf\n",
        "import matplotlib.pyplot as plt\n",
        "from tf_explain.core.activations import ExtractActivations\n",
        "from tensorflow.keras.applications.xception import decode_predictions\n",
        "%matplotlib inline"
      ],
      "execution_count": null,
      "outputs": []
    },
    {
      "cell_type": "code",
      "metadata": {
        "id": "sSqDSPONA2ba",
        "colab_type": "code",
        "colab": {
          "base_uri": "https://localhost:8080/",
          "height": 53
        },
        "outputId": "36b73fbd-ba50-4855-c2e8-f778cfda0b0a"
      },
      "source": [
        "IMG_SHAPE = (224,224,3)\n",
        "\n",
        "# Create the base model from the pre-trained model Xception\n",
        "baseModel = tf.keras.applications.Xception(include_top=False,weights='imagenet',input_tensor=Input(shape=(224, 224, 3)))\n",
        "headModel = baseModel.output\n",
        "headModel = AveragePooling2D(pool_size=(4, 4))(headModel)\n",
        "headModel = Dropout(0.5)(headModel)\n",
        "headModel = Flatten(name=\"flatten\")(headModel)\n",
        "headModel = Dense(64, activation=\"relu\")(headModel)\n",
        "headModel = Dropout(0.5)(headModel)\n",
        "headModel = Dense(2, activation=\"softmax\")(headModel)\n",
        "\n",
        "\n",
        "Xception_model= Model(inputs=baseModel.input, outputs=headModel)\n",
        "\n",
        "for layer in baseModel.layers:\n",
        "    layer.trainable = False"
      ],
      "execution_count": null,
      "outputs": [
        {
          "output_type": "stream",
          "text": [
            "Downloading data from https://storage.googleapis.com/tensorflow/keras-applications/xception/xception_weights_tf_dim_ordering_tf_kernels_notop.h5\n",
            "83689472/83683744 [==============================] - 1s 0us/step\n"
          ],
          "name": "stdout"
        }
      ]
    },
    {
      "cell_type": "code",
      "metadata": {
        "id": "TPDSDlLgA35o",
        "colab_type": "code",
        "colab": {
          "base_uri": "https://localhost:8080/",
          "height": 1000
        },
        "outputId": "4b6e7f71-ea8e-43d2-8c76-b660ab799dc1"
      },
      "source": [
        "model_chkpt = ModelCheckpoint('best_mod.h5', save_best_only=True, monitor='accuracy')\n",
        "early_stopping = EarlyStopping(monitor='loss', restore_best_weights=False, patience=10)\n",
        "\n",
        "# initialize the initial learning rate, number of epochs to train for,\n",
        "# and batch size\n",
        "INIT_LR = 3e-4\n",
        "EPOCHS = 30\n",
        "BS = 10\n",
        "# compile our model\n",
        "print(\"[INFO] compiling model...\")\n",
        "opt = Adam(lr=INIT_LR, decay=INIT_LR / EPOCHS)\n",
        "Xception_model.compile(loss=\"binary_crossentropy\", optimizer=opt,\n",
        "\tmetrics=[\"accuracy\"])\n",
        "# train the head of the network\n",
        "print(\"[INFO] training head...\")\n",
        "H = Xception_model.fit_generator(\n",
        "\ttrainAug.flow(trainX, trainY, batch_size=BS),\n",
        "\tsteps_per_epoch=len(trainX) // BS,\n",
        "\tvalidation_data=(testX, testY),\n",
        "\tvalidation_steps=len(testX) // BS,\n",
        "\tepochs=EPOCHS,callbacks=[early_stopping,model_chkpt])"
      ],
      "execution_count": null,
      "outputs": [
        {
          "output_type": "stream",
          "text": [
            "[INFO] compiling model...\n",
            "[INFO] training head...\n",
            "WARNING:tensorflow:From <ipython-input-22-e1da045772d4>:21: Model.fit_generator (from tensorflow.python.keras.engine.training) is deprecated and will be removed in a future version.\n",
            "Instructions for updating:\n",
            "Please use Model.fit, which supports generators.\n",
            "Epoch 1/30\n",
            "55/55 [==============================] - 140s 3s/step - loss: 0.3683 - accuracy: 0.8392 - val_loss: 0.1481 - val_accuracy: 0.9493\n",
            "Epoch 2/30\n",
            "55/55 [==============================] - 137s 2s/step - loss: 0.1612 - accuracy: 0.9335 - val_loss: 0.1376 - val_accuracy: 0.9493\n",
            "Epoch 3/30\n",
            "55/55 [==============================] - 138s 3s/step - loss: 0.1218 - accuracy: 0.9612 - val_loss: 0.1346 - val_accuracy: 0.9493\n",
            "Epoch 4/30\n",
            "55/55 [==============================] - 137s 2s/step - loss: 0.1211 - accuracy: 0.9538 - val_loss: 0.1395 - val_accuracy: 0.9638\n",
            "Epoch 5/30\n",
            "55/55 [==============================] - 139s 3s/step - loss: 0.0904 - accuracy: 0.9686 - val_loss: 0.1193 - val_accuracy: 0.9565\n",
            "Epoch 6/30\n",
            "55/55 [==============================] - 138s 3s/step - loss: 0.0839 - accuracy: 0.9630 - val_loss: 0.1227 - val_accuracy: 0.9710\n",
            "Epoch 7/30\n",
            "55/55 [==============================] - 138s 3s/step - loss: 0.0780 - accuracy: 0.9778 - val_loss: 0.1172 - val_accuracy: 0.9638\n",
            "Epoch 8/30\n",
            "55/55 [==============================] - 137s 2s/step - loss: 0.0774 - accuracy: 0.9741 - val_loss: 0.1125 - val_accuracy: 0.9565\n",
            "Epoch 9/30\n",
            "55/55 [==============================] - 138s 3s/step - loss: 0.0634 - accuracy: 0.9760 - val_loss: 0.1093 - val_accuracy: 0.9638\n",
            "Epoch 10/30\n",
            "55/55 [==============================] - 140s 3s/step - loss: 0.0553 - accuracy: 0.9797 - val_loss: 0.1111 - val_accuracy: 0.9638\n",
            "Epoch 11/30\n",
            "55/55 [==============================] - 138s 3s/step - loss: 0.0813 - accuracy: 0.9741 - val_loss: 0.1038 - val_accuracy: 0.9565\n",
            "Epoch 12/30\n",
            "55/55 [==============================] - 138s 3s/step - loss: 0.0550 - accuracy: 0.9834 - val_loss: 0.1147 - val_accuracy: 0.9638\n",
            "Epoch 13/30\n",
            "55/55 [==============================] - 137s 2s/step - loss: 0.0668 - accuracy: 0.9760 - val_loss: 0.1124 - val_accuracy: 0.9638\n",
            "Epoch 14/30\n",
            "55/55 [==============================] - 140s 3s/step - loss: 0.0412 - accuracy: 0.9889 - val_loss: 0.1049 - val_accuracy: 0.9638\n",
            "Epoch 15/30\n",
            "55/55 [==============================] - 137s 2s/step - loss: 0.0516 - accuracy: 0.9852 - val_loss: 0.0966 - val_accuracy: 0.9710\n",
            "Epoch 16/30\n",
            "55/55 [==============================] - 137s 2s/step - loss: 0.0703 - accuracy: 0.9797 - val_loss: 0.0948 - val_accuracy: 0.9638\n",
            "Epoch 17/30\n",
            "55/55 [==============================] - 137s 2s/step - loss: 0.0526 - accuracy: 0.9815 - val_loss: 0.0919 - val_accuracy: 0.9710\n",
            "Epoch 18/30\n",
            "55/55 [==============================] - 139s 3s/step - loss: 0.0686 - accuracy: 0.9764 - val_loss: 0.0948 - val_accuracy: 0.9638\n",
            "Epoch 19/30\n",
            "55/55 [==============================] - 140s 3s/step - loss: 0.0537 - accuracy: 0.9815 - val_loss: 0.0816 - val_accuracy: 0.9710\n",
            "Epoch 20/30\n",
            "55/55 [==============================] - 137s 2s/step - loss: 0.0622 - accuracy: 0.9741 - val_loss: 0.0776 - val_accuracy: 0.9710\n",
            "Epoch 21/30\n",
            "55/55 [==============================] - 137s 2s/step - loss: 0.0364 - accuracy: 0.9889 - val_loss: 0.0814 - val_accuracy: 0.9783\n",
            "Epoch 22/30\n",
            "55/55 [==============================] - 137s 2s/step - loss: 0.0430 - accuracy: 0.9815 - val_loss: 0.0860 - val_accuracy: 0.9710\n",
            "Epoch 23/30\n",
            "55/55 [==============================] - 139s 3s/step - loss: 0.0365 - accuracy: 0.9834 - val_loss: 0.0861 - val_accuracy: 0.9710\n",
            "Epoch 24/30\n",
            "55/55 [==============================] - 137s 2s/step - loss: 0.0613 - accuracy: 0.9797 - val_loss: 0.0810 - val_accuracy: 0.9710\n",
            "Epoch 25/30\n",
            "55/55 [==============================] - 136s 2s/step - loss: 0.0358 - accuracy: 0.9852 - val_loss: 0.0821 - val_accuracy: 0.9783\n",
            "Epoch 26/30\n",
            "55/55 [==============================] - 137s 2s/step - loss: 0.0573 - accuracy: 0.9834 - val_loss: 0.0790 - val_accuracy: 0.9638\n",
            "Epoch 27/30\n",
            "55/55 [==============================] - 139s 3s/step - loss: 0.0317 - accuracy: 0.9852 - val_loss: 0.0915 - val_accuracy: 0.9710\n",
            "Epoch 28/30\n",
            "55/55 [==============================] - 137s 2s/step - loss: 0.0337 - accuracy: 0.9908 - val_loss: 0.0945 - val_accuracy: 0.9783\n",
            "Epoch 29/30\n",
            "55/55 [==============================] - 137s 2s/step - loss: 0.0300 - accuracy: 0.9926 - val_loss: 0.0860 - val_accuracy: 0.9638\n",
            "Epoch 30/30\n",
            "55/55 [==============================] - 136s 2s/step - loss: 0.0411 - accuracy: 0.9889 - val_loss: 0.0831 - val_accuracy: 0.9710\n"
          ],
          "name": "stdout"
        }
      ]
    },
    {
      "cell_type": "code",
      "metadata": {
        "id": "hJGnpg8wSHtz",
        "colab_type": "code",
        "colab": {}
      },
      "source": [
        "# import the necessary packages\n",
        "from tensorflow.keras.preprocessing.image import ImageDataGenerator\n",
        "from tensorflow.keras.applications import VGG16\n",
        "from tensorflow.keras.layers import AveragePooling2D\n",
        "from tensorflow.keras.layers import Dropout\n",
        "from tensorflow.keras.layers import Flatten\n",
        "from tensorflow.keras.layers import Dense\n",
        "from tensorflow.keras.layers import Input\n",
        "from tensorflow.keras.models import Model\n",
        "from tensorflow.keras.optimizers import Adam\n",
        "from tensorflow.keras.utils import to_categorical\n",
        "from sklearn.preprocessing import LabelBinarizer\n",
        "from sklearn.model_selection import train_test_split\n",
        "from sklearn.metrics import classification_report\n",
        "from sklearn.metrics import confusion_matrix\n",
        "from imutils import paths\n",
        "import matplotlib.pyplot as plt\n",
        "import numpy as np\n",
        "import argparse\n",
        "import cv2\n",
        "import os\n",
        "from keras.applications.resnet50 import ResNet50\n",
        "from keras.preprocessing import image\n",
        "from keras.applications.resnet50 import preprocess_input, decode_predictions\n",
        "import numpy as np\n"
      ],
      "execution_count": null,
      "outputs": []
    },
    {
      "cell_type": "code",
      "metadata": {
        "id": "Tdc2RLJoRtJ9",
        "colab_type": "code",
        "colab": {
          "base_uri": "https://localhost:8080/",
          "height": 199
        },
        "outputId": "46b91b3f-c52b-498b-80a1-7a6881a18f9c"
      },
      "source": [
        "# make predictions on the testing set\n",
        "print(\"[INFO] evaluating network...\")\n",
        "predIdxs = Xception_model.predict(testX, batch_size=BS)\n",
        "# for each image in the testing set we need to find the index of the\n",
        "# label with corresponding largest predicted probability\n",
        "predIdxs = np.argmax(predIdxs, axis=1)\n",
        "# show a nicely formatted classification report\n",
        "print(classification_report(testY.argmax(axis=1), predIdxs,\n",
        "\ttarget_names=lb.classes_))"
      ],
      "execution_count": null,
      "outputs": [
        {
          "output_type": "stream",
          "text": [
            "[INFO] evaluating network...\n",
            "              precision    recall  f1-score   support\n",
            "\n",
            "    infected       0.95      0.98      0.97        64\n",
            "      normal       0.99      0.96      0.97        74\n",
            "\n",
            "    accuracy                           0.97       138\n",
            "   macro avg       0.97      0.97      0.97       138\n",
            "weighted avg       0.97      0.97      0.97       138\n",
            "\n"
          ],
          "name": "stdout"
        }
      ]
    },
    {
      "cell_type": "code",
      "metadata": {
        "id": "a0CcWszDSB4p",
        "colab_type": "code",
        "colab": {
          "base_uri": "https://localhost:8080/",
          "height": 108
        },
        "outputId": "94a1758f-4243-4a3f-e611-4dc42c298fec"
      },
      "source": [
        "# compute the confusion matrix and and use it to derive the raw\n",
        "# accuracy, sensitivity, and specificity\n",
        "cm = confusion_matrix(testY.argmax(axis=1), predIdxs)\n",
        "total = sum(sum(cm))\n",
        "acc = (cm[0, 0] + cm[1, 1]) / total\n",
        "sensitivity = cm[0, 0] / (cm[0, 0] + cm[0, 1])\n",
        "specificity = cm[1, 1] / (cm[1, 0] + cm[1, 1])\n",
        "# show the confusion matrix, accuracy, sensitivity, and specificity\n",
        "print(cm)\n",
        "print(\"acc: {:.4f}\".format(acc))\n",
        "print(\"sensitivity: {:.4f}\".format(sensitivity))\n",
        "print(\"specificity: {:.4f}\".format(specificity))"
      ],
      "execution_count": null,
      "outputs": [
        {
          "output_type": "stream",
          "text": [
            "[[63  1]\n",
            " [ 3 71]]\n",
            "acc: 0.9710\n",
            "sensitivity: 0.9844\n",
            "specificity: 0.9595\n"
          ],
          "name": "stdout"
        }
      ]
    },
    {
      "cell_type": "code",
      "metadata": {
        "id": "MrEMuPfcTPuv",
        "colab_type": "code",
        "colab": {
          "base_uri": "https://localhost:8080/",
          "height": 317
        },
        "outputId": "deb5091e-69af-4313-9c17-c86d0602f395"
      },
      "source": [
        "# plot the training loss and accuracy\n",
        "N = EPOCHS\n",
        "plt.style.use(\"ggplot\")\n",
        "plt.figure()\n",
        "plt.plot(np.arange(0, EPOCHS), H.history[\"loss\"], label=\"train_loss\")\n",
        "plt.plot(np.arange(0, EPOCHS), H.history[\"val_loss\"], label=\"val_loss\")\n",
        "plt.plot(np.arange(0, EPOCHS), H.history[\"accuracy\"], label=\"train_acc\")\n",
        "plt.plot(np.arange(0, EPOCHS), H.history[\"val_accuracy\"], label=\"val_acc\")\n",
        "plt.title(\"Training Loss and Accuracy on COVID-19 Dataset\")\n",
        "plt.xlabel(\"Epoch #\")\n",
        "plt.ylabel(\"Loss/Accuracy\")\n",
        "plt.legend(loc=\"lower left\")\n",
        "#plt.savefig(args[\"plot\"])"
      ],
      "execution_count": null,
      "outputs": [
        {
          "output_type": "execute_result",
          "data": {
            "text/plain": [
              "<matplotlib.legend.Legend at 0x7f5e6f443908>"
            ]
          },
          "metadata": {
            "tags": []
          },
          "execution_count": 47
        },
        {
          "output_type": "display_data",
          "data": {
            "image/png": "[encoded data removed]",
            "text/plain": [
              "<Figure size 432x288 with 1 Axes>"
            ]
          },
          "metadata": {
            "tags": []
          }
        }
      ]
    },
    {
      "cell_type": "code",
      "metadata": {
        "id": "GkmQgESpTT41",
        "colab_type": "code",
        "colab": {
          "base_uri": "https://localhost:8080/",
          "height": 144
        },
        "outputId": "bfb53e62-fc73-42bd-b425-54db1347d382"
      },
      "source": [
        "predIdxs"
      ],
      "execution_count": null,
      "outputs": [
        {
          "output_type": "execute_result",
          "data": {
            "text/plain": [
              "array([0, 0, 1, 1, 1, 0, 0, 1, 0, 1, 0, 0, 0, 1, 0, 0, 0, 0, 0, 0, 1, 0,\n",
              "       0, 1, 1, 0, 0, 0, 1, 0, 0, 0, 0, 0, 1, 0, 0, 0, 1, 1, 1, 1, 1, 0,\n",
              "       1, 1, 0, 0, 1, 1, 1, 1, 0, 0, 0, 0, 0, 1, 1, 0, 0, 1, 1, 0, 1, 1,\n",
              "       1, 0, 0, 1, 1, 1, 1, 1, 1, 1, 1, 0, 0, 1, 1, 0, 0, 1, 1, 1, 1, 1,\n",
              "       0, 1, 0, 1, 0, 0, 0, 1, 1, 1, 1, 1, 1, 0, 1, 1, 1, 0, 1, 0, 1, 0,\n",
              "       0, 1, 1, 0, 1, 1, 0, 0, 0, 0, 1, 0, 1, 1, 0, 1, 0, 1, 0, 0, 1, 1,\n",
              "       1, 0, 0, 1, 1, 1])"
            ]
          },
          "metadata": {
            "tags": []
          },
          "execution_count": 48
        }
      ]
    },
    {
      "cell_type": "code",
      "metadata": {
        "id": "KmWuEDP2TUH5",
        "colab_type": "code",
        "colab": {
          "base_uri": "https://localhost:8080/",
          "height": 253
        },
        "outputId": "e063c68b-bf88-47ce-a37a-bb841086f9cc"
      },
      "source": [
        "predict_imagePaths=['/content/Classification-of-COVID-19-chest-X-ray-images/dataset/training/normal/NORMAL2 (32).jpeg',\n",
        " '/content/Classification-of-COVID-19-chest-X-ray-images/dataset/training/normal/NORMAL2 (42).jpeg',\n",
        " '/content/Classification-of-COVID-19-chest-X-ray-images/dataset/training/normal/NORMAL2 (180).jpeg',\n",
        " '/content/Classification-of-COVID-19-chest-X-ray-images/dataset/training/normal/NORMAL2-IM-0339-0001.jpeg',\n",
        " '/content/Classification-of-COVID-19-chest-X-ray-images/dataset/training/normal/NORMAL2-IM-0019-0001.jpeg',\n",
        " '/content/Classification-of-COVID-19-chest-X-ray-images/dataset/training/normal/NORMAL2-IM-0323-0001.jpeg',\n",
        " '/content/Classification-of-COVID-19-chest-X-ray-images/dataset/training/normal/NORMAL2-IM-0370-0001.jpeg',\n",
        " '/content/Classification-of-COVID-19-chest-X-ray-images/dataset/training/infected/covid_train (79).jpg',\n",
        " '/content/Classification-of-COVID-19-chest-X-ray-images/dataset/training/infected/covid_train (28).jpeg',\n",
        " '/content/Classification-of-COVID-19-chest-X-ray-images/dataset/training/infected/covid_train (71).jpg',\n",
        " '/content/Classification-of-COVID-19-chest-X-ray-images/dataset/training/infected/covid_train11.png',\n",
        " '/content/Classification-of-COVID-19-chest-X-ray-images/dataset/training/infected/covid_train (43).jpg',\n",
        " '/content/Classification-of-COVID-19-chest-X-ray-images/dataset/training/infected/covid_train (30).jpeg']\n",
        "# loop over the image paths\n",
        "for imagePath in predict_imagePaths:\n",
        "\t# extract the class label from the filename\n",
        "#\tlabel = imagePath.split(os.path.sep)[-2]\n",
        "\t# load the image, swap color channels, and resize it to be a fixed\n",
        "\t# 224x224 pixels while ignoring aspect ratio\n",
        "  image = cv2.imread(imagePath)\n",
        "  image = cv2.cvtColor(image, cv2.COLOR_BGR2RGB)\n",
        "  image = cv2.resize(image, (224, 224))\n",
        "  img = np.array(image) / 255.0\n",
        "  img=np.reshape(img,(1,224,224,3))\n",
        "  print(Xception_model.predict(img).argmax(axis=1))"
      ],
      "execution_count": null,
      "outputs": [
        {
          "output_type": "stream",
          "text": [
            "[1]\n",
            "[1]\n",
            "[1]\n",
            "[1]\n",
            "[1]\n",
            "[1]\n",
            "[1]\n",
            "[0]\n",
            "[0]\n",
            "[0]\n",
            "[0]\n",
            "[0]\n",
            "[0]\n"
          ],
          "name": "stdout"
        }
      ]
    },
    {
      "cell_type": "code",
      "metadata": {
        "id": "9na49f6_Tfk7",
        "colab_type": "code",
        "colab": {
          "base_uri": "https://localhost:8080/",
          "height": 35
        },
        "outputId": "ea4b6c3b-0438-4d2e-b3ab-468674386eac"
      },
      "source": [
        "img.shape"
      ],
      "execution_count": null,
      "outputs": [
        {
          "output_type": "execute_result",
          "data": {
            "text/plain": [
              "(1, 224, 224, 3)"
            ]
          },
          "metadata": {
            "tags": []
          },
          "execution_count": 51
        }
      ]
    },
    {
      "cell_type": "markdown",
      "metadata": {
        "id": "-xV25QiyEwvs",
        "colab_type": "text"
      },
      "source": [
        "# DenseNet201"
      ]
    },
    {
      "cell_type": "code",
      "metadata": {
        "id": "0FqAhfT3E0gS",
        "colab_type": "code",
        "colab": {}
      },
      "source": [
        "from tensorflow.keras.applications import DenseNet201"
      ],
      "execution_count": null,
      "outputs": []
    },
    {
      "cell_type": "code",
      "metadata": {
        "id": "eoTVtxbJUcDo",
        "colab_type": "code",
        "colab": {
          "base_uri": "https://localhost:8080/",
          "height": 53
        },
        "outputId": "c839383e-a46d-4c1f-fe91-7e8bb2e0a3c4"
      },
      "source": [
        "IMG_SHAPE = (224,224,3)\n",
        "\n",
        "\n",
        "baseModel = tf.keras.applications.DenseNet201(include_top=False,weights='imagenet',input_tensor=Input(shape=(224, 224, 3)))\n",
        "headModel = baseModel.output\n",
        "headModel = AveragePooling2D(pool_size=(4, 4))(headModel)\n",
        "headModel = Dropout(0.5)(headModel)\n",
        "headModel = Flatten(name=\"flatten\")(headModel)\n",
        "headModel = Dense(64, activation=\"relu\")(headModel)\n",
        "headModel = Dropout(0.5)(headModel)\n",
        "headModel = Dense(2, activation=\"softmax\")(headModel)\n",
        "\n",
        "\n",
        "DenseNet201_model= Model(inputs=baseModel.input, outputs=headModel)\n",
        "\n",
        "for layer in baseModel.layers:\n",
        "    layer.trainable = False"
      ],
      "execution_count": null,
      "outputs": [
        {
          "output_type": "stream",
          "text": [
            "Downloading data from https://storage.googleapis.com/tensorflow/keras-applications/densenet/densenet201_weights_tf_dim_ordering_tf_kernels_notop.h5\n",
            "74842112/74836368 [==============================] - 1s 0us/step\n"
          ],
          "name": "stdout"
        }
      ]
    },
    {
      "cell_type": "code",
      "metadata": {
        "id": "6TlhJ-W7UleF",
        "colab_type": "code",
        "colab": {
          "base_uri": "https://localhost:8080/",
          "height": 1000
        },
        "outputId": "d415d37d-0ebe-4d19-c174-e99e34776413"
      },
      "source": [
        "model_chkpt = ModelCheckpoint('best_mod.h5', save_best_only=True, monitor='accuracy')\n",
        "early_stopping = EarlyStopping(monitor='loss', restore_best_weights=False, patience=10)\n",
        "\n",
        "# initialize the initial learning rate, number of epochs to train for,\n",
        "# and batch size\n",
        "INIT_LR = 3e-4\n",
        "EPOCHS = 30\n",
        "BS = 10\n",
        "# compile our model\n",
        "print(\"[INFO] compiling model...\")\n",
        "opt = Adam(lr=INIT_LR, decay=INIT_LR / EPOCHS)\n",
        "DenseNet201_model.compile(loss=\"binary_crossentropy\", optimizer=opt,\n",
        "\tmetrics=[\"accuracy\"])\n",
        "# train the head of the network\n",
        "print(\"[INFO] training head...\")\n",
        "H = DenseNet201_model.fit_generator(\n",
        "\ttrainAug.flow(trainX, trainY, batch_size=BS),\n",
        "\tsteps_per_epoch=len(trainX) // BS,\n",
        "\tvalidation_data=(testX, testY),\n",
        "\tvalidation_steps=len(testX) // BS,\n",
        "\tepochs=EPOCHS,callbacks=[early_stopping,model_chkpt])\n",
        "\n"
      ],
      "execution_count": null,
      "outputs": [
        {
          "output_type": "stream",
          "text": [
            "[INFO] compiling model...\n",
            "[INFO] training head...\n",
            "Epoch 1/30\n",
            "55/55 [==============================] - 165s 3s/step - loss: 0.6319 - accuracy: 0.7043 - val_loss: 0.1675 - val_accuracy: 0.9565\n",
            "Epoch 2/30\n",
            "55/55 [==============================] - 156s 3s/step - loss: 0.3331 - accuracy: 0.8410 - val_loss: 0.1181 - val_accuracy: 0.9493\n",
            "Epoch 3/30\n",
            "55/55 [==============================] - 153s 3s/step - loss: 0.2178 - accuracy: 0.9224 - val_loss: 0.1012 - val_accuracy: 0.9638\n",
            "Epoch 4/30\n",
            "55/55 [==============================] - 150s 3s/step - loss: 0.1677 - accuracy: 0.9427 - val_loss: 0.0966 - val_accuracy: 0.9565\n",
            "Epoch 5/30\n",
            "55/55 [==============================] - 152s 3s/step - loss: 0.1637 - accuracy: 0.9279 - val_loss: 0.0846 - val_accuracy: 0.9710\n",
            "Epoch 6/30\n",
            "55/55 [==============================] - 149s 3s/step - loss: 0.1439 - accuracy: 0.9445 - val_loss: 0.0798 - val_accuracy: 0.9710\n",
            "Epoch 7/30\n",
            "55/55 [==============================] - 156s 3s/step - loss: 0.1483 - accuracy: 0.9335 - val_loss: 0.0765 - val_accuracy: 0.9783\n",
            "Epoch 8/30\n",
            "55/55 [==============================] - 157s 3s/step - loss: 0.1485 - accuracy: 0.9353 - val_loss: 0.0858 - val_accuracy: 0.9710\n",
            "Epoch 9/30\n",
            "55/55 [==============================] - 158s 3s/step - loss: 0.1061 - accuracy: 0.9519 - val_loss: 0.0829 - val_accuracy: 0.9710\n",
            "Epoch 10/30\n",
            "55/55 [==============================] - 146s 3s/step - loss: 0.1361 - accuracy: 0.9445 - val_loss: 0.0896 - val_accuracy: 0.9565\n",
            "Epoch 11/30\n",
            "55/55 [==============================] - 144s 3s/step - loss: 0.1231 - accuracy: 0.9519 - val_loss: 0.0765 - val_accuracy: 0.9783\n",
            "Epoch 12/30\n",
            "55/55 [==============================] - 147s 3s/step - loss: 0.1084 - accuracy: 0.9612 - val_loss: 0.0776 - val_accuracy: 0.9710\n",
            "Epoch 13/30\n",
            "55/55 [==============================] - 161s 3s/step - loss: 0.0895 - accuracy: 0.9649 - val_loss: 0.0760 - val_accuracy: 0.9783\n",
            "Epoch 14/30\n",
            "55/55 [==============================] - 157s 3s/step - loss: 0.1022 - accuracy: 0.9741 - val_loss: 0.0753 - val_accuracy: 0.9783\n",
            "Epoch 15/30\n",
            "55/55 [==============================] - 153s 3s/step - loss: 0.1184 - accuracy: 0.9649 - val_loss: 0.0745 - val_accuracy: 0.9783\n",
            "Epoch 16/30\n",
            "55/55 [==============================] - 149s 3s/step - loss: 0.0905 - accuracy: 0.9704 - val_loss: 0.0803 - val_accuracy: 0.9783\n",
            "Epoch 17/30\n",
            "55/55 [==============================] - 146s 3s/step - loss: 0.1041 - accuracy: 0.9649 - val_loss: 0.0762 - val_accuracy: 0.9710\n",
            "Epoch 18/30\n",
            "55/55 [==============================] - 149s 3s/step - loss: 0.0928 - accuracy: 0.9649 - val_loss: 0.0752 - val_accuracy: 0.9783\n",
            "Epoch 19/30\n",
            "55/55 [==============================] - 148s 3s/step - loss: 0.1003 - accuracy: 0.9519 - val_loss: 0.0719 - val_accuracy: 0.9783\n",
            "Epoch 20/30\n",
            "55/55 [==============================] - 146s 3s/step - loss: 0.0968 - accuracy: 0.9723 - val_loss: 0.0781 - val_accuracy: 0.9783\n",
            "Epoch 21/30\n",
            "55/55 [==============================] - 145s 3s/step - loss: 0.1082 - accuracy: 0.9538 - val_loss: 0.0859 - val_accuracy: 0.9783\n",
            "Epoch 22/30\n",
            "55/55 [==============================] - 143s 3s/step - loss: 0.0981 - accuracy: 0.9612 - val_loss: 0.0733 - val_accuracy: 0.9855\n",
            "Epoch 23/30\n",
            "55/55 [==============================] - 147s 3s/step - loss: 0.0819 - accuracy: 0.9686 - val_loss: 0.0709 - val_accuracy: 0.9783\n",
            "Epoch 24/30\n",
            "55/55 [==============================] - 148s 3s/step - loss: 0.0971 - accuracy: 0.9667 - val_loss: 0.0684 - val_accuracy: 0.9783\n",
            "Epoch 25/30\n",
            "55/55 [==============================] - 146s 3s/step - loss: 0.0887 - accuracy: 0.9686 - val_loss: 0.0661 - val_accuracy: 0.9855\n",
            "Epoch 26/30\n",
            "55/55 [==============================] - 149s 3s/step - loss: 0.0893 - accuracy: 0.9686 - val_loss: 0.0748 - val_accuracy: 0.9783\n",
            "Epoch 27/30\n",
            "55/55 [==============================] - 148s 3s/step - loss: 0.0619 - accuracy: 0.9760 - val_loss: 0.0674 - val_accuracy: 0.9783\n",
            "Epoch 28/30\n",
            "55/55 [==============================] - 145s 3s/step - loss: 0.0680 - accuracy: 0.9797 - val_loss: 0.0663 - val_accuracy: 0.9855\n",
            "Epoch 29/30\n",
            "55/55 [==============================] - 143s 3s/step - loss: 0.0767 - accuracy: 0.9723 - val_loss: 0.0703 - val_accuracy: 0.9710\n",
            "Epoch 30/30\n",
            "55/55 [==============================] - 143s 3s/step - loss: 0.0595 - accuracy: 0.9741 - val_loss: 0.0680 - val_accuracy: 0.9783\n"
          ],
          "name": "stdout"
        }
      ]
    },
    {
      "cell_type": "code",
      "metadata": {
        "id": "RiN9rduLUqKQ",
        "colab_type": "code",
        "colab": {
          "base_uri": "https://localhost:8080/",
          "height": 199
        },
        "outputId": "07366c09-63b1-405c-e99c-aa95e1579aaf"
      },
      "source": [
        "# make predictions on the testing set\n",
        "print(\"[INFO] evaluating network...\")\n",
        "predIdxs = DenseNet201_model.predict(testX, batch_size=BS)\n",
        "# for each image in the testing set we need to find the index of the\n",
        "# label with corresponding largest predicted probability\n",
        "predIdxs = np.argmax(predIdxs, axis=1)\n",
        "# show a nicely formatted classification report\n",
        "print(classification_report(testY.argmax(axis=1), predIdxs,\n",
        "\ttarget_names=lb.classes_))\n",
        "\n",
        "\n"
      ],
      "execution_count": null,
      "outputs": [
        {
          "output_type": "stream",
          "text": [
            "[INFO] evaluating network...\n",
            "              precision    recall  f1-score   support\n",
            "\n",
            "    infected       0.97      0.98      0.98        64\n",
            "      normal       0.99      0.97      0.98        74\n",
            "\n",
            "    accuracy                           0.98       138\n",
            "   macro avg       0.98      0.98      0.98       138\n",
            "weighted avg       0.98      0.98      0.98       138\n",
            "\n"
          ],
          "name": "stdout"
        }
      ]
    },
    {
      "cell_type": "code",
      "metadata": {
        "id": "YEWDQ4CfUtW5",
        "colab_type": "code",
        "colab": {
          "base_uri": "https://localhost:8080/",
          "height": 108
        },
        "outputId": "5b443c0c-8c81-4a25-815e-069d11a7e907"
      },
      "source": [
        "# compute the confusion matrix and and use it to derive the raw\n",
        "# accuracy, sensitivity, and specificity\n",
        "cm = confusion_matrix(testY.argmax(axis=1), predIdxs)\n",
        "total = sum(sum(cm))\n",
        "acc = (cm[0, 0] + cm[1, 1]) / total\n",
        "sensitivity = cm[0, 0] / (cm[0, 0] + cm[0, 1])\n",
        "specificity = cm[1, 1] / (cm[1, 0] + cm[1, 1])\n",
        "# show the confusion matrix, accuracy, sensitivity, and specificity\n",
        "print(cm)\n",
        "print(\"acc: {:.4f}\".format(acc))\n",
        "print(\"sensitivity: {:.4f}\".format(sensitivity))\n",
        "print(\"specificity: {:.4f}\".format(specificity))\n"
      ],
      "execution_count": null,
      "outputs": [
        {
          "output_type": "stream",
          "text": [
            "[[63  1]\n",
            " [ 2 72]]\n",
            "acc: 0.9783\n",
            "sensitivity: 0.9844\n",
            "specificity: 0.9730\n"
          ],
          "name": "stdout"
        }
      ]
    },
    {
      "cell_type": "code",
      "metadata": {
        "id": "UK8FNLwXUxrt",
        "colab_type": "code",
        "colab": {
          "base_uri": "https://localhost:8080/",
          "height": 317
        },
        "outputId": "f7f93eec-edb1-4310-857d-190863966649"
      },
      "source": [
        "# plot the training loss and accuracy\n",
        "N = EPOCHS\n",
        "plt.style.use(\"ggplot\")\n",
        "plt.figure()\n",
        "plt.plot(np.arange(0, EPOCHS), H.history[\"loss\"], label=\"train_loss\")\n",
        "plt.plot(np.arange(0, EPOCHS), H.history[\"val_loss\"], label=\"val_loss\")\n",
        "plt.plot(np.arange(0, EPOCHS), H.history[\"accuracy\"], label=\"train_acc\")\n",
        "plt.plot(np.arange(0, EPOCHS), H.history[\"val_accuracy\"], label=\"val_acc\")\n",
        "plt.title(\"Training Loss and Accuracy on COVID-19 Dataset\")\n",
        "plt.xlabel(\"Epoch #\")\n",
        "plt.ylabel(\"Loss/Accuracy\")\n",
        "plt.legend(loc=\"lower left\")\n",
        "#plt.savefig(args[\"plot\"])"
      ],
      "execution_count": null,
      "outputs": [
        {
          "output_type": "execute_result",
          "data": {
            "text/plain": [
              "<matplotlib.legend.Legend at 0x7f5e68b067f0>"
            ]
          },
          "metadata": {
            "tags": []
          },
          "execution_count": 57
        },
        {
          "output_type": "display_data",
          "data": {
            "image/png": "[encoded data removed]",
            "text/plain": [
              "<Figure size 432x288 with 1 Axes>"
            ]
          },
          "metadata": {
            "tags": []
          }
        }
      ]
    },
    {
      "cell_type": "code",
      "metadata": {
        "id": "J6Ya7oGpUzN_",
        "colab_type": "code",
        "colab": {
          "base_uri": "https://localhost:8080/",
          "height": 144
        },
        "outputId": "084a5a91-802d-487d-ca0f-b1c20045bd63"
      },
      "source": [
        "predIdxs"
      ],
      "execution_count": null,
      "outputs": [
        {
          "output_type": "execute_result",
          "data": {
            "text/plain": [
              "array([0, 0, 1, 1, 1, 0, 0, 1, 0, 1, 0, 0, 0, 1, 0, 0, 0, 0, 0, 0, 1, 0,\n",
              "       0, 1, 1, 0, 0, 0, 1, 0, 0, 0, 0, 0, 1, 0, 0, 0, 1, 1, 1, 1, 1, 0,\n",
              "       1, 1, 0, 0, 1, 1, 1, 1, 0, 0, 0, 0, 0, 1, 1, 0, 0, 1, 1, 0, 1, 1,\n",
              "       1, 0, 0, 1, 1, 1, 1, 1, 1, 1, 1, 0, 0, 1, 1, 1, 0, 1, 1, 1, 1, 1,\n",
              "       0, 1, 0, 1, 0, 0, 0, 1, 1, 1, 1, 1, 1, 0, 1, 1, 1, 0, 1, 0, 1, 1,\n",
              "       0, 1, 1, 0, 1, 1, 0, 1, 0, 0, 1, 0, 1, 1, 0, 1, 0, 1, 0, 0, 0, 1,\n",
              "       1, 0, 0, 0, 1, 1])"
            ]
          },
          "metadata": {
            "tags": []
          },
          "execution_count": 58
        }
      ]
    },
    {
      "cell_type": "markdown",
      "metadata": {
        "id": "jGsrQrPUju-B",
        "colab_type": "text"
      },
      "source": [
        "#Inception V3"
      ]
    },
    {
      "cell_type": "code",
      "metadata": {
        "id": "-1iiBsmZj-3n",
        "colab_type": "code",
        "colab": {}
      },
      "source": [
        "from tensorflow.keras.preprocessing.image import ImageDataGenerator\n",
        "from tensorflow.keras.applications import VGG16,InceptionV3\n",
        "from tensorflow.keras.layers import AveragePooling2D\n",
        "from tensorflow.keras.layers import Dropout\n",
        "from tensorflow.keras.layers import Flatten\n",
        "from tensorflow.keras.layers import Dense\n",
        "from tensorflow.keras.layers import Input\n",
        "from tensorflow.keras.models import Model\n",
        "from tensorflow.keras.optimizers import Adam\n",
        "from tensorflow.keras.utils import to_categorical\n",
        "from sklearn.preprocessing import LabelBinarizer\n",
        "from sklearn.model_selection import train_test_split"
      ],
      "execution_count": 1,
      "outputs": []
    },
    {
      "cell_type": "code",
      "metadata": {
        "id": "lLAXiCdfj_cS",
        "colab_type": "code",
        "colab": {
          "base_uri": "https://localhost:8080/",
          "height": 53
        },
        "outputId": "9e6bdac1-746c-4ddf-928c-552e08e346c5"
      },
      "source": [
        "baseModel = InceptionV3(weights=\"imagenet\", include_top=False, input_tensor=Input(shape=(224, 224, 3)))\n",
        "#construct the head of the model that will be placed on top of the\n",
        "#the base model\n",
        "\n",
        "headModel = baseModel.output\n",
        "headModel = AveragePooling2D(pool_size=(4, 4))(headModel)\n",
        "headModel = Dropout(0.5)(headModel)\n",
        "headModel = Flatten(name=\"flatten\")(headModel)\n",
        "headModel = Dense(64, activation=\"relu\")(headModel)\n",
        "headModel = Dropout(0.5)(headModel)\n",
        "headModel = Dense(2, activation=\"softmax\")(headModel)\n",
        "\n",
        "\n",
        "model= Model(inputs=baseModel.input, outputs=headModel)\n",
        "\n",
        "for layer in baseModel.layers:\n",
        "    layer.trainable = False"
      ],
      "execution_count": 2,
      "outputs": [
        {
          "output_type": "stream",
          "text": [
            "Downloading data from https://storage.googleapis.com/tensorflow/keras-applications/inception_v3/inception_v3_weights_tf_dim_ordering_tf_kernels_notop.h5\n",
            "87916544/87910968 [==============================] - 3s 0us/step\n"
          ],
          "name": "stdout"
        }
      ]
    },
    {
      "cell_type": "code",
      "metadata": {
        "id": "fCVEtQcDkF30",
        "colab_type": "code",
        "colab": {}
      },
      "source": [
        "model_chkpt = ModelCheckpoint('best_mod.h5', save_best_only=True, monitor='accuracy')\n",
        "early_stopping = EarlyStopping(monitor='loss', restore_best_weights=False, patience=10)"
      ],
      "execution_count": 21,
      "outputs": []
    },
    {
      "cell_type": "code",
      "metadata": {
        "id": "vBrgQbbkkIkJ",
        "colab_type": "code",
        "colab": {
          "base_uri": "https://localhost:8080/",
          "height": 1000
        },
        "outputId": "3050cc7d-fc0c-4966-a648-d1871b1720ec"
      },
      "source": [
        "# initialize the initial learning rate, number of epochs to train for,\n",
        "# and batch size\n",
        "INIT_LR = 3e-4\n",
        "EPOCHS = 30\n",
        "BS = 10\n",
        "# compile our model\n",
        "print(\"[INFO] compiling model...\")\n",
        "opt = Adam(lr=INIT_LR, decay=INIT_LR / EPOCHS)\n",
        "model.compile(loss=\"binary_crossentropy\", optimizer=opt,\n",
        "\tmetrics=[\"accuracy\"])\n",
        "# train the head of the network\n",
        "print(\"[INFO] training head...\")\n",
        "H = model.fit_generator(\n",
        "\ttrainAug.flow(trainX, trainY, batch_size=BS),\n",
        "\tsteps_per_epoch=len(trainX) // BS,\n",
        "\tvalidation_data=(testX, testY),\n",
        "\tvalidation_steps=len(testX) // BS,\n",
        "\tepochs=EPOCHS,callbacks=[early_stopping,model_chkpt])"
      ],
      "execution_count": 22,
      "outputs": [
        {
          "output_type": "stream",
          "text": [
            "[INFO] compiling model...\n",
            "[INFO] training head...\n",
            "WARNING:tensorflow:From <ipython-input-22-aa9cef3e4c49>:18: Model.fit_generator (from tensorflow.python.keras.engine.training) is deprecated and will be removed in a future version.\n",
            "Instructions for updating:\n",
            "Please use Model.fit, which supports generators.\n",
            "Epoch 1/30\n",
            "55/55 [==============================] - 70s 1s/step - loss: 0.7045 - accuracy: 0.7098 - val_loss: 0.1796 - val_accuracy: 0.9348\n",
            "Epoch 2/30\n",
            "55/55 [==============================] - 68s 1s/step - loss: 0.2460 - accuracy: 0.8983 - val_loss: 0.1155 - val_accuracy: 0.9565\n",
            "Epoch 3/30\n",
            "55/55 [==============================] - 68s 1s/step - loss: 0.2191 - accuracy: 0.9094 - val_loss: 0.1024 - val_accuracy: 0.9565\n",
            "Epoch 4/30\n",
            "55/55 [==============================] - 69s 1s/step - loss: 0.1893 - accuracy: 0.9255 - val_loss: 0.0912 - val_accuracy: 0.9710\n",
            "Epoch 5/30\n",
            "55/55 [==============================] - 69s 1s/step - loss: 0.1655 - accuracy: 0.9390 - val_loss: 0.0778 - val_accuracy: 0.9710\n",
            "Epoch 6/30\n",
            "55/55 [==============================] - 68s 1s/step - loss: 0.1527 - accuracy: 0.9409 - val_loss: 0.0703 - val_accuracy: 0.9710\n",
            "Epoch 7/30\n",
            "55/55 [==============================] - 70s 1s/step - loss: 0.1492 - accuracy: 0.9501 - val_loss: 0.0737 - val_accuracy: 0.9783\n",
            "Epoch 8/30\n",
            "55/55 [==============================] - 69s 1s/step - loss: 0.1620 - accuracy: 0.9372 - val_loss: 0.0702 - val_accuracy: 0.9710\n",
            "Epoch 9/30\n",
            "55/55 [==============================] - 69s 1s/step - loss: 0.1497 - accuracy: 0.9390 - val_loss: 0.0700 - val_accuracy: 0.9783\n",
            "Epoch 10/30\n",
            "55/55 [==============================] - 69s 1s/step - loss: 0.1116 - accuracy: 0.9649 - val_loss: 0.0629 - val_accuracy: 0.9783\n",
            "Epoch 11/30\n",
            "55/55 [==============================] - 68s 1s/step - loss: 0.1544 - accuracy: 0.9372 - val_loss: 0.0665 - val_accuracy: 0.9783\n",
            "Epoch 12/30\n",
            "55/55 [==============================] - 68s 1s/step - loss: 0.1424 - accuracy: 0.9353 - val_loss: 0.0640 - val_accuracy: 0.9783\n",
            "Epoch 13/30\n",
            "55/55 [==============================] - 67s 1s/step - loss: 0.1417 - accuracy: 0.9372 - val_loss: 0.0718 - val_accuracy: 0.9783\n",
            "Epoch 14/30\n",
            "55/55 [==============================] - 68s 1s/step - loss: 0.1181 - accuracy: 0.9519 - val_loss: 0.0648 - val_accuracy: 0.9783\n",
            "Epoch 15/30\n",
            "55/55 [==============================] - 68s 1s/step - loss: 0.1428 - accuracy: 0.9390 - val_loss: 0.0633 - val_accuracy: 0.9783\n",
            "Epoch 16/30\n",
            "55/55 [==============================] - 70s 1s/step - loss: 0.1033 - accuracy: 0.9723 - val_loss: 0.0632 - val_accuracy: 0.9783\n",
            "Epoch 17/30\n",
            "55/55 [==============================] - 67s 1s/step - loss: 0.1139 - accuracy: 0.9667 - val_loss: 0.0631 - val_accuracy: 0.9783\n",
            "Epoch 18/30\n",
            "55/55 [==============================] - 67s 1s/step - loss: 0.0889 - accuracy: 0.9667 - val_loss: 0.0555 - val_accuracy: 0.9783\n",
            "Epoch 19/30\n",
            "55/55 [==============================] - 67s 1s/step - loss: 0.1014 - accuracy: 0.9630 - val_loss: 0.0542 - val_accuracy: 0.9710\n",
            "Epoch 20/30\n",
            "55/55 [==============================] - 67s 1s/step - loss: 0.1313 - accuracy: 0.9464 - val_loss: 0.0581 - val_accuracy: 0.9855\n",
            "Epoch 21/30\n",
            "55/55 [==============================] - 67s 1s/step - loss: 0.0960 - accuracy: 0.9612 - val_loss: 0.0599 - val_accuracy: 0.9783\n",
            "Epoch 22/30\n",
            "55/55 [==============================] - 68s 1s/step - loss: 0.0957 - accuracy: 0.9612 - val_loss: 0.0524 - val_accuracy: 0.9710\n",
            "Epoch 23/30\n",
            "55/55 [==============================] - 68s 1s/step - loss: 0.0715 - accuracy: 0.9723 - val_loss: 0.0509 - val_accuracy: 0.9783\n",
            "Epoch 24/30\n",
            "55/55 [==============================] - 68s 1s/step - loss: 0.0953 - accuracy: 0.9741 - val_loss: 0.0563 - val_accuracy: 0.9783\n",
            "Epoch 25/30\n",
            "55/55 [==============================] - 70s 1s/step - loss: 0.1021 - accuracy: 0.9593 - val_loss: 0.0643 - val_accuracy: 0.9783\n",
            "Epoch 26/30\n",
            "55/55 [==============================] - 67s 1s/step - loss: 0.1214 - accuracy: 0.9538 - val_loss: 0.0520 - val_accuracy: 0.9783\n",
            "Epoch 27/30\n",
            "55/55 [==============================] - 68s 1s/step - loss: 0.1069 - accuracy: 0.9667 - val_loss: 0.0633 - val_accuracy: 0.9855\n",
            "Epoch 28/30\n",
            "55/55 [==============================] - 67s 1s/step - loss: 0.0949 - accuracy: 0.9667 - val_loss: 0.0567 - val_accuracy: 0.9783\n",
            "Epoch 29/30\n",
            "55/55 [==============================] - 68s 1s/step - loss: 0.1004 - accuracy: 0.9630 - val_loss: 0.0550 - val_accuracy: 0.9783\n",
            "Epoch 30/30\n",
            "55/55 [==============================] - 68s 1s/step - loss: 0.0995 - accuracy: 0.9593 - val_loss: 0.0635 - val_accuracy: 0.9783\n"
          ],
          "name": "stdout"
        }
      ]
    },
    {
      "cell_type": "code",
      "metadata": {
        "id": "HeIEBxIQkWrh",
        "colab_type": "code",
        "colab": {
          "base_uri": "https://localhost:8080/",
          "height": 199
        },
        "outputId": "e8695a93-f772-49a7-af38-5205cfca7d85"
      },
      "source": [
        "# make predictions on the testing set\n",
        "print(\"[INFO] evaluating network...\")\n",
        "predIdxs = model.predict(testX, batch_size=BS)\n",
        "# for each image in the testing set we need to find the index of the\n",
        "# label with corresponding largest predicted probability\n",
        "predIdxs = np.argmax(predIdxs, axis=1)\n",
        "# show a nicely formatted classification report\n",
        "print(classification_report(testY.argmax(axis=1), predIdxs,\n",
        "\ttarget_names=lb.classes_))\n",
        "\n",
        "\n"
      ],
      "execution_count": 24,
      "outputs": [
        {
          "output_type": "stream",
          "text": [
            "[INFO] evaluating network...\n",
            "              precision    recall  f1-score   support\n",
            "\n",
            "    infected       0.97      0.98      0.98        64\n",
            "      normal       0.99      0.97      0.98        74\n",
            "\n",
            "    accuracy                           0.98       138\n",
            "   macro avg       0.98      0.98      0.98       138\n",
            "weighted avg       0.98      0.98      0.98       138\n",
            "\n"
          ],
          "name": "stdout"
        }
      ]
    },
    {
      "cell_type": "code",
      "metadata": {
        "id": "4PElA6FXmf4a",
        "colab_type": "code",
        "colab": {
          "base_uri": "https://localhost:8080/",
          "height": 317
        },
        "outputId": "d29bb1b5-b5af-4ffd-d11c-f3362269cc05"
      },
      "source": [
        "# plot the training loss and accuracy\n",
        "N = EPOCHS\n",
        "plt.style.use(\"ggplot\")\n",
        "plt.figure()\n",
        "plt.plot(np.arange(0, EPOCHS), H.history[\"loss\"], label=\"train_loss\")\n",
        "plt.plot(np.arange(0, EPOCHS), H.history[\"val_loss\"], label=\"val_loss\")\n",
        "plt.plot(np.arange(0, EPOCHS), H.history[\"accuracy\"], label=\"train_acc\")\n",
        "plt.plot(np.arange(0, EPOCHS), H.history[\"val_accuracy\"], label=\"val_acc\")\n",
        "plt.title(\"Training Loss and Accuracy on COVID-19 Dataset\")\n",
        "plt.xlabel(\"Epoch #\")\n",
        "plt.ylabel(\"Loss/Accuracy\")\n",
        "plt.legend(loc=\"lower left\")\n",
        "#plt.savefig(args[\"plot\"])"
      ],
      "execution_count": 25,
      "outputs": [
        {
          "output_type": "execute_result",
          "data": {
            "text/plain": [
              "<matplotlib.legend.Legend at 0x7f5e6b91cac8>"
            ]
          },
          "metadata": {
            "tags": []
          },
          "execution_count": 25
        },
        {
          "output_type": "display_data",
          "data": {
            "image/png": "[encoded data removed]",
            "text/plain": [
              "<Figure size 432x288 with 1 Axes>"
            ]
          },
          "metadata": {
            "tags": []
          }
        }
      ]
    },
    {
      "cell_type": "code",
      "metadata": {
        "id": "MbCkWvhMmk0L",
        "colab_type": "code",
        "colab": {
          "base_uri": "https://localhost:8080/",
          "height": 144
        },
        "outputId": "f5ca3a82-a276-4f16-ac24-4abe15704dc3"
      },
      "source": [
        "predIdxs"
      ],
      "execution_count": 26,
      "outputs": [
        {
          "output_type": "execute_result",
          "data": {
            "text/plain": [
              "array([0, 0, 1, 1, 1, 0, 0, 0, 0, 1, 0, 0, 0, 1, 0, 0, 0, 0, 1, 0, 1, 0,\n",
              "       0, 1, 1, 0, 0, 0, 1, 0, 0, 0, 0, 1, 1, 0, 0, 0, 1, 1, 1, 1, 1, 0,\n",
              "       1, 1, 0, 0, 1, 1, 1, 1, 0, 0, 0, 0, 0, 1, 1, 0, 0, 1, 1, 0, 1, 1,\n",
              "       1, 0, 0, 1, 1, 1, 1, 1, 1, 1, 1, 0, 0, 1, 1, 0, 0, 1, 1, 1, 1, 1,\n",
              "       0, 1, 0, 1, 0, 0, 0, 1, 1, 1, 1, 1, 1, 0, 1, 1, 1, 0, 1, 0, 1, 1,\n",
              "       0, 1, 1, 0, 1, 1, 0, 1, 0, 0, 1, 0, 1, 1, 0, 1, 0, 0, 0, 0, 0, 1,\n",
              "       1, 0, 0, 1, 1, 1])"
            ]
          },
          "metadata": {
            "tags": []
          },
          "execution_count": 26
        }
      ]
    },
    {
      "cell_type": "code",
      "metadata": {
        "id": "gocmn9kkmorG",
        "colab_type": "code",
        "colab": {
          "base_uri": "https://localhost:8080/",
          "height": 253
        },
        "outputId": "2b45c0ae-9e1e-4e70-b5e7-7a0547d9cffc"
      },
      "source": [
        "predict_imagePaths=['/content/Classification-of-COVID-19-chest-X-ray-images/dataset/training/normal/NORMAL2 (32).jpeg',\n",
        " '/content/Classification-of-COVID-19-chest-X-ray-images/dataset/training/normal/NORMAL2 (42).jpeg',\n",
        " '/content/Classification-of-COVID-19-chest-X-ray-images/dataset/training/normal/NORMAL2 (180).jpeg',\n",
        " '/content/Classification-of-COVID-19-chest-X-ray-images/dataset/training/normal/NORMAL2-IM-0339-0001.jpeg',\n",
        " '/content/Classification-of-COVID-19-chest-X-ray-images/dataset/training/normal/NORMAL2-IM-0019-0001.jpeg',\n",
        " '/content/Classification-of-COVID-19-chest-X-ray-images/dataset/training/normal/NORMAL2-IM-0323-0001.jpeg',\n",
        " '/content/Classification-of-COVID-19-chest-X-ray-images/dataset/training/normal/NORMAL2-IM-0370-0001.jpeg',\n",
        " '/content/Classification-of-COVID-19-chest-X-ray-images/dataset/training/infected/covid_train (79).jpg',\n",
        " '/content/Classification-of-COVID-19-chest-X-ray-images/dataset/training/infected/covid_train (28).jpeg',\n",
        " '/content/Classification-of-COVID-19-chest-X-ray-images/dataset/training/infected/covid_train (71).jpg',\n",
        " '/content/Classification-of-COVID-19-chest-X-ray-images/dataset/training/infected/covid_train11.png',\n",
        " '/content/Classification-of-COVID-19-chest-X-ray-images/dataset/training/infected/covid_train (43).jpg',\n",
        " '/content/Classification-of-COVID-19-chest-X-ray-images/dataset/training/infected/covid_train (30).jpeg']\n",
        "# loop over the image paths\n",
        "for imagePath in predict_imagePaths:\n",
        "\t# extract the class label from the filename\n",
        "#\tlabel = imagePath.split(os.path.sep)[-2]\n",
        "\t# load the image, swap color channels, and resize it to be a fixed\n",
        "\t# 224x224 pixels while ignoring aspect ratio\n",
        "  image = cv2.imread(imagePath)\n",
        "  image = cv2.cvtColor(image, cv2.COLOR_BGR2RGB)\n",
        "  image = cv2.resize(image, (224, 224))\n",
        "  img = np.array(image) / 255.0\n",
        "  img=np.reshape(img,(1,224,224,3))\n",
        "  print(model.predict(img).argmax(axis=1))"
      ],
      "execution_count": 28,
      "outputs": [
        {
          "output_type": "stream",
          "text": [
            "[1]\n",
            "[1]\n",
            "[1]\n",
            "[1]\n",
            "[1]\n",
            "[1]\n",
            "[1]\n",
            "[0]\n",
            "[0]\n",
            "[0]\n",
            "[0]\n",
            "[0]\n",
            "[0]\n"
          ],
          "name": "stdout"
        }
      ]
    },
    {
      "cell_type": "code",
      "metadata": {
        "id": "PNs2uOLimwzE",
        "colab_type": "code",
        "colab": {
          "base_uri": "https://localhost:8080/",
          "height": 35
        },
        "outputId": "1f6a8781-42b7-4454-b5ab-8decee923bfc"
      },
      "source": [
        "img.shape"
      ],
      "execution_count": 29,
      "outputs": [
        {
          "output_type": "execute_result",
          "data": {
            "text/plain": [
              "(1, 224, 224, 3)"
            ]
          },
          "metadata": {
            "tags": []
          },
          "execution_count": 29
        }
      ]
    },
    {
      "cell_type": "markdown",
      "metadata": {
        "id": "lFBT2EdyuS6h",
        "colab_type": "text"
      },
      "source": [
        "# NasNetLarge"
      ]
    },
    {
      "cell_type": "code",
      "metadata": {
        "id": "5rbjY4KFuj5x",
        "colab_type": "code",
        "colab": {}
      },
      "source": [
        "from tensorflow.keras.applications.nasnet import NASNetLarge\n",
        "import tensorflow as tf\n",
        "\n"
      ],
      "execution_count": 32,
      "outputs": []
    },
    {
      "cell_type": "code",
      "metadata": {
        "id": "yv2DrQBIunyi",
        "colab_type": "code",
        "colab": {
          "base_uri": "https://localhost:8080/",
          "height": 53
        },
        "outputId": "484d2d87-77d2-4f67-c0dd-69505072f4c8"
      },
      "source": [
        "IMG_SHAPE = (224,224,3)\n",
        "\n",
        "# Create the base model from the pre-trained model MobileNet V2\n",
        "baseModel = tf.keras.applications.NASNetLarge(include_top=False,weights='imagenet',input_tensor=Input(shape=(224, 224, 3)))\n",
        "headModel = baseModel.output\n",
        "headModel = AveragePooling2D(pool_size=(4, 4))(headModel)\n",
        "headModel = Dropout(0.5)(headModel)\n",
        "headModel = Flatten(name=\"flatten\")(headModel)\n",
        "headModel = Dense(64, activation=\"relu\")(headModel)\n",
        "headModel = Dropout(0.5)(headModel)\n",
        "headModel = Dense(2, activation=\"softmax\")(headModel)\n",
        "\n",
        "\n",
        "model= Model(inputs=baseModel.input, outputs=headModel)\n",
        "\n",
        "for layer in baseModel.layers:\n",
        "    layer.trainable = False"
      ],
      "execution_count": 33,
      "outputs": [
        {
          "output_type": "stream",
          "text": [
            "Downloading data from https://storage.googleapis.com/tensorflow/keras-applications/nasnet/NASNet-large-no-top.h5\n",
            "343613440/343610240 [==============================] - 9s 0us/step\n"
          ],
          "name": "stdout"
        }
      ]
    },
    {
      "cell_type": "code",
      "metadata": {
        "id": "mZtWs8KFuqSA",
        "colab_type": "code",
        "colab": {
          "base_uri": "https://localhost:8080/",
          "height": 1000
        },
        "outputId": "1f85ee22-51b1-4a2f-cef6-6acb3900a0ce"
      },
      "source": [
        "model_chkpt = ModelCheckpoint('best_mod.h5', save_best_only=True, monitor='accuracy')\n",
        "early_stopping = EarlyStopping(monitor='loss', restore_best_weights=False, patience=10)\n",
        "\n",
        "# initialize the initial learning rate, number of epochs to train for,\n",
        "# and batch size\n",
        "INIT_LR = 3e-4\n",
        "EPOCHS = 30\n",
        "BS = 10\n",
        "# compile our model\n",
        "print(\"[INFO] compiling model...\")\n",
        "opt = Adam(lr=INIT_LR, decay=INIT_LR / EPOCHS)\n",
        "model.compile(loss=\"binary_crossentropy\", optimizer=opt,\n",
        "\tmetrics=[\"accuracy\"])\n",
        "# train the head of the network\n",
        "print(\"[INFO] training head...\")\n",
        "H = model.fit_generator(\n",
        "\ttrainAug.flow(trainX, trainY, batch_size=BS),\n",
        "\tsteps_per_epoch=len(trainX) // BS,\n",
        "\tvalidation_data=(testX, testY),\n",
        "\tvalidation_steps=len(testX) // BS,\n",
        "\tepochs=EPOCHS,callbacks=[early_stopping,model_chkpt])"
      ],
      "execution_count": 35,
      "outputs": [
        {
          "output_type": "stream",
          "text": [
            "[INFO] compiling model...\n",
            "[INFO] training head...\n",
            "Epoch 1/30\n",
            "55/55 [==============================] - 376s 7s/step - loss: 0.4015 - accuracy: 0.8429 - val_loss: 0.1429 - val_accuracy: 0.9420\n",
            "Epoch 2/30\n",
            "55/55 [==============================] - 370s 7s/step - loss: 0.2138 - accuracy: 0.9279 - val_loss: 0.1139 - val_accuracy: 0.9565\n",
            "Epoch 3/30\n",
            "55/55 [==============================] - 372s 7s/step - loss: 0.1879 - accuracy: 0.9187 - val_loss: 0.0761 - val_accuracy: 0.9783\n",
            "Epoch 4/30\n",
            "55/55 [==============================] - 374s 7s/step - loss: 0.1385 - accuracy: 0.9501 - val_loss: 0.0719 - val_accuracy: 0.9710\n",
            "Epoch 5/30\n",
            "55/55 [==============================] - 370s 7s/step - loss: 0.1342 - accuracy: 0.9445 - val_loss: 0.0614 - val_accuracy: 0.9783\n",
            "Epoch 6/30\n",
            "55/55 [==============================] - 378s 7s/step - loss: 0.1251 - accuracy: 0.9538 - val_loss: 0.0646 - val_accuracy: 0.9783\n",
            "Epoch 7/30\n",
            "55/55 [==============================] - 375s 7s/step - loss: 0.0904 - accuracy: 0.9649 - val_loss: 0.0604 - val_accuracy: 0.9783\n",
            "Epoch 8/30\n",
            "55/55 [==============================] - 370s 7s/step - loss: 0.0963 - accuracy: 0.9519 - val_loss: 0.0808 - val_accuracy: 0.9710\n",
            "Epoch 9/30\n",
            "55/55 [==============================] - 371s 7s/step - loss: 0.1154 - accuracy: 0.9519 - val_loss: 0.0560 - val_accuracy: 0.9783\n",
            "Epoch 10/30\n",
            "55/55 [==============================] - 374s 7s/step - loss: 0.0869 - accuracy: 0.9704 - val_loss: 0.0523 - val_accuracy: 0.9855\n",
            "Epoch 11/30\n",
            "55/55 [==============================] - 381s 7s/step - loss: 0.0865 - accuracy: 0.9704 - val_loss: 0.0516 - val_accuracy: 0.9783\n",
            "Epoch 12/30\n",
            "55/55 [==============================] - 376s 7s/step - loss: 0.0719 - accuracy: 0.9760 - val_loss: 0.0595 - val_accuracy: 0.9783\n",
            "Epoch 13/30\n",
            "55/55 [==============================] - 369s 7s/step - loss: 0.0909 - accuracy: 0.9667 - val_loss: 0.0571 - val_accuracy: 0.9710\n",
            "Epoch 14/30\n",
            "55/55 [==============================] - 367s 7s/step - loss: 0.0736 - accuracy: 0.9760 - val_loss: 0.0539 - val_accuracy: 0.9783\n",
            "Epoch 15/30\n",
            "55/55 [==============================] - 372s 7s/step - loss: 0.0741 - accuracy: 0.9741 - val_loss: 0.0575 - val_accuracy: 0.9710\n",
            "Epoch 16/30\n",
            "55/55 [==============================] - 375s 7s/step - loss: 0.0647 - accuracy: 0.9760 - val_loss: 0.0570 - val_accuracy: 0.9783\n",
            "Epoch 17/30\n",
            "55/55 [==============================] - 369s 7s/step - loss: 0.0887 - accuracy: 0.9667 - val_loss: 0.0509 - val_accuracy: 0.9783\n",
            "Epoch 18/30\n",
            "55/55 [==============================] - 370s 7s/step - loss: 0.0636 - accuracy: 0.9704 - val_loss: 0.0542 - val_accuracy: 0.9855\n",
            "Epoch 19/30\n",
            "55/55 [==============================] - 368s 7s/step - loss: 0.0657 - accuracy: 0.9760 - val_loss: 0.0782 - val_accuracy: 0.9710\n",
            "Epoch 20/30\n",
            "55/55 [==============================] - 372s 7s/step - loss: 0.0760 - accuracy: 0.9686 - val_loss: 0.0578 - val_accuracy: 0.9783\n",
            "Epoch 21/30\n",
            "55/55 [==============================] - 377s 7s/step - loss: 0.0454 - accuracy: 0.9834 - val_loss: 0.0417 - val_accuracy: 0.9710\n",
            "Epoch 22/30\n",
            "55/55 [==============================] - 367s 7s/step - loss: 0.0966 - accuracy: 0.9686 - val_loss: 0.0705 - val_accuracy: 0.9783\n",
            "Epoch 23/30\n",
            "55/55 [==============================] - 370s 7s/step - loss: 0.0705 - accuracy: 0.9723 - val_loss: 0.0370 - val_accuracy: 0.9783\n",
            "Epoch 24/30\n",
            "55/55 [==============================] - 373s 7s/step - loss: 0.0440 - accuracy: 0.9871 - val_loss: 0.0375 - val_accuracy: 0.9710\n",
            "Epoch 25/30\n",
            "55/55 [==============================] - 365s 7s/step - loss: 0.0611 - accuracy: 0.9741 - val_loss: 0.0373 - val_accuracy: 0.9855\n",
            "Epoch 26/30\n",
            "55/55 [==============================] - 371s 7s/step - loss: 0.0627 - accuracy: 0.9704 - val_loss: 0.0355 - val_accuracy: 0.9783\n",
            "Epoch 27/30\n",
            "55/55 [==============================] - 371s 7s/step - loss: 0.0704 - accuracy: 0.9778 - val_loss: 0.0376 - val_accuracy: 0.9783\n",
            "Epoch 28/30\n",
            "55/55 [==============================] - 373s 7s/step - loss: 0.0537 - accuracy: 0.9815 - val_loss: 0.0348 - val_accuracy: 0.9783\n",
            "Epoch 29/30\n",
            "55/55 [==============================] - 370s 7s/step - loss: 0.0689 - accuracy: 0.9778 - val_loss: 0.0365 - val_accuracy: 0.9783\n",
            "Epoch 30/30\n",
            "55/55 [==============================] - 375s 7s/step - loss: 0.0527 - accuracy: 0.9760 - val_loss: 0.0311 - val_accuracy: 0.9855\n"
          ],
          "name": "stdout"
        }
      ]
    },
    {
      "cell_type": "code",
      "metadata": {
        "id": "Jrb1Cf4buyLy",
        "colab_type": "code",
        "colab": {
          "base_uri": "https://localhost:8080/",
          "height": 199
        },
        "outputId": "3666739b-9c22-4a68-a83d-0960b317b08c"
      },
      "source": [
        "# make predictions on the testing set\n",
        "print(\"[INFO] evaluating network...\")\n",
        "predIdxs = model.predict(testX, batch_size=BS)\n",
        "# for each image in the testing set we need to find the index of the\n",
        "# label with corresponding largest predicted probability\n",
        "predIdxs = np.argmax(predIdxs, axis=1)\n",
        "# show a nicely formatted classification report\n",
        "print(classification_report(testY.argmax(axis=1), predIdxs,\n",
        "\ttarget_names=lb.classes_))\n"
      ],
      "execution_count": 36,
      "outputs": [
        {
          "output_type": "stream",
          "text": [
            "[INFO] evaluating network...\n",
            "              precision    recall  f1-score   support\n",
            "\n",
            "    infected       0.98      0.98      0.98        64\n",
            "      normal       0.99      0.99      0.99        74\n",
            "\n",
            "    accuracy                           0.99       138\n",
            "   macro avg       0.99      0.99      0.99       138\n",
            "weighted avg       0.99      0.99      0.99       138\n",
            "\n"
          ],
          "name": "stdout"
        }
      ]
    },
    {
      "cell_type": "code",
      "metadata": {
        "id": "EUGrY1J0u93j",
        "colab_type": "code",
        "colab": {
          "base_uri": "https://localhost:8080/",
          "height": 317
        },
        "outputId": "718c6798-ecda-4a89-c21a-19522c89dd23"
      },
      "source": [
        "# plot the training loss and accuracy\n",
        "N = EPOCHS\n",
        "plt.style.use(\"ggplot\")\n",
        "plt.figure()\n",
        "plt.plot(np.arange(0, EPOCHS), H.history[\"loss\"], label=\"train_loss\")\n",
        "plt.plot(np.arange(0, EPOCHS), H.history[\"val_loss\"], label=\"val_loss\")\n",
        "plt.plot(np.arange(0, EPOCHS), H.history[\"accuracy\"], label=\"train_acc\")\n",
        "plt.plot(np.arange(0, EPOCHS), H.history[\"val_accuracy\"], label=\"val_acc\")\n",
        "plt.title(\"Training Loss and Accuracy on COVID-19 Dataset\")\n",
        "plt.xlabel(\"Epoch #\")\n",
        "plt.ylabel(\"Loss/Accuracy\")\n",
        "plt.legend(loc=\"lower left\")\n",
        "#plt.savefig(args[\"plot\"])"
      ],
      "execution_count": 37,
      "outputs": [
        {
          "output_type": "execute_result",
          "data": {
            "text/plain": [
              "<matplotlib.legend.Legend at 0x7f5e6b9c0f28>"
            ]
          },
          "metadata": {
            "tags": []
          },
          "execution_count": 37
        },
        {
          "output_type": "display_data",
          "data": {
            "image/png": "[encoded data removed]",
            "text/plain": [
              "<Figure size 432x288 with 1 Axes>"
            ]
          },
          "metadata": {
            "tags": []
          }
        }
      ]
    },
    {
      "cell_type": "code",
      "metadata": {
        "id": "sxVxmh1bu-u3",
        "colab_type": "code",
        "colab": {
          "base_uri": "https://localhost:8080/",
          "height": 144
        },
        "outputId": "62d62f1b-e7b5-4a2b-8ca4-191bd8d04d3d"
      },
      "source": [
        "predIdxs"
      ],
      "execution_count": 38,
      "outputs": [
        {
          "output_type": "execute_result",
          "data": {
            "text/plain": [
              "array([0, 0, 1, 1, 1, 0, 1, 1, 0, 1, 0, 0, 0, 1, 0, 0, 0, 0, 1, 0, 1, 0,\n",
              "       0, 1, 1, 0, 0, 0, 1, 0, 0, 0, 0, 0, 1, 0, 0, 0, 1, 1, 1, 1, 1, 0,\n",
              "       1, 1, 0, 0, 1, 1, 1, 1, 0, 0, 0, 0, 0, 1, 1, 0, 0, 1, 1, 0, 1, 1,\n",
              "       1, 0, 0, 1, 0, 1, 1, 1, 1, 1, 1, 0, 0, 1, 1, 0, 0, 1, 1, 1, 1, 1,\n",
              "       0, 1, 0, 1, 0, 0, 0, 1, 1, 1, 1, 1, 1, 0, 1, 1, 1, 0, 1, 0, 1, 1,\n",
              "       0, 1, 1, 0, 1, 1, 0, 1, 0, 0, 1, 0, 1, 1, 0, 1, 0, 1, 0, 0, 0, 1,\n",
              "       1, 0, 0, 1, 1, 1])"
            ]
          },
          "metadata": {
            "tags": []
          },
          "execution_count": 38
        }
      ]
    },
    {
      "cell_type": "code",
      "metadata": {
        "id": "o8h4O-qpvDk3",
        "colab_type": "code",
        "colab": {
          "base_uri": "https://localhost:8080/",
          "height": 253
        },
        "outputId": "e42f852f-9708-4379-9817-729728a0478b"
      },
      "source": [
        "predict_imagePaths=['/content/Classification-of-COVID-19-chest-X-ray-images/dataset/training/normal/NORMAL2 (32).jpeg',\n",
        " '/content/Classification-of-COVID-19-chest-X-ray-images/dataset/training/normal/NORMAL2 (42).jpeg',\n",
        " '/content/Classification-of-COVID-19-chest-X-ray-images/dataset/training/normal/NORMAL2 (180).jpeg',\n",
        " '/content/Classification-of-COVID-19-chest-X-ray-images/dataset/training/normal/NORMAL2-IM-0339-0001.jpeg',\n",
        " '/content/Classification-of-COVID-19-chest-X-ray-images/dataset/training/normal/NORMAL2-IM-0019-0001.jpeg',\n",
        " '/content/Classification-of-COVID-19-chest-X-ray-images/dataset/training/normal/NORMAL2-IM-0323-0001.jpeg',\n",
        " '/content/Classification-of-COVID-19-chest-X-ray-images/dataset/training/normal/NORMAL2-IM-0370-0001.jpeg',\n",
        " '/content/Classification-of-COVID-19-chest-X-ray-images/dataset/training/infected/covid_train (79).jpg',\n",
        " '/content/Classification-of-COVID-19-chest-X-ray-images/dataset/training/infected/covid_train (28).jpeg',\n",
        " '/content/Classification-of-COVID-19-chest-X-ray-images/dataset/training/infected/covid_train (71).jpg',\n",
        " '/content/Classification-of-COVID-19-chest-X-ray-images/dataset/training/infected/covid_train11.png',\n",
        " '/content/Classification-of-COVID-19-chest-X-ray-images/dataset/training/infected/covid_train (43).jpg',\n",
        " '/content/Classification-of-COVID-19-chest-X-ray-images/dataset/training/infected/covid_train (30).jpeg']\n",
        "# loop over the image paths\n",
        "for imagePath in predict_imagePaths:\n",
        "\t# extract the class label from the filename\n",
        "#\tlabel = imagePath.split(os.path.sep)[-2]\n",
        "\t# load the image, swap color channels, and resize it to be a fixed\n",
        "\t# 224x224 pixels while ignoring aspect ratio\n",
        "  image = cv2.imread(imagePath)\n",
        "  image = cv2.cvtColor(image, cv2.COLOR_BGR2RGB)\n",
        "  image = cv2.resize(image, (224, 224))\n",
        "  img = np.array(image) / 255.0\n",
        "  img=np.reshape(img,(1,224,224,3))\n",
        "  print(model.predict(img).argmax(axis=1))"
      ],
      "execution_count": 39,
      "outputs": [
        {
          "output_type": "stream",
          "text": [
            "[1]\n",
            "[1]\n",
            "[1]\n",
            "[1]\n",
            "[1]\n",
            "[1]\n",
            "[1]\n",
            "[0]\n",
            "[0]\n",
            "[0]\n",
            "[0]\n",
            "[0]\n",
            "[0]\n"
          ],
          "name": "stdout"
        }
      ]
    },
    {
      "cell_type": "code",
      "metadata": {
        "id": "DT8hV3ssvGFR",
        "colab_type": "code",
        "colab": {
          "base_uri": "https://localhost:8080/",
          "height": 35
        },
        "outputId": "a6baf859-0a5f-44b9-a12b-d34220922bdd"
      },
      "source": [
        "img.shape"
      ],
      "execution_count": 40,
      "outputs": [
        {
          "output_type": "execute_result",
          "data": {
            "text/plain": [
              "(1, 224, 224, 3)"
            ]
          },
          "metadata": {
            "tags": []
          },
          "execution_count": 40
        }
      ]
    },
    {
      "cell_type": "code",
      "metadata": {
        "id": "hG4uLWvevIqk",
        "colab_type": "code",
        "colab": {}
      },
      "source": [
        ""
      ],
      "execution_count": null,
      "outputs": []
    }
  ]
}